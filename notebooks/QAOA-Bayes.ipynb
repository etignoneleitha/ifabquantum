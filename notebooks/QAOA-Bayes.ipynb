{
 "cells": [
  {
   "cell_type": "markdown",
   "metadata": {},
   "source": [
    "### QAOA - Bayes\n",
    "Applicazione di un processo di ottimizzazione bayesiana al QAOA."
   ]
  },
  {
   "cell_type": "markdown",
   "metadata": {},
   "source": [
    "### Imports"
   ]
  },
  {
   "cell_type": "code",
   "execution_count": 13,
   "metadata": {},
   "outputs": [],
   "source": [
    "import numpy as np\n",
    "import networkx as nx\n",
    "import matplotlib as mpl\n",
    "import matplotlib.pyplot as plt \n",
    "from   matplotlib import cm\n",
    "from   matplotlib.ticker import LinearLocator, FormatStrFormatter\n",
    "from qiskit import Aer, IBMQ\n",
    "from qiskit import QuantumRegister, ClassicalRegister, QuantumCircuit, execute\n",
    "from qiskit.visualization import plot_histogram, plot_state_city\n",
    "import random\n",
    "import itertools\n",
    "from tqdm import tqdm\n",
    "from scipy.optimize import minimize\n",
    "\n",
    "mpl.rc('text', usetex = True)\n",
    "mpl.rc('font', family = 'serif')"
   ]
  },
  {
   "cell_type": "markdown",
   "metadata": {},
   "source": [
    "### Qaoa\n",
    "alcuni metodi per runnare il qaoa con qiskit\n",
    "- Create graph: crea un grafo random\n",
    "- draw graph: disegna\n",
    "- cost function: calcola l'energia classica di una configurazione di bits\n",
    "- classical solution: calcola quale è la max clique provando tutte le 2^n combinazioni\n",
    "- quantum algorithm: restituisce l'algorithm qusntistico che applica il qaoa\n",
    "- Qaoa: accetta i parametri beta e gamma e restituisce l'energia dopo aver applicato un giro del circuito\n",
    "- grid search: Cerca i parametri migliori con grid search\n",
    "- plot_f1_landscape: disegna il landscape della funzione costo, dell'energia"
   ]
  },
  {
   "cell_type": "code",
   "execution_count": 14,
   "metadata": {},
   "outputs": [
    {
     "data": {
      "image/png": "[encoded data removed]",
      "text/plain": [
       "<Figure size 576x288 with 2 Axes>"
      ]
     },
     "metadata": {},
     "output_type": "display_data"
    }
   ],
   "source": [
    "omega = 2\n",
    "shots = 1000\n",
    "\n",
    "#First create the graph instance\n",
    "E = [(0,1), (1,2), (0,2), (2,3), (2,4)]\n",
    "N = 5\n",
    "G = nx.Graph()\n",
    "G_comp = nx.Graph()\n",
    "G.add_nodes_from(range(N))\n",
    "G.add_edges_from(E)\n",
    "G_comp = nx.complement(G)\n",
    "\n",
    "def create_graph(n, prob_conn, M = 0):\n",
    "    '''\n",
    "    Creates a graph of N edges with a probablity of connectivity of each edge: prob_conn\n",
    "    M decides the maxclique:\n",
    "        if M is 0 the maxclique will be randomly generated\n",
    "        if M>0 there will be a maxclique of at least M\n",
    "    '''\n",
    "    \n",
    "    if prob_conn > 1:\n",
    "        raise ValueError(\"Prob needs to be lower than 1\")\n",
    "    N = n\n",
    "    print(N)\n",
    "    prob_connectivity = prob_conn\n",
    "    V   = np.arange(0,n,1)\n",
    "    E = []\n",
    "    \n",
    "    #Creates generic graph with at least one connection per every vertex\n",
    "    for i in range(n):\n",
    "        one_edge_minimum = False\n",
    "        for j in range(n):\n",
    "            if i!=j and (j,i,1.0) not in E and np.random.rand()<prob_connectivity:\n",
    "                E.append((i,j, 1.0))\n",
    "                one_edge_minimum = True\n",
    "        if not one_edge_minimum:\n",
    "            choose = np.ones(n)/(n-1)\n",
    "            choose[i] = 0\n",
    "            E.append((i, np.random.choice(range(n), p = choose), 1))\n",
    "    \n",
    "    #Makes sure there is at least a M-large clique\n",
    "    if M>0:\n",
    "        max_clique = random.sample(range(0, n), M)\n",
    "        for i in max_clique:\n",
    "            for j in max_clique:\n",
    "                if i!=j and ((j,i,1.0) not in E) and ((i,j,1.0) not in E):\n",
    "                    E.append((i,j,1.0))\n",
    "    G = nx.Graph()\n",
    "    G_comp = nx.Graph()\n",
    "    G.add_nodes_from(V)\n",
    "    G.add_weighted_edges_from(E)\n",
    "    G_comp = nx.complement(G)  \n",
    "    \n",
    "    return G\n",
    "\n",
    "def create_graph_specific(graph_type):\n",
    "    '''\n",
    "    Creates preset graphs decided by graph-type:\n",
    "    graph-type:\n",
    "        -- simple7: a simple 7 vertex graph with a 4 max clique\n",
    "        -- simple4: a simple 4 vertex graph with a 3 max clique\n",
    "        -- simple5: a simple 5 vertex graph with a 3 max clique\n",
    "    '''\n",
    "    if graph_type == 'simple7':\n",
    "        N=7\n",
    "        V   = np.arange(0,N,1)\n",
    "        E = []\n",
    "        E     =[(0,1,1.0),(0,2,1.0),(0,3,1),(1,2,1.0),(1,3,1),(3,2,1.0),(3,4,1.0),(2,5,1.0), (2,6,1)] \n",
    "    if graph_type == 'simple4':\n",
    "        N=4\n",
    "        V   = np.arange(0,N,1)\n",
    "        E = []\n",
    "        E     =[(0,1,1.0),(0,2,1.0),(1,2,1),(2,3,1.0)] \n",
    "        \n",
    "    if graph_type == 'simple5':   \n",
    "        N   = 5\n",
    "        V   = np.arange(0,N,1)\n",
    "        E = [(0,1,1), (1,2,1), (0,2,1), (2,3,1), (3,4,1)]\n",
    "    \n",
    "    if graph_type == 'simple6':\n",
    "        N=6\n",
    "        V   = np.arange(0,N,1)\n",
    "        E = []\n",
    "        E     = [(0, 2, 1), (0, 1, 1), (1, 4, 1), (1, 2, 1), (1, 3, 1), (2, 4, 1)]\n",
    "                   \n",
    "    G = nx.Graph()\n",
    "    G_comp = nx.Graph()\n",
    "    G.add_nodes_from(V)\n",
    "    G.add_weighted_edges_from(E)\n",
    "    G_comp = nx.complement(G)     \n",
    "    \n",
    "    return G\n",
    "\n",
    "def draw_graph(comp = False):\n",
    "    '''\n",
    "    Draws given graph G and its complement G if comp = True\n",
    "    '''\n",
    "    if comp:\n",
    "        G_complement = nx.complement(G)\n",
    "        fig, axis = plt.subplots(nrows = 1, ncols = 2, figsize = (8,4))\n",
    "    else:\n",
    "        fig, axis = plt.subplots(111, figsize = (4,4))\n",
    "    \n",
    "    colors       = ['r' for node in G.nodes()]\n",
    "    default_axes = axis[0]\n",
    "    pos          = nx.circular_layout(G)\n",
    "    axis[0].set_title('Graph')\n",
    "    first_graph = nx.draw_networkx(G, node_color=colors, node_size=200, alpha=1, ax=default_axes, pos=pos)\n",
    "    \n",
    "    if comp:\n",
    "        colors       = ['b' for node in G_complement.nodes()]\n",
    "        default_axes = axis[1]\n",
    "        pos          = nx.circular_layout(G_complement)\n",
    "        axis[1].set_title('Complementary Graph')\n",
    "        nx.draw_networkx(G_complement, node_color=colors, node_size=200, alpha=1, ax=default_axes, pos=pos)\n",
    "\n",
    "def cost_function(values):\n",
    "    '''\n",
    "    Evaluates cost of the +1/-1 combination of spins\n",
    "    '''\n",
    "    var = values\n",
    "    first_term = -sum(var)\n",
    "    second_term = 0\n",
    "    for edge in G_comp.edges:\n",
    "        second_term += omega*(var[edge[0]]*var[edge[1]])\n",
    "    return first_term + second_term \n",
    "\n",
    "\n",
    "def classical_solution():    \n",
    "    '''\n",
    "    Runs through all 2^n possible configurations and estimates how many max cliques there are and plots one\n",
    "    '''\n",
    "    \n",
    "    #Evaluate for every possible configuration\n",
    "    lst = list(itertools.product([0, 1], repeat=len(G)))\n",
    "    results = {}\n",
    "    for i in tqdm(range(2**len(G))):\n",
    "        results[lst[i]] = cost_function(np.array(lst[i]))\n",
    "    \n",
    "    print('All possible solutions: \\n')\n",
    "    sol = np.unique(list(results.values()), return_counts = True)\n",
    "    print(sol[0])\n",
    "    print(sol[1])\n",
    "    d = dict((k, v) for k, v in results.items() if v == np.min(list(results.values())))\n",
    "    print('There are {} MAXCLIQUE(S) with energy: \\n'.format(len(d)), d)\n",
    "    \n",
    "    fig = plt.figure(figsize=(6, 6))\n",
    "    val, counts = np.unique(list(results.values()), return_counts = True)\n",
    "    plt.bar(val, counts)\n",
    "    plt.xlabel('Energy')\n",
    "    plt.ylabel('Counts')\n",
    "    plt.title('Statistics of solutions')\n",
    "\n",
    "    #PLot one of the largest cliques\n",
    "    fig = plt.figure(figsize = (4,4))\n",
    "    plt.title('MaxClique')\n",
    "    colors       = list(d.keys())[0]\n",
    "    pos          = nx.circular_layout(G)\n",
    "    nx.draw_networkx(G, node_color=colors, node_size=200, alpha=1, pos=pos)\n",
    "    \n",
    "    return d\n",
    "\n",
    "def quantum_algorithm(gamma, beta):\n",
    "    qc = QuantumCircuit(N,N)\n",
    "\n",
    "    #prepare state\n",
    "    qc.h(range(N))\n",
    "\n",
    "    for edge in G_comp.edges:\n",
    "        qc.rzz(2*gamma*omega, edge[0], edge[1])\n",
    "        \n",
    "    for i in G.nodes:\n",
    "        qc.rz(-2*gamma, i)\n",
    "        \n",
    "    #mixing\n",
    "    qc.rx(2*beta, range(N)) #rx = e^[-i(theta/2) X]\n",
    "    \n",
    "    meas = QuantumCircuit(N,N)\n",
    "    meas.barrier(range(N))\n",
    "    meas.measure(range(N), range(N))\n",
    "\n",
    "    return qc + meas\n",
    "\n",
    "def QAOA(params):\n",
    "    '''\n",
    "    Applies QAOA\n",
    "    '''\n",
    "    gamma = params[0]\n",
    "    beta = params[1]\n",
    "    \n",
    "    backend= Aer.get_backend(\"qasm_simulator\")\n",
    "    qc = quantum_algorithm(gamma, beta)\n",
    "    simulate     = execute(qc, backend=backend, shots=shots)\n",
    "    results = simulate.result()\n",
    "    extimated_f1 = 0\n",
    "    counts = results.get_counts()\n",
    "    for combination in counts:\n",
    "        comb_to_extimate = np.array([int(x) for x in combination])[::-1]\n",
    "        extimated_f1 += cost_function(comb_to_extimate)*counts[combination]/shots \n",
    "    return extimated_f1, counts\n",
    "\n",
    "def grid_search(num_params):\n",
    "    '''\n",
    "    Grid search\n",
    "    '''\n",
    "    #Cretes params\n",
    "    samp = np.linspace(0, np.pi, num_params)\n",
    "    params = np.array(list((itertools.product(samp, repeat = 2))))\n",
    "    gammas = params[:, 0]\n",
    "    betas = params[:, 1]\n",
    "    \n",
    "    QAOA_results = []\n",
    "    for i in tqdm(range(params.shape[0])):\n",
    "        res, _ = QAOA([gammas[i], betas[i]])\n",
    "        QAOA_results.append(res)\n",
    "    \n",
    "    return params, QAOA_results\n",
    "\n",
    "def plot_f1_landscape(params, f1):\n",
    "    fig = plt.figure()\n",
    "\n",
    "    # Make data.\n",
    "    X = np.unique(params[:,0])\n",
    "    Y = np.unique(params[:,1])\n",
    "    X, Y = np.meshgrid(X, Y)\n",
    "    Z = np.reshape(f1, (len(X), len(Y)))\n",
    "\n",
    "    # Plot the surface.\n",
    "    plt.imshow(Z, extent = [0, np.pi, np.pi, 0])\n",
    "    plt.title('Grid Search: [{} x {}]'.format(len(X), len(X)))\n",
    "    #ticks = np.linspace(0, np.pi, len(X))[::4]\n",
    "    plt.xticks(fontsize = 15)\n",
    "    plt.yticks(fontsize = 15)\n",
    "    \n",
    "    cb = plt.colorbar()\n",
    "    plt.xlabel(r'$\\gamma$', fontsize=20)\n",
    "    plt.ylabel(r'$\\beta$', fontsize =20)\n",
    "    cb.ax.tick_params(labelsize=15)\n",
    "\n",
    "def minimize_QAOA():\n",
    "    minimizer_results = minimize(QAOA, x0 =np.random.uniform(size = 2),\n",
    "                        method = 'COBYLA', options = {'maxiter' : 1000})\n",
    "    print(minizer_results)\n",
    "    return minizer_results\n",
    "\n",
    "def plot_distribution(C):\n",
    "    mpl.rc('text', usetex = False)\n",
    "    #mpl.rc('font', family = 'serif')\n",
    "\n",
    "    C = dict(sorted(C.items(), key=lambda item: item[1], reverse=True))\n",
    "    color_dict = {key: 'g' for key in C}\n",
    "    #indexes = ['01011', '00111']  # MIS indexes\n",
    "    #for i in indexes:\n",
    "    #   color_dict[i] = 'red'\n",
    "    plt.figure(figsize=(12,6))\n",
    "    plt.xlabel(\"bitstrings\")\n",
    "    plt.ylabel(\"counts\")\n",
    "    plt.bar(C.keys(), C.values(), width=0.5, color = color_dict.values())\n",
    "    plt.xticks(rotation='vertical')\n",
    "    plt.show()\n",
    "    \n",
    "draw_graph(G)"
   ]
  },
  {
   "cell_type": "code",
   "execution_count": 15,
   "metadata": {},
   "outputs": [
    {
     "name": "stderr",
     "output_type": "stream",
     "text": [
      "100%|████████████████████████████████████████████████████████████████████████████████| 32/32 [00:00<00:00, 9554.90it/s]"
     ]
    },
    {
     "name": "stdout",
     "output_type": "stream",
     "text": [
      "All possible solutions: \n",
      "\n",
      "[-3 -2 -1  0  1  2  3  5  6]\n",
      "[ 1  5 10  8  2  2  2  1  1]\n",
      "There are 1 MAXCLIQUE(S) with energy: \n",
      " {(1, 1, 1, 0, 0): -3}\n"
     ]
    },
    {
     "name": "stderr",
     "output_type": "stream",
     "text": [
      "\n"
     ]
    },
    {
     "data": {
      "text/plain": [
       "{(1, 1, 1, 0, 0): -3}"
      ]
     },
     "execution_count": 15,
     "metadata": {},
     "output_type": "execute_result"
    },
    {
     "data": {
      "image/png": "[encoded data removed]",
      "text/plain": [
       "<Figure size 432x432 with 1 Axes>"
      ]
     },
     "metadata": {
      "needs_background": "light"
     },
     "output_type": "display_data"
    },
    {
     "data": {
      "image/png": "[encoded data removed]",
      "text/plain": [
       "<Figure size 288x288 with 1 Axes>"
      ]
     },
     "metadata": {},
     "output_type": "display_data"
    }
   ],
   "source": [
    "classical_solution()"
   ]
  },
  {
   "cell_type": "markdown",
   "metadata": {},
   "source": [
    "### Gaussian Process to Approximate the f1 landscape of a graph\n",
    "\n",
    "Generates $N_{train}$ points selected randomly on a grid $[gamma-extremes] \\times [beta-extremes]$, trains a sklearn Gaussin Process Regressor with a kernel defined by kernel and tests it on $N_{test}$ samples uniformly picked on a grid $[0, max(gamma, betas)] \\times [0, max(gamma, betas)] $. Result is compared to grid search"
   ]
  },
  {
   "cell_type": "code",
   "execution_count": 16,
   "metadata": {
    "scrolled": true
   },
   "outputs": [
    {
     "data": {
      "text/plain": [
       "<matplotlib.colorbar.Colorbar at 0x23c716a6b20>"
      ]
     },
     "execution_count": 16,
     "metadata": {},
     "output_type": "execute_result"
    },
    {
     "data": {
      "image/png": "[encoded data removed]",
      "text/plain": [
       "<Figure size 432x288 with 2 Axes>"
      ]
     },
     "metadata": {
      "needs_background": "light"
     },
     "output_type": "display_data"
    }
   ],
   "source": [
    "from sklearn.gaussian_process import GaussianProcessRegressor\n",
    "from sklearn.gaussian_process.kernels import RBF, ConstantKernel as C\n",
    "from itertools import product\n",
    "\n",
    "\n",
    "N_train = 200\n",
    "N_test = 50 #Number of test elements\n",
    "gamma_extremes = [0, np.pi]  #extremes where to search for the values of gamma and beta\n",
    "beta_extremes = [0, np.pi]\n",
    "#We start with N random points\n",
    "X_train = []\n",
    "y_train = []\n",
    "for i in range(N_train):\n",
    "    X = [np.random.uniform()*(gamma_extremes[1]-gamma_extremes[0]), np.random.uniform()*(beta_extremes[1]-beta_extremes[0])]\n",
    "    X_train.append(X)\n",
    "    Y, _ = QAOA(X)\n",
    "    y_train.append(Y)\n",
    "\n",
    "kernel = C(1.0, (1e-3, 1e3)) * RBF(10, (1e-2, 1e2))\n",
    "gp = GaussianProcessRegressor(kernel=kernel, n_restarts_optimizer=0, normalize_y = True)\n",
    "gp.fit(X_train, y_train)\n",
    "\n",
    "X= np.linspace(0, np.max([gamma_extremes, beta_extremes]), N_test)\n",
    "X_test = list(product(X, X))\n",
    "new_mean, sigma = gp.predict(X_test, return_std=True)\n",
    "new_mean = np.reshape(new_mean, (N_test, N_test))\n",
    "sigma = np.array(sigma)\n",
    "\n",
    "res = np.reshape(gp.predict(X_test), (N_test, N_test))\n",
    "X_train = np.array(X_train)\n",
    "plt.title('Approximation with Bayes, random points')\n",
    "plt.imshow(res, extent = [gamma_extremes[0], gamma_extremes[1], beta_extremes[0], beta_extremes[1]])\n",
    "plt.scatter(X_train[:,0], X_train[:,1])\n",
    "plt.xlabel('Gamma')\n",
    "plt.ylabel('Beta')\n",
    "plt.colorbar()"
   ]
  },
  {
   "cell_type": "code",
   "execution_count": 40,
   "metadata": {},
   "outputs": [
    {
     "name": "stderr",
     "output_type": "stream",
     "text": [
      "100%|█████████████████████████████████████████████████████████████████████████████| 2500/2500 [00:23<00:00, 106.55it/s]\n"
     ]
    },
    {
     "data": {
      "image/png": "[encoded data removed]",
      "text/plain": [
       "<Figure size 432x288 with 2 Axes>"
      ]
     },
     "metadata": {
      "needs_background": "light"
     },
     "output_type": "display_data"
    }
   ],
   "source": [
    "#To confront with\n",
    "if True:\n",
    "    params, f1 = grid_search(50)\n",
    "    plot_f1_landscape(params, f1)"
   ]
  },
  {
   "cell_type": "code",
   "execution_count": 58,
   "metadata": {},
   "outputs": [],
   "source": [
    "np.savetxt('landscape_chair_graph.dat', f1)"
   ]
  },
  {
   "cell_type": "markdown",
   "metadata": {},
   "source": [
    "### Bayesian Optimization to find the minimum of the f1 of a graph\n"
   ]
  },
  {
   "cell_type": "code",
   "execution_count": 19,
   "metadata": {},
   "outputs": [],
   "source": [
    "from sklearn.utils.optimize import _check_optimize_result\n",
    "from scipy.optimize import minimize\n",
    "\n",
    "#Allows to change max_iter (see cell below) as well as gtol. It can be straightforwardly extended to other parameters\n",
    "class MyGaussianProcessRegressor(GaussianProcessRegressor):\n",
    "    def __init__(self, *args, max_iter=2e05, gtol=1e-06, **kwargs):\n",
    "        super().__init__(*args, **kwargs)\n",
    "        self._max_iter = max_iter\n",
    "        self._gtol = gtol\n",
    "\n",
    "    def _constrained_optimization(self, obj_func, initial_theta, bounds):\n",
    "        if self.optimizer == \"fmin_l_bfgs_b\":\n",
    "            opt_res = minimize(obj_func, initial_theta, method=\"L-BFGS-B\", jac=True, bounds=bounds, options={'maxiter':self._max_iter, 'gtol': self._gtol})\n",
    "            _check_optimize_result(\"lbfgs\", opt_res)\n",
    "            theta_opt, func_min = opt_res.x, opt_res.fun\n",
    "        elif callable(self.optimizer):\n",
    "            theta_opt, func_min = self.optimizer(obj_func, initial_theta, bounds=bounds)\n",
    "        else:\n",
    "            raise ValueError(\"Unknown optimizer %s.\" % self.optimizer)\n",
    "        return theta_opt, func_min\n",
    "    \n",
    "def my_rescaler(x, min_old=0, max_old=np.pi, min_new=0, max_new=1):\n",
    "    \n",
    "    x_sc = min_new + (max_new - min_new)/(max_old - min_old)*(x - min_old)\n",
    "    \n",
    "    return x_sc"
   ]
  },
  {
   "cell_type": "code",
   "execution_count": 46,
   "metadata": {},
   "outputs": [
    {
     "name": "stderr",
     "output_type": "stream",
     "text": [
      "C:\\Users\\Simone\\anaconda3\\lib\\site-packages\\sklearn\\gaussian_process\\kernels.py:402: ConvergenceWarning: The optimal value found for dimension 0 of parameter k1__constant_value is close to the specified lower bound 0.001. Decreasing the bound and calling fit again may find a better value.\n",
      "  warnings.warn(\"The optimal value found for \"\n"
     ]
    },
    {
     "name": "stdout",
     "output_type": "stream",
     "text": [
      "0 [0. 0.] 0.003999999999999986 0\n",
      "1 [0. 0.] 0.13400000000000012 0\n"
     ]
    },
    {
     "name": "stderr",
     "output_type": "stream",
     "text": [
      "C:\\Users\\Simone\\anaconda3\\lib\\site-packages\\sklearn\\gaussian_process\\kernels.py:402: ConvergenceWarning: The optimal value found for dimension 0 of parameter k2__length_scale is close to the specified lower bound 0.01. Decreasing the bound and calling fit again may find a better value.\n",
      "  warnings.warn(\"The optimal value found for \"\n",
      "C:\\Users\\Simone\\anaconda3\\lib\\site-packages\\sklearn\\gaussian_process\\kernels.py:402: ConvergenceWarning: The optimal value found for dimension 0 of parameter k2__length_scale is close to the specified lower bound 0.01. Decreasing the bound and calling fit again may find a better value.\n",
      "  warnings.warn(\"The optimal value found for \"\n"
     ]
    },
    {
     "name": "stdout",
     "output_type": "stream",
     "text": [
      "2 [0. 0.] -0.021999999999999978 0\n",
      "3 [0. 0.] -0.006000000000000054 0\n"
     ]
    },
    {
     "name": "stderr",
     "output_type": "stream",
     "text": [
      "C:\\Users\\Simone\\anaconda3\\lib\\site-packages\\sklearn\\gaussian_process\\kernels.py:402: ConvergenceWarning: The optimal value found for dimension 0 of parameter k2__length_scale is close to the specified lower bound 0.01. Decreasing the bound and calling fit again may find a better value.\n",
      "  warnings.warn(\"The optimal value found for \"\n",
      "C:\\Users\\Simone\\anaconda3\\lib\\site-packages\\sklearn\\gaussian_process\\kernels.py:402: ConvergenceWarning: The optimal value found for dimension 0 of parameter k2__length_scale is close to the specified lower bound 0.01. Decreasing the bound and calling fit again may find a better value.\n",
      "  warnings.warn(\"The optimal value found for \"\n"
     ]
    },
    {
     "name": "stdout",
     "output_type": "stream",
     "text": [
      "4 [0. 0.] 0.06500000000000003 0\n",
      "5 [0. 0.] 0.06800000000000006 0\n",
      "6 [0.         0.06411414] 0.09899999999999992 0\n"
     ]
    },
    {
     "name": "stderr",
     "output_type": "stream",
     "text": [
      "C:\\Users\\Simone\\anaconda3\\lib\\site-packages\\sklearn\\gaussian_process\\kernels.py:402: ConvergenceWarning: The optimal value found for dimension 0 of parameter k2__length_scale is close to the specified lower bound 0.01. Decreasing the bound and calling fit again may find a better value.\n",
      "  warnings.warn(\"The optimal value found for \"\n",
      "C:\\Users\\Simone\\anaconda3\\lib\\site-packages\\sklearn\\gaussian_process\\kernels.py:402: ConvergenceWarning: The optimal value found for dimension 0 of parameter k2__length_scale is close to the specified lower bound 0.01. Decreasing the bound and calling fit again may find a better value.\n",
      "  warnings.warn(\"The optimal value found for \"\n"
     ]
    },
    {
     "name": "stdout",
     "output_type": "stream",
     "text": [
      "7 [0. 0.] 0.010999999999999965 0\n",
      "8 [0. 0.] 0.08900000000000005 0\n",
      "9 [0.06411414 0.        ] 0.017999999999999957 0\n",
      "10 [0.12822827 0.        ] -0.011999999999999934 0\n",
      "11 [0.25645654 0.        ] -0.06099999999999997 0\n",
      "12 [0.32057068 0.        ] 0.034 0\n",
      "13 [0.19234241 0.        ] 3.8163916471489756e-17 0\n",
      "14 [0.25645654 0.        ] 0.04600000000000006 0\n",
      "15 [0.12822827 0.        ] 0.08399999999999991 0\n",
      "16 [0.25645654 0.        ] -0.031999999999999945 0\n",
      "17 [0.25645654 0.        ] -0.012000000000000025 0\n",
      "18 [0.25645654 0.        ] -0.017000000000000053 0\n",
      "19 [0.25645654 0.        ] 0.098 0\n",
      "20 [0.19234241 0.        ] -0.0019999999999999844 0\n",
      "21 [0.19234241 0.        ] 0.00499999999999997 0\n",
      "22 [0.19234241 0.        ] -0.047000000000000056 0\n",
      "23 [0.19234241 0.        ] -0.148 0\n",
      "24 [0.19234241 0.        ] -0.033 0\n",
      "25 [0.19234241 0.        ] 0.04799999999999999 0\n",
      "26 [0.19234241 0.        ] 0.04600000000000001 0\n",
      "27 [0.19234241 0.        ] 0.022999999999999923 0\n",
      "28 [0.19234241 0.        ] -0.12100000000000005 0\n",
      "29 [0.19234241 0.        ] 0.05999999999999989 0\n",
      "30 [0.19234241 0.        ] 0.07 0\n",
      "31 [0.19234241 0.        ] -0.06099999999999997 0\n",
      "32 [0.19234241 0.        ] -0.10900000000000003 0\n",
      "33 [0.19234241 0.        ] -0.08700000000000004 0\n",
      "34 [0.19234241 0.        ] 0.021999999999999964 0\n",
      "35 [0.19234241 0.        ] -0.041999999999999954 0\n",
      "36 [0.19234241 0.        ] 0.06099999999999997 0\n",
      "37 [0.19234241 0.        ] 0.02700000000000001 0\n",
      "38 [0.19234241 0.        ] -0.01600000000000007 0\n",
      "39 [0.19234241 0.        ] -0.00299999999999994 0\n",
      "40 [0.19234241 0.        ] -0.034 0\n",
      "41 [0.19234241 0.        ] -0.08000000000000002 0\n",
      "42 [0.19234241 0.        ] -0.11699999999999999 0\n",
      "43 [0.19234241 0.        ] 0.007000000000000013 0\n",
      "44 [0.19234241 0.        ] 0.03699999999999986 0\n",
      "45 [0.19234241 0.        ] -0.05199999999999998 0\n",
      "46 [0.19234241 0.        ] -0.123 0\n",
      "47 [0.19234241 0.        ] -0.07400000000000004 0\n",
      "48 [0.19234241 0.        ] 0.014999999999999982 0\n",
      "49 [0.19234241 0.        ] 0.032000000000000015 0\n",
      "50 [0.19234241 0.        ] 0.051 0\n",
      "51 [0.19234241 0.        ] -0.02399999999999993 0\n",
      "52 [0.19234241 0.        ] 0.04600000000000001 0\n",
      "53 [0.19234241 0.        ] 0.07100000000000002 0\n",
      "54 [0.19234241 0.06411414] 0.1909999999999999 0\n",
      "55 [0.         0.32057068] 0.12599999999999997 0\n",
      "56 [0.         0.57702722] -0.05700000000000003 0\n",
      "57 [0.         0.57702722] 0.04200000000000004 0\n",
      "58 [0.         0.64114136] 0.04799999999999985 0\n",
      "59 [0.06411414 0.51291309] 0.9939999999999998 0\n",
      "60 [0.25645654 0.44879895] 1.3710000000000002 0\n",
      "61 [0.06411414 0.96171204] 0.10900000000000004 0\n",
      "62 [0.32057068 0.76936963] 0.2259999999999999 0\n",
      "63 [0.51291309 0.32057068] -0.31600000000000006 0\n",
      "64 [0.57702722 0.12822827] -0.07599999999999998 0\n",
      "65 [0.64114136 0.38468481] -1.1589999999999998 0\n",
      "66 [0.70525549 0.44879895] -1.8129999999999997 0\n",
      "67 [0.70525549 0.57702722] -2.256 0\n",
      "68 [0.83348377 0.57702722] -2.506 0\n",
      "69 [0.83348377 0.57702722] -2.4829999999999997 0\n",
      "70 [0.83348377 0.57702722] -2.4239999999999995 0\n",
      "71 [0.83348377 0.64114136] -2.63 0\n",
      "72 [0.76936963 0.76936963] -2.9610000000000003 0\n",
      "73 [0.76936963 1.02582617] -2.509 0\n",
      "74 [0.76936963 0.83348377] -2.9629999999999996 0\n",
      "75 [0.76936963 0.83348377] -2.967 0\n",
      "76 [0.76936963 0.83348377] -2.942 0\n",
      "77 [0.76936963 0.83348377] -2.965 0\n",
      "78 [0.76936963 0.83348377] -2.934 0\n",
      "79 [0.83348377 0.83348377] -2.832 0\n",
      "80 [0.76936963 0.83348377] -2.952 0\n",
      "81 [0.76936963 0.83348377] -2.9629999999999996 0\n",
      "82 [0.76936963 0.83348377] -2.9789999999999996 0\n",
      "83 [0.76936963 0.83348377] -2.939 0\n",
      "84 [0.76936963 0.83348377] -2.9419999999999997 0\n",
      "85 [0.76936963 0.83348377] -2.954 0\n",
      "86 [0.76936963 0.83348377] -2.968 0\n",
      "87 [0.76936963 0.83348377] -2.942 0\n",
      "88 [0.76936963 0.83348377] -2.9639999999999995 0\n",
      "89 [0.76936963 0.83348377] -2.962 0\n",
      "90 [0.76936963 0.83348377] -2.9519999999999995 0\n",
      "91 [0.76936963 0.83348377] -2.973 0\n",
      "92 [0.76936963 0.83348377] -2.984 0\n",
      "93 [0.76936963 0.83348377] -2.9659999999999997 0\n",
      "94 [0.76936963 0.83348377] -2.942 0\n",
      "95 [0.76936963 0.83348377] -2.9619999999999997 0\n",
      "96 [0.76936963 0.83348377] -2.9459999999999997 0\n",
      "97 [0.76936963 0.83348377] -2.9309999999999996 0\n",
      "98 [0.76936963 0.83348377] -2.9549999999999996 0\n",
      "99 [0.76936963 0.83348377] -2.9779999999999998 0\n",
      "reached limit\n"
     ]
    }
   ],
   "source": [
    "from sklearn.gaussian_process import GaussianProcessRegressor\n",
    "from sklearn.gaussian_process.kernels import RBF, ConstantKernel as C\n",
    "from itertools import product\n",
    "from scipy.stats import norm\n",
    "from sklearn.preprocessing import StandardScaler\n",
    "\n",
    "#decide acquisition function\n",
    "acq_function = 'EI'\n",
    "N_train = 1\n",
    "N_test = 50 #Number of test elements\n",
    "iterations = 100\n",
    "gamma_extremes = [0, np.pi]  #extremes where to search for the values of gamma and beta\n",
    "beta_extremes = [0, np.pi]\n",
    "\n",
    "#create dataset: We start with N random points\n",
    "X_train = []   #data\n",
    "y_train = []   #label\n",
    "np.random.seed(9320)\n",
    "for i in range(N_train):\n",
    "    #X = [np.random.uniform(gamma_extremes[0],gamma_extremes[1]), np.random.uniform(beta_extremes[0],beta_extremes[1])]\n",
    "    X = [0.6, 2.4]\n",
    "    X_train.append(X)\n",
    "    Y, _ = QAOA(X)\n",
    "    y_train.append(Y)\n",
    "\n",
    "X= np.linspace(0, np.max([gamma_extremes, beta_extremes]), N_test)\n",
    "X_test = list(product(X, X))\n",
    "\n",
    "X_train = my_rescaler(np.array(X_train)).tolist()\n",
    "X_test = my_rescaler(np.array(X_test)).tolist()\n",
    "\n",
    "#create gaussian process and fit training data\n",
    "kernel = C(1.0, (1e-3, 1e3)) * RBF(10, (1e-2, 1e2))\n",
    "gp = MyGaussianProcessRegressor(kernel=kernel, n_restarts_optimizer=9, alpha = 1e-2, normalize_y = True, max_iter = 50000)\n",
    "gp.fit(X_train, y_train)\n",
    "\n",
    "#At each iteration we calculate the best point where to sample from\n",
    "sample_points = []   #We save every point that was chosen to sample from\n",
    "convergence_check = 0\n",
    "for i in range(iterations):\n",
    "        # Test GP\n",
    "        new_mean, new_sigma = gp.predict(X_test, return_std=True)\n",
    "        \n",
    "        #New_mean and new_sigma both are (N_test**2, ) arrays not reshaped yet\n",
    "        mean_max = np.max(new_mean)\n",
    "        mean_min = np.min(new_mean)\n",
    "        \n",
    "        #Now calculate acquisitition fn as the cumulative for every point centered around the maximum\n",
    "        cdf = norm.cdf(x = new_mean, loc =  mean_max, scale = new_sigma)\n",
    "        pdf = norm.pdf(x = new_mean, loc =  mean_min, scale = new_sigma)\n",
    "    \n",
    "        #The qdf is instead the probability of being lower then the lowest value of the mean (where we wanto to pick the next_value)\n",
    "        qdf = 1-norm.cdf(x = new_mean, loc =  mean_min, scale = new_sigma)\n",
    "    \n",
    "        if acq_function == 'PI':\n",
    "            #Next values is calculated as so just because argmax returns a number betwenn 1 and n_test instead of inside the interval\n",
    "            value = np.argmax(qdf)\n",
    "            next_point = X_test[value]\n",
    "            \n",
    "        if acq_function == 'EI':\n",
    "            alpha_function = (new_mean - mean_min - 0.001)*qdf + new_sigma*pdf\n",
    "            #argmax is a number between 0 and N_test**-1 telling us where is the next point to sample\n",
    "            argmax = np.argmax(np.round(alpha_function, 3))\n",
    "            next_point_normalized = X_test[argmax]\n",
    "        \n",
    "        next_point = my_rescaler(np.array(next_point_normalized), min_old=0, max_old=1, min_new=0, max_new=np.pi)\n",
    "        X_train.append(next_point_normalized)\n",
    "        y_next_point,_ = QAOA(next_point)\n",
    "        y_train.append(y_next_point)\n",
    "        print(i, next_point, y_next_point, convergence_check)\n",
    "\n",
    "        gp.fit(X_train, y_train)\n",
    "        sample_points.append(next_point)\n",
    "        \n",
    "        #if i>3 and np.sum((np.abs(sample_points[-1] - sample_points[-2] - sample_points[-3]))<1e-3) ==2:\n",
    "         #   print('Converged')\n",
    "          #  break\n",
    "print('reached limit')"
   ]
  },
  {
   "cell_type": "code",
   "execution_count": 56,
   "metadata": {},
   "outputs": [],
   "source": [
    "np.savetxt('Bayesian_search.dat', np.array(sample_points))\n"
   ]
  },
  {
   "cell_type": "code",
   "execution_count": 51,
   "metadata": {},
   "outputs": [
    {
     "data": {
      "image/png": "[encoded data removed]",
      "text/plain": [
       "<Figure size 864x432 with 1 Axes>"
      ]
     },
     "metadata": {
      "needs_background": "light"
     },
     "output_type": "display_data"
    },
    {
     "name": "stdout",
     "output_type": "stream",
     "text": [
      "-2.9509999999999996\n"
     ]
    }
   ],
   "source": [
    "#next_point = [0.64114136, 0.25645654]\n",
    "#next_point = [2.37222302, 2.30810889]\n",
    "a, r = QAOA(next_point)\n",
    "plot_distribution(r)\n",
    "print(a)"
   ]
  },
  {
   "cell_type": "code",
   "execution_count": 33,
   "metadata": {},
   "outputs": [
    {
     "data": {
      "image/png": "[encoded data removed]",
      "text/plain": [
       "<Figure size 432x288 with 2 Axes>"
      ]
     },
     "metadata": {
      "needs_background": "light"
     },
     "output_type": "display_data"
    }
   ],
   "source": [
    "fig = plt.figure()\n",
    "\n",
    "mpl.rc('text', usetex = True)\n",
    "mpl.rc('font', family = 'serif')\n",
    "# Make data.\n",
    "X = np.unique(params[:,0])\n",
    "Y = np.unique(params[:,1])\n",
    "X, Y = np.meshgrid(X, Y)\n",
    "Z = np.reshape(f1, (len(X), len(Y)))\n",
    "\n",
    "# Plot the surface.\n",
    "plt.imshow(Z, extent = [0, np.pi, np.pi, 0])\n",
    "#plt.title('Minimum search with bayes', fontsize = 15)\n",
    "sample_points = np.array(sample_points)\n",
    "plt.scatter(sample_points[:,0], sample_points[:,1], c = 'r')\n",
    "plt.xticks(fontsize = 15)\n",
    "plt.yticks(fontsize = 15)\n",
    "\n",
    "cb = plt.colorbar()\n",
    "plt.xlabel(r'$\\gamma$', fontsize=20)\n",
    "plt.ylabel(r'$\\beta$', fontsize =20)\n",
    "cb.ax.tick_params(labelsize=15)"
   ]
  },
  {
   "cell_type": "code",
   "execution_count": null,
   "metadata": {},
   "outputs": [],
   "source": []
  }
 ],
 "metadata": {
  "kernelspec": {
   "display_name": "Python 3",
   "language": "python",
   "name": "python3"
  },
  "language_info": {
   "codemirror_mode": {
    "name": "ipython",
    "version": 3
   },
   "file_extension": ".py",
   "mimetype": "text/x-python",
   "name": "python",
   "nbconvert_exporter": "python",
   "pygments_lexer": "ipython3",
   "version": "3.8.5"
  }
 },
 "nbformat": 4,
 "nbformat_minor": 4
}
