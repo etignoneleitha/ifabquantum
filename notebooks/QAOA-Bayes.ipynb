{
 "cells": [
  {
   "cell_type": "markdown",
   "metadata": {},
   "source": [
    "### QAOA - Bayes\n",
    "Applicazione di un processo di ottimizzazione bayesiana al QAOA."
   ]
  },
  {
   "cell_type": "markdown",
   "metadata": {},
   "source": [
    "### Imports"
   ]
  },
  {
   "cell_type": "code",
   "execution_count": 1,
   "metadata": {},
   "outputs": [],
   "source": [
    "import numpy as np\n",
    "import networkx as nx\n",
    "import matplotlib.pyplot as plt \n",
    "from   matplotlib import cm\n",
    "from   matplotlib.ticker import LinearLocator, FormatStrFormatter\n",
    "from qiskit import Aer, IBMQ\n",
    "from qiskit import QuantumRegister, ClassicalRegister, QuantumCircuit, execute\n",
    "from qiskit.visualization import plot_histogram, plot_state_city\n",
    "import random\n",
    "import itertools\n",
    "from tqdm import tqdm\n",
    "from scipy.optimize import minimize"
   ]
  },
  {
   "cell_type": "markdown",
   "metadata": {},
   "source": [
    "### Qaoa\n",
    "alcuni metodi per runnare il qaoa con qiskit\n",
    "- Create graph: crea un grafo random\n",
    "- draw graph: disegna\n",
    "- cost function: calcola l'energia classica di una configurazione di bits\n",
    "- classical solution: calcola quale è la max clique provando tutte le 2^n combinazioni\n",
    "- quantum algorithm: restituisce l'algorithm qusntistico che applica il qaoa\n",
    "- Qaoa: accetta i parametri beta e gamma e restituisce l'energia dopo aver applicato un giro del circuito\n",
    "- grid search: Cerca i parametri migliori con grid search\n",
    "- plot_f1_landscape: disegna il landscape della funzione costo, dell'energia"
   ]
  },
  {
   "cell_type": "code",
   "execution_count": 2,
   "metadata": {},
   "outputs": [],
   "source": [
    "G = nx.Graph()\n",
    "G_comp = nx.Graph()\n",
    "omega = 2\n",
    "shots = 10000\n",
    "N = 0\n",
    "\n",
    "def create_graph(n, prob_conn, M = 0):\n",
    "    global G, G_comp, omega, shots, N\n",
    "    '''\n",
    "    Creates a graph of N edges with a probablity of connectivity of each edge: prob_conn\n",
    "    M decides the maxclique:\n",
    "        if M is 0 the maxclique will be randomly generated\n",
    "        if M>0 there will be a maxclique of at least M\n",
    "    '''\n",
    "    \n",
    "    if prob_conn > 1:\n",
    "        raise ValueError(\"Prob needs to be lower than 1\")\n",
    "    N = n\n",
    "    print(N)\n",
    "    prob_connectivity = prob_conn\n",
    "    V   = np.arange(0,n,1)\n",
    "    E = []\n",
    "    \n",
    "    #Creates generic graph with at least one connection per every vertex\n",
    "    for i in range(n):\n",
    "        one_edge_minimum = False\n",
    "        for j in range(n):\n",
    "            if i!=j and (j,i,1.0) not in E and np.random.rand()<prob_connectivity:\n",
    "                E.append((i,j, 1.0))\n",
    "                one_edge_minimum = True\n",
    "        if not one_edge_minimum:\n",
    "            choose = np.ones(n)/(n-1)\n",
    "            choose[i] = 0\n",
    "            E.append((i, np.random.choice(range(n), p = choose), 1))\n",
    "    \n",
    "    #Makes sure there is at least a M-large clique\n",
    "    if M>0:\n",
    "        max_clique = random.sample(range(0, n), M)\n",
    "        for i in max_clique:\n",
    "            for j in max_clique:\n",
    "                if i!=j and ((j,i,1.0) not in E) and ((i,j,1.0) not in E):\n",
    "                    E.append((i,j,1.0))\n",
    "    G.add_nodes_from(V)\n",
    "    G.add_weighted_edges_from(E)\n",
    "    G_comp = nx.complement(G)  \n",
    "\n",
    "def create_graph_specific(graph_type):\n",
    "    '''\n",
    "    Creates preset graphs decided by graph-type:\n",
    "    graph-type:\n",
    "        -- simple7: a simple 7 vertex graph with a 4 max clique\n",
    "        -- simple4: a simple 4 vertex graph with a 3 max clique\n",
    "        -- simple5: a simple 5 vertex graph with a 3 max clique\n",
    "    '''\n",
    "    global N, G, G_comp, omega\n",
    "    if graph_type == 'simple7':\n",
    "        N=7\n",
    "        V   = np.arange(0,N,1)\n",
    "        E = []\n",
    "        E     =[(0,1,1.0),(0,2,1.0),(0,3,1),(1,2,1.0),(1,3,1),(3,2,1.0),(3,4,1.0),(2,5,1.0), (2,6,1)] \n",
    "    if graph_type == 'simple4':\n",
    "        N=4\n",
    "        V   = np.arange(0,N,1)\n",
    "        E = []\n",
    "        E     =[(0,1,1.0),(0,2,1.0),(1,2,1),(2,3,1.0)] \n",
    "        \n",
    "    if graph_type == 'simple5':   \n",
    "        N   = 5\n",
    "        V   = np.arange(0,N,1)\n",
    "        E = [(0,1,1), (1,2,1), (0,2,1), (2,3,1), (3,4,1)]\n",
    "    \n",
    "    if graph_type == 'simple6':\n",
    "        N=6\n",
    "        V   = np.arange(0,N,1)\n",
    "        E = []\n",
    "        E     = [(0, 2, 1), (0, 1, 1), (1, 4, 1), (1, 2, 1), (1, 3, 1), (2, 4, 1), (2, 3, 1), (3, 4, 1), (3, 5, 1)]\n",
    "                   \n",
    "    G.add_nodes_from(V)\n",
    "    G.add_weighted_edges_from(E)\n",
    "    G_comp = nx.complement(G)            \n",
    "\n",
    "def draw_graph(comp = False):\n",
    "    '''\n",
    "    Draws given graph G and its complement G if comp = True\n",
    "    '''\n",
    "    if comp:\n",
    "        G_complement = nx.complement(G)\n",
    "        fig, axis = plt.subplots(nrows = 1, ncols = 2, figsize = (4,2))\n",
    "    else:\n",
    "        fig, axis = plt.subplots(111, figsize = (2,2))\n",
    "    \n",
    "    colors       = ['r' for node in G.nodes()]\n",
    "    default_axes = axis[0]\n",
    "    pos          = nx.circular_layout(G)\n",
    "    axis[0].set_title('Graph')\n",
    "    first_graph = nx.draw_networkx(G, node_color=colors, node_size=200, alpha=1, ax=default_axes, pos=pos)\n",
    "    \n",
    "    if comp:\n",
    "        colors       = ['b' for node in G_complement.nodes()]\n",
    "        default_axes = axis[1]\n",
    "        pos          = nx.circular_layout(G_complement)\n",
    "        axis[1].set_title('Complementary Graph')\n",
    "        nx.draw_networkx(G_complement, node_color=colors, node_size=200, alpha=1, ax=default_axes, pos=pos)\n",
    "\n",
    "def cost_function(values):\n",
    "    '''\n",
    "    Evaluates cost of the +1/-1 combination of spins\n",
    "    '''\n",
    "    var = 1 - 2*values\n",
    "    first_term = sum(var)\n",
    "    second_term = 0\n",
    "    for edge in G_comp.edges:\n",
    "        second_term += omega*(var[edge[0]]*var[edge[1]] - var[edge[0]] - var[edge[1]])\n",
    "    return first_term + second_term \n",
    "\n",
    "\n",
    "def classical_solution():    \n",
    "    '''\n",
    "    Runs through all 2^n possible configurations and estimates how many max cliques there are and plots one\n",
    "    '''\n",
    "    \n",
    "    #Evaluate for every possible configuration\n",
    "    lst = list(itertools.product([0, 1], repeat=len(g)))\n",
    "    results = {}\n",
    "    for i in tqdm(range(2**len(g))):\n",
    "        results[lst[i]] = cost_function(np.array(lst[i]))\n",
    "    \n",
    "    print('All possible solutions: \\n')\n",
    "    sol = np.unique(list(results.values()), return_counts = True)\n",
    "    print(sol[0])\n",
    "    print(sol[1])\n",
    "    d = dict((k, v) for k, v in results.items() if v == np.min(list(results.values())))\n",
    "    print('There are {} MAXCLIQUE(S) with energy: \\n'.format(len(d)), d)\n",
    "    \n",
    "    fig = plt.figure(figsize=(4, 4))\n",
    "    val, counts = np.unique(list(results.values()), return_counts = True)\n",
    "    plt.bar(val, counts)\n",
    "    plt.xlabel('Energy')\n",
    "    plt.ylabel('Counts')\n",
    "    plt.title('Statistics of solutions')\n",
    "\n",
    "    #PLot one of the largest cliques\n",
    "    fig = plt.figure(figsize = (2,2))\n",
    "    plt.title('MaxClique')\n",
    "    colors       = list(d.keys())[0]\n",
    "    pos          = nx.circular_layout(g)\n",
    "    nx.draw_networkx(g, node_color=colors, node_size=200, alpha=1, pos=pos)\n",
    "    \n",
    "    return d\n",
    "\n",
    "def quantum_algorithm(gamma, beta):\n",
    "    qc = QuantumCircuit(N,N)\n",
    "\n",
    "    #prepare state\n",
    "    qc.h(range(N))\n",
    "\n",
    "    for edge in G_comp.edges:\n",
    "        qc.rz(-2*gamma*omega, edge[1])\n",
    "        qc.rz(-2*gamma*omega, edge[0])\n",
    "\n",
    "        qc.rzz(2*gamma*omega, edge[1], edge[0])\n",
    "        \n",
    "    for i in G.nodes:\n",
    "        qc.rz(2*gamma, i)\n",
    "\n",
    "    #mixing\n",
    "    qc.barrier()\n",
    "    qc.rx(2*beta, range(N)) #rx = e^[-i(theta/2) X] \n",
    "    \n",
    "    meas = QuantumCircuit(N,N)\n",
    "    meas.barrier(range(N))\n",
    "    meas.measure(range(N), range(N))\n",
    "\n",
    "    return qc + meas\n",
    "\n",
    "def QAOA(params):\n",
    "    '''\n",
    "    Applies QAOA\n",
    "    '''\n",
    "    gamma = params[0]\n",
    "    beta = params[1]\n",
    "    \n",
    "    backend= Aer.get_backend(\"qasm_simulator\")\n",
    "    qc = quantum_algorithm(gamma, beta)\n",
    "    simulate     = execute(qc, backend=backend, shots=shots)\n",
    "    results = simulate.result()\n",
    "    extimated_f1 = 0\n",
    "    counts = results.get_counts()\n",
    "    for combination in counts:\n",
    "        comb_to_extimate = np.array([int(x) for x in combination])[::-1]\n",
    "        extimated_f1 += cost_function(comb_to_extimate)*counts[combination]/shots \n",
    "    return extimated_f1\n",
    "\n",
    "def grid_search(num_params):\n",
    "    '''\n",
    "    Grid search\n",
    "    '''\n",
    "    #Cretes params\n",
    "    samp = np.linspace(0, np.pi, num_params)\n",
    "    params = np.array(list((itertools.product(samp, repeat = 2))))\n",
    "    gammas = params[:, 0]\n",
    "    betas = params[:, 1]\n",
    "    \n",
    "    QAOA_results = []\n",
    "    for i in tqdm(range(params.shape[0])):\n",
    "        QAOA_results.append(QAOA([gammas[i], betas[i]]))\n",
    "    \n",
    "    return params, QAOA_results\n",
    "\n",
    "def plot_f1_landscape(params, f1):\n",
    "    fig = plt.figure()\n",
    "    #ax = fig.gca(projection='3d')\n",
    "\n",
    "    # Make data.\n",
    "    X = np.unique(params[:,0])\n",
    "    Y = np.unique(params[:,1])\n",
    "    X, Y = np.meshgrid(X, Y)\n",
    "    Z = np.reshape(f1, (len(X), len(Y)))\n",
    "\n",
    "    # Plot the surface.\n",
    "    #surf = ax.plot_surface(X, Y, Z, cmap=cm.coolwarm, linewidth=0, antialiased=False)\n",
    "    plt.imshow(Z, extent = [0, np.pi, 0, np.pi])\n",
    "    plt.title('Grid Search: [{} x {}]'.format(len(X), len(X)))\n",
    "    ticks = np.linspace(0, np.pi, len(X))[::4]\n",
    "    plt.xticks(ticks)\n",
    "    plt.yticks(ticks)\n",
    "    plt.colorbar()\n",
    "    plt.xlabel('\\ gamma', fontsize=10)\n",
    "    plt.ylabel('\\ beta', fontsize = 10)\n",
    "\n",
    "def minimize_QAOA():\n",
    "    minimizer_results = minimize(QAOA, x0 =np.random.uniform(size = 2),\n",
    "                        method = 'COBYLA', options = {'maxiter' : 1000})\n",
    "    print(minizer_results)\n",
    "    return minizer_results"
   ]
  },
  {
   "cell_type": "markdown",
   "metadata": {},
   "source": [
    "### Gaussian Process to Approximate the f1 landscape of a graph\n",
    "\n",
    "Generates $N_{train}$ points selected randomly on a grid $[gamma-extremes] \\times [beta-extremes]$, trains a sklearn Gaussin Process Regressor with a kernel defined by kernel and tests it on $N_{test}$ samples uniformly picked on a grid $[0, max(gamma, betas)] \\times [0, max(gamma, betas)] $. Result is compared to grid search"
   ]
  },
  {
   "cell_type": "code",
   "execution_count": 3,
   "metadata": {
    "scrolled": true
   },
   "outputs": [
    {
     "name": "stderr",
     "output_type": "stream",
     "text": [
      "100%|████████████████████████████████████████████████████████████████████████████████| 900/900 [01:16<00:00, 11.77it/s]\n"
     ]
    },
    {
     "data": {
      "image/png": "[encoded data removed]",
      "text/plain": [
       "<Figure size 432x288 with 2 Axes>"
      ]
     },
     "metadata": {
      "needs_background": "light"
     },
     "output_type": "display_data"
    },
    {
     "data": {
      "image/png": "[encoded data removed]",
      "text/plain": [
       "<Figure size 432x288 with 2 Axes>"
      ]
     },
     "metadata": {
      "needs_background": "light"
     },
     "output_type": "display_data"
    }
   ],
   "source": [
    "from sklearn.gaussian_process import GaussianProcessRegressor\n",
    "from sklearn.gaussian_process.kernels import RBF, ConstantKernel as C\n",
    "from itertools import product\n",
    "\n",
    "#First create the graph instance\n",
    "create_graph_specific('simple4')\n",
    "\n",
    "N_train = 200\n",
    "N_test = 50 #Number of test elements\n",
    "gamma_extremes = [0,np.pi]  #extremes where to search for the values of gamma and beta\n",
    "beta_extremes = [0, np.pi]\n",
    "#We start with N random points\n",
    "X_train = []\n",
    "y_train = []\n",
    "for i in range(N_train):\n",
    "    X = [np.random.uniform()*(gamma_extremes[1]-gamma_extremes[0]), np.random.uniform()*(beta_extremes[1]-beta_extremes[0])]\n",
    "    X_train.append(X)\n",
    "    Y = QAOA(X)\n",
    "    y_train.append(Y)\n",
    "\n",
    "kernel = C(1.0, (1e-3, 1e3)) * RBF(10, (1e-2, 1e2))\n",
    "gp = GaussianProcessRegressor(kernel=kernel, n_restarts_optimizer=9)\n",
    "gp.fit(X_train, y_train)\n",
    "\n",
    "X= np.linspace(0, np.max([gamma_extremes, beta_extremes]), N_test)\n",
    "X_test = list(product(X, X))\n",
    "new_mean, sigma = gp.predict(X_test, return_std=True)\n",
    "new_mean = np.reshape(new_mean, (N_test, N_test))\n",
    "sigma = np.array(sigma)\n",
    "\n",
    "X_train = np.array(X_train)\n",
    "plt.title('Approximation with Bayes, random points')\n",
    "plt.imshow(new_mean, extent = [gamma_extremes[0], gamma_extremes[1], beta_extremes[0], beta_extremes[1]])\n",
    "plt.scatter(X_train[:,0], X_train[:,1])\n",
    "plt.xlabel('Gamma')\n",
    "plt.ylabel('Beta')\n",
    "plt.colorbar()\n",
    "\n",
    "#To confront with\n",
    "if True:\n",
    "    params, f1 = grid_search(30)\n",
    "    plot_f1_landscape(params, f1)"
   ]
  },
  {
   "cell_type": "markdown",
   "metadata": {},
   "source": [
    "### Bayesian Optimization to find the minimum of the f1 of a graph\n"
   ]
  },
  {
   "cell_type": "code",
   "execution_count": 10,
   "metadata": {},
   "outputs": [],
   "source": [
    "from sklearn.utils.optimize import _check_optimize_result\n",
    "from scipy.optimize import minimize\n",
    "\n",
    "#Allows to change max_iter (see cell below) as well as gtol. It can be straightforwardly extended to other parameters\n",
    "class MyGaussianProcessRegressor(GaussianProcessRegressor):\n",
    "    def __init__(self, *args, max_iter=2e05, gtol=1e-06, **kwargs):\n",
    "        super().__init__(*args, **kwargs)\n",
    "        self._max_iter = max_iter\n",
    "        self._gtol = gtol\n",
    "\n",
    "    def _constrained_optimization(self, obj_func, initial_theta, bounds):\n",
    "        if self.optimizer == \"fmin_l_bfgs_b\":\n",
    "            opt_res = minimize(obj_func, initial_theta, method=\"L-BFGS-B\", jac=True, bounds=bounds, options={'maxiter':self._max_iter, 'gtol': self._gtol})\n",
    "            _check_optimize_result(\"lbfgs\", opt_res)\n",
    "            theta_opt, func_min = opt_res.x, opt_res.fun\n",
    "        elif callable(self.optimizer):\n",
    "            theta_opt, func_min = self.optimizer(obj_func, initial_theta, bounds=bounds)\n",
    "        else:\n",
    "            raise ValueError(\"Unknown optimizer %s.\" % self.optimizer)\n",
    "        return theta_opt, func_min"
   ]
  },
  {
   "cell_type": "code",
   "execution_count": 12,
   "metadata": {},
   "outputs": [
    {
     "name": "stdout",
     "output_type": "stream",
     "text": [
      "(0.5129130863003744, 2.3081088883516845)\n",
      "(1.8593099378388571, 3.141592653589793)\n",
      "(1.4105109873260295, 2.436337159926778)\n",
      "(1.1540544441758422, 2.821021974652059)\n",
      "(2.756907838864512, 0.4487989505128276)\n",
      "(3.141592653589793, 0.4487989505128276)\n",
      "(1.2822827157509358, 2.6286795672894185)\n",
      "(2.8851361104396056, 0.7052554936630148)\n",
      "(1.538739258901123, 2.6286795672894185)\n",
      "(1.3463968515384828, 2.821021974652059)\n",
      "(1.4746251231135763, 2.821021974652059)\n",
      "(2.8851361104396056, 0.32057067893773394)\n",
      "(1.4105109873260295, 2.756907838864512)\n",
      "(2.9492502462271526, 0.1282282715750936)\n",
      "(1.4105109873260295, 2.756907838864512)\n"
     ]
    },
    {
     "name": "stderr",
     "output_type": "stream",
     "text": [
      "<ipython-input-10-ae0d514ecb2a>:14: ConvergenceWarning: lbfgs failed to converge (status=2):\n",
      "ABNORMAL_TERMINATION_IN_LNSRCH.\n",
      "\n",
      "Increase the number of iterations (max_iter) or scale the data as shown in:\n",
      "    https://scikit-learn.org/stable/modules/preprocessing.html\n",
      "  _check_optimize_result(\"lbfgs\", opt_res)\n",
      "C:\\Users\\LEI00038\\AppData\\Local\\Continuum\\anaconda3\\envs\\qc\\lib\\site-packages\\sklearn\\gaussian_process\\_gpr.py:370: UserWarning: Predicted variances smaller than 0. Setting those variances to 0.\n",
      "  warnings.warn(\"Predicted variances smaller than 0. \"\n",
      "C:\\Users\\LEI00038\\AppData\\Local\\Continuum\\anaconda3\\envs\\qc\\lib\\site-packages\\scipy\\stats\\_distn_infrastructure.py:1844: RuntimeWarning: divide by zero encountered in true_divide\n",
      "  x = np.asarray((x - loc)/scale, dtype=dtyp)\n",
      "C:\\Users\\LEI00038\\AppData\\Local\\Continuum\\anaconda3\\envs\\qc\\lib\\site-packages\\scipy\\stats\\_distn_infrastructure.py:1760: RuntimeWarning: invalid value encountered in true_divide\n",
      "  x = np.asarray((x - loc)/scale, dtype=dtyp)\n",
      "C:\\Users\\LEI00038\\AppData\\Local\\Continuum\\anaconda3\\envs\\qc\\lib\\site-packages\\scipy\\stats\\_distn_infrastructure.py:1844: RuntimeWarning: invalid value encountered in true_divide\n",
      "  x = np.asarray((x - loc)/scale, dtype=dtyp)\n",
      "C:\\Users\\LEI00038\\AppData\\Local\\Continuum\\anaconda3\\envs\\qc\\lib\\site-packages\\scipy\\stats\\_distn_infrastructure.py:1847: RuntimeWarning: invalid value encountered in greater_equal\n",
      "  cond2 = (x >= np.asarray(_b)) & cond0\n"
     ]
    },
    {
     "name": "stdout",
     "output_type": "stream",
     "text": [
      "(1.4105109873260295, 2.756907838864512)\n"
     ]
    },
    {
     "name": "stderr",
     "output_type": "stream",
     "text": [
      "<ipython-input-10-ae0d514ecb2a>:14: ConvergenceWarning: lbfgs failed to converge (status=2):\n",
      "ABNORMAL_TERMINATION_IN_LNSRCH.\n",
      "\n",
      "Increase the number of iterations (max_iter) or scale the data as shown in:\n",
      "    https://scikit-learn.org/stable/modules/preprocessing.html\n",
      "  _check_optimize_result(\"lbfgs\", opt_res)\n",
      "C:\\Users\\LEI00038\\AppData\\Local\\Continuum\\anaconda3\\envs\\qc\\lib\\site-packages\\sklearn\\gaussian_process\\_gpr.py:370: UserWarning: Predicted variances smaller than 0. Setting those variances to 0.\n",
      "  warnings.warn(\"Predicted variances smaller than 0. \"\n",
      "C:\\Users\\LEI00038\\AppData\\Local\\Continuum\\anaconda3\\envs\\qc\\lib\\site-packages\\scipy\\stats\\_distn_infrastructure.py:1844: RuntimeWarning: divide by zero encountered in true_divide\n",
      "  x = np.asarray((x - loc)/scale, dtype=dtyp)\n",
      "C:\\Users\\LEI00038\\AppData\\Local\\Continuum\\anaconda3\\envs\\qc\\lib\\site-packages\\scipy\\stats\\_distn_infrastructure.py:1760: RuntimeWarning: divide by zero encountered in true_divide\n",
      "  x = np.asarray((x - loc)/scale, dtype=dtyp)\n"
     ]
    },
    {
     "name": "stdout",
     "output_type": "stream",
     "text": [
      "(1.538739258901123, 2.6286795672894185)\n"
     ]
    },
    {
     "name": "stderr",
     "output_type": "stream",
     "text": [
      "<ipython-input-10-ae0d514ecb2a>:14: ConvergenceWarning: lbfgs failed to converge (status=2):\n",
      "ABNORMAL_TERMINATION_IN_LNSRCH.\n",
      "\n",
      "Increase the number of iterations (max_iter) or scale the data as shown in:\n",
      "    https://scikit-learn.org/stable/modules/preprocessing.html\n",
      "  _check_optimize_result(\"lbfgs\", opt_res)\n",
      "C:\\Users\\LEI00038\\AppData\\Local\\Continuum\\anaconda3\\envs\\qc\\lib\\site-packages\\sklearn\\gaussian_process\\_gpr.py:370: UserWarning: Predicted variances smaller than 0. Setting those variances to 0.\n",
      "  warnings.warn(\"Predicted variances smaller than 0. \"\n",
      "C:\\Users\\LEI00038\\AppData\\Local\\Continuum\\anaconda3\\envs\\qc\\lib\\site-packages\\scipy\\stats\\_distn_infrastructure.py:1844: RuntimeWarning: divide by zero encountered in true_divide\n",
      "  x = np.asarray((x - loc)/scale, dtype=dtyp)\n",
      "C:\\Users\\LEI00038\\AppData\\Local\\Continuum\\anaconda3\\envs\\qc\\lib\\site-packages\\scipy\\stats\\_distn_infrastructure.py:1760: RuntimeWarning: divide by zero encountered in true_divide\n",
      "  x = np.asarray((x - loc)/scale, dtype=dtyp)\n"
     ]
    },
    {
     "name": "stdout",
     "output_type": "stream",
     "text": [
      "(0.5129130863003744, 2.3081088883516845)\n"
     ]
    },
    {
     "name": "stderr",
     "output_type": "stream",
     "text": [
      "<ipython-input-10-ae0d514ecb2a>:14: ConvergenceWarning: lbfgs failed to converge (status=2):\n",
      "ABNORMAL_TERMINATION_IN_LNSRCH.\n",
      "\n",
      "Increase the number of iterations (max_iter) or scale the data as shown in:\n",
      "    https://scikit-learn.org/stable/modules/preprocessing.html\n",
      "  _check_optimize_result(\"lbfgs\", opt_res)\n",
      "C:\\Users\\LEI00038\\AppData\\Local\\Continuum\\anaconda3\\envs\\qc\\lib\\site-packages\\sklearn\\gaussian_process\\_gpr.py:370: UserWarning: Predicted variances smaller than 0. Setting those variances to 0.\n",
      "  warnings.warn(\"Predicted variances smaller than 0. \"\n",
      "C:\\Users\\LEI00038\\AppData\\Local\\Continuum\\anaconda3\\envs\\qc\\lib\\site-packages\\scipy\\stats\\_distn_infrastructure.py:1844: RuntimeWarning: divide by zero encountered in true_divide\n",
      "  x = np.asarray((x - loc)/scale, dtype=dtyp)\n",
      "C:\\Users\\LEI00038\\AppData\\Local\\Continuum\\anaconda3\\envs\\qc\\lib\\site-packages\\scipy\\stats\\_distn_infrastructure.py:1760: RuntimeWarning: invalid value encountered in true_divide\n",
      "  x = np.asarray((x - loc)/scale, dtype=dtyp)\n",
      "C:\\Users\\LEI00038\\AppData\\Local\\Continuum\\anaconda3\\envs\\qc\\lib\\site-packages\\scipy\\stats\\_distn_infrastructure.py:1844: RuntimeWarning: invalid value encountered in true_divide\n",
      "  x = np.asarray((x - loc)/scale, dtype=dtyp)\n",
      "C:\\Users\\LEI00038\\AppData\\Local\\Continuum\\anaconda3\\envs\\qc\\lib\\site-packages\\scipy\\stats\\_distn_infrastructure.py:1847: RuntimeWarning: invalid value encountered in greater_equal\n",
      "  cond2 = (x >= np.asarray(_b)) & cond0\n"
     ]
    },
    {
     "name": "stdout",
     "output_type": "stream",
     "text": [
      "(1.4105109873260295, 2.756907838864512)\n"
     ]
    },
    {
     "name": "stderr",
     "output_type": "stream",
     "text": [
      "<ipython-input-10-ae0d514ecb2a>:14: ConvergenceWarning: lbfgs failed to converge (status=2):\n",
      "ABNORMAL_TERMINATION_IN_LNSRCH.\n",
      "\n",
      "Increase the number of iterations (max_iter) or scale the data as shown in:\n",
      "    https://scikit-learn.org/stable/modules/preprocessing.html\n",
      "  _check_optimize_result(\"lbfgs\", opt_res)\n",
      "C:\\Users\\LEI00038\\AppData\\Local\\Continuum\\anaconda3\\envs\\qc\\lib\\site-packages\\sklearn\\gaussian_process\\_gpr.py:370: UserWarning: Predicted variances smaller than 0. Setting those variances to 0.\n",
      "  warnings.warn(\"Predicted variances smaller than 0. \"\n",
      "C:\\Users\\LEI00038\\AppData\\Local\\Continuum\\anaconda3\\envs\\qc\\lib\\site-packages\\scipy\\stats\\_distn_infrastructure.py:1844: RuntimeWarning: divide by zero encountered in true_divide\n",
      "  x = np.asarray((x - loc)/scale, dtype=dtyp)\n",
      "C:\\Users\\LEI00038\\AppData\\Local\\Continuum\\anaconda3\\envs\\qc\\lib\\site-packages\\scipy\\stats\\_distn_infrastructure.py:1760: RuntimeWarning: divide by zero encountered in true_divide\n",
      "  x = np.asarray((x - loc)/scale, dtype=dtyp)\n"
     ]
    },
    {
     "name": "stdout",
     "output_type": "stream",
     "text": [
      "(1.1540544441758422, 2.500451295714325)\n"
     ]
    },
    {
     "name": "stderr",
     "output_type": "stream",
     "text": [
      "<ipython-input-10-ae0d514ecb2a>:14: ConvergenceWarning: lbfgs failed to converge (status=2):\n",
      "ABNORMAL_TERMINATION_IN_LNSRCH.\n",
      "\n",
      "Increase the number of iterations (max_iter) or scale the data as shown in:\n",
      "    https://scikit-learn.org/stable/modules/preprocessing.html\n",
      "  _check_optimize_result(\"lbfgs\", opt_res)\n",
      "C:\\Users\\LEI00038\\AppData\\Local\\Continuum\\anaconda3\\envs\\qc\\lib\\site-packages\\sklearn\\gaussian_process\\_gpr.py:370: UserWarning: Predicted variances smaller than 0. Setting those variances to 0.\n",
      "  warnings.warn(\"Predicted variances smaller than 0. \"\n",
      "C:\\Users\\LEI00038\\AppData\\Local\\Continuum\\anaconda3\\envs\\qc\\lib\\site-packages\\scipy\\stats\\_distn_infrastructure.py:1844: RuntimeWarning: divide by zero encountered in true_divide\n",
      "  x = np.asarray((x - loc)/scale, dtype=dtyp)\n",
      "C:\\Users\\LEI00038\\AppData\\Local\\Continuum\\anaconda3\\envs\\qc\\lib\\site-packages\\scipy\\stats\\_distn_infrastructure.py:1760: RuntimeWarning: divide by zero encountered in true_divide\n",
      "  x = np.asarray((x - loc)/scale, dtype=dtyp)\n",
      "C:\\Users\\LEI00038\\AppData\\Local\\Continuum\\anaconda3\\envs\\qc\\lib\\site-packages\\scipy\\stats\\_distn_infrastructure.py:1760: RuntimeWarning: invalid value encountered in true_divide\n",
      "  x = np.asarray((x - loc)/scale, dtype=dtyp)\n",
      "C:\\Users\\LEI00038\\AppData\\Local\\Continuum\\anaconda3\\envs\\qc\\lib\\site-packages\\scipy\\stats\\_distn_infrastructure.py:1844: RuntimeWarning: invalid value encountered in true_divide\n",
      "  x = np.asarray((x - loc)/scale, dtype=dtyp)\n",
      "C:\\Users\\LEI00038\\AppData\\Local\\Continuum\\anaconda3\\envs\\qc\\lib\\site-packages\\scipy\\stats\\_distn_infrastructure.py:1847: RuntimeWarning: invalid value encountered in greater_equal\n",
      "  cond2 = (x >= np.asarray(_b)) & cond0\n"
     ]
    },
    {
     "name": "stdout",
     "output_type": "stream",
     "text": [
      "(0.5129130863003744, 2.3081088883516845)\n",
      "(1.4105109873260295, 2.756907838864512)\n"
     ]
    },
    {
     "name": "stderr",
     "output_type": "stream",
     "text": [
      "C:\\Users\\LEI00038\\AppData\\Local\\Continuum\\anaconda3\\envs\\qc\\lib\\site-packages\\sklearn\\gaussian_process\\_gpr.py:370: UserWarning: Predicted variances smaller than 0. Setting those variances to 0.\n",
      "  warnings.warn(\"Predicted variances smaller than 0. \"\n",
      "C:\\Users\\LEI00038\\AppData\\Local\\Continuum\\anaconda3\\envs\\qc\\lib\\site-packages\\scipy\\stats\\_distn_infrastructure.py:1844: RuntimeWarning: divide by zero encountered in true_divide\n",
      "  x = np.asarray((x - loc)/scale, dtype=dtyp)\n",
      "C:\\Users\\LEI00038\\AppData\\Local\\Continuum\\anaconda3\\envs\\qc\\lib\\site-packages\\scipy\\stats\\_distn_infrastructure.py:1760: RuntimeWarning: invalid value encountered in true_divide\n",
      "  x = np.asarray((x - loc)/scale, dtype=dtyp)\n",
      "C:\\Users\\LEI00038\\AppData\\Local\\Continuum\\anaconda3\\envs\\qc\\lib\\site-packages\\scipy\\stats\\_distn_infrastructure.py:1844: RuntimeWarning: invalid value encountered in true_divide\n",
      "  x = np.asarray((x - loc)/scale, dtype=dtyp)\n",
      "C:\\Users\\LEI00038\\AppData\\Local\\Continuum\\anaconda3\\envs\\qc\\lib\\site-packages\\scipy\\stats\\_distn_infrastructure.py:1847: RuntimeWarning: invalid value encountered in greater_equal\n",
      "  cond2 = (x >= np.asarray(_b)) & cond0\n",
      "<ipython-input-10-ae0d514ecb2a>:14: ConvergenceWarning: lbfgs failed to converge (status=2):\n",
      "ABNORMAL_TERMINATION_IN_LNSRCH.\n",
      "\n",
      "Increase the number of iterations (max_iter) or scale the data as shown in:\n",
      "    https://scikit-learn.org/stable/modules/preprocessing.html\n",
      "  _check_optimize_result(\"lbfgs\", opt_res)\n",
      "C:\\Users\\LEI00038\\AppData\\Local\\Continuum\\anaconda3\\envs\\qc\\lib\\site-packages\\sklearn\\gaussian_process\\_gpr.py:370: UserWarning: Predicted variances smaller than 0. Setting those variances to 0.\n",
      "  warnings.warn(\"Predicted variances smaller than 0. \"\n",
      "C:\\Users\\LEI00038\\AppData\\Local\\Continuum\\anaconda3\\envs\\qc\\lib\\site-packages\\scipy\\stats\\_distn_infrastructure.py:1844: RuntimeWarning: divide by zero encountered in true_divide\n",
      "  x = np.asarray((x - loc)/scale, dtype=dtyp)\n",
      "C:\\Users\\LEI00038\\AppData\\Local\\Continuum\\anaconda3\\envs\\qc\\lib\\site-packages\\scipy\\stats\\_distn_infrastructure.py:1760: RuntimeWarning: divide by zero encountered in true_divide\n",
      "  x = np.asarray((x - loc)/scale, dtype=dtyp)\n"
     ]
    },
    {
     "name": "stdout",
     "output_type": "stream",
     "text": [
      "(0.5129130863003744, 2.3081088883516845)\n"
     ]
    },
    {
     "name": "stderr",
     "output_type": "stream",
     "text": [
      "<ipython-input-10-ae0d514ecb2a>:14: ConvergenceWarning: lbfgs failed to converge (status=2):\n",
      "ABNORMAL_TERMINATION_IN_LNSRCH.\n",
      "\n",
      "Increase the number of iterations (max_iter) or scale the data as shown in:\n",
      "    https://scikit-learn.org/stable/modules/preprocessing.html\n",
      "  _check_optimize_result(\"lbfgs\", opt_res)\n",
      "C:\\Users\\LEI00038\\AppData\\Local\\Continuum\\anaconda3\\envs\\qc\\lib\\site-packages\\sklearn\\gaussian_process\\_gpr.py:370: UserWarning: Predicted variances smaller than 0. Setting those variances to 0.\n",
      "  warnings.warn(\"Predicted variances smaller than 0. \"\n",
      "C:\\Users\\LEI00038\\AppData\\Local\\Continuum\\anaconda3\\envs\\qc\\lib\\site-packages\\scipy\\stats\\_distn_infrastructure.py:1844: RuntimeWarning: divide by zero encountered in true_divide\n",
      "  x = np.asarray((x - loc)/scale, dtype=dtyp)\n",
      "C:\\Users\\LEI00038\\AppData\\Local\\Continuum\\anaconda3\\envs\\qc\\lib\\site-packages\\scipy\\stats\\_distn_infrastructure.py:1760: RuntimeWarning: divide by zero encountered in true_divide\n",
      "  x = np.asarray((x - loc)/scale, dtype=dtyp)\n",
      "C:\\Users\\LEI00038\\AppData\\Local\\Continuum\\anaconda3\\envs\\qc\\lib\\site-packages\\scipy\\stats\\_distn_infrastructure.py:1760: RuntimeWarning: invalid value encountered in true_divide\n",
      "  x = np.asarray((x - loc)/scale, dtype=dtyp)\n",
      "C:\\Users\\LEI00038\\AppData\\Local\\Continuum\\anaconda3\\envs\\qc\\lib\\site-packages\\scipy\\stats\\_distn_infrastructure.py:1844: RuntimeWarning: invalid value encountered in true_divide\n",
      "  x = np.asarray((x - loc)/scale, dtype=dtyp)\n",
      "C:\\Users\\LEI00038\\AppData\\Local\\Continuum\\anaconda3\\envs\\qc\\lib\\site-packages\\scipy\\stats\\_distn_infrastructure.py:1847: RuntimeWarning: invalid value encountered in greater_equal\n",
      "  cond2 = (x >= np.asarray(_b)) & cond0\n"
     ]
    },
    {
     "name": "stdout",
     "output_type": "stream",
     "text": [
      "(1.1540544441758422, 2.821021974652059)\n",
      "(1.9875382094139507, 1.0258261726007487)\n"
     ]
    },
    {
     "name": "stderr",
     "output_type": "stream",
     "text": [
      "<ipython-input-10-ae0d514ecb2a>:14: ConvergenceWarning: lbfgs failed to converge (status=2):\n",
      "ABNORMAL_TERMINATION_IN_LNSRCH.\n",
      "\n",
      "Increase the number of iterations (max_iter) or scale the data as shown in:\n",
      "    https://scikit-learn.org/stable/modules/preprocessing.html\n",
      "  _check_optimize_result(\"lbfgs\", opt_res)\n",
      "C:\\Users\\LEI00038\\AppData\\Local\\Continuum\\anaconda3\\envs\\qc\\lib\\site-packages\\sklearn\\gaussian_process\\_gpr.py:370: UserWarning: Predicted variances smaller than 0. Setting those variances to 0.\n",
      "  warnings.warn(\"Predicted variances smaller than 0. \"\n",
      "C:\\Users\\LEI00038\\AppData\\Local\\Continuum\\anaconda3\\envs\\qc\\lib\\site-packages\\scipy\\stats\\_distn_infrastructure.py:1844: RuntimeWarning: divide by zero encountered in true_divide\n",
      "  x = np.asarray((x - loc)/scale, dtype=dtyp)\n",
      "C:\\Users\\LEI00038\\AppData\\Local\\Continuum\\anaconda3\\envs\\qc\\lib\\site-packages\\scipy\\stats\\_distn_infrastructure.py:1760: RuntimeWarning: divide by zero encountered in true_divide\n",
      "  x = np.asarray((x - loc)/scale, dtype=dtyp)\n"
     ]
    },
    {
     "name": "stdout",
     "output_type": "stream",
     "text": [
      "(0.5129130863003744, 2.3081088883516845)\n"
     ]
    },
    {
     "name": "stderr",
     "output_type": "stream",
     "text": [
      "<ipython-input-10-ae0d514ecb2a>:14: ConvergenceWarning: lbfgs failed to converge (status=2):\n",
      "ABNORMAL_TERMINATION_IN_LNSRCH.\n",
      "\n",
      "Increase the number of iterations (max_iter) or scale the data as shown in:\n",
      "    https://scikit-learn.org/stable/modules/preprocessing.html\n",
      "  _check_optimize_result(\"lbfgs\", opt_res)\n"
     ]
    },
    {
     "name": "stdout",
     "output_type": "stream",
     "text": [
      "(0.6411413578754679, 0.8334837652381083)\n"
     ]
    },
    {
     "name": "stderr",
     "output_type": "stream",
     "text": [
      "<ipython-input-10-ae0d514ecb2a>:14: ConvergenceWarning: lbfgs failed to converge (status=2):\n",
      "ABNORMAL_TERMINATION_IN_LNSRCH.\n",
      "\n",
      "Increase the number of iterations (max_iter) or scale the data as shown in:\n",
      "    https://scikit-learn.org/stable/modules/preprocessing.html\n",
      "  _check_optimize_result(\"lbfgs\", opt_res)\n",
      "C:\\Users\\LEI00038\\AppData\\Local\\Continuum\\anaconda3\\envs\\qc\\lib\\site-packages\\sklearn\\gaussian_process\\_gpr.py:370: UserWarning: Predicted variances smaller than 0. Setting those variances to 0.\n",
      "  warnings.warn(\"Predicted variances smaller than 0. \"\n",
      "C:\\Users\\LEI00038\\AppData\\Local\\Continuum\\anaconda3\\envs\\qc\\lib\\site-packages\\scipy\\stats\\_distn_infrastructure.py:1844: RuntimeWarning: divide by zero encountered in true_divide\n",
      "  x = np.asarray((x - loc)/scale, dtype=dtyp)\n",
      "C:\\Users\\LEI00038\\AppData\\Local\\Continuum\\anaconda3\\envs\\qc\\lib\\site-packages\\scipy\\stats\\_distn_infrastructure.py:1760: RuntimeWarning: divide by zero encountered in true_divide\n",
      "  x = np.asarray((x - loc)/scale, dtype=dtyp)\n"
     ]
    },
    {
     "name": "stdout",
     "output_type": "stream",
     "text": [
      "(0.5129130863003744, 2.3081088883516845)\n"
     ]
    },
    {
     "name": "stderr",
     "output_type": "stream",
     "text": [
      "<ipython-input-10-ae0d514ecb2a>:14: ConvergenceWarning: lbfgs failed to converge (status=2):\n",
      "ABNORMAL_TERMINATION_IN_LNSRCH.\n",
      "\n",
      "Increase the number of iterations (max_iter) or scale the data as shown in:\n",
      "    https://scikit-learn.org/stable/modules/preprocessing.html\n",
      "  _check_optimize_result(\"lbfgs\", opt_res)\n",
      "C:\\Users\\LEI00038\\AppData\\Local\\Continuum\\anaconda3\\envs\\qc\\lib\\site-packages\\sklearn\\gaussian_process\\_gpr.py:370: UserWarning: Predicted variances smaller than 0. Setting those variances to 0.\n",
      "  warnings.warn(\"Predicted variances smaller than 0. \"\n",
      "C:\\Users\\LEI00038\\AppData\\Local\\Continuum\\anaconda3\\envs\\qc\\lib\\site-packages\\scipy\\stats\\_distn_infrastructure.py:1844: RuntimeWarning: divide by zero encountered in true_divide\n",
      "  x = np.asarray((x - loc)/scale, dtype=dtyp)\n",
      "C:\\Users\\LEI00038\\AppData\\Local\\Continuum\\anaconda3\\envs\\qc\\lib\\site-packages\\scipy\\stats\\_distn_infrastructure.py:1760: RuntimeWarning: divide by zero encountered in true_divide\n",
      "  x = np.asarray((x - loc)/scale, dtype=dtyp)\n"
     ]
    },
    {
     "name": "stdout",
     "output_type": "stream",
     "text": [
      "(1.1540544441758422, 2.821021974652059)\n"
     ]
    },
    {
     "name": "stderr",
     "output_type": "stream",
     "text": [
      "<ipython-input-10-ae0d514ecb2a>:14: ConvergenceWarning: lbfgs failed to converge (status=2):\n",
      "ABNORMAL_TERMINATION_IN_LNSRCH.\n",
      "\n",
      "Increase the number of iterations (max_iter) or scale the data as shown in:\n",
      "    https://scikit-learn.org/stable/modules/preprocessing.html\n",
      "  _check_optimize_result(\"lbfgs\", opt_res)\n",
      "C:\\Users\\LEI00038\\AppData\\Local\\Continuum\\anaconda3\\envs\\qc\\lib\\site-packages\\sklearn\\gaussian_process\\_gpr.py:370: UserWarning: Predicted variances smaller than 0. Setting those variances to 0.\n",
      "  warnings.warn(\"Predicted variances smaller than 0. \"\n",
      "C:\\Users\\LEI00038\\AppData\\Local\\Continuum\\anaconda3\\envs\\qc\\lib\\site-packages\\scipy\\stats\\_distn_infrastructure.py:1844: RuntimeWarning: divide by zero encountered in true_divide\n",
      "  x = np.asarray((x - loc)/scale, dtype=dtyp)\n",
      "C:\\Users\\LEI00038\\AppData\\Local\\Continuum\\anaconda3\\envs\\qc\\lib\\site-packages\\scipy\\stats\\_distn_infrastructure.py:1760: RuntimeWarning: divide by zero encountered in true_divide\n",
      "  x = np.asarray((x - loc)/scale, dtype=dtyp)\n"
     ]
    },
    {
     "name": "stdout",
     "output_type": "stream",
     "text": [
      "(1.0258261726007487, 2.756907838864512)\n"
     ]
    },
    {
     "name": "stderr",
     "output_type": "stream",
     "text": [
      "<ipython-input-10-ae0d514ecb2a>:14: ConvergenceWarning: lbfgs failed to converge (status=2):\n",
      "ABNORMAL_TERMINATION_IN_LNSRCH.\n",
      "\n",
      "Increase the number of iterations (max_iter) or scale the data as shown in:\n",
      "    https://scikit-learn.org/stable/modules/preprocessing.html\n",
      "  _check_optimize_result(\"lbfgs\", opt_res)\n",
      "C:\\Users\\LEI00038\\AppData\\Local\\Continuum\\anaconda3\\envs\\qc\\lib\\site-packages\\sklearn\\gaussian_process\\_gpr.py:370: UserWarning: Predicted variances smaller than 0. Setting those variances to 0.\n",
      "  warnings.warn(\"Predicted variances smaller than 0. \"\n",
      "C:\\Users\\LEI00038\\AppData\\Local\\Continuum\\anaconda3\\envs\\qc\\lib\\site-packages\\scipy\\stats\\_distn_infrastructure.py:1844: RuntimeWarning: divide by zero encountered in true_divide\n",
      "  x = np.asarray((x - loc)/scale, dtype=dtyp)\n",
      "C:\\Users\\LEI00038\\AppData\\Local\\Continuum\\anaconda3\\envs\\qc\\lib\\site-packages\\scipy\\stats\\_distn_infrastructure.py:1760: RuntimeWarning: divide by zero encountered in true_divide\n",
      "  x = np.asarray((x - loc)/scale, dtype=dtyp)\n"
     ]
    },
    {
     "name": "stdout",
     "output_type": "stream",
     "text": [
      "(1.538739258901123, 2.6286795672894185)\n"
     ]
    },
    {
     "name": "stderr",
     "output_type": "stream",
     "text": [
      "<ipython-input-10-ae0d514ecb2a>:14: ConvergenceWarning: lbfgs failed to converge (status=2):\n",
      "ABNORMAL_TERMINATION_IN_LNSRCH.\n",
      "\n",
      "Increase the number of iterations (max_iter) or scale the data as shown in:\n",
      "    https://scikit-learn.org/stable/modules/preprocessing.html\n",
      "  _check_optimize_result(\"lbfgs\", opt_res)\n",
      "C:\\Users\\LEI00038\\AppData\\Local\\Continuum\\anaconda3\\envs\\qc\\lib\\site-packages\\sklearn\\gaussian_process\\_gpr.py:370: UserWarning: Predicted variances smaller than 0. Setting those variances to 0.\n",
      "  warnings.warn(\"Predicted variances smaller than 0. \"\n",
      "C:\\Users\\LEI00038\\AppData\\Local\\Continuum\\anaconda3\\envs\\qc\\lib\\site-packages\\scipy\\stats\\_distn_infrastructure.py:1844: RuntimeWarning: divide by zero encountered in true_divide\n",
      "  x = np.asarray((x - loc)/scale, dtype=dtyp)\n",
      "C:\\Users\\LEI00038\\AppData\\Local\\Continuum\\anaconda3\\envs\\qc\\lib\\site-packages\\scipy\\stats\\_distn_infrastructure.py:1760: RuntimeWarning: divide by zero encountered in true_divide\n",
      "  x = np.asarray((x - loc)/scale, dtype=dtyp)\n",
      "C:\\Users\\LEI00038\\AppData\\Local\\Continuum\\anaconda3\\envs\\qc\\lib\\site-packages\\scipy\\stats\\_distn_infrastructure.py:1760: RuntimeWarning: invalid value encountered in true_divide\n",
      "  x = np.asarray((x - loc)/scale, dtype=dtyp)\n",
      "C:\\Users\\LEI00038\\AppData\\Local\\Continuum\\anaconda3\\envs\\qc\\lib\\site-packages\\scipy\\stats\\_distn_infrastructure.py:1844: RuntimeWarning: invalid value encountered in true_divide\n",
      "  x = np.asarray((x - loc)/scale, dtype=dtyp)\n",
      "C:\\Users\\LEI00038\\AppData\\Local\\Continuum\\anaconda3\\envs\\qc\\lib\\site-packages\\scipy\\stats\\_distn_infrastructure.py:1847: RuntimeWarning: invalid value encountered in greater_equal\n",
      "  cond2 = (x >= np.asarray(_b)) & cond0\n"
     ]
    },
    {
     "name": "stdout",
     "output_type": "stream",
     "text": [
      "(1.3463968515384828, 2.821021974652059)\n"
     ]
    },
    {
     "name": "stderr",
     "output_type": "stream",
     "text": [
      "<ipython-input-10-ae0d514ecb2a>:14: ConvergenceWarning: lbfgs failed to converge (status=2):\n",
      "ABNORMAL_TERMINATION_IN_LNSRCH.\n",
      "\n",
      "Increase the number of iterations (max_iter) or scale the data as shown in:\n",
      "    https://scikit-learn.org/stable/modules/preprocessing.html\n",
      "  _check_optimize_result(\"lbfgs\", opt_res)\n",
      "C:\\Users\\LEI00038\\AppData\\Local\\Continuum\\anaconda3\\envs\\qc\\lib\\site-packages\\sklearn\\gaussian_process\\_gpr.py:370: UserWarning: Predicted variances smaller than 0. Setting those variances to 0.\n",
      "  warnings.warn(\"Predicted variances smaller than 0. \"\n",
      "C:\\Users\\LEI00038\\AppData\\Local\\Continuum\\anaconda3\\envs\\qc\\lib\\site-packages\\scipy\\stats\\_distn_infrastructure.py:1844: RuntimeWarning: divide by zero encountered in true_divide\n",
      "  x = np.asarray((x - loc)/scale, dtype=dtyp)\n",
      "C:\\Users\\LEI00038\\AppData\\Local\\Continuum\\anaconda3\\envs\\qc\\lib\\site-packages\\scipy\\stats\\_distn_infrastructure.py:1760: RuntimeWarning: divide by zero encountered in true_divide\n",
      "  x = np.asarray((x - loc)/scale, dtype=dtyp)\n"
     ]
    },
    {
     "name": "stdout",
     "output_type": "stream",
     "text": [
      "(1.1540544441758422, 2.436337159926778)\n"
     ]
    },
    {
     "name": "stderr",
     "output_type": "stream",
     "text": [
      "<ipython-input-10-ae0d514ecb2a>:14: ConvergenceWarning: lbfgs failed to converge (status=2):\n",
      "ABNORMAL_TERMINATION_IN_LNSRCH.\n",
      "\n",
      "Increase the number of iterations (max_iter) or scale the data as shown in:\n",
      "    https://scikit-learn.org/stable/modules/preprocessing.html\n",
      "  _check_optimize_result(\"lbfgs\", opt_res)\n",
      "C:\\Users\\LEI00038\\AppData\\Local\\Continuum\\anaconda3\\envs\\qc\\lib\\site-packages\\sklearn\\gaussian_process\\_gpr.py:370: UserWarning: Predicted variances smaller than 0. Setting those variances to 0.\n",
      "  warnings.warn(\"Predicted variances smaller than 0. \"\n",
      "C:\\Users\\LEI00038\\AppData\\Local\\Continuum\\anaconda3\\envs\\qc\\lib\\site-packages\\scipy\\stats\\_distn_infrastructure.py:1844: RuntimeWarning: divide by zero encountered in true_divide\n",
      "  x = np.asarray((x - loc)/scale, dtype=dtyp)\n",
      "C:\\Users\\LEI00038\\AppData\\Local\\Continuum\\anaconda3\\envs\\qc\\lib\\site-packages\\scipy\\stats\\_distn_infrastructure.py:1760: RuntimeWarning: divide by zero encountered in true_divide\n",
      "  x = np.asarray((x - loc)/scale, dtype=dtyp)\n",
      "C:\\Users\\LEI00038\\AppData\\Local\\Continuum\\anaconda3\\envs\\qc\\lib\\site-packages\\scipy\\stats\\_distn_infrastructure.py:1760: RuntimeWarning: invalid value encountered in true_divide\n",
      "  x = np.asarray((x - loc)/scale, dtype=dtyp)\n",
      "C:\\Users\\LEI00038\\AppData\\Local\\Continuum\\anaconda3\\envs\\qc\\lib\\site-packages\\scipy\\stats\\_distn_infrastructure.py:1844: RuntimeWarning: invalid value encountered in true_divide\n",
      "  x = np.asarray((x - loc)/scale, dtype=dtyp)\n",
      "C:\\Users\\LEI00038\\AppData\\Local\\Continuum\\anaconda3\\envs\\qc\\lib\\site-packages\\scipy\\stats\\_distn_infrastructure.py:1847: RuntimeWarning: invalid value encountered in greater_equal\n",
      "  cond2 = (x >= np.asarray(_b)) & cond0\n"
     ]
    },
    {
     "name": "stdout",
     "output_type": "stream",
     "text": [
      "(1.4105109873260295, 2.756907838864512)\n"
     ]
    },
    {
     "name": "stderr",
     "output_type": "stream",
     "text": [
      "<ipython-input-10-ae0d514ecb2a>:14: ConvergenceWarning: lbfgs failed to converge (status=2):\n",
      "ABNORMAL_TERMINATION_IN_LNSRCH.\n",
      "\n",
      "Increase the number of iterations (max_iter) or scale the data as shown in:\n",
      "    https://scikit-learn.org/stable/modules/preprocessing.html\n",
      "  _check_optimize_result(\"lbfgs\", opt_res)\n"
     ]
    },
    {
     "name": "stdout",
     "output_type": "stream",
     "text": [
      "(2.3722230241392315, 2.3722230241392315)\n"
     ]
    },
    {
     "name": "stderr",
     "output_type": "stream",
     "text": [
      "<ipython-input-10-ae0d514ecb2a>:14: ConvergenceWarning: lbfgs failed to converge (status=2):\n",
      "ABNORMAL_TERMINATION_IN_LNSRCH.\n",
      "\n",
      "Increase the number of iterations (max_iter) or scale the data as shown in:\n",
      "    https://scikit-learn.org/stable/modules/preprocessing.html\n",
      "  _check_optimize_result(\"lbfgs\", opt_res)\n"
     ]
    },
    {
     "name": "stdout",
     "output_type": "stream",
     "text": [
      "(1.0258261726007487, 0.7693696294505615)\n"
     ]
    },
    {
     "name": "stderr",
     "output_type": "stream",
     "text": [
      "<ipython-input-10-ae0d514ecb2a>:14: ConvergenceWarning: lbfgs failed to converge (status=2):\n",
      "ABNORMAL_TERMINATION_IN_LNSRCH.\n",
      "\n",
      "Increase the number of iterations (max_iter) or scale the data as shown in:\n",
      "    https://scikit-learn.org/stable/modules/preprocessing.html\n",
      "  _check_optimize_result(\"lbfgs\", opt_res)\n",
      "C:\\Users\\LEI00038\\AppData\\Local\\Continuum\\anaconda3\\envs\\qc\\lib\\site-packages\\sklearn\\gaussian_process\\_gpr.py:370: UserWarning: Predicted variances smaller than 0. Setting those variances to 0.\n",
      "  warnings.warn(\"Predicted variances smaller than 0. \"\n",
      "C:\\Users\\LEI00038\\AppData\\Local\\Continuum\\anaconda3\\envs\\qc\\lib\\site-packages\\scipy\\stats\\_distn_infrastructure.py:1844: RuntimeWarning: divide by zero encountered in true_divide\n",
      "  x = np.asarray((x - loc)/scale, dtype=dtyp)\n",
      "C:\\Users\\LEI00038\\AppData\\Local\\Continuum\\anaconda3\\envs\\qc\\lib\\site-packages\\scipy\\stats\\_distn_infrastructure.py:1760: RuntimeWarning: divide by zero encountered in true_divide\n",
      "  x = np.asarray((x - loc)/scale, dtype=dtyp)\n"
     ]
    },
    {
     "name": "stdout",
     "output_type": "stream",
     "text": [
      "(0.9617120368132019, 2.6927937030769655)\n"
     ]
    },
    {
     "name": "stderr",
     "output_type": "stream",
     "text": [
      "<ipython-input-10-ae0d514ecb2a>:14: ConvergenceWarning: lbfgs failed to converge (status=2):\n",
      "ABNORMAL_TERMINATION_IN_LNSRCH.\n",
      "\n",
      "Increase the number of iterations (max_iter) or scale the data as shown in:\n",
      "    https://scikit-learn.org/stable/modules/preprocessing.html\n",
      "  _check_optimize_result(\"lbfgs\", opt_res)\n"
     ]
    },
    {
     "name": "stdout",
     "output_type": "stream",
     "text": [
      "(0.38468481472528077, 1.1540544441758422)\n"
     ]
    },
    {
     "name": "stderr",
     "output_type": "stream",
     "text": [
      "<ipython-input-10-ae0d514ecb2a>:14: ConvergenceWarning: lbfgs failed to converge (status=2):\n",
      "ABNORMAL_TERMINATION_IN_LNSRCH.\n",
      "\n",
      "Increase the number of iterations (max_iter) or scale the data as shown in:\n",
      "    https://scikit-learn.org/stable/modules/preprocessing.html\n",
      "  _check_optimize_result(\"lbfgs\", opt_res)\n"
     ]
    },
    {
     "name": "stdout",
     "output_type": "stream",
     "text": [
      "(2.436337159926778, 2.436337159926778)\n"
     ]
    },
    {
     "name": "stderr",
     "output_type": "stream",
     "text": [
      "<ipython-input-10-ae0d514ecb2a>:14: ConvergenceWarning: lbfgs failed to converge (status=2):\n",
      "ABNORMAL_TERMINATION_IN_LNSRCH.\n",
      "\n",
      "Increase the number of iterations (max_iter) or scale the data as shown in:\n",
      "    https://scikit-learn.org/stable/modules/preprocessing.html\n",
      "  _check_optimize_result(\"lbfgs\", opt_res)\n",
      "C:\\Users\\LEI00038\\AppData\\Local\\Continuum\\anaconda3\\envs\\qc\\lib\\site-packages\\sklearn\\gaussian_process\\_gpr.py:370: UserWarning: Predicted variances smaller than 0. Setting those variances to 0.\n",
      "  warnings.warn(\"Predicted variances smaller than 0. \"\n",
      "C:\\Users\\LEI00038\\AppData\\Local\\Continuum\\anaconda3\\envs\\qc\\lib\\site-packages\\scipy\\stats\\_distn_infrastructure.py:1844: RuntimeWarning: divide by zero encountered in true_divide\n",
      "  x = np.asarray((x - loc)/scale, dtype=dtyp)\n",
      "C:\\Users\\LEI00038\\AppData\\Local\\Continuum\\anaconda3\\envs\\qc\\lib\\site-packages\\scipy\\stats\\_distn_infrastructure.py:1760: RuntimeWarning: divide by zero encountered in true_divide\n",
      "  x = np.asarray((x - loc)/scale, dtype=dtyp)\n"
     ]
    },
    {
     "name": "stdout",
     "output_type": "stream",
     "text": [
      "(0.38468481472528077, 1.1540544441758422)\n"
     ]
    },
    {
     "name": "stderr",
     "output_type": "stream",
     "text": [
      "<ipython-input-10-ae0d514ecb2a>:14: ConvergenceWarning: lbfgs failed to converge (status=2):\n",
      "ABNORMAL_TERMINATION_IN_LNSRCH.\n",
      "\n",
      "Increase the number of iterations (max_iter) or scale the data as shown in:\n",
      "    https://scikit-learn.org/stable/modules/preprocessing.html\n",
      "  _check_optimize_result(\"lbfgs\", opt_res)\n",
      "C:\\Users\\LEI00038\\AppData\\Local\\Continuum\\anaconda3\\envs\\qc\\lib\\site-packages\\sklearn\\gaussian_process\\_gpr.py:370: UserWarning: Predicted variances smaller than 0. Setting those variances to 0.\n",
      "  warnings.warn(\"Predicted variances smaller than 0. \"\n",
      "C:\\Users\\LEI00038\\AppData\\Local\\Continuum\\anaconda3\\envs\\qc\\lib\\site-packages\\scipy\\stats\\_distn_infrastructure.py:1844: RuntimeWarning: divide by zero encountered in true_divide\n",
      "  x = np.asarray((x - loc)/scale, dtype=dtyp)\n",
      "C:\\Users\\LEI00038\\AppData\\Local\\Continuum\\anaconda3\\envs\\qc\\lib\\site-packages\\scipy\\stats\\_distn_infrastructure.py:1760: RuntimeWarning: divide by zero encountered in true_divide\n",
      "  x = np.asarray((x - loc)/scale, dtype=dtyp)\n",
      "C:\\Users\\LEI00038\\AppData\\Local\\Continuum\\anaconda3\\envs\\qc\\lib\\site-packages\\scipy\\stats\\_distn_infrastructure.py:1760: RuntimeWarning: invalid value encountered in true_divide\n",
      "  x = np.asarray((x - loc)/scale, dtype=dtyp)\n",
      "C:\\Users\\LEI00038\\AppData\\Local\\Continuum\\anaconda3\\envs\\qc\\lib\\site-packages\\scipy\\stats\\_distn_infrastructure.py:1844: RuntimeWarning: invalid value encountered in true_divide\n",
      "  x = np.asarray((x - loc)/scale, dtype=dtyp)\n",
      "C:\\Users\\LEI00038\\AppData\\Local\\Continuum\\anaconda3\\envs\\qc\\lib\\site-packages\\scipy\\stats\\_distn_infrastructure.py:1847: RuntimeWarning: invalid value encountered in greater_equal\n",
      "  cond2 = (x >= np.asarray(_b)) & cond0\n"
     ]
    },
    {
     "name": "stdout",
     "output_type": "stream",
     "text": [
      "(0.5129130863003744, 2.3081088883516845)\n"
     ]
    },
    {
     "name": "stderr",
     "output_type": "stream",
     "text": [
      "<ipython-input-10-ae0d514ecb2a>:14: ConvergenceWarning: lbfgs failed to converge (status=2):\n",
      "ABNORMAL_TERMINATION_IN_LNSRCH.\n",
      "\n",
      "Increase the number of iterations (max_iter) or scale the data as shown in:\n",
      "    https://scikit-learn.org/stable/modules/preprocessing.html\n",
      "  _check_optimize_result(\"lbfgs\", opt_res)\n",
      "C:\\Users\\LEI00038\\AppData\\Local\\Continuum\\anaconda3\\envs\\qc\\lib\\site-packages\\sklearn\\gaussian_process\\_gpr.py:370: UserWarning: Predicted variances smaller than 0. Setting those variances to 0.\n",
      "  warnings.warn(\"Predicted variances smaller than 0. \"\n",
      "C:\\Users\\LEI00038\\AppData\\Local\\Continuum\\anaconda3\\envs\\qc\\lib\\site-packages\\scipy\\stats\\_distn_infrastructure.py:1844: RuntimeWarning: divide by zero encountered in true_divide\n",
      "  x = np.asarray((x - loc)/scale, dtype=dtyp)\n",
      "C:\\Users\\LEI00038\\AppData\\Local\\Continuum\\anaconda3\\envs\\qc\\lib\\site-packages\\scipy\\stats\\_distn_infrastructure.py:1760: RuntimeWarning: divide by zero encountered in true_divide\n",
      "  x = np.asarray((x - loc)/scale, dtype=dtyp)\n",
      "C:\\Users\\LEI00038\\AppData\\Local\\Continuum\\anaconda3\\envs\\qc\\lib\\site-packages\\scipy\\stats\\_distn_infrastructure.py:1760: RuntimeWarning: invalid value encountered in true_divide\n",
      "  x = np.asarray((x - loc)/scale, dtype=dtyp)\n",
      "C:\\Users\\LEI00038\\AppData\\Local\\Continuum\\anaconda3\\envs\\qc\\lib\\site-packages\\scipy\\stats\\_distn_infrastructure.py:1844: RuntimeWarning: invalid value encountered in true_divide\n",
      "  x = np.asarray((x - loc)/scale, dtype=dtyp)\n",
      "C:\\Users\\LEI00038\\AppData\\Local\\Continuum\\anaconda3\\envs\\qc\\lib\\site-packages\\scipy\\stats\\_distn_infrastructure.py:1847: RuntimeWarning: invalid value encountered in greater_equal\n",
      "  cond2 = (x >= np.asarray(_b)) & cond0\n"
     ]
    },
    {
     "name": "stdout",
     "output_type": "stream",
     "text": [
      "(0.5129130863003744, 2.3081088883516845)\n"
     ]
    },
    {
     "name": "stderr",
     "output_type": "stream",
     "text": [
      "<ipython-input-10-ae0d514ecb2a>:14: ConvergenceWarning: lbfgs failed to converge (status=2):\n",
      "ABNORMAL_TERMINATION_IN_LNSRCH.\n",
      "\n",
      "Increase the number of iterations (max_iter) or scale the data as shown in:\n",
      "    https://scikit-learn.org/stable/modules/preprocessing.html\n",
      "  _check_optimize_result(\"lbfgs\", opt_res)\n",
      "C:\\Users\\LEI00038\\AppData\\Local\\Continuum\\anaconda3\\envs\\qc\\lib\\site-packages\\sklearn\\gaussian_process\\_gpr.py:370: UserWarning: Predicted variances smaller than 0. Setting those variances to 0.\n",
      "  warnings.warn(\"Predicted variances smaller than 0. \"\n",
      "C:\\Users\\LEI00038\\AppData\\Local\\Continuum\\anaconda3\\envs\\qc\\lib\\site-packages\\scipy\\stats\\_distn_infrastructure.py:1844: RuntimeWarning: divide by zero encountered in true_divide\n",
      "  x = np.asarray((x - loc)/scale, dtype=dtyp)\n",
      "C:\\Users\\LEI00038\\AppData\\Local\\Continuum\\anaconda3\\envs\\qc\\lib\\site-packages\\scipy\\stats\\_distn_infrastructure.py:1760: RuntimeWarning: divide by zero encountered in true_divide\n",
      "  x = np.asarray((x - loc)/scale, dtype=dtyp)\n"
     ]
    },
    {
     "name": "stdout",
     "output_type": "stream",
     "text": [
      "(1.0258261726007487, 2.756907838864512)\n"
     ]
    },
    {
     "name": "stderr",
     "output_type": "stream",
     "text": [
      "<ipython-input-10-ae0d514ecb2a>:14: ConvergenceWarning: lbfgs failed to converge (status=2):\n",
      "ABNORMAL_TERMINATION_IN_LNSRCH.\n",
      "\n",
      "Increase the number of iterations (max_iter) or scale the data as shown in:\n",
      "    https://scikit-learn.org/stable/modules/preprocessing.html\n",
      "  _check_optimize_result(\"lbfgs\", opt_res)\n",
      "C:\\Users\\LEI00038\\AppData\\Local\\Continuum\\anaconda3\\envs\\qc\\lib\\site-packages\\sklearn\\gaussian_process\\_gpr.py:370: UserWarning: Predicted variances smaller than 0. Setting those variances to 0.\n",
      "  warnings.warn(\"Predicted variances smaller than 0. \"\n",
      "C:\\Users\\LEI00038\\AppData\\Local\\Continuum\\anaconda3\\envs\\qc\\lib\\site-packages\\scipy\\stats\\_distn_infrastructure.py:1844: RuntimeWarning: divide by zero encountered in true_divide\n",
      "  x = np.asarray((x - loc)/scale, dtype=dtyp)\n",
      "C:\\Users\\LEI00038\\AppData\\Local\\Continuum\\anaconda3\\envs\\qc\\lib\\site-packages\\scipy\\stats\\_distn_infrastructure.py:1760: RuntimeWarning: divide by zero encountered in true_divide\n",
      "  x = np.asarray((x - loc)/scale, dtype=dtyp)\n",
      "C:\\Users\\LEI00038\\AppData\\Local\\Continuum\\anaconda3\\envs\\qc\\lib\\site-packages\\scipy\\stats\\_distn_infrastructure.py:1760: RuntimeWarning: invalid value encountered in true_divide\n",
      "  x = np.asarray((x - loc)/scale, dtype=dtyp)\n",
      "C:\\Users\\LEI00038\\AppData\\Local\\Continuum\\anaconda3\\envs\\qc\\lib\\site-packages\\scipy\\stats\\_distn_infrastructure.py:1844: RuntimeWarning: invalid value encountered in true_divide\n",
      "  x = np.asarray((x - loc)/scale, dtype=dtyp)\n",
      "C:\\Users\\LEI00038\\AppData\\Local\\Continuum\\anaconda3\\envs\\qc\\lib\\site-packages\\scipy\\stats\\_distn_infrastructure.py:1847: RuntimeWarning: invalid value encountered in greater_equal\n",
      "  cond2 = (x >= np.asarray(_b)) & cond0\n"
     ]
    },
    {
     "name": "stdout",
     "output_type": "stream",
     "text": [
      "(0.5129130863003744, 2.3081088883516845)\n"
     ]
    },
    {
     "name": "stderr",
     "output_type": "stream",
     "text": [
      "<ipython-input-10-ae0d514ecb2a>:14: ConvergenceWarning: lbfgs failed to converge (status=2):\n",
      "ABNORMAL_TERMINATION_IN_LNSRCH.\n",
      "\n",
      "Increase the number of iterations (max_iter) or scale the data as shown in:\n",
      "    https://scikit-learn.org/stable/modules/preprocessing.html\n",
      "  _check_optimize_result(\"lbfgs\", opt_res)\n",
      "C:\\Users\\LEI00038\\AppData\\Local\\Continuum\\anaconda3\\envs\\qc\\lib\\site-packages\\sklearn\\gaussian_process\\_gpr.py:370: UserWarning: Predicted variances smaller than 0. Setting those variances to 0.\n",
      "  warnings.warn(\"Predicted variances smaller than 0. \"\n",
      "C:\\Users\\LEI00038\\AppData\\Local\\Continuum\\anaconda3\\envs\\qc\\lib\\site-packages\\scipy\\stats\\_distn_infrastructure.py:1844: RuntimeWarning: divide by zero encountered in true_divide\n",
      "  x = np.asarray((x - loc)/scale, dtype=dtyp)\n",
      "C:\\Users\\LEI00038\\AppData\\Local\\Continuum\\anaconda3\\envs\\qc\\lib\\site-packages\\scipy\\stats\\_distn_infrastructure.py:1760: RuntimeWarning: divide by zero encountered in true_divide\n",
      "  x = np.asarray((x - loc)/scale, dtype=dtyp)\n"
     ]
    },
    {
     "name": "stdout",
     "output_type": "stream",
     "text": [
      "(0.5129130863003744, 2.3081088883516845)\n"
     ]
    },
    {
     "name": "stderr",
     "output_type": "stream",
     "text": [
      "<ipython-input-10-ae0d514ecb2a>:14: ConvergenceWarning: lbfgs failed to converge (status=2):\n",
      "ABNORMAL_TERMINATION_IN_LNSRCH.\n",
      "\n",
      "Increase the number of iterations (max_iter) or scale the data as shown in:\n",
      "    https://scikit-learn.org/stable/modules/preprocessing.html\n",
      "  _check_optimize_result(\"lbfgs\", opt_res)\n",
      "C:\\Users\\LEI00038\\AppData\\Local\\Continuum\\anaconda3\\envs\\qc\\lib\\site-packages\\sklearn\\gaussian_process\\_gpr.py:370: UserWarning: Predicted variances smaller than 0. Setting those variances to 0.\n",
      "  warnings.warn(\"Predicted variances smaller than 0. \"\n",
      "C:\\Users\\LEI00038\\AppData\\Local\\Continuum\\anaconda3\\envs\\qc\\lib\\site-packages\\scipy\\stats\\_distn_infrastructure.py:1844: RuntimeWarning: divide by zero encountered in true_divide\n",
      "  x = np.asarray((x - loc)/scale, dtype=dtyp)\n",
      "C:\\Users\\LEI00038\\AppData\\Local\\Continuum\\anaconda3\\envs\\qc\\lib\\site-packages\\scipy\\stats\\_distn_infrastructure.py:1760: RuntimeWarning: divide by zero encountered in true_divide\n",
      "  x = np.asarray((x - loc)/scale, dtype=dtyp)\n"
     ]
    },
    {
     "name": "stdout",
     "output_type": "stream",
     "text": [
      "(0.2564565431501872, 1.0899403083882955)\n"
     ]
    },
    {
     "name": "stderr",
     "output_type": "stream",
     "text": [
      "<ipython-input-10-ae0d514ecb2a>:14: ConvergenceWarning: lbfgs failed to converge (status=2):\n",
      "ABNORMAL_TERMINATION_IN_LNSRCH.\n",
      "\n",
      "Increase the number of iterations (max_iter) or scale the data as shown in:\n",
      "    https://scikit-learn.org/stable/modules/preprocessing.html\n",
      "  _check_optimize_result(\"lbfgs\", opt_res)\n",
      "C:\\Users\\LEI00038\\AppData\\Local\\Continuum\\anaconda3\\envs\\qc\\lib\\site-packages\\sklearn\\gaussian_process\\_gpr.py:370: UserWarning: Predicted variances smaller than 0. Setting those variances to 0.\n",
      "  warnings.warn(\"Predicted variances smaller than 0. \"\n",
      "C:\\Users\\LEI00038\\AppData\\Local\\Continuum\\anaconda3\\envs\\qc\\lib\\site-packages\\scipy\\stats\\_distn_infrastructure.py:1844: RuntimeWarning: divide by zero encountered in true_divide\n",
      "  x = np.asarray((x - loc)/scale, dtype=dtyp)\n",
      "C:\\Users\\LEI00038\\AppData\\Local\\Continuum\\anaconda3\\envs\\qc\\lib\\site-packages\\scipy\\stats\\_distn_infrastructure.py:1760: RuntimeWarning: divide by zero encountered in true_divide\n",
      "  x = np.asarray((x - loc)/scale, dtype=dtyp)\n"
     ]
    },
    {
     "name": "stdout",
     "output_type": "stream",
     "text": [
      "(0.38468481472528077, 1.1540544441758422)\n"
     ]
    },
    {
     "name": "stderr",
     "output_type": "stream",
     "text": [
      "<ipython-input-10-ae0d514ecb2a>:14: ConvergenceWarning: lbfgs failed to converge (status=2):\n",
      "ABNORMAL_TERMINATION_IN_LNSRCH.\n",
      "\n",
      "Increase the number of iterations (max_iter) or scale the data as shown in:\n",
      "    https://scikit-learn.org/stable/modules/preprocessing.html\n",
      "  _check_optimize_result(\"lbfgs\", opt_res)\n",
      "C:\\Users\\LEI00038\\AppData\\Local\\Continuum\\anaconda3\\envs\\qc\\lib\\site-packages\\sklearn\\gaussian_process\\_gpr.py:370: UserWarning: Predicted variances smaller than 0. Setting those variances to 0.\n",
      "  warnings.warn(\"Predicted variances smaller than 0. \"\n",
      "C:\\Users\\LEI00038\\AppData\\Local\\Continuum\\anaconda3\\envs\\qc\\lib\\site-packages\\scipy\\stats\\_distn_infrastructure.py:1844: RuntimeWarning: divide by zero encountered in true_divide\n",
      "  x = np.asarray((x - loc)/scale, dtype=dtyp)\n",
      "C:\\Users\\LEI00038\\AppData\\Local\\Continuum\\anaconda3\\envs\\qc\\lib\\site-packages\\scipy\\stats\\_distn_infrastructure.py:1760: RuntimeWarning: divide by zero encountered in true_divide\n",
      "  x = np.asarray((x - loc)/scale, dtype=dtyp)\n"
     ]
    },
    {
     "name": "stdout",
     "output_type": "stream",
     "text": [
      "(0.2564565431501872, 1.0899403083882955)\n"
     ]
    },
    {
     "name": "stderr",
     "output_type": "stream",
     "text": [
      "<ipython-input-10-ae0d514ecb2a>:14: ConvergenceWarning: lbfgs failed to converge (status=2):\n",
      "ABNORMAL_TERMINATION_IN_LNSRCH.\n",
      "\n",
      "Increase the number of iterations (max_iter) or scale the data as shown in:\n",
      "    https://scikit-learn.org/stable/modules/preprocessing.html\n",
      "  _check_optimize_result(\"lbfgs\", opt_res)\n",
      "C:\\Users\\LEI00038\\AppData\\Local\\Continuum\\anaconda3\\envs\\qc\\lib\\site-packages\\sklearn\\gaussian_process\\_gpr.py:370: UserWarning: Predicted variances smaller than 0. Setting those variances to 0.\n",
      "  warnings.warn(\"Predicted variances smaller than 0. \"\n",
      "C:\\Users\\LEI00038\\AppData\\Local\\Continuum\\anaconda3\\envs\\qc\\lib\\site-packages\\scipy\\stats\\_distn_infrastructure.py:1844: RuntimeWarning: divide by zero encountered in true_divide\n",
      "  x = np.asarray((x - loc)/scale, dtype=dtyp)\n",
      "C:\\Users\\LEI00038\\AppData\\Local\\Continuum\\anaconda3\\envs\\qc\\lib\\site-packages\\scipy\\stats\\_distn_infrastructure.py:1760: RuntimeWarning: divide by zero encountered in true_divide\n",
      "  x = np.asarray((x - loc)/scale, dtype=dtyp)\n",
      "C:\\Users\\LEI00038\\AppData\\Local\\Continuum\\anaconda3\\envs\\qc\\lib\\site-packages\\scipy\\stats\\_distn_infrastructure.py:1760: RuntimeWarning: invalid value encountered in true_divide\n",
      "  x = np.asarray((x - loc)/scale, dtype=dtyp)\n",
      "C:\\Users\\LEI00038\\AppData\\Local\\Continuum\\anaconda3\\envs\\qc\\lib\\site-packages\\scipy\\stats\\_distn_infrastructure.py:1844: RuntimeWarning: invalid value encountered in true_divide\n",
      "  x = np.asarray((x - loc)/scale, dtype=dtyp)\n",
      "C:\\Users\\LEI00038\\AppData\\Local\\Continuum\\anaconda3\\envs\\qc\\lib\\site-packages\\scipy\\stats\\_distn_infrastructure.py:1847: RuntimeWarning: invalid value encountered in greater_equal\n",
      "  cond2 = (x >= np.asarray(_b)) & cond0\n"
     ]
    },
    {
     "name": "stdout",
     "output_type": "stream",
     "text": [
      "(0.5129130863003744, 2.3081088883516845)\n"
     ]
    },
    {
     "name": "stderr",
     "output_type": "stream",
     "text": [
      "<ipython-input-10-ae0d514ecb2a>:14: ConvergenceWarning: lbfgs failed to converge (status=2):\n",
      "ABNORMAL_TERMINATION_IN_LNSRCH.\n",
      "\n",
      "Increase the number of iterations (max_iter) or scale the data as shown in:\n",
      "    https://scikit-learn.org/stable/modules/preprocessing.html\n",
      "  _check_optimize_result(\"lbfgs\", opt_res)\n",
      "C:\\Users\\LEI00038\\AppData\\Local\\Continuum\\anaconda3\\envs\\qc\\lib\\site-packages\\sklearn\\gaussian_process\\_gpr.py:370: UserWarning: Predicted variances smaller than 0. Setting those variances to 0.\n",
      "  warnings.warn(\"Predicted variances smaller than 0. \"\n",
      "C:\\Users\\LEI00038\\AppData\\Local\\Continuum\\anaconda3\\envs\\qc\\lib\\site-packages\\scipy\\stats\\_distn_infrastructure.py:1844: RuntimeWarning: divide by zero encountered in true_divide\n",
      "  x = np.asarray((x - loc)/scale, dtype=dtyp)\n",
      "C:\\Users\\LEI00038\\AppData\\Local\\Continuum\\anaconda3\\envs\\qc\\lib\\site-packages\\scipy\\stats\\_distn_infrastructure.py:1760: RuntimeWarning: divide by zero encountered in true_divide\n",
      "  x = np.asarray((x - loc)/scale, dtype=dtyp)\n"
     ]
    },
    {
     "name": "stdout",
     "output_type": "stream",
     "text": [
      "(0.2564565431501872, 1.0899403083882955)\n"
     ]
    },
    {
     "name": "stderr",
     "output_type": "stream",
     "text": [
      "<ipython-input-10-ae0d514ecb2a>:14: ConvergenceWarning: lbfgs failed to converge (status=2):\n",
      "ABNORMAL_TERMINATION_IN_LNSRCH.\n",
      "\n",
      "Increase the number of iterations (max_iter) or scale the data as shown in:\n",
      "    https://scikit-learn.org/stable/modules/preprocessing.html\n",
      "  _check_optimize_result(\"lbfgs\", opt_res)\n"
     ]
    }
   ],
   "source": [
    "from sklearn.gaussian_process import GaussianProcessRegressor\n",
    "from sklearn.gaussian_process.kernels import RBF, ConstantKernel as C\n",
    "from itertools import product\n",
    "from scipy.stats import norm\n",
    "from sklearn.preprocessing import StandardScaler\n",
    "\n",
    "#First create the graph instance\n",
    "create_graph_specific('simple4')\n",
    "\n",
    "#decide acquisition function\n",
    "acq_function = 'EI'\n",
    "N_train = 10\n",
    "N_test = 50 #Number of test elements\n",
    "iterations = 50\n",
    "gamma_extremes = [0,np.pi]  #extremes where to search for the values of gamma and beta\n",
    "beta_extremes = [0, np.pi]\n",
    "\n",
    "#create dataset: We start with N random points\n",
    "X_train = []   #data\n",
    "y_train = []   #label\n",
    "for i in range(N_train):\n",
    "    X = [np.random.uniform()*(gamma_extremes[1]-gamma_extremes[0]), np.random.uniform()*(beta_extremes[1]-beta_extremes[0])]\n",
    "    X_train.append(X)\n",
    "    Y = QAOA(X)\n",
    "    y_train.append(Y)\n",
    "\n",
    "#create gaussian process and fit training data\n",
    "kernel = C(1.0, (1e-3, 1e3)) * RBF(10, (1e-2, 1e2))\n",
    "gp = MyGaussianProcessRegressor(kernel=kernel, n_restarts_optimizer=9, normalize_y = True, max_iter = 50000)\n",
    "gp.fit(X_train, y_train)\n",
    "\n",
    "#At each iteration we calculate the best point where to sample from\n",
    "sample_points = []   #We save every point that was chosen to sample from\n",
    "for i in range(iterations):\n",
    "        # Test GP\n",
    "        new_mean, new_sigma = gp.predict(X_test, return_std=True)\n",
    "        \n",
    "        #New_mean and new_sigma both are (N_test**2, ) arrays not reshaped yet\n",
    "        mean_max = np.max(new_mean)\n",
    "        mean_min = np.min(new_mean)\n",
    "        \n",
    "        \n",
    "        #Now calculate acquisitition fn as the cumulative for every point centered around the maximum\n",
    "        cdf = norm.cdf(x = new_mean, loc =  mean_max, scale = new_sigma)\n",
    "        pdf = norm.pdf(x = new_mean, loc =  mean_min, scale = new_sigma)\n",
    "    \n",
    "        #The qdf is instead the probability of being lower then the lowest value of the mean (where we wanto to pick the next_value)\n",
    "        qdf = 1-norm.cdf(x = new_mean, loc =  mean_min, scale = new_sigma)\n",
    "    \n",
    "        if acq_function == 'PI':\n",
    "            #Next values is calculated as so just because argmax returns a number betwenn 1 and n_test instead of inside the interval\n",
    "            value = np.argmax(qdf)\n",
    "            next_point = X_test[value]\n",
    "            \n",
    "        if acq_function == 'EI':\n",
    "            alpha_function = (new_mean - mean_min - 0.001)*qdf + new_sigma*pdf\n",
    "            #argmax is a number between 0 and N_test**-1 telling us where is the next point to sample\n",
    "            argmax = np.argmax(np.round(alpha_function, 3))\n",
    "            next_point = X_test[argmax]\n",
    "        \n",
    "        print(next_point)\n",
    "        X_train.append(next_point)\n",
    "        y_next_point = QAOA(next_point)\n",
    "        y_train.append(y_next_point)\n",
    "        gp.fit(X_train, y_train)\n",
    "        sample_points.append(next_point)"
   ]
  },
  {
   "cell_type": "code",
   "execution_count": null,
   "metadata": {},
   "outputs": [],
   "source": [
    "plt.title('Approximation with Bayes, random points')\n",
    "sample_points = np.array(sample_points)\n",
    "plt.scatter(sample_points[:,0], sample_points[:,1])\n",
    "plt.xlim([0, np.pi])\n",
    "plt.ylim([0, np.pi])\n",
    "plt.xlabel('Gamma')\n",
    "plt.ylabel('Beta')\n",
    "plt.colorbar()\n",
    "\n",
    "plot_f1_landscape(params, f1)"
   ]
  },
  {
   "cell_type": "code",
   "execution_count": null,
   "metadata": {},
   "outputs": [],
   "source": [
    "from itertools import product\n",
    "from scipy.stats import norm\n",
    "from sklearn.preprocessing import StandardScaler\n",
    "\n",
    "l = 0.8\n",
    "sigma = 3 \n",
    "\n",
    "def kernel(a, b):\n",
    "    a = np.array(a)\n",
    "    b = np.array(b)\n",
    "    K = np.zeros((len(a), len(b)))\n",
    "    for i, ai in enumerate(a):\n",
    "        for j, bj in enumerate(b):\n",
    "            sqdist = (ai[0]-bj[0])**2 + (ai[1] - bj[1])**2\n",
    "            K[i][j] = np.exp(-.5*sqdist/l)*sigma\n",
    "    return K\n",
    "\n",
    "def fit_predict(X_train, N_test):\n",
    "    # Train and test GP\n",
    "    K_ = kernel(X_train, X_train)\n",
    "    X = np.linspace(0, np.max([gamma_extremes, beta_extremes]), N_test)\n",
    "    X_test = list(product(X, X))\n",
    "    L = np.linalg.cholesky(K_ + 1e-6*np.eye(len(X_train)))\n",
    "    k_vector = np.array(kernel(X_train, X_test))\n",
    "    y = np.linalg.solve(L, y_train)\n",
    "    alpha_vector = np.linalg.solve(L.T, y)\n",
    "    v_vector = np.linalg.solve(L, k_vector)\n",
    "    f = y_train\n",
    "    new_mean = np.dot(k_vector.T, alpha_vector)\n",
    "    el = kernel(X_test, X_test) - np.dot(v_vector.T, v_vector)\n",
    "    new_sigma = [el[i][i] for i in range(N_test)]\n",
    "    return new_mean, new_sigma\n",
    "\n",
    "\n",
    "#First create the graph instance\n",
    "create_graph_specific('simple4')\n",
    "\n",
    "acq_function = 'EI'\n",
    "N_train = 10\n",
    "N_test = 50 #Number of test elements\n",
    "iterations = 50\n",
    "gamma_extremes = [0,np.pi]  #extremes where to search for the values of gamma and beta\n",
    "beta_extremes = [0, np.pi]\n",
    "\n",
    "#We start with N random points \n",
    "X_train = []\n",
    "y_train = []\n",
    "for i in range(N_train):\n",
    "    X = [np.random.uniform()*(gamma_extremes[1]-gamma_extremes[0]), np.random.uniform()*(beta_extremes[1]-beta_extremes[0])]\n",
    "    X_train.append(X)\n",
    "    Y = QAOA(X)\n",
    "    y_train.append(Y)\n",
    "\n",
    "\n",
    "new_mean, new_sigma = fit_predict(X_train, N_test)\n",
    "\n",
    "sample_points = []   #We save every point that was chosen to sample from\n",
    "for i in tqdm(range(iterations)):        \n",
    "        #New_mean and new_sigma both are (N_test**2, ) arrays not reshaped yet\n",
    "        mean_max = np.max(new_mean)\n",
    "        mean_min = np.min(new_mean)        \n",
    "        \n",
    "        #Now calculate acquisitition fn as the cumulative for every point centered around the maximum\n",
    "        cdf = norm.cdf(x = new_mean, loc =  mean_max, scale = new_sigma)\n",
    "        pdf = norm.pdf(x = new_mean, loc =  mean_min, scale = new_sigma)\n",
    "    \n",
    "        #The qdf is instead the probability of being lower then the lowest value of the mean (where we wanto to pick the next_value)\n",
    "        qdf = 1-norm.cdf(x = new_mean, loc =  mean_min, scale = new_sigma)\n",
    "    \n",
    "        if acq_function == 'PI':\n",
    "            #Next values is calculated like so because argmax returns a number betwenn 1 and n_test instead of inside the interval\n",
    "            value = np.argmax(qdf)\n",
    "            next_point = X_test[value]\n",
    "            \n",
    "        if acq_function == 'EI':\n",
    "            alpha_function = (new_mean - mean_min - 0.001)*qdf + new_sigma*pdf\n",
    "            #argmax is a number between 0 and N_test**-1 telling us where is the next point to sample\n",
    "            argmax = np.argmax(np.round(alpha_function, 3))\n",
    "            next_point = X_test[argmax]\n",
    "        \n",
    "        print(next_point)\n",
    "        X_train.append(next_point)\n",
    "        y_next_point = QAOA(next_point)\n",
    "        y_train.append(y_next_point)\n",
    "        fit_predict(X_train, N_test)\n",
    "        sample_points.append(next_point)    "
   ]
  },
  {
   "cell_type": "code",
   "execution_count": null,
   "metadata": {},
   "outputs": [],
   "source": []
  }
 ],
 "metadata": {
  "kernelspec": {
   "display_name": "QC",
   "language": "python",
   "name": "qc"
  },
  "language_info": {
   "codemirror_mode": {
    "name": "ipython",
    "version": 3
   },
   "file_extension": ".py",
   "mimetype": "text/x-python",
   "name": "python",
   "nbconvert_exporter": "python",
   "pygments_lexer": "ipython3",
   "version": "3.8.3"
  }
 },
 "nbformat": 4,
 "nbformat_minor": 4
}
