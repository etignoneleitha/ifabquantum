{
 "cells": [
  {
   "cell_type": "markdown",
   "metadata": {},
   "source": [
    "Not done yet & to try:\n",
    "\n",
    "- add constant terms to QAOA\n",
    "- have a 2nd check at T operation"
   ]
  },
  {
   "cell_type": "code",
   "execution_count": 13,
   "metadata": {},
   "outputs": [],
   "source": [
    "#BASE\n",
    "import networkx as nx\n",
    "from collections import Counter, defaultdict, namedtuple\n",
    "from itertools import product\n",
    "import pandas as pd\n",
    "from scipy.stats import norm\n",
    "from tqdm import tqdm\n",
    "import numpy as np\n",
    "\n",
    "#ML\n",
    "from sklearn.gaussian_process import GaussianProcessRegressor\n",
    "from sklearn.gaussian_process.kernels import RBF, ConstantKernel as CK\n",
    "from sklearn.preprocessing import StandardScaler\n",
    "from sklearn.utils.optimize import _check_optimize_result\n",
    "from scipy.optimize import minimize\n",
    "\n",
    "#QUANTUM\n",
    "from qiskit import Aer, QuantumCircuit, execute\n",
    "\n",
    "#VIZ\n",
    "from matplotlib import pyplot as plt\n",
    "\n",
    "#Set global parameters\n",
    "s_eigenvalues = [0,1]\n",
    "penalty = 2\n",
    "shots = 1000\n",
    "\n",
    "#Set graph instance & its complement\n",
    "E = [(0,1), (1,2), (0,2), (2,3), (2,4)]; N = 5\n",
    "G = nx.Graph()\n",
    "G.add_nodes_from(range(N))\n",
    "G.add_edges_from(E)\n",
    "G_comp = nx.complement(G)"
   ]
  },
  {
   "cell_type": "code",
   "execution_count": 14,
   "metadata": {},
   "outputs": [],
   "source": [
    "#Functions\n",
    "\n",
    "def draw_graph(G):\n",
    "    \n",
    "    G_comp = nx.complement(G)\n",
    "    fig, axes = plt.subplots(nrows=1, ncols=2, figsize = (8,4))\n",
    "    axes[0].set_title(\"GRAPH\")\n",
    "    axes[1].set_title(\"COMPLEMETARY GRAPH\")\n",
    "    pos = nx.circular_layout(G)\n",
    "    nx.draw_networkx(G,ax=axes[0],pos=pos)\n",
    "    pos = nx.circular_layout(G_comp)\n",
    "    nx.draw_networkx(G_comp,ax=axes[1],node_color=\"r\",pos=pos)\n",
    "\n",
    "def s2z(configuration):\n",
    "    \n",
    "    return [1-2*s for s in configuration]\n",
    "\n",
    "def z2s(s):\n",
    "    \n",
    "    return [(1-z)/2 for z in configuration]\n",
    "\n",
    "def str2list(s):\n",
    "    \n",
    "    l = []\n",
    "    skip=False\n",
    "    for x in s:\n",
    "        if skip==True:\n",
    "            skip=False\n",
    "            continue\n",
    "        if x == \"-\":\n",
    "            l.append(-1)\n",
    "            skip=True\n",
    "        if x != \"-\":\n",
    "            l.append(int(x))\n",
    "    return l\n",
    "\n",
    "def evaluate_cost(configuration, penalty=penalty, basis=None):\n",
    "    \n",
    "    '''\n",
    "    configuration: eigenvalues\n",
    "    '''\n",
    "    \n",
    "    cost=0\n",
    "    if basis==\"S\":\n",
    "        cost = -sum(configuration)\n",
    "        for edge in G_comp.edges:\n",
    "            cost += penalty*(configuration[edge[0]]*configuration[edge[1]])            \n",
    "    elif basis==\"Z\":          \n",
    "        cost = -(len(configuration) - sum(configuration))/2 \n",
    "        for edge in G_comp.edges:\n",
    "            cost += penalty/4*(1-configuration[edge[0]])*(1-configuration[edge[1]])\n",
    "    else:\n",
    "        raise ValueError('Basis should be specified: it must one of [\"S\",\"Z\"]')\n",
    "    return cost\n",
    "\n",
    "def classical_solution(basis=None, show_top=None):  \n",
    "    \n",
    "    '''\n",
    "    Runs through all 2^n possible configurations and estimates how many max cliques there are and plots one\n",
    "    '''\n",
    "    \n",
    "    results = {}\n",
    "    \n",
    "    if basis==\"S\":\n",
    "        eigenvalues = s_eigenvalues #[0, 1] i.e. eigenvalues for |0> ad |1> respectively\n",
    "    elif basis==\"Z\": \n",
    "        eigenvalues = s2z(s_eigenvalues) #[1,-1] i.e. eigenvalues for |0> ad |1> respectively\n",
    "    else:\n",
    "        raise ValueError('Basis should be specified: it must one of [\"S\",\"Z\"]')\n",
    "        \n",
    "    eigen_configurations = list(product(eigenvalues, repeat=len(G)))\n",
    "    for eigen_configuration in tqdm(eigen_configurations):\n",
    "        results[eigen_configuration] = evaluate_cost(eigen_configuration, basis=basis)\n",
    "    \n",
    "    print('All possible solutions: \\n')\n",
    "    sol = pd.DataFrame(np.unique(list(results.values()), return_counts = True)).T\n",
    "    sol.columns=[\"energy\",\"occurrencies\"]\n",
    "    sol[\"frequency\"]=round(sol[\"occurrencies\"]/sol[\"occurrencies\"].sum()*100,0)\n",
    "    if show_top is not None:\n",
    "        print(sol.head(show_top))\n",
    "    else:\n",
    "        print(sol)\n",
    "    d = dict((k, v) for k, v in results.items() if v == np.min(list(results.values())))\n",
    "    print(f'\\nThere are {len(d)} MAXCLIQUE(S) with eigenvalues configuration(s) in basis \\\"{basis}\\\": {d}')\n",
    "    \n",
    "    fig = plt.subplot(1, 2, 1)\n",
    "    val, counts = np.unique(list(results.values()), return_counts = True)\n",
    "    plt.bar(val, counts)\n",
    "    plt.xlabel('Energy')\n",
    "    plt.ylabel('Counts')\n",
    "    plt.title('Statistics of solutions')\n",
    "\n",
    "    fig = plt.subplot(1, 2, 2)\n",
    "    plt.title('MaxClique')\n",
    "    colors = list(d.keys())[0]\n",
    "    pos = nx.circular_layout(G)\n",
    "    nx.draw_networkx(G, node_color=colors, node_size=200, alpha=1, pos=pos)\n",
    "    \n",
    "def quantum_algorithm(gamma, beta, penalty):\n",
    "    \n",
    "    qc = QuantumCircuit(N,N)\n",
    "    qc.h(range(N))\n",
    "\n",
    "    for edge in G_comp.edges: \n",
    "        qc.rzz(gamma*penalty/2, edge[0], edge[1])\n",
    "        qc.rz(-gamma*penalty/2, edge[0]) \n",
    "        qc.rz(-gamma*penalty/2, edge[1]) \n",
    "        \n",
    "    for i in G.nodes:\n",
    "        qc.rz(gamma, i) \n",
    "        \n",
    "    qc.rx(2*beta, range(N)) \n",
    "    \n",
    "    meas = QuantumCircuit(N,N)\n",
    "    meas.barrier(range(N))\n",
    "    meas.measure(range(N), range(N))\n",
    "\n",
    "    return qc + meas\n",
    "    \n",
    "def QAOA(gamma, beta, penalty=penalty, shots=shots, basis=\"S\"):\n",
    "    \n",
    "    '''\n",
    "    Applies QAOA\n",
    "    '''\n",
    "    backend = Aer.get_backend(\"qasm_simulator\")\n",
    "    qc = quantum_algorithm(gamma, beta, penalty)\n",
    "    simulate = execute(qc, backend=backend, shots=shots)\n",
    "    results = simulate.result()\n",
    "    extimated_f1 = 0\n",
    "    counts = results.get_counts()\n",
    "    pretty_counts = {k[::-1]:v for k,v in counts.items()} \n",
    "    if basis==\"S\":\n",
    "        pass\n",
    "    elif basis==\"Z\":\n",
    "        pretty_counts = {\"\".join([str(x) for x in s2z([int(x) for x in k])]):v for k,v in pretty_counts.items()}\n",
    "    else:\n",
    "        raise ValueError('Basis should be specified: it must one of [\"S\",\"Z\"]')\n",
    "\n",
    "    for configuration in pretty_counts:\n",
    "        prob_of_configuration = pretty_counts[configuration]/shots\n",
    "        extimated_f1 += prob_of_configuration*evaluate_cost(str2list(configuration), basis=basis)\n",
    "    \n",
    "    return extimated_f1, pretty_counts\n",
    "\n",
    "def grid_search(num_params, penalty=penalty, shots=shots, param_range = np.pi, show_plot=True):\n",
    "\n",
    "    QAOA_results = []\n",
    "    Point = namedtuple(\"Point\", \"gamma beta f1\")\n",
    "    lin = np.linspace(0, param_range, num_params)\n",
    "    params = np.array(list((product(lin, repeat = 2))))\n",
    "    \n",
    "    X = np.unique(params[:,0])\n",
    "    Y = np.unique(params[:,1])\n",
    "    X, Y = np.meshgrid(X, Y)\n",
    "    Q = np.zeros((len(X),len(X)))\n",
    "    \n",
    "    for i,j in tqdm(list(product(range(len(X)),repeat=2))):\n",
    "        Q[i,j], _ = QAOA(X[i,j],Y[i,j], penalty=penalty, shots=shots, basis=\"S\")\n",
    "    \n",
    "    if show_plot:\n",
    "\n",
    "        plt.imshow(Q, extent = [0, param_range, param_range, 0])\n",
    "        plt.title('Grid Search: [{} x {}]'.format(len(X), len(X)))\n",
    "        plt.xticks(fontsize = 15)\n",
    "        plt.yticks(fontsize = 15)\n",
    "\n",
    "        cb = plt.colorbar()\n",
    "        plt.xlabel(r'$\\gamma$', fontsize=20)\n",
    "        plt.ylabel(r'$\\beta$', fontsize =20)\n",
    "        cb.ax.tick_params(labelsize=15)\n",
    "        \n",
    "        points = [Point(*x) for x in np.dstack((X,Y,Q)).reshape(-1,3)]\n",
    "        \n",
    "        return points\n",
    "    \n",
    "def plot_distribution(freq_dict):\n",
    "\n",
    "    sorted_freq_dict = dict(sorted(freq_dict.items(), key=lambda item: item[1], reverse=True))\n",
    "    color_dict = {key: 'g' for key in sorted_freq_dict}\n",
    "    plt.figure(figsize=(12,6))\n",
    "    plt.xlabel(\"configuration\")\n",
    "    plt.ylabel(\"counts\")\n",
    "    plt.xticks(rotation='vertical')\n",
    "    plt.bar(sorted_freq_dict.keys(), sorted_freq_dict.values(), width=0.5, color = color_dict.values())\n",
    "    \n",
    "#def plot_f1_landscape(params, f1):\n",
    "#    \n",
    "#    fig = plt.figure()\n",
    "\n",
    "#    # Make data.\n",
    "#    X = np.unique(params[:,0])\n",
    "#    Y = np.unique(params[:,1])\n",
    "#    X, Y = np.meshgrid(X, Y)\n",
    "#    Z = np.reshape(f1, (len(X), len(Y)))\n",
    "\n",
    "    # Plot the surface.\n",
    "#    plt.imshow(Z, extent = [0, np.pi, np.pi, 0])\n",
    "#    plt.title('Grid Search: [{} x {}]'.format(len(X), len(X)))\n",
    "#    plt.xticks(fontsize = 15)\n",
    "#    plt.yticks(fontsize = 15)\n",
    "    \n",
    "#    cb = plt.colorbar()\n",
    "#    plt.xlabel(r'$\\gamma$', fontsize=20)\n",
    "#    plt.ylabel(r'$\\beta$', fontsize =20)\n",
    "#    cb.ax.tick_params(labelsize=15)\n",
    "    \n",
    "def spectrum_vs_penalty(penalty_min=-2, penalty_max=3, penalty_step=0.5, show_plot=True, basis=\"S\"):\n",
    "    \n",
    "    configuration_energies = defaultdict(list)\n",
    "    penalties=np.arange(penalty_min, penalty_max, penalty_step)\n",
    "    \n",
    "    if basis == \"S\":\n",
    "        eigenvalues = s_eigenvalues\n",
    "    elif basis==\"Z\":\n",
    "        eigenvalues = s2z(s_eigenvalues)\n",
    "\n",
    "    for eigen_configuration in product(eigenvalues, repeat = len(G)):\n",
    "        for penalty in penalties:\n",
    "            configuration_energies[str(eigen_configuration)].append(evaluate_cost(str2list(eigen_configuration), penalty, basis=basis))\n",
    "\n",
    "    degeneracies_df = pd.DataFrame(sorted(Counter([v[-1] for k,v in configuration_energies.items()]).items(), key=lambda item: item[0], reverse=False))\n",
    "    degeneracies_df.columns=[\"energy\",\"eigenstates\"]\n",
    "\n",
    "    if show_plot:\n",
    "\n",
    "        for k, v in configuration_energies.items():\n",
    "            plt.plot(penalties, v, label = k, marker=\"o\")\n",
    "            plt.xlabel(\"penalty\")\n",
    "            plt.ylabel(\"cost\")\n",
    "            plt.legend(title=\"eigen_configuration\",bbox_to_anchor=(1.05, 1), loc='upper left')\n",
    "        plt.show()\n",
    "\n",
    "    return degeneracies_df, configuration_energies"
   ]
  },
  {
   "cell_type": "code",
   "execution_count": 15,
   "metadata": {},
   "outputs": [
    {
     "data": {
      "image/png": "[encoded data removed]",
      "text/plain": [
       "<Figure size 576x288 with 2 Axes>"
      ]
     },
     "metadata": {},
     "output_type": "display_data"
    }
   ],
   "source": [
    "draw_graph(G)"
   ]
  },
  {
   "cell_type": "code",
   "execution_count": 16,
   "metadata": {},
   "outputs": [
    {
     "name": "stderr",
     "output_type": "stream",
     "text": [
      "100%|███████████████████████████████████████████████████████████████████████████████| 32/32 [00:00<00:00, 32048.17it/s]\n"
     ]
    },
    {
     "name": "stdout",
     "output_type": "stream",
     "text": [
      "All possible solutions: \n",
      "\n",
      "   energy  occurrencies  frequency\n",
      "0    -3.0           1.0        3.0\n",
      "1    -2.0           5.0       16.0\n",
      "2    -1.0          10.0       31.0\n",
      "3     0.0           8.0       25.0\n",
      "4     1.0           2.0        6.0\n",
      "5     2.0           2.0        6.0\n",
      "6     3.0           2.0        6.0\n",
      "7     5.0           1.0        3.0\n",
      "8     6.0           1.0        3.0\n",
      "\n",
      "There are 1 MAXCLIQUE(S) with eigenvalues configuration(s) in basis \"Z\": {(-1, -1, -1, 1, 1): -3.0}\n"
     ]
    },
    {
     "data": {
      "image/png": "[encoded data removed]",
      "text/plain": [
       "<Figure size 432x288 with 2 Axes>"
      ]
     },
     "metadata": {
      "needs_background": "light"
     },
     "output_type": "display_data"
    }
   ],
   "source": [
    "classical_solution(basis=\"Z\")"
   ]
  },
  {
   "cell_type": "code",
   "execution_count": 17,
   "metadata": {},
   "outputs": [
    {
     "data": {
      "image/png": "[encoded data removed]",
      "text/plain": [
       "<Figure size 432x288 with 1 Axes>"
      ]
     },
     "metadata": {
      "needs_background": "light"
     },
     "output_type": "display_data"
    },
    {
     "name": "stdout",
     "output_type": "stream",
     "text": [
      "The degeneracies at penalty_max are:\n"
     ]
    },
    {
     "data": {
      "text/html": [
       "<div>\n",
       "<style scoped>\n",
       "    .dataframe tbody tr th:only-of-type {\n",
       "        vertical-align: middle;\n",
       "    }\n",
       "\n",
       "    .dataframe tbody tr th {\n",
       "        vertical-align: top;\n",
       "    }\n",
       "\n",
       "    .dataframe thead th {\n",
       "        text-align: right;\n",
       "    }\n",
       "</style>\n",
       "<table border=\"1\" class=\"dataframe\">\n",
       "  <thead>\n",
       "    <tr style=\"text-align: right;\">\n",
       "      <th></th>\n",
       "      <th>energy</th>\n",
       "      <th>eigenstates</th>\n",
       "    </tr>\n",
       "  </thead>\n",
       "  <tbody>\n",
       "    <tr>\n",
       "      <th>0</th>\n",
       "      <td>-3.0</td>\n",
       "      <td>1</td>\n",
       "    </tr>\n",
       "    <tr>\n",
       "      <th>1</th>\n",
       "      <td>-2.0</td>\n",
       "      <td>5</td>\n",
       "    </tr>\n",
       "    <tr>\n",
       "      <th>2</th>\n",
       "      <td>-1.0</td>\n",
       "      <td>5</td>\n",
       "    </tr>\n",
       "    <tr>\n",
       "      <th>3</th>\n",
       "      <td>-0.5</td>\n",
       "      <td>5</td>\n",
       "    </tr>\n",
       "    <tr>\n",
       "      <th>4</th>\n",
       "      <td>0.0</td>\n",
       "      <td>1</td>\n",
       "    </tr>\n",
       "    <tr>\n",
       "      <th>5</th>\n",
       "      <td>0.5</td>\n",
       "      <td>5</td>\n",
       "    </tr>\n",
       "    <tr>\n",
       "      <th>6</th>\n",
       "      <td>1.0</td>\n",
       "      <td>2</td>\n",
       "    </tr>\n",
       "    <tr>\n",
       "      <th>7</th>\n",
       "      <td>2.0</td>\n",
       "      <td>2</td>\n",
       "    </tr>\n",
       "    <tr>\n",
       "      <th>8</th>\n",
       "      <td>3.5</td>\n",
       "      <td>2</td>\n",
       "    </tr>\n",
       "    <tr>\n",
       "      <th>9</th>\n",
       "      <td>4.5</td>\n",
       "      <td>2</td>\n",
       "    </tr>\n",
       "    <tr>\n",
       "      <th>10</th>\n",
       "      <td>7.5</td>\n",
       "      <td>1</td>\n",
       "    </tr>\n",
       "    <tr>\n",
       "      <th>11</th>\n",
       "      <td>8.5</td>\n",
       "      <td>1</td>\n",
       "    </tr>\n",
       "  </tbody>\n",
       "</table>\n",
       "</div>"
      ],
      "text/plain": [
       "    energy  eigenstates\n",
       "0     -3.0            1\n",
       "1     -2.0            5\n",
       "2     -1.0            5\n",
       "3     -0.5            5\n",
       "4      0.0            1\n",
       "5      0.5            5\n",
       "6      1.0            2\n",
       "7      2.0            2\n",
       "8      3.5            2\n",
       "9      4.5            2\n",
       "10     7.5            1\n",
       "11     8.5            1"
      ]
     },
     "execution_count": 17,
     "metadata": {},
     "output_type": "execute_result"
    }
   ],
   "source": [
    "degeneracies_df, configuration_energies = spectrum_vs_penalty(penalty_min=0, penalty_max=3, penalty_step=0.5, basis=\"Z\")\n",
    "print(\"The degeneracies at penalty_max are:\")\n",
    "degeneracies_df"
   ]
  },
  {
   "cell_type": "markdown",
   "metadata": {},
   "source": [
    "### Gaussian Process to approximate the f1 landscape of a graph\n",
    "\n",
    "Generates $N_{train}$ points selected randomly on a grid $[gamma-extremes] \\times [beta-extremes]$, trains a sklearn Gaussin Process Regressor with a kernel defined by kernel and tests it on $N_{test}^2$ samples uniformly picked on a grid $[0, max(gamma, betas)] \\times [0, max(gamma, betas)] $. Result is compared to grid search"
   ]
  },
  {
   "cell_type": "code",
   "execution_count": 18,
   "metadata": {},
   "outputs": [
    {
     "data": {
      "text/plain": [
       "<matplotlib.colorbar.Colorbar at 0x1bc3b728550>"
      ]
     },
     "execution_count": 18,
     "metadata": {},
     "output_type": "execute_result"
    },
    {
     "data": {
      "image/png": "[encoded data removed]",
      "text/plain": [
       "<Figure size 432x288 with 2 Axes>"
      ]
     },
     "metadata": {
      "needs_background": "light"
     },
     "output_type": "display_data"
    }
   ],
   "source": [
    "N_train = 100\n",
    "N_test = 50\n",
    "gamma_extremes = [0, np.pi]\n",
    "beta_extremes = [0, np.pi]\n",
    "X_train = []; y_train = []\n",
    "\n",
    "for i in range(N_train):\n",
    "    X = [np.random.uniform(*gamma_extremes), np.random.uniform(*beta_extremes)]\n",
    "    X_train.append(X)\n",
    "    Y, _ = QAOA(*X) \n",
    "    y_train.append(Y)\n",
    "\n",
    "kernel = CK(1.0, (1e-3, 1e3)) * RBF(10, (1e-2, 1e2))\n",
    "gp = GaussianProcessRegressor(kernel=kernel, n_restarts_optimizer=0, normalize_y = True)\n",
    "gp.fit(X_train, y_train)\n",
    "\n",
    "X_lin = np.linspace(0, np.max([gamma_extremes, beta_extremes]), N_test) \n",
    "X_test_grid = list(product(X_lin, X_lin))\n",
    "\n",
    "predicted_means = gp.predict(X_test_grid) \n",
    "res = np.reshape(predicted_means, (N_test, N_test)).T #extremes is (left,right,bommot,top)\n",
    "X_train = np.array(X_train)\n",
    "plt.title('Approximation with Bayes, random points')\n",
    "plt.imshow(res, extent = gamma_extremes + beta_extremes[::-1]) #extremes is (left,right,bommot,top) [0,np.pi,np.pi,0]\n",
    "plt.scatter(X_train[:,0], X_train[:,1], s=6, c='b')\n",
    "plt.xlabel(r'$\\gamma$')\n",
    "plt.ylabel(r'$\\beta$')\n",
    "plt.colorbar()"
   ]
  },
  {
   "cell_type": "code",
   "execution_count": 19,
   "metadata": {},
   "outputs": [
    {
     "name": "stderr",
     "output_type": "stream",
     "text": [
      "100%|████████████████████████████████████████████████████████████████████████████████| 400/400 [00:04<00:00, 84.40it/s]\n"
     ]
    },
    {
     "data": {
      "image/png": "[encoded data removed]",
      "text/plain": [
       "<Figure size 432x288 with 2 Axes>"
      ]
     },
     "metadata": {
      "needs_background": "light"
     },
     "output_type": "display_data"
    }
   ],
   "source": [
    "#To confront with\n",
    "points = grid_search(20)"
   ]
  },
  {
   "cell_type": "code",
   "execution_count": 20,
   "metadata": {},
   "outputs": [],
   "source": [
    "optimal_point = points[np.argmin([p.f1 for p in points])]\n",
    "optimal_f1 = optimal_point.f1 #chiaramente è difficile aspettarsi che sia il minimo esatto, perché è un valore di aspettazione\n",
    "optimal_params = [optimal_point.gamma, optimal_point.beta]"
   ]
  },
  {
   "cell_type": "markdown",
   "metadata": {},
   "source": [
    "### Let's see how the QAOA performs on the \"optimal\" parameters found the by the grid search in the previous cell. Two criteria must be taken into account:\n",
    "\n",
    "- time\n",
    "- quality of solution (we could use as a FEM, the approximation ration)"
   ]
  },
  {
   "cell_type": "code",
   "execution_count": 21,
   "metadata": {},
   "outputs": [
    {
     "data": {
      "text/html": [
       "<div>\n",
       "<style scoped>\n",
       "    .dataframe tbody tr th:only-of-type {\n",
       "        vertical-align: middle;\n",
       "    }\n",
       "\n",
       "    .dataframe tbody tr th {\n",
       "        vertical-align: top;\n",
       "    }\n",
       "\n",
       "    .dataframe thead th {\n",
       "        text-align: right;\n",
       "    }\n",
       "</style>\n",
       "<table border=\"1\" class=\"dataframe\">\n",
       "  <thead>\n",
       "    <tr style=\"text-align: right;\">\n",
       "      <th></th>\n",
       "      <th>eigen_configuration</th>\n",
       "      <th>energy</th>\n",
       "      <th>occurrencies</th>\n",
       "      <th>frequency</th>\n",
       "    </tr>\n",
       "  </thead>\n",
       "  <tbody>\n",
       "    <tr>\n",
       "      <th>0</th>\n",
       "      <td>11-1-11</td>\n",
       "      <td>-2.0</td>\n",
       "      <td>1130</td>\n",
       "      <td>11.0</td>\n",
       "    </tr>\n",
       "    <tr>\n",
       "      <th>1</th>\n",
       "      <td>-1-1-111</td>\n",
       "      <td>-3.0</td>\n",
       "      <td>1110</td>\n",
       "      <td>11.0</td>\n",
       "    </tr>\n",
       "    <tr>\n",
       "      <th>2</th>\n",
       "      <td>11-11-1</td>\n",
       "      <td>-2.0</td>\n",
       "      <td>1089</td>\n",
       "      <td>11.0</td>\n",
       "    </tr>\n",
       "    <tr>\n",
       "      <th>3</th>\n",
       "      <td>11-111</td>\n",
       "      <td>-1.0</td>\n",
       "      <td>983</td>\n",
       "      <td>10.0</td>\n",
       "    </tr>\n",
       "    <tr>\n",
       "      <th>4</th>\n",
       "      <td>-11-111</td>\n",
       "      <td>-2.0</td>\n",
       "      <td>858</td>\n",
       "      <td>9.0</td>\n",
       "    </tr>\n",
       "    <tr>\n",
       "      <th>5</th>\n",
       "      <td>1-1-111</td>\n",
       "      <td>-2.0</td>\n",
       "      <td>811</td>\n",
       "      <td>8.0</td>\n",
       "    </tr>\n",
       "    <tr>\n",
       "      <th>6</th>\n",
       "      <td>-1-1111</td>\n",
       "      <td>-2.0</td>\n",
       "      <td>496</td>\n",
       "      <td>5.0</td>\n",
       "    </tr>\n",
       "    <tr>\n",
       "      <th>7</th>\n",
       "      <td>111-11</td>\n",
       "      <td>-1.0</td>\n",
       "      <td>477</td>\n",
       "      <td>5.0</td>\n",
       "    </tr>\n",
       "    <tr>\n",
       "      <th>8</th>\n",
       "      <td>1111-1</td>\n",
       "      <td>-1.0</td>\n",
       "      <td>468</td>\n",
       "      <td>5.0</td>\n",
       "    </tr>\n",
       "    <tr>\n",
       "      <th>9</th>\n",
       "      <td>11111</td>\n",
       "      <td>0.0</td>\n",
       "      <td>433</td>\n",
       "      <td>4.0</td>\n",
       "    </tr>\n",
       "  </tbody>\n",
       "</table>\n",
       "</div>"
      ],
      "text/plain": [
       "  eigen_configuration  energy  occurrencies  frequency\n",
       "0             11-1-11    -2.0          1130       11.0\n",
       "1            -1-1-111    -3.0          1110       11.0\n",
       "2             11-11-1    -2.0          1089       11.0\n",
       "3              11-111    -1.0           983       10.0\n",
       "4             -11-111    -2.0           858        9.0\n",
       "5             1-1-111    -2.0           811        8.0\n",
       "6             -1-1111    -2.0           496        5.0\n",
       "7              111-11    -1.0           477        5.0\n",
       "8              1111-1    -1.0           468        5.0\n",
       "9               11111     0.0           433        4.0"
      ]
     },
     "execution_count": 21,
     "metadata": {},
     "output_type": "execute_result"
    },
    {
     "data": {
      "image/png": "[encoded data removed]",
      "text/plain": [
       "<Figure size 864x432 with 1 Axes>"
      ]
     },
     "metadata": {
      "needs_background": "light"
     },
     "output_type": "display_data"
    }
   ],
   "source": [
    "#lo stato cercato è sempre della top 3 ma non è detto sia sempre il primo... sentire D e S\n",
    "\n",
    "basis=\"Z\"\n",
    "\n",
    "extimated_f1, pretty_counts = QAOA(*optimal_params, shots=10000, basis=basis) #prendo un numero molto grande di shots per stabilizzare la distribuzione (legge grandi numeri)\n",
    "plot_distribution(pretty_counts)\n",
    "sol = pd.DataFrame(dict(sorted(pretty_counts.items(), key=lambda item: item[1], reverse=True)),index=[0]).T.reset_index()\n",
    "sol.columns=[\"eigen_configuration\",\"occurrencies\"]\n",
    "sol[\"frequency\"]=round(sol[\"occurrencies\"]/sol[\"occurrencies\"].sum()*100,0)#.head(3)\n",
    "sol[\"energy\"]=sol[\"eigen_configuration\"].apply(lambda x: evaluate_cost(str2list(x),basis=basis))\n",
    "sol=sol[[\"eigen_configuration\",\"energy\",\"occurrencies\",\"frequency\"]]\n",
    "sol.head(10)"
   ]
  },
  {
   "cell_type": "markdown",
   "metadata": {},
   "source": [
    "### Bayesian Optimization to find the minimum of the f1 of a graph\n"
   ]
  },
  {
   "cell_type": "code",
   "execution_count": 22,
   "metadata": {},
   "outputs": [],
   "source": [
    "#Allows to change max_iter (see cell below) as well as gtol. It can be straightforwardly extended to other parameters\n",
    "class MyGaussianProcessRegressor(GaussianProcessRegressor):\n",
    "    def __init__(self, *args, max_iter=2e05, gtol=1e-06, **kwargs):\n",
    "        super().__init__(*args, **kwargs)\n",
    "        self._max_iter = max_iter\n",
    "        self._gtol = gtol\n",
    "\n",
    "    def _constrained_optimization(self, obj_func, initial_theta, bounds):\n",
    "        if self.optimizer == \"fmin_l_bfgs_b\":\n",
    "            opt_res = minimize(obj_func, initial_theta, method=\"L-BFGS-B\", jac=True, bounds=bounds, options={'maxiter':self._max_iter, 'gtol': self._gtol})\n",
    "            _check_optimize_result(\"lbfgs\", opt_res)\n",
    "            theta_opt, func_min = opt_res.x, opt_res.fun\n",
    "        elif callable(self.optimizer):\n",
    "            theta_opt, func_min = self.optimizer(obj_func, initial_theta, bounds=bounds)\n",
    "        else:\n",
    "            raise ValueError(\"Unknown optimizer %s.\" % self.optimizer)\n",
    "        return theta_opt, func_min\n",
    "    \n",
    "def rescaler(x, min_old=0, max_old=np.pi, min_new=0, max_new=1):\n",
    "    \n",
    "    x_sc = min_new + (max_new - min_new)/(max_old - min_old)*(x - min_old)\n",
    "    \n",
    "    return x_sc"
   ]
  },
  {
   "cell_type": "code",
   "execution_count": 44,
   "metadata": {},
   "outputs": [
    {
     "name": "stdout",
     "output_type": "stream",
     "text": [
      "100\n",
      "[1.2391984739607858, 2.9916856500391167]\n",
      "0 [0.1 0.1] 0.14999999999999994\n",
      "1 [1.23675685 2.98797686] -0.4100000000000002\n",
      "2 [1.23675685 2.92653055] -0.5100000000000001\n",
      "3 [1.17531053 2.98797686] -0.4900000000000001\n"
     ]
    },
    {
     "name": "stderr",
     "output_type": "stream",
     "text": [
      "C:\\Users\\Simone\\anaconda3\\lib\\site-packages\\sklearn\\gaussian_process\\kernels.py:402: ConvergenceWarning: The optimal value found for dimension 0 of parameter k1__constant_value is close to the specified lower bound 0.001. Decreasing the bound and calling fit again may find a better value.\n",
      "  warnings.warn(\"The optimal value found for \"\n",
      "C:\\Users\\Simone\\anaconda3\\lib\\site-packages\\sklearn\\gaussian_process\\kernels.py:402: ConvergenceWarning: The optimal value found for dimension 0 of parameter k2__length_scale is close to the specified lower bound 0.01. Decreasing the bound and calling fit again may find a better value.\n",
      "  warnings.warn(\"The optimal value found for \"\n",
      "C:\\Users\\Simone\\anaconda3\\lib\\site-packages\\sklearn\\gaussian_process\\kernels.py:402: ConvergenceWarning: The optimal value found for dimension 0 of parameter k2__length_scale is close to the specified lower bound 0.01. Decreasing the bound and calling fit again may find a better value.\n",
      "  warnings.warn(\"The optimal value found for \"\n",
      "C:\\Users\\Simone\\anaconda3\\lib\\site-packages\\sklearn\\gaussian_process\\kernels.py:402: ConvergenceWarning: The optimal value found for dimension 0 of parameter k2__length_scale is close to the specified lower bound 0.01. Decreasing the bound and calling fit again may find a better value.\n",
      "  warnings.warn(\"The optimal value found for \"\n",
      "C:\\Users\\Simone\\anaconda3\\lib\\site-packages\\sklearn\\gaussian_process\\kernels.py:402: ConvergenceWarning: The optimal value found for dimension 0 of parameter k2__length_scale is close to the specified lower bound 0.01. Decreasing the bound and calling fit again may find a better value.\n",
      "  warnings.warn(\"The optimal value found for \"\n",
      "C:\\Users\\Simone\\anaconda3\\lib\\site-packages\\sklearn\\gaussian_process\\kernels.py:402: ConvergenceWarning: The optimal value found for dimension 0 of parameter k2__length_scale is close to the specified lower bound 0.01. Decreasing the bound and calling fit again may find a better value.\n",
      "  warnings.warn(\"The optimal value found for \"\n",
      "C:\\Users\\Simone\\anaconda3\\lib\\site-packages\\sklearn\\gaussian_process\\kernels.py:402: ConvergenceWarning: The optimal value found for dimension 0 of parameter k2__length_scale is close to the specified lower bound 0.01. Decreasing the bound and calling fit again may find a better value.\n",
      "  warnings.warn(\"The optimal value found for \"\n",
      "C:\\Users\\Simone\\anaconda3\\lib\\site-packages\\sklearn\\gaussian_process\\kernels.py:402: ConvergenceWarning: The optimal value found for dimension 0 of parameter k2__length_scale is close to the specified lower bound 0.01. Decreasing the bound and calling fit again may find a better value.\n",
      "  warnings.warn(\"The optimal value found for \"\n"
     ]
    },
    {
     "name": "stdout",
     "output_type": "stream",
     "text": [
      "4 [1.20603369 2.98797686] -0.15000000000000002\n",
      "5 [1.26748001 2.9572537 ] -0.07000000000000012\n",
      "6 [1.14458738 2.9572537 ] -0.030000000000000165\n",
      "7 [1.14458738 3.01870002] -0.05000000000000006\n"
     ]
    },
    {
     "name": "stderr",
     "output_type": "stream",
     "text": [
      "C:\\Users\\Simone\\anaconda3\\lib\\site-packages\\sklearn\\gaussian_process\\kernels.py:402: ConvergenceWarning: The optimal value found for dimension 0 of parameter k2__length_scale is close to the specified lower bound 0.01. Decreasing the bound and calling fit again may find a better value.\n",
      "  warnings.warn(\"The optimal value found for \"\n",
      "C:\\Users\\Simone\\anaconda3\\lib\\site-packages\\sklearn\\gaussian_process\\kernels.py:402: ConvergenceWarning: The optimal value found for dimension 0 of parameter k2__length_scale is close to the specified lower bound 0.01. Decreasing the bound and calling fit again may find a better value.\n",
      "  warnings.warn(\"The optimal value found for \"\n",
      "C:\\Users\\Simone\\anaconda3\\lib\\site-packages\\sklearn\\gaussian_process\\kernels.py:402: ConvergenceWarning: The optimal value found for dimension 0 of parameter k2__length_scale is close to the specified lower bound 0.01. Decreasing the bound and calling fit again may find a better value.\n",
      "  warnings.warn(\"The optimal value found for \"\n",
      "C:\\Users\\Simone\\anaconda3\\lib\\site-packages\\sklearn\\gaussian_process\\kernels.py:402: ConvergenceWarning: The optimal value found for dimension 0 of parameter k2__length_scale is close to the specified lower bound 0.01. Decreasing the bound and calling fit again may find a better value.\n",
      "  warnings.warn(\"The optimal value found for \"\n"
     ]
    },
    {
     "name": "stdout",
     "output_type": "stream",
     "text": [
      "8 [1.20603369 2.9572537 ] -0.48000000000000004\n",
      "9 [1.23675685 2.9572537 ] 0.010000000000000184\n",
      "10 [1.23675685 2.86508423] -0.05000000000000012\n",
      "11 [1.29820317 2.89580739] -0.36\n"
     ]
    },
    {
     "name": "stderr",
     "output_type": "stream",
     "text": [
      "C:\\Users\\Simone\\anaconda3\\lib\\site-packages\\sklearn\\gaussian_process\\kernels.py:402: ConvergenceWarning: The optimal value found for dimension 0 of parameter k2__length_scale is close to the specified lower bound 0.01. Decreasing the bound and calling fit again may find a better value.\n",
      "  warnings.warn(\"The optimal value found for \"\n",
      "C:\\Users\\Simone\\anaconda3\\lib\\site-packages\\sklearn\\gaussian_process\\kernels.py:402: ConvergenceWarning: The optimal value found for dimension 0 of parameter k2__length_scale is close to the specified lower bound 0.01. Decreasing the bound and calling fit again may find a better value.\n",
      "  warnings.warn(\"The optimal value found for \"\n",
      "C:\\Users\\Simone\\anaconda3\\lib\\site-packages\\sklearn\\gaussian_process\\kernels.py:402: ConvergenceWarning: The optimal value found for dimension 0 of parameter k2__length_scale is close to the specified lower bound 0.01. Decreasing the bound and calling fit again may find a better value.\n",
      "  warnings.warn(\"The optimal value found for \"\n",
      "C:\\Users\\Simone\\anaconda3\\lib\\site-packages\\sklearn\\gaussian_process\\kernels.py:402: ConvergenceWarning: The optimal value found for dimension 0 of parameter k2__length_scale is close to the specified lower bound 0.01. Decreasing the bound and calling fit again may find a better value.\n",
      "  warnings.warn(\"The optimal value found for \"\n"
     ]
    },
    {
     "name": "stdout",
     "output_type": "stream",
     "text": [
      "12 [1.17531053 2.89580739] -0.23\n",
      "13 [1.32892632 2.9572537 ] -0.31000000000000005\n",
      "14 [0.1        0.22289263] 0.67\n",
      "15 [1.20603369 2.89580739] -0.12999999999999998\n",
      "16 [1.11386422 2.86508423] -0.32999999999999996\n",
      "17 [1.0524179  2.83436107] -0.8200000000000001\n"
     ]
    },
    {
     "name": "stderr",
     "output_type": "stream",
     "text": [
      "C:\\Users\\Simone\\anaconda3\\lib\\site-packages\\sklearn\\gaussian_process\\kernels.py:402: ConvergenceWarning: The optimal value found for dimension 0 of parameter k2__length_scale is close to the specified lower bound 0.01. Decreasing the bound and calling fit again may find a better value.\n",
      "  warnings.warn(\"The optimal value found for \"\n",
      "C:\\Users\\Simone\\anaconda3\\lib\\site-packages\\sklearn\\gaussian_process\\kernels.py:402: ConvergenceWarning: The optimal value found for dimension 0 of parameter k2__length_scale is close to the specified lower bound 0.01. Decreasing the bound and calling fit again may find a better value.\n",
      "  warnings.warn(\"The optimal value found for \"\n",
      "C:\\Users\\Simone\\anaconda3\\lib\\site-packages\\sklearn\\gaussian_process\\kernels.py:402: ConvergenceWarning: The optimal value found for dimension 0 of parameter k2__length_scale is close to the specified lower bound 0.01. Decreasing the bound and calling fit again may find a better value.\n",
      "  warnings.warn(\"The optimal value found for \"\n"
     ]
    },
    {
     "name": "stdout",
     "output_type": "stream",
     "text": [
      "18 [1.02169474 2.80363791] -0.67\n",
      "19 [1.02169474 2.86508423] -0.2700000000000002\n",
      "20 [1.08314106 2.80363791] -0.74\n",
      "21 [1.0524179  2.77291476] -0.2899999999999999\n"
     ]
    },
    {
     "name": "stderr",
     "output_type": "stream",
     "text": [
      "C:\\Users\\Simone\\anaconda3\\lib\\site-packages\\sklearn\\gaussian_process\\kernels.py:402: ConvergenceWarning: The optimal value found for dimension 0 of parameter k2__length_scale is close to the specified lower bound 0.01. Decreasing the bound and calling fit again may find a better value.\n",
      "  warnings.warn(\"The optimal value found for \"\n",
      "C:\\Users\\Simone\\anaconda3\\lib\\site-packages\\sklearn\\gaussian_process\\kernels.py:402: ConvergenceWarning: The optimal value found for dimension 0 of parameter k2__length_scale is close to the specified lower bound 0.01. Decreasing the bound and calling fit again may find a better value.\n",
      "  warnings.warn(\"The optimal value found for \"\n",
      "C:\\Users\\Simone\\anaconda3\\lib\\site-packages\\sklearn\\gaussian_process\\kernels.py:402: ConvergenceWarning: The optimal value found for dimension 0 of parameter k2__length_scale is close to the specified lower bound 0.01. Decreasing the bound and calling fit again may find a better value.\n",
      "  warnings.warn(\"The optimal value found for \"\n",
      "C:\\Users\\Simone\\anaconda3\\lib\\site-packages\\sklearn\\gaussian_process\\kernels.py:402: ConvergenceWarning: The optimal value found for dimension 0 of parameter k2__length_scale is close to the specified lower bound 0.01. Decreasing the bound and calling fit again may find a better value.\n",
      "  warnings.warn(\"The optimal value found for \"\n"
     ]
    },
    {
     "name": "stdout",
     "output_type": "stream",
     "text": [
      "22 [1.14458738 2.80363791] -0.46\n",
      "23 [0.96024843 2.80363791] -0.78\n",
      "24 [0.92952527 2.77291476] -0.75\n"
     ]
    },
    {
     "name": "stderr",
     "output_type": "stream",
     "text": [
      "C:\\Users\\Simone\\anaconda3\\lib\\site-packages\\sklearn\\gaussian_process\\kernels.py:402: ConvergenceWarning: The optimal value found for dimension 0 of parameter k2__length_scale is close to the specified lower bound 0.01. Decreasing the bound and calling fit again may find a better value.\n",
      "  warnings.warn(\"The optimal value found for \"\n",
      "C:\\Users\\Simone\\anaconda3\\lib\\site-packages\\sklearn\\gaussian_process\\kernels.py:402: ConvergenceWarning: The optimal value found for dimension 0 of parameter k2__length_scale is close to the specified lower bound 0.01. Decreasing the bound and calling fit again may find a better value.\n",
      "  warnings.warn(\"The optimal value found for \"\n",
      "C:\\Users\\Simone\\anaconda3\\lib\\site-packages\\sklearn\\gaussian_process\\kernels.py:402: ConvergenceWarning: The optimal value found for dimension 0 of parameter k2__length_scale is close to the specified lower bound 0.01. Decreasing the bound and calling fit again may find a better value.\n",
      "  warnings.warn(\"The optimal value found for \"\n"
     ]
    },
    {
     "name": "stdout",
     "output_type": "stream",
     "text": [
      "25 [0.99097159 2.77291476] -0.24000000000000007\n",
      "26 [0.92952527 2.83436107] -0.5800000000000001\n",
      "27 [1.26748001 2.89580739] -0.14000000000000004\n"
     ]
    },
    {
     "name": "stderr",
     "output_type": "stream",
     "text": [
      "C:\\Users\\Simone\\anaconda3\\lib\\site-packages\\sklearn\\gaussian_process\\kernels.py:402: ConvergenceWarning: The optimal value found for dimension 0 of parameter k2__length_scale is close to the specified lower bound 0.01. Decreasing the bound and calling fit again may find a better value.\n",
      "  warnings.warn(\"The optimal value found for \"\n",
      "C:\\Users\\Simone\\anaconda3\\lib\\site-packages\\sklearn\\gaussian_process\\kernels.py:402: ConvergenceWarning: The optimal value found for dimension 0 of parameter k2__length_scale is close to the specified lower bound 0.01. Decreasing the bound and calling fit again may find a better value.\n",
      "  warnings.warn(\"The optimal value found for \"\n",
      "C:\\Users\\Simone\\anaconda3\\lib\\site-packages\\sklearn\\gaussian_process\\kernels.py:402: ConvergenceWarning: The optimal value found for dimension 0 of parameter k2__length_scale is close to the specified lower bound 0.01. Decreasing the bound and calling fit again may find a better value.\n",
      "  warnings.warn(\"The optimal value found for \"\n"
     ]
    },
    {
     "name": "stdout",
     "output_type": "stream",
     "text": [
      "28 [0.89880211 2.80363791] -1.0699999999999998\n",
      "29 [0.89880211 2.80363791] -0.83\n",
      "30 [0.92952527 2.80363791] -0.99\n"
     ]
    },
    {
     "name": "stderr",
     "output_type": "stream",
     "text": [
      "C:\\Users\\Simone\\anaconda3\\lib\\site-packages\\sklearn\\gaussian_process\\kernels.py:402: ConvergenceWarning: The optimal value found for dimension 0 of parameter k2__length_scale is close to the specified lower bound 0.01. Decreasing the bound and calling fit again may find a better value.\n",
      "  warnings.warn(\"The optimal value found for \"\n",
      "C:\\Users\\Simone\\anaconda3\\lib\\site-packages\\sklearn\\gaussian_process\\kernels.py:402: ConvergenceWarning: The optimal value found for dimension 0 of parameter k2__length_scale is close to the specified lower bound 0.01. Decreasing the bound and calling fit again may find a better value.\n",
      "  warnings.warn(\"The optimal value found for \"\n",
      "C:\\Users\\Simone\\anaconda3\\lib\\site-packages\\sklearn\\gaussian_process\\kernels.py:402: ConvergenceWarning: The optimal value found for dimension 0 of parameter k2__length_scale is close to the specified lower bound 0.01. Decreasing the bound and calling fit again may find a better value.\n",
      "  warnings.warn(\"The optimal value found for \"\n"
     ]
    },
    {
     "name": "stdout",
     "output_type": "stream",
     "text": [
      "31 [0.92952527 2.80363791] -0.5600000000000002\n",
      "32 [0.86807895 2.80363791] -0.7000000000000002\n",
      "33 [0.89880211 2.77291476] -1.02\n"
     ]
    },
    {
     "name": "stderr",
     "output_type": "stream",
     "text": [
      "C:\\Users\\Simone\\anaconda3\\lib\\site-packages\\sklearn\\gaussian_process\\kernels.py:402: ConvergenceWarning: The optimal value found for dimension 0 of parameter k2__length_scale is close to the specified lower bound 0.01. Decreasing the bound and calling fit again may find a better value.\n",
      "  warnings.warn(\"The optimal value found for \"\n",
      "C:\\Users\\Simone\\anaconda3\\lib\\site-packages\\sklearn\\gaussian_process\\kernels.py:402: ConvergenceWarning: The optimal value found for dimension 0 of parameter k2__length_scale is close to the specified lower bound 0.01. Decreasing the bound and calling fit again may find a better value.\n",
      "  warnings.warn(\"The optimal value found for \"\n",
      "C:\\Users\\Simone\\anaconda3\\lib\\site-packages\\sklearn\\gaussian_process\\kernels.py:402: ConvergenceWarning: The optimal value found for dimension 0 of parameter k2__length_scale is close to the specified lower bound 0.01. Decreasing the bound and calling fit again may find a better value.\n",
      "  warnings.warn(\"The optimal value found for \"\n"
     ]
    },
    {
     "name": "stdout",
     "output_type": "stream",
     "text": [
      "34 [0.89880211 2.77291476] -0.54\n",
      "35 [0.89880211 2.80363791] -0.4\n",
      "36 [1.08314106 2.83436107] -0.21000000000000013\n"
     ]
    },
    {
     "name": "stderr",
     "output_type": "stream",
     "text": [
      "C:\\Users\\Simone\\anaconda3\\lib\\site-packages\\sklearn\\gaussian_process\\kernels.py:402: ConvergenceWarning: The optimal value found for dimension 0 of parameter k2__length_scale is close to the specified lower bound 0.01. Decreasing the bound and calling fit again may find a better value.\n",
      "  warnings.warn(\"The optimal value found for \"\n",
      "C:\\Users\\Simone\\anaconda3\\lib\\site-packages\\sklearn\\gaussian_process\\kernels.py:402: ConvergenceWarning: The optimal value found for dimension 0 of parameter k2__length_scale is close to the specified lower bound 0.01. Decreasing the bound and calling fit again may find a better value.\n",
      "  warnings.warn(\"The optimal value found for \"\n",
      "C:\\Users\\Simone\\anaconda3\\lib\\site-packages\\sklearn\\gaussian_process\\kernels.py:402: ConvergenceWarning: The optimal value found for dimension 0 of parameter k2__length_scale is close to the specified lower bound 0.01. Decreasing the bound and calling fit again may find a better value.\n",
      "  warnings.warn(\"The optimal value found for \"\n"
     ]
    },
    {
     "name": "stdout",
     "output_type": "stream",
     "text": [
      "37 [1.11386422 2.77291476] -0.11000000000000013\n",
      "38 [1.0524179  2.80363791] -0.32\n",
      "39 [0.99097159 2.83436107] -0.6900000000000002\n"
     ]
    },
    {
     "name": "stderr",
     "output_type": "stream",
     "text": [
      "C:\\Users\\Simone\\anaconda3\\lib\\site-packages\\sklearn\\gaussian_process\\kernels.py:402: ConvergenceWarning: The optimal value found for dimension 0 of parameter k2__length_scale is close to the specified lower bound 0.01. Decreasing the bound and calling fit again may find a better value.\n",
      "  warnings.warn(\"The optimal value found for \"\n",
      "C:\\Users\\Simone\\anaconda3\\lib\\site-packages\\sklearn\\gaussian_process\\kernels.py:402: ConvergenceWarning: The optimal value found for dimension 0 of parameter k2__length_scale is close to the specified lower bound 0.01. Decreasing the bound and calling fit again may find a better value.\n",
      "  warnings.warn(\"The optimal value found for \"\n",
      "C:\\Users\\Simone\\anaconda3\\lib\\site-packages\\sklearn\\gaussian_process\\kernels.py:402: ConvergenceWarning: The optimal value found for dimension 0 of parameter k2__length_scale is close to the specified lower bound 0.01. Decreasing the bound and calling fit again may find a better value.\n",
      "  warnings.warn(\"The optimal value found for \"\n"
     ]
    },
    {
     "name": "stdout",
     "output_type": "stream",
     "text": [
      "40 [1.02169474 2.83436107] -1.0\n",
      "41 [1.02169474 2.83436107] -0.2700000000000002\n",
      "42 [1.35964948 2.89580739] -0.5\n"
     ]
    },
    {
     "name": "stderr",
     "output_type": "stream",
     "text": [
      "C:\\Users\\Simone\\anaconda3\\lib\\site-packages\\sklearn\\gaussian_process\\kernels.py:402: ConvergenceWarning: The optimal value found for dimension 0 of parameter k2__length_scale is close to the specified lower bound 0.01. Decreasing the bound and calling fit again may find a better value.\n",
      "  warnings.warn(\"The optimal value found for \"\n",
      "C:\\Users\\Simone\\anaconda3\\lib\\site-packages\\sklearn\\gaussian_process\\kernels.py:402: ConvergenceWarning: The optimal value found for dimension 0 of parameter k2__length_scale is close to the specified lower bound 0.01. Decreasing the bound and calling fit again may find a better value.\n",
      "  warnings.warn(\"The optimal value found for \"\n",
      "C:\\Users\\Simone\\anaconda3\\lib\\site-packages\\sklearn\\gaussian_process\\kernels.py:402: ConvergenceWarning: The optimal value found for dimension 0 of parameter k2__length_scale is close to the specified lower bound 0.01. Decreasing the bound and calling fit again may find a better value.\n",
      "  warnings.warn(\"The optimal value found for \"\n"
     ]
    },
    {
     "name": "stdout",
     "output_type": "stream",
     "text": [
      "43 [1.0524179  2.86508423] 0.020000000000000025\n",
      "44 [0.96024843 2.89580739] -0.12000000000000002\n"
     ]
    },
    {
     "name": "stderr",
     "output_type": "stream",
     "text": [
      "C:\\Users\\Simone\\anaconda3\\lib\\site-packages\\sklearn\\gaussian_process\\kernels.py:402: ConvergenceWarning: The optimal value found for dimension 0 of parameter k2__length_scale is close to the specified lower bound 0.01. Decreasing the bound and calling fit again may find a better value.\n",
      "  warnings.warn(\"The optimal value found for \"\n",
      "C:\\Users\\Simone\\anaconda3\\lib\\site-packages\\sklearn\\gaussian_process\\kernels.py:402: ConvergenceWarning: The optimal value found for dimension 0 of parameter k2__length_scale is close to the specified lower bound 0.01. Decreasing the bound and calling fit again may find a better value.\n",
      "  warnings.warn(\"The optimal value found for \"\n"
     ]
    },
    {
     "name": "stdout",
     "output_type": "stream",
     "text": [
      "45 [1.14458738 2.86508423] -0.2500000000000001\n",
      "46 [1.0524179  2.71146844] -0.44999999999999996\n"
     ]
    },
    {
     "name": "stderr",
     "output_type": "stream",
     "text": [
      "C:\\Users\\Simone\\anaconda3\\lib\\site-packages\\sklearn\\gaussian_process\\kernels.py:402: ConvergenceWarning: The optimal value found for dimension 0 of parameter k2__length_scale is close to the specified lower bound 0.01. Decreasing the bound and calling fit again may find a better value.\n",
      "  warnings.warn(\"The optimal value found for \"\n",
      "C:\\Users\\Simone\\anaconda3\\lib\\site-packages\\sklearn\\gaussian_process\\kernels.py:402: ConvergenceWarning: The optimal value found for dimension 0 of parameter k2__length_scale is close to the specified lower bound 0.01. Decreasing the bound and calling fit again may find a better value.\n",
      "  warnings.warn(\"The optimal value found for \"\n",
      "C:\\Users\\Simone\\anaconda3\\lib\\site-packages\\sklearn\\gaussian_process\\kernels.py:402: ConvergenceWarning: The optimal value found for dimension 0 of parameter k2__length_scale is close to the specified lower bound 0.01. Decreasing the bound and calling fit again may find a better value.\n",
      "  warnings.warn(\"The optimal value found for \"\n"
     ]
    },
    {
     "name": "stdout",
     "output_type": "stream",
     "text": [
      "47 [0.89880211 2.71146844] -0.8\n",
      "48 [0.86807895 2.68074528] -0.74\n",
      "49 [0.92952527 2.68074528] -0.66\n"
     ]
    },
    {
     "name": "stderr",
     "output_type": "stream",
     "text": [
      "C:\\Users\\Simone\\anaconda3\\lib\\site-packages\\sklearn\\gaussian_process\\kernels.py:402: ConvergenceWarning: The optimal value found for dimension 0 of parameter k2__length_scale is close to the specified lower bound 0.01. Decreasing the bound and calling fit again may find a better value.\n",
      "  warnings.warn(\"The optimal value found for \"\n",
      "C:\\Users\\Simone\\anaconda3\\lib\\site-packages\\sklearn\\gaussian_process\\kernels.py:402: ConvergenceWarning: The optimal value found for dimension 0 of parameter k2__length_scale is close to the specified lower bound 0.01. Decreasing the bound and calling fit again may find a better value.\n",
      "  warnings.warn(\"The optimal value found for \"\n",
      "C:\\Users\\Simone\\anaconda3\\lib\\site-packages\\sklearn\\gaussian_process\\kernels.py:402: ConvergenceWarning: The optimal value found for dimension 0 of parameter k2__length_scale is close to the specified lower bound 0.01. Decreasing the bound and calling fit again may find a better value.\n",
      "  warnings.warn(\"The optimal value found for \"\n"
     ]
    },
    {
     "name": "stdout",
     "output_type": "stream",
     "text": [
      "50 [0.83735579 2.71146844] -1.06\n",
      "51 [0.83735579 2.7421916 ] -1.31\n"
     ]
    },
    {
     "name": "stderr",
     "output_type": "stream",
     "text": [
      "C:\\Users\\Simone\\anaconda3\\lib\\site-packages\\sklearn\\gaussian_process\\kernels.py:402: ConvergenceWarning: The optimal value found for dimension 0 of parameter k2__length_scale is close to the specified lower bound 0.01. Decreasing the bound and calling fit again may find a better value.\n",
      "  warnings.warn(\"The optimal value found for \"\n",
      "C:\\Users\\Simone\\anaconda3\\lib\\site-packages\\sklearn\\gaussian_process\\kernels.py:402: ConvergenceWarning: The optimal value found for dimension 0 of parameter k2__length_scale is close to the specified lower bound 0.01. Decreasing the bound and calling fit again may find a better value.\n",
      "  warnings.warn(\"The optimal value found for \"\n"
     ]
    },
    {
     "name": "stdout",
     "output_type": "stream",
     "text": [
      "52 [0.83735579 2.7421916 ] -0.8700000000000001\n",
      "53 [0.80663264 2.7421916 ] -1.1\n"
     ]
    },
    {
     "name": "stderr",
     "output_type": "stream",
     "text": [
      "C:\\Users\\Simone\\anaconda3\\lib\\site-packages\\sklearn\\gaussian_process\\kernels.py:402: ConvergenceWarning: The optimal value found for dimension 0 of parameter k2__length_scale is close to the specified lower bound 0.01. Decreasing the bound and calling fit again may find a better value.\n",
      "  warnings.warn(\"The optimal value found for \"\n",
      "C:\\Users\\Simone\\anaconda3\\lib\\site-packages\\sklearn\\gaussian_process\\kernels.py:402: ConvergenceWarning: The optimal value found for dimension 0 of parameter k2__length_scale is close to the specified lower bound 0.01. Decreasing the bound and calling fit again may find a better value.\n",
      "  warnings.warn(\"The optimal value found for \"\n"
     ]
    },
    {
     "name": "stdout",
     "output_type": "stream",
     "text": [
      "54 [0.80663264 2.71146844] -0.9099999999999999\n",
      "55 [0.80663264 2.7421916 ] -0.9300000000000002\n"
     ]
    },
    {
     "name": "stderr",
     "output_type": "stream",
     "text": [
      "C:\\Users\\Simone\\anaconda3\\lib\\site-packages\\sklearn\\gaussian_process\\kernels.py:402: ConvergenceWarning: The optimal value found for dimension 0 of parameter k2__length_scale is close to the specified lower bound 0.01. Decreasing the bound and calling fit again may find a better value.\n",
      "  warnings.warn(\"The optimal value found for \"\n",
      "C:\\Users\\Simone\\anaconda3\\lib\\site-packages\\sklearn\\gaussian_process\\kernels.py:402: ConvergenceWarning: The optimal value found for dimension 0 of parameter k2__length_scale is close to the specified lower bound 0.01. Decreasing the bound and calling fit again may find a better value.\n",
      "  warnings.warn(\"The optimal value found for \"\n"
     ]
    },
    {
     "name": "stdout",
     "output_type": "stream",
     "text": [
      "56 [0.83735579 2.7421916 ] -0.8800000000000001\n",
      "57 [0.83735579 2.71146844] -1.05\n",
      "58"
     ]
    },
    {
     "name": "stderr",
     "output_type": "stream",
     "text": [
      "C:\\Users\\Simone\\anaconda3\\lib\\site-packages\\sklearn\\gaussian_process\\kernels.py:402: ConvergenceWarning: The optimal value found for dimension 0 of parameter k2__length_scale is close to the specified lower bound 0.01. Decreasing the bound and calling fit again may find a better value.\n",
      "  warnings.warn(\"The optimal value found for \"\n",
      "C:\\Users\\Simone\\anaconda3\\lib\\site-packages\\sklearn\\gaussian_process\\kernels.py:402: ConvergenceWarning: The optimal value found for dimension 0 of parameter k2__length_scale is close to the specified lower bound 0.01. Decreasing the bound and calling fit again may find a better value.\n",
      "  warnings.warn(\"The optimal value found for \"\n"
     ]
    },
    {
     "name": "stdout",
     "output_type": "stream",
     "text": [
      " [0.83735579 2.71146844] -1.01\n",
      "59 [0.83735579 2.71146844] -1.0100000000000002\n"
     ]
    },
    {
     "name": "stderr",
     "output_type": "stream",
     "text": [
      "C:\\Users\\Simone\\anaconda3\\lib\\site-packages\\sklearn\\gaussian_process\\kernels.py:402: ConvergenceWarning: The optimal value found for dimension 0 of parameter k2__length_scale is close to the specified lower bound 0.01. Decreasing the bound and calling fit again may find a better value.\n",
      "  warnings.warn(\"The optimal value found for \"\n",
      "C:\\Users\\Simone\\anaconda3\\lib\\site-packages\\sklearn\\gaussian_process\\kernels.py:402: ConvergenceWarning: The optimal value found for dimension 0 of parameter k2__length_scale is close to the specified lower bound 0.01. Decreasing the bound and calling fit again may find a better value.\n",
      "  warnings.warn(\"The optimal value found for \"\n",
      "C:\\Users\\Simone\\anaconda3\\lib\\site-packages\\sklearn\\gaussian_process\\kernels.py:402: ConvergenceWarning: The optimal value found for dimension 0 of parameter k2__length_scale is close to the specified lower bound 0.01. Decreasing the bound and calling fit again may find a better value.\n",
      "  warnings.warn(\"The optimal value found for \"\n"
     ]
    },
    {
     "name": "stdout",
     "output_type": "stream",
     "text": [
      "60 [0.80663264 2.77291476] -1.1400000000000001\n",
      "61 [0.80663264 2.77291476] -0.3000000000000001\n",
      "62 [0.83735579 2.71146844] -1.12\n",
      "63 [0.83735579 2.71146844] -1.12\n"
     ]
    },
    {
     "name": "stderr",
     "output_type": "stream",
     "text": [
      "C:\\Users\\Simone\\anaconda3\\lib\\site-packages\\sklearn\\gaussian_process\\kernels.py:402: ConvergenceWarning: The optimal value found for dimension 0 of parameter k2__length_scale is close to the specified lower bound 0.01. Decreasing the bound and calling fit again may find a better value.\n",
      "  warnings.warn(\"The optimal value found for \"\n",
      "C:\\Users\\Simone\\anaconda3\\lib\\site-packages\\sklearn\\gaussian_process\\kernels.py:402: ConvergenceWarning: The optimal value found for dimension 0 of parameter k2__length_scale is close to the specified lower bound 0.01. Decreasing the bound and calling fit again may find a better value.\n",
      "  warnings.warn(\"The optimal value found for \"\n"
     ]
    },
    {
     "name": "stdout",
     "output_type": "stream",
     "text": [
      "64 [0.83735579 2.71146844] -0.74\n",
      "65 [0.83735579 2.7421916 ] -1.0\n"
     ]
    },
    {
     "name": "stderr",
     "output_type": "stream",
     "text": [
      "C:\\Users\\Simone\\anaconda3\\lib\\site-packages\\sklearn\\gaussian_process\\kernels.py:402: ConvergenceWarning: The optimal value found for dimension 0 of parameter k2__length_scale is close to the specified lower bound 0.01. Decreasing the bound and calling fit again may find a better value.\n",
      "  warnings.warn(\"The optimal value found for \"\n",
      "C:\\Users\\Simone\\anaconda3\\lib\\site-packages\\sklearn\\gaussian_process\\kernels.py:402: ConvergenceWarning: The optimal value found for dimension 0 of parameter k2__length_scale is close to the specified lower bound 0.01. Decreasing the bound and calling fit again may find a better value.\n",
      "  warnings.warn(\"The optimal value found for \"\n"
     ]
    },
    {
     "name": "stdout",
     "output_type": "stream",
     "text": [
      "66 [0.83735579 2.7421916 ] -0.78\n",
      "67 [0.77590948 2.7421916 ] -0.81\n"
     ]
    },
    {
     "name": "stderr",
     "output_type": "stream",
     "text": [
      "C:\\Users\\Simone\\anaconda3\\lib\\site-packages\\sklearn\\gaussian_process\\kernels.py:402: ConvergenceWarning: The optimal value found for dimension 0 of parameter k2__length_scale is close to the specified lower bound 0.01. Decreasing the bound and calling fit again may find a better value.\n",
      "  warnings.warn(\"The optimal value found for \"\n",
      "C:\\Users\\Simone\\anaconda3\\lib\\site-packages\\sklearn\\gaussian_process\\kernels.py:402: ConvergenceWarning: The optimal value found for dimension 0 of parameter k2__length_scale is close to the specified lower bound 0.01. Decreasing the bound and calling fit again may find a better value.\n",
      "  warnings.warn(\"The optimal value found for \"\n"
     ]
    },
    {
     "name": "stdout",
     "output_type": "stream",
     "text": [
      "68 [0.80663264 2.7421916 ] -0.97\n",
      "69 [0.83735579 2.71146844] -0.78\n"
     ]
    },
    {
     "name": "stderr",
     "output_type": "stream",
     "text": [
      "C:\\Users\\Simone\\anaconda3\\lib\\site-packages\\sklearn\\gaussian_process\\kernels.py:402: ConvergenceWarning: The optimal value found for dimension 0 of parameter k2__length_scale is close to the specified lower bound 0.01. Decreasing the bound and calling fit again may find a better value.\n",
      "  warnings.warn(\"The optimal value found for \"\n",
      "C:\\Users\\Simone\\anaconda3\\lib\\site-packages\\sklearn\\gaussian_process\\kernels.py:402: ConvergenceWarning: The optimal value found for dimension 0 of parameter k2__length_scale is close to the specified lower bound 0.01. Decreasing the bound and calling fit again may find a better value.\n",
      "  warnings.warn(\"The optimal value found for \"\n"
     ]
    },
    {
     "name": "stdout",
     "output_type": "stream",
     "text": [
      "70 [0.80663264 2.7421916 ] -0.5700000000000001\n",
      "71 [0.86807895 2.7421916 ] -1.1099999999999999\n"
     ]
    },
    {
     "name": "stderr",
     "output_type": "stream",
     "text": [
      "C:\\Users\\Simone\\anaconda3\\lib\\site-packages\\sklearn\\gaussian_process\\kernels.py:402: ConvergenceWarning: The optimal value found for dimension 0 of parameter k2__length_scale is close to the specified lower bound 0.01. Decreasing the bound and calling fit again may find a better value.\n",
      "  warnings.warn(\"The optimal value found for \"\n",
      "C:\\Users\\Simone\\anaconda3\\lib\\site-packages\\sklearn\\gaussian_process\\kernels.py:402: ConvergenceWarning: The optimal value found for dimension 0 of parameter k2__length_scale is close to the specified lower bound 0.01. Decreasing the bound and calling fit again may find a better value.\n",
      "  warnings.warn(\"The optimal value found for \"\n"
     ]
    },
    {
     "name": "stdout",
     "output_type": "stream",
     "text": [
      "72 [0.86807895 2.7421916 ] -0.47000000000000014\n",
      "73 [0.74518632 2.71146844] -0.74\n"
     ]
    },
    {
     "name": "stderr",
     "output_type": "stream",
     "text": [
      "C:\\Users\\Simone\\anaconda3\\lib\\site-packages\\sklearn\\gaussian_process\\kernels.py:402: ConvergenceWarning: The optimal value found for dimension 0 of parameter k2__length_scale is close to the specified lower bound 0.01. Decreasing the bound and calling fit again may find a better value.\n",
      "  warnings.warn(\"The optimal value found for \"\n",
      "C:\\Users\\Simone\\anaconda3\\lib\\site-packages\\sklearn\\gaussian_process\\kernels.py:402: ConvergenceWarning: The optimal value found for dimension 0 of parameter k2__length_scale is close to the specified lower bound 0.01. Decreasing the bound and calling fit again may find a better value.\n",
      "  warnings.warn(\"The optimal value found for \"\n"
     ]
    },
    {
     "name": "stdout",
     "output_type": "stream",
     "text": [
      "74 [0.83735579 2.71146844] -0.96\n",
      "75 [0.83735579 2.71146844] -0.48\n"
     ]
    },
    {
     "name": "stderr",
     "output_type": "stream",
     "text": [
      "C:\\Users\\Simone\\anaconda3\\lib\\site-packages\\sklearn\\gaussian_process\\kernels.py:402: ConvergenceWarning: The optimal value found for dimension 0 of parameter k2__length_scale is close to the specified lower bound 0.01. Decreasing the bound and calling fit again may find a better value.\n",
      "  warnings.warn(\"The optimal value found for \"\n",
      "C:\\Users\\Simone\\anaconda3\\lib\\site-packages\\sklearn\\gaussian_process\\kernels.py:402: ConvergenceWarning: The optimal value found for dimension 0 of parameter k2__length_scale is close to the specified lower bound 0.01. Decreasing the bound and calling fit again may find a better value.\n",
      "  warnings.warn(\"The optimal value found for \"\n"
     ]
    },
    {
     "name": "stdout",
     "output_type": "stream",
     "text": [
      "76 [0.80663264 2.65002212] -1.13\n",
      "77 [0.77590948 2.65002212] -1.06\n"
     ]
    },
    {
     "name": "stderr",
     "output_type": "stream",
     "text": [
      "C:\\Users\\Simone\\anaconda3\\lib\\site-packages\\sklearn\\gaussian_process\\kernels.py:402: ConvergenceWarning: The optimal value found for dimension 0 of parameter k2__length_scale is close to the specified lower bound 0.01. Decreasing the bound and calling fit again may find a better value.\n",
      "  warnings.warn(\"The optimal value found for \"\n",
      "C:\\Users\\Simone\\anaconda3\\lib\\site-packages\\sklearn\\gaussian_process\\kernels.py:402: ConvergenceWarning: The optimal value found for dimension 0 of parameter k2__length_scale is close to the specified lower bound 0.01. Decreasing the bound and calling fit again may find a better value.\n",
      "  warnings.warn(\"The optimal value found for \"\n"
     ]
    },
    {
     "name": "stdout",
     "output_type": "stream",
     "text": [
      "78 [0.80663264 2.61929897] -0.8900000000000001\n",
      "79 [0.80663264 2.65002212] -0.87\n"
     ]
    },
    {
     "name": "stderr",
     "output_type": "stream",
     "text": [
      "C:\\Users\\Simone\\anaconda3\\lib\\site-packages\\sklearn\\gaussian_process\\kernels.py:402: ConvergenceWarning: The optimal value found for dimension 0 of parameter k2__length_scale is close to the specified lower bound 0.01. Decreasing the bound and calling fit again may find a better value.\n",
      "  warnings.warn(\"The optimal value found for \"\n",
      "C:\\Users\\Simone\\anaconda3\\lib\\site-packages\\sklearn\\gaussian_process\\kernels.py:402: ConvergenceWarning: The optimal value found for dimension 0 of parameter k2__length_scale is close to the specified lower bound 0.01. Decreasing the bound and calling fit again may find a better value.\n",
      "  warnings.warn(\"The optimal value found for \"\n"
     ]
    },
    {
     "name": "stdout",
     "output_type": "stream",
     "text": [
      "80 [0.77590948 2.68074528] -1.15\n",
      "81 [0.77590948 2.68074528] -1.36\n"
     ]
    },
    {
     "name": "stderr",
     "output_type": "stream",
     "text": [
      "C:\\Users\\Simone\\anaconda3\\lib\\site-packages\\sklearn\\gaussian_process\\kernels.py:402: ConvergenceWarning: The optimal value found for dimension 0 of parameter k2__length_scale is close to the specified lower bound 0.01. Decreasing the bound and calling fit again may find a better value.\n",
      "  warnings.warn(\"The optimal value found for \"\n",
      "C:\\Users\\Simone\\anaconda3\\lib\\site-packages\\sklearn\\gaussian_process\\kernels.py:402: ConvergenceWarning: The optimal value found for dimension 0 of parameter k2__length_scale is close to the specified lower bound 0.01. Decreasing the bound and calling fit again may find a better value.\n",
      "  warnings.warn(\"The optimal value found for \"\n"
     ]
    },
    {
     "name": "stdout",
     "output_type": "stream",
     "text": [
      "82 [0.77590948 2.68074528] -1.07\n",
      "83 [0.77590948 2.68074528] -1.12\n"
     ]
    },
    {
     "name": "stderr",
     "output_type": "stream",
     "text": [
      "C:\\Users\\Simone\\anaconda3\\lib\\site-packages\\sklearn\\gaussian_process\\kernels.py:402: ConvergenceWarning: The optimal value found for dimension 0 of parameter k2__length_scale is close to the specified lower bound 0.01. Decreasing the bound and calling fit again may find a better value.\n",
      "  warnings.warn(\"The optimal value found for \"\n",
      "C:\\Users\\Simone\\anaconda3\\lib\\site-packages\\sklearn\\gaussian_process\\kernels.py:402: ConvergenceWarning: The optimal value found for dimension 0 of parameter k2__length_scale is close to the specified lower bound 0.01. Decreasing the bound and calling fit again may find a better value.\n",
      "  warnings.warn(\"The optimal value found for \"\n"
     ]
    },
    {
     "name": "stdout",
     "output_type": "stream",
     "text": [
      "84 [0.77590948 2.68074528] -1.07\n",
      "85 [0.77590948 2.68074528] -1.0\n"
     ]
    },
    {
     "name": "stderr",
     "output_type": "stream",
     "text": [
      "C:\\Users\\Simone\\anaconda3\\lib\\site-packages\\sklearn\\gaussian_process\\kernels.py:402: ConvergenceWarning: The optimal value found for dimension 0 of parameter k2__length_scale is close to the specified lower bound 0.01. Decreasing the bound and calling fit again may find a better value.\n",
      "  warnings.warn(\"The optimal value found for \"\n",
      "C:\\Users\\Simone\\anaconda3\\lib\\site-packages\\sklearn\\gaussian_process\\kernels.py:402: ConvergenceWarning: The optimal value found for dimension 0 of parameter k2__length_scale is close to the specified lower bound 0.01. Decreasing the bound and calling fit again may find a better value.\n",
      "  warnings.warn(\"The optimal value found for \"\n"
     ]
    },
    {
     "name": "stdout",
     "output_type": "stream",
     "text": [
      "86 [0.77590948 2.68074528] -0.6200000000000001\n",
      "87 [0.74518632 2.65002212] -1.01\n"
     ]
    },
    {
     "name": "stderr",
     "output_type": "stream",
     "text": [
      "C:\\Users\\Simone\\anaconda3\\lib\\site-packages\\sklearn\\gaussian_process\\kernels.py:402: ConvergenceWarning: The optimal value found for dimension 0 of parameter k2__length_scale is close to the specified lower bound 0.01. Decreasing the bound and calling fit again may find a better value.\n",
      "  warnings.warn(\"The optimal value found for \"\n",
      "C:\\Users\\Simone\\anaconda3\\lib\\site-packages\\sklearn\\gaussian_process\\kernels.py:402: ConvergenceWarning: The optimal value found for dimension 0 of parameter k2__length_scale is close to the specified lower bound 0.01. Decreasing the bound and calling fit again may find a better value.\n",
      "  warnings.warn(\"The optimal value found for \"\n"
     ]
    },
    {
     "name": "stdout",
     "output_type": "stream",
     "text": [
      "88 [0.74518632 2.61929897] -1.08\n",
      "89 [0.71446316 2.61929897] -1.2400000000000002\n"
     ]
    },
    {
     "name": "stderr",
     "output_type": "stream",
     "text": [
      "C:\\Users\\Simone\\anaconda3\\lib\\site-packages\\sklearn\\gaussian_process\\kernels.py:402: ConvergenceWarning: The optimal value found for dimension 0 of parameter k2__length_scale is close to the specified lower bound 0.01. Decreasing the bound and calling fit again may find a better value.\n",
      "  warnings.warn(\"The optimal value found for \"\n",
      "C:\\Users\\Simone\\anaconda3\\lib\\site-packages\\sklearn\\gaussian_process\\kernels.py:402: ConvergenceWarning: The optimal value found for dimension 0 of parameter k2__length_scale is close to the specified lower bound 0.01. Decreasing the bound and calling fit again may find a better value.\n",
      "  warnings.warn(\"The optimal value found for \"\n"
     ]
    },
    {
     "name": "stdout",
     "output_type": "stream",
     "text": [
      "90 [0.71446316 2.58857581] -1.14\n"
     ]
    },
    {
     "name": "stderr",
     "output_type": "stream",
     "text": [
      "C:\\Users\\Simone\\anaconda3\\lib\\site-packages\\sklearn\\gaussian_process\\kernels.py:402: ConvergenceWarning: The optimal value found for dimension 0 of parameter k2__length_scale is close to the specified lower bound 0.01. Decreasing the bound and calling fit again may find a better value.\n",
      "  warnings.warn(\"The optimal value found for \"\n"
     ]
    },
    {
     "name": "stdout",
     "output_type": "stream",
     "text": [
      "91 [0.71446316 2.61929897] -1.01\n"
     ]
    },
    {
     "name": "stderr",
     "output_type": "stream",
     "text": [
      "C:\\Users\\Simone\\anaconda3\\lib\\site-packages\\sklearn\\gaussian_process\\kernels.py:402: ConvergenceWarning: The optimal value found for dimension 0 of parameter k2__length_scale is close to the specified lower bound 0.01. Decreasing the bound and calling fit again may find a better value.\n",
      "  warnings.warn(\"The optimal value found for \"\n"
     ]
    },
    {
     "name": "stdout",
     "output_type": "stream",
     "text": [
      "92 [0.68374    2.58857581] -0.9900000000000001\n"
     ]
    },
    {
     "name": "stderr",
     "output_type": "stream",
     "text": [
      "C:\\Users\\Simone\\anaconda3\\lib\\site-packages\\sklearn\\gaussian_process\\kernels.py:402: ConvergenceWarning: The optimal value found for dimension 0 of parameter k2__length_scale is close to the specified lower bound 0.01. Decreasing the bound and calling fit again may find a better value.\n",
      "  warnings.warn(\"The optimal value found for \"\n",
      "C:\\Users\\Simone\\anaconda3\\lib\\site-packages\\sklearn\\gaussian_process\\kernels.py:402: ConvergenceWarning: The optimal value found for dimension 0 of parameter k2__length_scale is close to the specified lower bound 0.01. Decreasing the bound and calling fit again may find a better value.\n",
      "  warnings.warn(\"The optimal value found for \"\n"
     ]
    },
    {
     "name": "stdout",
     "output_type": "stream",
     "text": [
      "93 [0.71446316 2.58857581] -0.8500000000000001\n",
      "94 [0.68374    2.61929897] -1.1700000000000002\n"
     ]
    },
    {
     "name": "stderr",
     "output_type": "stream",
     "text": [
      "C:\\Users\\Simone\\anaconda3\\lib\\site-packages\\sklearn\\gaussian_process\\kernels.py:402: ConvergenceWarning: The optimal value found for dimension 0 of parameter k2__length_scale is close to the specified lower bound 0.01. Decreasing the bound and calling fit again may find a better value.\n",
      "  warnings.warn(\"The optimal value found for \"\n",
      "C:\\Users\\Simone\\anaconda3\\lib\\site-packages\\sklearn\\gaussian_process\\kernels.py:402: ConvergenceWarning: The optimal value found for dimension 0 of parameter k2__length_scale is close to the specified lower bound 0.01. Decreasing the bound and calling fit again may find a better value.\n",
      "  warnings.warn(\"The optimal value found for \"\n"
     ]
    },
    {
     "name": "stdout",
     "output_type": "stream",
     "text": [
      "95 [0.68374    2.65002212] -1.34\n",
      "96 [0.68374    2.65002212] -1.1600000000000001\n"
     ]
    },
    {
     "name": "stderr",
     "output_type": "stream",
     "text": [
      "C:\\Users\\Simone\\anaconda3\\lib\\site-packages\\sklearn\\gaussian_process\\kernels.py:402: ConvergenceWarning: The optimal value found for dimension 0 of parameter k2__length_scale is close to the specified lower bound 0.01. Decreasing the bound and calling fit again may find a better value.\n",
      "  warnings.warn(\"The optimal value found for \"\n",
      "C:\\Users\\Simone\\anaconda3\\lib\\site-packages\\sklearn\\gaussian_process\\kernels.py:402: ConvergenceWarning: The optimal value found for dimension 0 of parameter k2__length_scale is close to the specified lower bound 0.01. Decreasing the bound and calling fit again may find a better value.\n",
      "  warnings.warn(\"The optimal value found for \"\n"
     ]
    },
    {
     "name": "stdout",
     "output_type": "stream",
     "text": [
      "97 [0.65301685 2.65002212] -1.2200000000000002\n",
      "98 [0.68374    2.65002212] -1.34\n"
     ]
    },
    {
     "name": "stderr",
     "output_type": "stream",
     "text": [
      "C:\\Users\\Simone\\anaconda3\\lib\\site-packages\\sklearn\\gaussian_process\\kernels.py:402: ConvergenceWarning: The optimal value found for dimension 0 of parameter k2__length_scale is close to the specified lower bound 0.01. Decreasing the bound and calling fit again may find a better value.\n",
      "  warnings.warn(\"The optimal value found for \"\n",
      "C:\\Users\\Simone\\anaconda3\\lib\\site-packages\\sklearn\\gaussian_process\\kernels.py:402: ConvergenceWarning: The optimal value found for dimension 0 of parameter k2__length_scale is close to the specified lower bound 0.01. Decreasing the bound and calling fit again may find a better value.\n",
      "  warnings.warn(\"The optimal value found for \"\n"
     ]
    },
    {
     "name": "stdout",
     "output_type": "stream",
     "text": [
      "99 [0.68374    2.65002212] -0.8800000000000001\n",
      "reached limit\n",
      "200\n",
      "[1.2391984739607858, 2.9916856500391167]\n",
      "0 [0.1 0.1] 0.25499999999999995\n"
     ]
    },
    {
     "name": "stderr",
     "output_type": "stream",
     "text": [
      "C:\\Users\\Simone\\anaconda3\\lib\\site-packages\\sklearn\\gaussian_process\\kernels.py:402: ConvergenceWarning: The optimal value found for dimension 0 of parameter k1__constant_value is close to the specified lower bound 0.001. Decreasing the bound and calling fit again may find a better value.\n",
      "  warnings.warn(\"The optimal value found for \"\n",
      "C:\\Users\\Simone\\anaconda3\\lib\\site-packages\\sklearn\\gaussian_process\\kernels.py:402: ConvergenceWarning: The optimal value found for dimension 0 of parameter k2__length_scale is close to the specified lower bound 0.01. Decreasing the bound and calling fit again may find a better value.\n",
      "  warnings.warn(\"The optimal value found for \"\n",
      "C:\\Users\\Simone\\anaconda3\\lib\\site-packages\\sklearn\\gaussian_process\\kernels.py:402: ConvergenceWarning: The optimal value found for dimension 0 of parameter k2__length_scale is close to the specified lower bound 0.01. Decreasing the bound and calling fit again may find a better value.\n",
      "  warnings.warn(\"The optimal value found for \"\n"
     ]
    },
    {
     "name": "stdout",
     "output_type": "stream",
     "text": [
      "1 [1.20603369 2.98797686] 0.16999999999999998\n",
      "2 [1.26748001 2.98797686] -0.05500000000000009\n",
      "3 [1.26748001 2.98797686] -0.33000000000000007\n",
      "4 [1.29820317 3.01870002] -0.25000000000000006\n",
      "5 [1.32892632 2.9572537 ] -0.15000000000000008\n",
      "6 [1.29820317 2.98797686] -0.3700000000000001\n",
      "7 [1.29820317 2.98797686] -0.004999999999999984\n",
      "8 [1.26748001 3.04942318] -0.14500000000000005\n",
      "9 [1.32892632 3.04942318] 0.19000000000000006\n",
      "10 [1.26748001 3.01870002] 0.004999999999999904\n",
      "11 [1.26748001 3.08014634] 0.25999999999999995\n"
     ]
    },
    {
     "name": "stderr",
     "output_type": "stream",
     "text": [
      "C:\\Users\\Simone\\anaconda3\\lib\\site-packages\\sklearn\\gaussian_process\\kernels.py:402: ConvergenceWarning: The optimal value found for dimension 0 of parameter k2__length_scale is close to the specified lower bound 0.01. Decreasing the bound and calling fit again may find a better value.\n",
      "  warnings.warn(\"The optimal value found for \"\n",
      "C:\\Users\\Simone\\anaconda3\\lib\\site-packages\\sklearn\\gaussian_process\\kernels.py:402: ConvergenceWarning: The optimal value found for dimension 0 of parameter k2__length_scale is close to the specified lower bound 0.01. Decreasing the bound and calling fit again may find a better value.\n",
      "  warnings.warn(\"The optimal value found for \"\n",
      "C:\\Users\\Simone\\anaconda3\\lib\\site-packages\\sklearn\\gaussian_process\\kernels.py:402: ConvergenceWarning: The optimal value found for dimension 0 of parameter k2__length_scale is close to the specified lower bound 0.01. Decreasing the bound and calling fit again may find a better value.\n",
      "  warnings.warn(\"The optimal value found for \"\n",
      "C:\\Users\\Simone\\anaconda3\\lib\\site-packages\\sklearn\\gaussian_process\\kernels.py:402: ConvergenceWarning: The optimal value found for dimension 0 of parameter k2__length_scale is close to the specified lower bound 0.01. Decreasing the bound and calling fit again may find a better value.\n",
      "  warnings.warn(\"The optimal value found for \"\n"
     ]
    },
    {
     "name": "stdout",
     "output_type": "stream",
     "text": [
      "12 [1.26748001 2.9572537 ] -0.41000000000000003\n",
      "13 [1.26748001 2.9572537 ] -0.24500000000000005\n",
      "14 [1.26748001 2.9572537 ] -0.2600000000000001\n"
     ]
    },
    {
     "name": "stderr",
     "output_type": "stream",
     "text": [
      "C:\\Users\\Simone\\anaconda3\\lib\\site-packages\\sklearn\\gaussian_process\\kernels.py:402: ConvergenceWarning: The optimal value found for dimension 0 of parameter k2__length_scale is close to the specified lower bound 0.01. Decreasing the bound and calling fit again may find a better value.\n",
      "  warnings.warn(\"The optimal value found for \"\n",
      "C:\\Users\\Simone\\anaconda3\\lib\\site-packages\\sklearn\\gaussian_process\\kernels.py:402: ConvergenceWarning: The optimal value found for dimension 0 of parameter k2__length_scale is close to the specified lower bound 0.01. Decreasing the bound and calling fit again may find a better value.\n",
      "  warnings.warn(\"The optimal value found for \"\n",
      "C:\\Users\\Simone\\anaconda3\\lib\\site-packages\\sklearn\\gaussian_process\\kernels.py:402: ConvergenceWarning: The optimal value found for dimension 0 of parameter k2__length_scale is close to the specified lower bound 0.01. Decreasing the bound and calling fit again may find a better value.\n",
      "  warnings.warn(\"The optimal value found for \"\n"
     ]
    },
    {
     "name": "stdout",
     "output_type": "stream",
     "text": [
      "15 [1.26748001 2.9572537 ] -0.44999999999999996\n",
      "16 [1.26748001 2.9572537 ] -0.08000000000000007\n",
      "17 [1.26748001 2.9572537 ] -0.3800000000000001\n"
     ]
    },
    {
     "name": "stderr",
     "output_type": "stream",
     "text": [
      "C:\\Users\\Simone\\anaconda3\\lib\\site-packages\\sklearn\\gaussian_process\\kernels.py:402: ConvergenceWarning: The optimal value found for dimension 0 of parameter k2__length_scale is close to the specified lower bound 0.01. Decreasing the bound and calling fit again may find a better value.\n",
      "  warnings.warn(\"The optimal value found for \"\n",
      "C:\\Users\\Simone\\anaconda3\\lib\\site-packages\\sklearn\\gaussian_process\\kernels.py:402: ConvergenceWarning: The optimal value found for dimension 0 of parameter k2__length_scale is close to the specified lower bound 0.01. Decreasing the bound and calling fit again may find a better value.\n",
      "  warnings.warn(\"The optimal value found for \"\n",
      "C:\\Users\\Simone\\anaconda3\\lib\\site-packages\\sklearn\\gaussian_process\\kernels.py:402: ConvergenceWarning: The optimal value found for dimension 0 of parameter k2__length_scale is close to the specified lower bound 0.01. Decreasing the bound and calling fit again may find a better value.\n",
      "  warnings.warn(\"The optimal value found for \"\n",
      "C:\\Users\\Simone\\anaconda3\\lib\\site-packages\\sklearn\\gaussian_process\\kernels.py:402: ConvergenceWarning: The optimal value found for dimension 0 of parameter k2__length_scale is close to the specified lower bound 0.01. Decreasing the bound and calling fit again may find a better value.\n",
      "  warnings.warn(\"The optimal value found for \"\n"
     ]
    },
    {
     "name": "stdout",
     "output_type": "stream",
     "text": [
      "18 [1.26748001 2.9572537 ] 0.029999999999999864\n",
      "19 [1.35964948 2.92653055] -0.26500000000000007\n",
      "20 [1.32892632 2.89580739] -0.27499999999999997\n"
     ]
    },
    {
     "name": "stderr",
     "output_type": "stream",
     "text": [
      "C:\\Users\\Simone\\anaconda3\\lib\\site-packages\\sklearn\\gaussian_process\\kernels.py:402: ConvergenceWarning: The optimal value found for dimension 0 of parameter k2__length_scale is close to the specified lower bound 0.01. Decreasing the bound and calling fit again may find a better value.\n",
      "  warnings.warn(\"The optimal value found for \"\n",
      "C:\\Users\\Simone\\anaconda3\\lib\\site-packages\\sklearn\\gaussian_process\\kernels.py:402: ConvergenceWarning: The optimal value found for dimension 0 of parameter k2__length_scale is close to the specified lower bound 0.01. Decreasing the bound and calling fit again may find a better value.\n",
      "  warnings.warn(\"The optimal value found for \"\n",
      "C:\\Users\\Simone\\anaconda3\\lib\\site-packages\\sklearn\\gaussian_process\\kernels.py:402: ConvergenceWarning: The optimal value found for dimension 0 of parameter k2__length_scale is close to the specified lower bound 0.01. Decreasing the bound and calling fit again may find a better value.\n",
      "  warnings.warn(\"The optimal value found for \"\n"
     ]
    },
    {
     "name": "stdout",
     "output_type": "stream",
     "text": [
      "21 [1.35964948 2.86508423] -0.32500000000000007\n",
      "22 [1.39037264 2.89580739] -0.11000000000000007\n",
      "23 [1.32892632 2.86508423] -0.22499999999999995\n",
      "24 [1.35964948 2.83436107] -0.21000000000000002\n",
      "25 [1.35964948 2.86508423] -0.15999999999999998\n",
      "26 [1.32892632 2.92653055] -0.075\n"
     ]
    },
    {
     "name": "stderr",
     "output_type": "stream",
     "text": [
      "C:\\Users\\Simone\\anaconda3\\lib\\site-packages\\sklearn\\gaussian_process\\kernels.py:402: ConvergenceWarning: The optimal value found for dimension 0 of parameter k2__length_scale is close to the specified lower bound 0.01. Decreasing the bound and calling fit again may find a better value.\n",
      "  warnings.warn(\"The optimal value found for \"\n",
      "C:\\Users\\Simone\\anaconda3\\lib\\site-packages\\sklearn\\gaussian_process\\kernels.py:402: ConvergenceWarning: The optimal value found for dimension 0 of parameter k2__length_scale is close to the specified lower bound 0.01. Decreasing the bound and calling fit again may find a better value.\n",
      "  warnings.warn(\"The optimal value found for \"\n",
      "C:\\Users\\Simone\\anaconda3\\lib\\site-packages\\sklearn\\gaussian_process\\kernels.py:402: ConvergenceWarning: The optimal value found for dimension 0 of parameter k2__length_scale is close to the specified lower bound 0.01. Decreasing the bound and calling fit again may find a better value.\n",
      "  warnings.warn(\"The optimal value found for \"\n",
      "C:\\Users\\Simone\\anaconda3\\lib\\site-packages\\sklearn\\gaussian_process\\kernels.py:402: ConvergenceWarning: The optimal value found for dimension 0 of parameter k2__length_scale is close to the specified lower bound 0.01. Decreasing the bound and calling fit again may find a better value.\n",
      "  warnings.warn(\"The optimal value found for \"\n",
      "C:\\Users\\Simone\\anaconda3\\lib\\site-packages\\sklearn\\gaussian_process\\kernels.py:402: ConvergenceWarning: The optimal value found for dimension 0 of parameter k2__length_scale is close to the specified lower bound 0.01. Decreasing the bound and calling fit again may find a better value.\n",
      "  warnings.warn(\"The optimal value found for \"\n"
     ]
    },
    {
     "name": "stdout",
     "output_type": "stream",
     "text": [
      "27 [1.39037264 2.9572537 ] -0.28000000000000014\n",
      "28 [1.35964948 2.98797686] -0.18500000000000003\n",
      "29 [1.35964948 2.89580739] -0.38\n",
      "30 [1.35964948 2.89580739] -0.46499999999999997\n",
      "31 [1.35964948 2.89580739] -0.07999999999999999\n"
     ]
    },
    {
     "name": "stderr",
     "output_type": "stream",
     "text": [
      "C:\\Users\\Simone\\anaconda3\\lib\\site-packages\\sklearn\\gaussian_process\\kernels.py:402: ConvergenceWarning: The optimal value found for dimension 0 of parameter k2__length_scale is close to the specified lower bound 0.01. Decreasing the bound and calling fit again may find a better value.\n",
      "  warnings.warn(\"The optimal value found for \"\n",
      "C:\\Users\\Simone\\anaconda3\\lib\\site-packages\\sklearn\\gaussian_process\\kernels.py:402: ConvergenceWarning: The optimal value found for dimension 0 of parameter k2__length_scale is close to the specified lower bound 0.01. Decreasing the bound and calling fit again may find a better value.\n",
      "  warnings.warn(\"The optimal value found for \"\n",
      "C:\\Users\\Simone\\anaconda3\\lib\\site-packages\\sklearn\\gaussian_process\\kernels.py:402: ConvergenceWarning: The optimal value found for dimension 0 of parameter k2__length_scale is close to the specified lower bound 0.01. Decreasing the bound and calling fit again may find a better value.\n",
      "  warnings.warn(\"The optimal value found for \"\n"
     ]
    },
    {
     "name": "stdout",
     "output_type": "stream",
     "text": [
      "32 [1.35964948 2.89580739] -0.25000000000000006\n",
      "33 [1.35964948 2.9572537 ] -0.1650000000000001\n",
      "34 [1.4210958  2.98797686] -0.2700000000000002\n"
     ]
    },
    {
     "name": "stderr",
     "output_type": "stream",
     "text": [
      "C:\\Users\\Simone\\anaconda3\\lib\\site-packages\\sklearn\\gaussian_process\\kernels.py:402: ConvergenceWarning: The optimal value found for dimension 0 of parameter k2__length_scale is close to the specified lower bound 0.01. Decreasing the bound and calling fit again may find a better value.\n",
      "  warnings.warn(\"The optimal value found for \"\n",
      "C:\\Users\\Simone\\anaconda3\\lib\\site-packages\\sklearn\\gaussian_process\\kernels.py:402: ConvergenceWarning: The optimal value found for dimension 0 of parameter k2__length_scale is close to the specified lower bound 0.01. Decreasing the bound and calling fit again may find a better value.\n",
      "  warnings.warn(\"The optimal value found for \"\n",
      "C:\\Users\\Simone\\anaconda3\\lib\\site-packages\\sklearn\\gaussian_process\\kernels.py:402: ConvergenceWarning: The optimal value found for dimension 0 of parameter k2__length_scale is close to the specified lower bound 0.01. Decreasing the bound and calling fit again may find a better value.\n",
      "  warnings.warn(\"The optimal value found for \"\n"
     ]
    },
    {
     "name": "stdout",
     "output_type": "stream",
     "text": [
      "35 [1.45181896 2.9572537 ] -0.12000000000000006\n",
      "36 [1.35964948 2.89580739] -0.43500000000000005\n",
      "37 [1.35964948 2.89580739] -0.24500000000000005\n"
     ]
    },
    {
     "name": "stderr",
     "output_type": "stream",
     "text": [
      "C:\\Users\\Simone\\anaconda3\\lib\\site-packages\\sklearn\\gaussian_process\\kernels.py:402: ConvergenceWarning: The optimal value found for dimension 0 of parameter k2__length_scale is close to the specified lower bound 0.01. Decreasing the bound and calling fit again may find a better value.\n",
      "  warnings.warn(\"The optimal value found for \"\n",
      "C:\\Users\\Simone\\anaconda3\\lib\\site-packages\\sklearn\\gaussian_process\\kernels.py:402: ConvergenceWarning: The optimal value found for dimension 0 of parameter k2__length_scale is close to the specified lower bound 0.01. Decreasing the bound and calling fit again may find a better value.\n",
      "  warnings.warn(\"The optimal value found for \"\n",
      "C:\\Users\\Simone\\anaconda3\\lib\\site-packages\\sklearn\\gaussian_process\\kernels.py:402: ConvergenceWarning: The optimal value found for dimension 0 of parameter k2__length_scale is close to the specified lower bound 0.01. Decreasing the bound and calling fit again may find a better value.\n",
      "  warnings.warn(\"The optimal value found for \"\n"
     ]
    },
    {
     "name": "stdout",
     "output_type": "stream",
     "text": [
      "38 [1.35964948 2.89580739] -0.55\n",
      "39 [1.35964948 2.89580739] -0.19000000000000006\n",
      "40"
     ]
    },
    {
     "name": "stderr",
     "output_type": "stream",
     "text": [
      "C:\\Users\\Simone\\anaconda3\\lib\\site-packages\\sklearn\\gaussian_process\\kernels.py:402: ConvergenceWarning: The optimal value found for dimension 0 of parameter k2__length_scale is close to the specified lower bound 0.01. Decreasing the bound and calling fit again may find a better value.\n",
      "  warnings.warn(\"The optimal value found for \"\n",
      "C:\\Users\\Simone\\anaconda3\\lib\\site-packages\\sklearn\\gaussian_process\\kernels.py:402: ConvergenceWarning: The optimal value found for dimension 0 of parameter k2__length_scale is close to the specified lower bound 0.01. Decreasing the bound and calling fit again may find a better value.\n",
      "  warnings.warn(\"The optimal value found for \"\n",
      "C:\\Users\\Simone\\anaconda3\\lib\\site-packages\\sklearn\\gaussian_process\\kernels.py:402: ConvergenceWarning: The optimal value found for dimension 0 of parameter k2__length_scale is close to the specified lower bound 0.01. Decreasing the bound and calling fit again may find a better value.\n",
      "  warnings.warn(\"The optimal value found for \"\n"
     ]
    },
    {
     "name": "stdout",
     "output_type": "stream",
     "text": [
      " [1.35964948 2.89580739] -0.020000000000000046\n",
      "41 [1.4210958  3.01870002] -0.13499999999999998\n",
      "42 [1.4210958 2.9572537] -0.42500000000000016\n"
     ]
    },
    {
     "name": "stderr",
     "output_type": "stream",
     "text": [
      "C:\\Users\\Simone\\anaconda3\\lib\\site-packages\\sklearn\\gaussian_process\\kernels.py:402: ConvergenceWarning: The optimal value found for dimension 0 of parameter k2__length_scale is close to the specified lower bound 0.01. Decreasing the bound and calling fit again may find a better value.\n",
      "  warnings.warn(\"The optimal value found for \"\n",
      "C:\\Users\\Simone\\anaconda3\\lib\\site-packages\\sklearn\\gaussian_process\\kernels.py:402: ConvergenceWarning: The optimal value found for dimension 0 of parameter k2__length_scale is close to the specified lower bound 0.01. Decreasing the bound and calling fit again may find a better value.\n",
      "  warnings.warn(\"The optimal value found for \"\n"
     ]
    },
    {
     "name": "stdout",
     "output_type": "stream",
     "text": [
      "43 [1.4210958 2.9572537] -0.10000000000000009\n",
      "44 [0.1        0.25361579] 0.61\n"
     ]
    },
    {
     "name": "stderr",
     "output_type": "stream",
     "text": [
      "C:\\Users\\Simone\\anaconda3\\lib\\site-packages\\sklearn\\gaussian_process\\kernels.py:402: ConvergenceWarning: The optimal value found for dimension 0 of parameter k2__length_scale is close to the specified lower bound 0.01. Decreasing the bound and calling fit again may find a better value.\n",
      "  warnings.warn(\"The optimal value found for \"\n",
      "C:\\Users\\Simone\\anaconda3\\lib\\site-packages\\sklearn\\gaussian_process\\kernels.py:402: ConvergenceWarning: The optimal value found for dimension 0 of parameter k2__length_scale is close to the specified lower bound 0.01. Decreasing the bound and calling fit again may find a better value.\n",
      "  warnings.warn(\"The optimal value found for \"\n"
     ]
    },
    {
     "name": "stdout",
     "output_type": "stream",
     "text": [
      "45 [1.39037264 2.77291476] -0.28500000000000003\n",
      "46 [1.35964948 2.7421916 ] -0.14999999999999997\n",
      "47 [1.4210958  2.80363791] -0.63\n"
     ]
    },
    {
     "name": "stderr",
     "output_type": "stream",
     "text": [
      "C:\\Users\\Simone\\anaconda3\\lib\\site-packages\\sklearn\\gaussian_process\\kernels.py:402: ConvergenceWarning: The optimal value found for dimension 0 of parameter k2__length_scale is close to the specified lower bound 0.01. Decreasing the bound and calling fit again may find a better value.\n",
      "  warnings.warn(\"The optimal value found for \"\n",
      "C:\\Users\\Simone\\anaconda3\\lib\\site-packages\\sklearn\\gaussian_process\\kernels.py:402: ConvergenceWarning: The optimal value found for dimension 0 of parameter k2__length_scale is close to the specified lower bound 0.01. Decreasing the bound and calling fit again may find a better value.\n",
      "  warnings.warn(\"The optimal value found for \"\n",
      "C:\\Users\\Simone\\anaconda3\\lib\\site-packages\\sklearn\\gaussian_process\\kernels.py:402: ConvergenceWarning: The optimal value found for dimension 0 of parameter k2__length_scale is close to the specified lower bound 0.01. Decreasing the bound and calling fit again may find a better value.\n",
      "  warnings.warn(\"The optimal value found for \"\n",
      "C:\\Users\\Simone\\anaconda3\\lib\\site-packages\\sklearn\\gaussian_process\\kernels.py:402: ConvergenceWarning: The optimal value found for dimension 0 of parameter k2__length_scale is close to the specified lower bound 0.01. Decreasing the bound and calling fit again may find a better value.\n",
      "  warnings.warn(\"The optimal value found for \"\n",
      "C:\\Users\\Simone\\anaconda3\\lib\\site-packages\\sklearn\\gaussian_process\\kernels.py:402: ConvergenceWarning: The optimal value found for dimension 0 of parameter k2__length_scale is close to the specified lower bound 0.01. Decreasing the bound and calling fit again may find a better value.\n",
      "  warnings.warn(\"The optimal value found for \"\n"
     ]
    },
    {
     "name": "stdout",
     "output_type": "stream",
     "text": [
      "48 [1.4210958  2.80363791] -0.0750000000000001\n",
      "49 [1.4210958  2.77291476] -0.39\n",
      "50 [1.4210958  2.77291476] -0.73\n"
     ]
    },
    {
     "name": "stderr",
     "output_type": "stream",
     "text": [
      "C:\\Users\\Simone\\anaconda3\\lib\\site-packages\\sklearn\\gaussian_process\\kernels.py:402: ConvergenceWarning: The optimal value found for dimension 0 of parameter k2__length_scale is close to the specified lower bound 0.01. Decreasing the bound and calling fit again may find a better value.\n",
      "  warnings.warn(\"The optimal value found for \"\n"
     ]
    },
    {
     "name": "stdout",
     "output_type": "stream",
     "text": [
      "51 [1.4210958  2.77291476] -0.30000000000000004\n",
      "52 [1.4210958  2.77291476] -0.17999999999999997\n",
      "53 [1.45181896 2.77291476] -0.5750000000000001\n"
     ]
    },
    {
     "name": "stderr",
     "output_type": "stream",
     "text": [
      "C:\\Users\\Simone\\anaconda3\\lib\\site-packages\\sklearn\\gaussian_process\\kernels.py:402: ConvergenceWarning: The optimal value found for dimension 0 of parameter k2__length_scale is close to the specified lower bound 0.01. Decreasing the bound and calling fit again may find a better value.\n",
      "  warnings.warn(\"The optimal value found for \"\n",
      "C:\\Users\\Simone\\anaconda3\\lib\\site-packages\\sklearn\\gaussian_process\\kernels.py:402: ConvergenceWarning: The optimal value found for dimension 0 of parameter k2__length_scale is close to the specified lower bound 0.01. Decreasing the bound and calling fit again may find a better value.\n",
      "  warnings.warn(\"The optimal value found for \"\n",
      "C:\\Users\\Simone\\anaconda3\\lib\\site-packages\\sklearn\\gaussian_process\\kernels.py:402: ConvergenceWarning: The optimal value found for dimension 0 of parameter k2__length_scale is close to the specified lower bound 0.01. Decreasing the bound and calling fit again may find a better value.\n",
      "  warnings.warn(\"The optimal value found for \"\n",
      "C:\\Users\\Simone\\anaconda3\\lib\\site-packages\\sklearn\\gaussian_process\\kernels.py:402: ConvergenceWarning: The optimal value found for dimension 0 of parameter k2__length_scale is close to the specified lower bound 0.01. Decreasing the bound and calling fit again may find a better value.\n",
      "  warnings.warn(\"The optimal value found for \"\n",
      "C:\\Users\\Simone\\anaconda3\\lib\\site-packages\\sklearn\\gaussian_process\\kernels.py:402: ConvergenceWarning: The optimal value found for dimension 0 of parameter k2__length_scale is close to the specified lower bound 0.01. Decreasing the bound and calling fit again may find a better value.\n",
      "  warnings.warn(\"The optimal value found for \"\n"
     ]
    },
    {
     "name": "stdout",
     "output_type": "stream",
     "text": [
      "54 [1.45181896 2.77291476] -0.5800000000000001\n",
      "55 [1.45181896 2.77291476] -0.21000000000000008\n",
      "56 [1.45181896 2.77291476] -0.35\n",
      "57 [1.45181896 2.77291476] -0.355\n"
     ]
    },
    {
     "name": "stderr",
     "output_type": "stream",
     "text": [
      "C:\\Users\\Simone\\anaconda3\\lib\\site-packages\\sklearn\\gaussian_process\\kernels.py:402: ConvergenceWarning: The optimal value found for dimension 0 of parameter k2__length_scale is close to the specified lower bound 0.01. Decreasing the bound and calling fit again may find a better value.\n",
      "  warnings.warn(\"The optimal value found for \"\n",
      "C:\\Users\\Simone\\anaconda3\\lib\\site-packages\\sklearn\\gaussian_process\\kernels.py:402: ConvergenceWarning: The optimal value found for dimension 0 of parameter k2__length_scale is close to the specified lower bound 0.01. Decreasing the bound and calling fit again may find a better value.\n",
      "  warnings.warn(\"The optimal value found for \"\n"
     ]
    },
    {
     "name": "stdout",
     "output_type": "stream",
     "text": [
      "58 [1.45181896 2.77291476] -0.17000000000000004\n",
      "59 [1.4210958  2.77291476] -0.47\n"
     ]
    },
    {
     "name": "stderr",
     "output_type": "stream",
     "text": [
      "C:\\Users\\Simone\\anaconda3\\lib\\site-packages\\sklearn\\gaussian_process\\kernels.py:402: ConvergenceWarning: The optimal value found for dimension 0 of parameter k2__length_scale is close to the specified lower bound 0.01. Decreasing the bound and calling fit again may find a better value.\n",
      "  warnings.warn(\"The optimal value found for \"\n",
      "C:\\Users\\Simone\\anaconda3\\lib\\site-packages\\sklearn\\gaussian_process\\kernels.py:402: ConvergenceWarning: The optimal value found for dimension 0 of parameter k2__length_scale is close to the specified lower bound 0.01. Decreasing the bound and calling fit again may find a better value.\n",
      "  warnings.warn(\"The optimal value found for \"\n"
     ]
    },
    {
     "name": "stdout",
     "output_type": "stream",
     "text": [
      "60 [1.4210958  2.77291476] -0.5\n",
      "61 [1.4210958  2.77291476] -0.2350000000000001\n"
     ]
    },
    {
     "name": "stderr",
     "output_type": "stream",
     "text": [
      "C:\\Users\\Simone\\anaconda3\\lib\\site-packages\\sklearn\\gaussian_process\\kernels.py:402: ConvergenceWarning: The optimal value found for dimension 0 of parameter k2__length_scale is close to the specified lower bound 0.01. Decreasing the bound and calling fit again may find a better value.\n",
      "  warnings.warn(\"The optimal value found for \"\n",
      "C:\\Users\\Simone\\anaconda3\\lib\\site-packages\\sklearn\\gaussian_process\\kernels.py:402: ConvergenceWarning: The optimal value found for dimension 0 of parameter k2__length_scale is close to the specified lower bound 0.01. Decreasing the bound and calling fit again may find a better value.\n",
      "  warnings.warn(\"The optimal value found for \"\n"
     ]
    },
    {
     "name": "stdout",
     "output_type": "stream",
     "text": [
      "62 [1.4210958  2.77291476] -0.6850000000000002\n",
      "63 [1.4210958  2.77291476] 0.03499999999999981\n"
     ]
    },
    {
     "name": "stderr",
     "output_type": "stream",
     "text": [
      "C:\\Users\\Simone\\anaconda3\\lib\\site-packages\\sklearn\\gaussian_process\\kernels.py:402: ConvergenceWarning: The optimal value found for dimension 0 of parameter k2__length_scale is close to the specified lower bound 0.01. Decreasing the bound and calling fit again may find a better value.\n",
      "  warnings.warn(\"The optimal value found for \"\n",
      "C:\\Users\\Simone\\anaconda3\\lib\\site-packages\\sklearn\\gaussian_process\\kernels.py:402: ConvergenceWarning: The optimal value found for dimension 0 of parameter k2__length_scale is close to the specified lower bound 0.01. Decreasing the bound and calling fit again may find a better value.\n",
      "  warnings.warn(\"The optimal value found for \"\n",
      "C:\\Users\\Simone\\anaconda3\\lib\\site-packages\\sklearn\\gaussian_process\\kernels.py:402: ConvergenceWarning: The optimal value found for dimension 0 of parameter k2__length_scale is close to the specified lower bound 0.01. Decreasing the bound and calling fit again may find a better value.\n",
      "  warnings.warn(\"The optimal value found for \"\n"
     ]
    },
    {
     "name": "stdout",
     "output_type": "stream",
     "text": [
      "64 [1.45181896 2.7421916 ] -0.2850000000000001\n",
      "65 [1.45181896 2.80363791] 0.004999999999999977\n"
     ]
    },
    {
     "name": "stderr",
     "output_type": "stream",
     "text": [
      "C:\\Users\\Simone\\anaconda3\\lib\\site-packages\\sklearn\\gaussian_process\\kernels.py:402: ConvergenceWarning: The optimal value found for dimension 0 of parameter k2__length_scale is close to the specified lower bound 0.01. Decreasing the bound and calling fit again may find a better value.\n",
      "  warnings.warn(\"The optimal value found for \"\n"
     ]
    },
    {
     "name": "stdout",
     "output_type": "stream",
     "text": [
      "66 [1.39037264 2.80363791] -0.15500000000000008\n",
      "67 [1.48254212 2.7421916 ] -0.135\n"
     ]
    },
    {
     "name": "stderr",
     "output_type": "stream",
     "text": [
      "C:\\Users\\Simone\\anaconda3\\lib\\site-packages\\sklearn\\gaussian_process\\kernels.py:402: ConvergenceWarning: The optimal value found for dimension 0 of parameter k2__length_scale is close to the specified lower bound 0.01. Decreasing the bound and calling fit again may find a better value.\n",
      "  warnings.warn(\"The optimal value found for \"\n",
      "C:\\Users\\Simone\\anaconda3\\lib\\site-packages\\sklearn\\gaussian_process\\kernels.py:402: ConvergenceWarning: The optimal value found for dimension 0 of parameter k2__length_scale is close to the specified lower bound 0.01. Decreasing the bound and calling fit again may find a better value.\n",
      "  warnings.warn(\"The optimal value found for \"\n"
     ]
    },
    {
     "name": "stdout",
     "output_type": "stream",
     "text": [
      "68 [1.4210958  2.77291476] -0.32999999999999996\n",
      "69 [1.4210958  2.77291476] -0.37499999999999994\n"
     ]
    },
    {
     "name": "stderr",
     "output_type": "stream",
     "text": [
      "C:\\Users\\Simone\\anaconda3\\lib\\site-packages\\sklearn\\gaussian_process\\kernels.py:402: ConvergenceWarning: The optimal value found for dimension 0 of parameter k2__length_scale is close to the specified lower bound 0.01. Decreasing the bound and calling fit again may find a better value.\n",
      "  warnings.warn(\"The optimal value found for \"\n",
      "C:\\Users\\Simone\\anaconda3\\lib\\site-packages\\sklearn\\gaussian_process\\kernels.py:402: ConvergenceWarning: The optimal value found for dimension 0 of parameter k2__length_scale is close to the specified lower bound 0.01. Decreasing the bound and calling fit again may find a better value.\n",
      "  warnings.warn(\"The optimal value found for \"\n"
     ]
    },
    {
     "name": "stdout",
     "output_type": "stream",
     "text": [
      "70 [1.4210958  2.77291476] -0.41500000000000004\n",
      "71 [1.4210958  2.77291476] -0.06500000000000009\n"
     ]
    },
    {
     "name": "stderr",
     "output_type": "stream",
     "text": [
      "C:\\Users\\Simone\\anaconda3\\lib\\site-packages\\sklearn\\gaussian_process\\kernels.py:402: ConvergenceWarning: The optimal value found for dimension 0 of parameter k2__length_scale is close to the specified lower bound 0.01. Decreasing the bound and calling fit again may find a better value.\n",
      "  warnings.warn(\"The optimal value found for \"\n",
      "C:\\Users\\Simone\\anaconda3\\lib\\site-packages\\sklearn\\gaussian_process\\kernels.py:402: ConvergenceWarning: The optimal value found for dimension 0 of parameter k2__length_scale is close to the specified lower bound 0.01. Decreasing the bound and calling fit again may find a better value.\n",
      "  warnings.warn(\"The optimal value found for \"\n"
     ]
    },
    {
     "name": "stdout",
     "output_type": "stream",
     "text": [
      "72 [1.45181896 2.77291476] -0.22999999999999998\n",
      "73 [0.1        0.40723158] 0.42999999999999994\n"
     ]
    },
    {
     "name": "stderr",
     "output_type": "stream",
     "text": [
      "C:\\Users\\Simone\\anaconda3\\lib\\site-packages\\sklearn\\gaussian_process\\kernels.py:402: ConvergenceWarning: The optimal value found for dimension 0 of parameter k2__length_scale is close to the specified lower bound 0.01. Decreasing the bound and calling fit again may find a better value.\n",
      "  warnings.warn(\"The optimal value found for \"\n",
      "C:\\Users\\Simone\\anaconda3\\lib\\site-packages\\sklearn\\gaussian_process\\kernels.py:402: ConvergenceWarning: The optimal value found for dimension 0 of parameter k2__length_scale is close to the specified lower bound 0.01. Decreasing the bound and calling fit again may find a better value.\n",
      "  warnings.warn(\"The optimal value found for \"\n"
     ]
    },
    {
     "name": "stdout",
     "output_type": "stream",
     "text": [
      "74 [0.1        0.53012421] 0.5899999999999999\n",
      "75 [0.1        0.65301685] 0.6549999999999997\n"
     ]
    },
    {
     "name": "stderr",
     "output_type": "stream",
     "text": [
      "C:\\Users\\Simone\\anaconda3\\lib\\site-packages\\sklearn\\gaussian_process\\kernels.py:402: ConvergenceWarning: The optimal value found for dimension 0 of parameter k2__length_scale is close to the specified lower bound 0.01. Decreasing the bound and calling fit again may find a better value.\n",
      "  warnings.warn(\"The optimal value found for \"\n",
      "C:\\Users\\Simone\\anaconda3\\lib\\site-packages\\sklearn\\gaussian_process\\kernels.py:402: ConvergenceWarning: The optimal value found for dimension 0 of parameter k2__length_scale is close to the specified lower bound 0.01. Decreasing the bound and calling fit again may find a better value.\n",
      "  warnings.warn(\"The optimal value found for \"\n"
     ]
    },
    {
     "name": "stdout",
     "output_type": "stream",
     "text": [
      "76 [0.1        0.77590948] 0.5099999999999997\n",
      "77 [0.1        0.89880211] 0.4849999999999999\n",
      "78 [0.1        1.02169474] 0.08500000000000003\n",
      "79 [0.1        1.14458738] 0.35499999999999987\n",
      "80 [0.1        1.26748001] 0.2400000000000001\n",
      "81 [0.1        1.39037264] 0.065\n",
      "82 [0.1        1.51326527] -0.27\n",
      "83 [0.13072316 1.54398843] -0.2899999999999999\n",
      "84 [0.1        1.57471159] -0.11000000000000004\n",
      "85 [0.16144632 1.51326527] 0.17500000000000002\n",
      "86 [0.16144632 1.57471159] -0.05999999999999995\n",
      "87 [1.4210958  2.77291476] -0.41500000000000015\n",
      "88 [1.4210958  2.77291476] -0.25999999999999995\n",
      "89 [1.4210958  2.77291476] -0.15999999999999992\n"
     ]
    },
    {
     "name": "stderr",
     "output_type": "stream",
     "text": [
      "C:\\Users\\Simone\\anaconda3\\lib\\site-packages\\sklearn\\gaussian_process\\kernels.py:402: ConvergenceWarning: The optimal value found for dimension 0 of parameter k2__length_scale is close to the specified lower bound 0.01. Decreasing the bound and calling fit again may find a better value.\n",
      "  warnings.warn(\"The optimal value found for \"\n",
      "C:\\Users\\Simone\\anaconda3\\lib\\site-packages\\sklearn\\gaussian_process\\kernels.py:402: ConvergenceWarning: The optimal value found for dimension 0 of parameter k2__length_scale is close to the specified lower bound 0.01. Decreasing the bound and calling fit again may find a better value.\n",
      "  warnings.warn(\"The optimal value found for \"\n"
     ]
    },
    {
     "name": "stdout",
     "output_type": "stream",
     "text": [
      "90 [1.4210958  2.83436107] -0.05500000000000008\n",
      "91 [1.45181896 2.77291476] -0.030000000000000054\n",
      "92 [1.4210958  2.80363791] -0.22999999999999995\n",
      "93 [0.1        1.69760422] 0.4099999999999999\n",
      "94 [0.1        1.82049685] -0.07500000000000004\n",
      "95 [1.4210958  2.77291476] -0.48999999999999994\n",
      "96 [1.4210958  2.77291476] -0.26\n",
      "97 [1.4210958  2.77291476] -0.6000000000000001\n",
      "98 [1.4210958  2.77291476] -0.46\n",
      "99 [1.4210958  2.77291476] -0.58\n",
      "reached limit\n",
      "300\n",
      "[1.2391984739607858, 2.9916856500391167]\n",
      "0 [0.1 0.1] 0.5233333333333332\n",
      "1 [1.23675685 2.98797686] 0.043333333333333404\n",
      "2 [1.23675685 3.04942318] -0.19333333333333327\n"
     ]
    },
    {
     "name": "stderr",
     "output_type": "stream",
     "text": [
      "C:\\Users\\Simone\\anaconda3\\lib\\site-packages\\sklearn\\gaussian_process\\kernels.py:402: ConvergenceWarning: The optimal value found for dimension 0 of parameter k1__constant_value is close to the specified lower bound 0.001. Decreasing the bound and calling fit again may find a better value.\n",
      "  warnings.warn(\"The optimal value found for \"\n",
      "C:\\Users\\Simone\\anaconda3\\lib\\site-packages\\sklearn\\gaussian_process\\kernels.py:402: ConvergenceWarning: The optimal value found for dimension 0 of parameter k2__length_scale is close to the specified lower bound 0.01. Decreasing the bound and calling fit again may find a better value.\n",
      "  warnings.warn(\"The optimal value found for \"\n",
      "C:\\Users\\Simone\\anaconda3\\lib\\site-packages\\sklearn\\gaussian_process\\kernels.py:402: ConvergenceWarning: The optimal value found for dimension 0 of parameter k2__length_scale is close to the specified lower bound 0.01. Decreasing the bound and calling fit again may find a better value.\n",
      "  warnings.warn(\"The optimal value found for \"\n",
      "C:\\Users\\Simone\\anaconda3\\lib\\site-packages\\sklearn\\gaussian_process\\kernels.py:402: ConvergenceWarning: The optimal value found for dimension 0 of parameter k2__length_scale is close to the specified lower bound 0.01. Decreasing the bound and calling fit again may find a better value.\n",
      "  warnings.warn(\"The optimal value found for \"\n",
      "C:\\Users\\Simone\\anaconda3\\lib\\site-packages\\sklearn\\gaussian_process\\kernels.py:402: ConvergenceWarning: The optimal value found for dimension 0 of parameter k2__length_scale is close to the specified lower bound 0.01. Decreasing the bound and calling fit again may find a better value.\n",
      "  warnings.warn(\"The optimal value found for \"\n"
     ]
    },
    {
     "name": "stdout",
     "output_type": "stream",
     "text": [
      "3 [1.26748001 3.01870002] -0.34666666666666673\n",
      "4 [1.23675685 3.01870002] -0.29\n",
      "5 [1.26748001 3.01870002] 0.01666666666666663\n"
     ]
    },
    {
     "name": "stderr",
     "output_type": "stream",
     "text": [
      "C:\\Users\\Simone\\anaconda3\\lib\\site-packages\\sklearn\\gaussian_process\\kernels.py:402: ConvergenceWarning: The optimal value found for dimension 0 of parameter k2__length_scale is close to the specified lower bound 0.01. Decreasing the bound and calling fit again may find a better value.\n",
      "  warnings.warn(\"The optimal value found for \"\n"
     ]
    },
    {
     "name": "stdout",
     "output_type": "stream",
     "text": [
      "6 [1.23675685 3.01870002] -0.1166666666666667\n",
      "7 [1.14458738 3.08014634] -0.18333333333333335\n",
      "8 [1.17531053 3.04942318] -0.13999999999999996\n",
      "9 [1.0524179  3.04942318] 0.15333333333333332\n"
     ]
    },
    {
     "name": "stderr",
     "output_type": "stream",
     "text": [
      "C:\\Users\\Simone\\anaconda3\\lib\\site-packages\\sklearn\\gaussian_process\\kernels.py:402: ConvergenceWarning: The optimal value found for dimension 0 of parameter k2__length_scale is close to the specified lower bound 0.01. Decreasing the bound and calling fit again may find a better value.\n",
      "  warnings.warn(\"The optimal value found for \"\n",
      "C:\\Users\\Simone\\anaconda3\\lib\\site-packages\\sklearn\\gaussian_process\\kernels.py:402: ConvergenceWarning: The optimal value found for dimension 0 of parameter k2__length_scale is close to the specified lower bound 0.01. Decreasing the bound and calling fit again may find a better value.\n",
      "  warnings.warn(\"The optimal value found for \"\n"
     ]
    },
    {
     "name": "stdout",
     "output_type": "stream",
     "text": [
      "10 [1.20603369 3.08014634] -0.04666666666666669\n",
      "11 [1.11386422 3.14159265] -0.12666666666666662\n",
      "12 [1.23675685 3.01870002] -0.30666666666666664\n",
      "13 [1.23675685 3.01870002] -0.14333333333333334\n"
     ]
    },
    {
     "name": "stderr",
     "output_type": "stream",
     "text": [
      "C:\\Users\\Simone\\anaconda3\\lib\\site-packages\\sklearn\\gaussian_process\\kernels.py:402: ConvergenceWarning: The optimal value found for dimension 0 of parameter k2__length_scale is close to the specified lower bound 0.01. Decreasing the bound and calling fit again may find a better value.\n",
      "  warnings.warn(\"The optimal value found for \"\n"
     ]
    },
    {
     "name": "stdout",
     "output_type": "stream",
     "text": [
      "14 [0.1        0.31506211] 0.9266666666666662\n",
      "15 [0.1        0.56084737] 0.6633333333333333\n",
      "16 [0.1        0.83735579] 0.52\n",
      "17 [0.1        1.08314106] 0.10333333333333333\n",
      "18 [0.1        1.29820317] 0.15\n",
      "19 [1.23675685 3.01870002] -0.0733333333333333\n",
      "20 [0.1        1.54398843] -0.006666666666666623\n",
      "21 [1.26748001 3.04942318] 0.20666666666666675\n",
      "22 [1.29820317 2.98797686] -0.27999999999999997\n",
      "23 [1.26748001 2.98797686] -0.26000000000000006\n",
      "24 [1.29820317 2.98797686] -0.1366666666666666\n",
      "25 [1.26748001 2.98797686] -0.0666666666666667\n",
      "26 [1.11386422 3.08014634] -0.21666666666666662\n",
      "27 [1.35964948 2.98797686] -0.14999999999999988\n",
      "28 [1.11386422 3.1108695 ] -0.11999999999999994\n",
      "29 [1.11386422 3.01870002] -0.2699999999999999\n",
      "30 [1.11386422 3.04942318] -0.16333333333333336\n",
      "31 [1.11386422 2.9572537 ] -0.19333333333333316\n",
      "32 [1.11386422 2.98797686] 0.15666666666666665\n",
      "33 [1.08314106 2.92653055] -0.06000000000000005\n",
      "34 [1.14458738 2.92653055] -0.04999999999999995\n"
     ]
    },
    {
     "name": "stderr",
     "output_type": "stream",
     "text": [
      "C:\\Users\\Simone\\anaconda3\\lib\\site-packages\\sklearn\\gaussian_process\\kernels.py:402: ConvergenceWarning: The optimal value found for dimension 0 of parameter k2__length_scale is close to the specified lower bound 0.01. Decreasing the bound and calling fit again may find a better value.\n",
      "  warnings.warn(\"The optimal value found for \"\n",
      "C:\\Users\\Simone\\anaconda3\\lib\\site-packages\\sklearn\\gaussian_process\\kernels.py:402: ConvergenceWarning: The optimal value found for dimension 0 of parameter k2__length_scale is close to the specified lower bound 0.01. Decreasing the bound and calling fit again may find a better value.\n",
      "  warnings.warn(\"The optimal value found for \"\n",
      "C:\\Users\\Simone\\anaconda3\\lib\\site-packages\\sklearn\\gaussian_process\\kernels.py:402: ConvergenceWarning: The optimal value found for dimension 0 of parameter k2__length_scale is close to the specified lower bound 0.01. Decreasing the bound and calling fit again may find a better value.\n",
      "  warnings.warn(\"The optimal value found for \"\n"
     ]
    },
    {
     "name": "stdout",
     "output_type": "stream",
     "text": [
      "35 [1.14458738 3.01870002] -0.47999999999999987\n",
      "36 [1.14458738 3.01870002] -0.3333333333333333\n",
      "37 [1.14458738 3.01870002] -0.2033333333333334\n"
     ]
    },
    {
     "name": "stderr",
     "output_type": "stream",
     "text": [
      "C:\\Users\\Simone\\anaconda3\\lib\\site-packages\\sklearn\\gaussian_process\\kernels.py:402: ConvergenceWarning: The optimal value found for dimension 0 of parameter k2__length_scale is close to the specified lower bound 0.01. Decreasing the bound and calling fit again may find a better value.\n",
      "  warnings.warn(\"The optimal value found for \"\n",
      "C:\\Users\\Simone\\anaconda3\\lib\\site-packages\\sklearn\\gaussian_process\\kernels.py:402: ConvergenceWarning: The optimal value found for dimension 0 of parameter k2__length_scale is close to the specified lower bound 0.01. Decreasing the bound and calling fit again may find a better value.\n",
      "  warnings.warn(\"The optimal value found for \"\n",
      "C:\\Users\\Simone\\anaconda3\\lib\\site-packages\\sklearn\\gaussian_process\\kernels.py:402: ConvergenceWarning: The optimal value found for dimension 0 of parameter k2__length_scale is close to the specified lower bound 0.01. Decreasing the bound and calling fit again may find a better value.\n",
      "  warnings.warn(\"The optimal value found for \"\n"
     ]
    },
    {
     "name": "stdout",
     "output_type": "stream",
     "text": [
      "38 [1.14458738 3.01870002] -0.12000000000000012\n",
      "39 [1.11386422 2.92653055] -0.2166666666666665\n",
      "40 [1.14458738 3.01870002] -0.15666666666666654\n"
     ]
    },
    {
     "name": "stderr",
     "output_type": "stream",
     "text": [
      "C:\\Users\\Simone\\anaconda3\\lib\\site-packages\\sklearn\\gaussian_process\\kernels.py:402: ConvergenceWarning: The optimal value found for dimension 0 of parameter k2__length_scale is close to the specified lower bound 0.01. Decreasing the bound and calling fit again may find a better value.\n",
      "  warnings.warn(\"The optimal value found for \"\n",
      "C:\\Users\\Simone\\anaconda3\\lib\\site-packages\\sklearn\\gaussian_process\\kernels.py:402: ConvergenceWarning: The optimal value found for dimension 0 of parameter k2__length_scale is close to the specified lower bound 0.01. Decreasing the bound and calling fit again may find a better value.\n",
      "  warnings.warn(\"The optimal value found for \"\n",
      "C:\\Users\\Simone\\anaconda3\\lib\\site-packages\\sklearn\\gaussian_process\\kernels.py:402: ConvergenceWarning: The optimal value found for dimension 0 of parameter k2__length_scale is close to the specified lower bound 0.01. Decreasing the bound and calling fit again may find a better value.\n",
      "  warnings.warn(\"The optimal value found for \"\n"
     ]
    },
    {
     "name": "stdout",
     "output_type": "stream",
     "text": [
      "41 [1.32892632 2.9572537 ] -0.2466666666666667\n",
      "42 [1.35964948 2.92653055] -0.22333333333333324\n",
      "43"
     ]
    },
    {
     "name": "stderr",
     "output_type": "stream",
     "text": [
      "C:\\Users\\Simone\\anaconda3\\lib\\site-packages\\sklearn\\gaussian_process\\kernels.py:402: ConvergenceWarning: The optimal value found for dimension 0 of parameter k2__length_scale is close to the specified lower bound 0.01. Decreasing the bound and calling fit again may find a better value.\n",
      "  warnings.warn(\"The optimal value found for \"\n",
      "C:\\Users\\Simone\\anaconda3\\lib\\site-packages\\sklearn\\gaussian_process\\kernels.py:402: ConvergenceWarning: The optimal value found for dimension 0 of parameter k2__length_scale is close to the specified lower bound 0.01. Decreasing the bound and calling fit again may find a better value.\n",
      "  warnings.warn(\"The optimal value found for \"\n",
      "C:\\Users\\Simone\\anaconda3\\lib\\site-packages\\sklearn\\gaussian_process\\kernels.py:402: ConvergenceWarning: The optimal value found for dimension 0 of parameter k2__length_scale is close to the specified lower bound 0.01. Decreasing the bound and calling fit again may find a better value.\n",
      "  warnings.warn(\"The optimal value found for \"\n"
     ]
    },
    {
     "name": "stdout",
     "output_type": "stream",
     "text": [
      " [1.32892632 2.89580739] -0.4033333333333333\n",
      "44 [1.32892632 2.89580739] -0.26\n"
     ]
    },
    {
     "name": "stderr",
     "output_type": "stream",
     "text": [
      "C:\\Users\\Simone\\anaconda3\\lib\\site-packages\\sklearn\\gaussian_process\\kernels.py:402: ConvergenceWarning: The optimal value found for dimension 0 of parameter k2__length_scale is close to the specified lower bound 0.01. Decreasing the bound and calling fit again may find a better value.\n",
      "  warnings.warn(\"The optimal value found for \"\n",
      "C:\\Users\\Simone\\anaconda3\\lib\\site-packages\\sklearn\\gaussian_process\\kernels.py:402: ConvergenceWarning: The optimal value found for dimension 0 of parameter k2__length_scale is close to the specified lower bound 0.01. Decreasing the bound and calling fit again may find a better value.\n",
      "  warnings.warn(\"The optimal value found for \"\n"
     ]
    },
    {
     "name": "stdout",
     "output_type": "stream",
     "text": [
      "45 [1.29820317 2.89580739] -0.34333333333333343\n",
      "46 [1.29820317 2.86508423] -0.24666666666666667\n"
     ]
    },
    {
     "name": "stderr",
     "output_type": "stream",
     "text": [
      "C:\\Users\\Simone\\anaconda3\\lib\\site-packages\\sklearn\\gaussian_process\\kernels.py:402: ConvergenceWarning: The optimal value found for dimension 0 of parameter k2__length_scale is close to the specified lower bound 0.01. Decreasing the bound and calling fit again may find a better value.\n",
      "  warnings.warn(\"The optimal value found for \"\n"
     ]
    },
    {
     "name": "stdout",
     "output_type": "stream",
     "text": [
      "47 [1.32892632 2.92653055] -0.020000000000000084\n",
      "48 [1.35964948 2.86508423] -0.21000000000000005\n",
      "49"
     ]
    },
    {
     "name": "stderr",
     "output_type": "stream",
     "text": [
      "C:\\Users\\Simone\\anaconda3\\lib\\site-packages\\sklearn\\gaussian_process\\kernels.py:402: ConvergenceWarning: The optimal value found for dimension 0 of parameter k2__length_scale is close to the specified lower bound 0.01. Decreasing the bound and calling fit again may find a better value.\n",
      "  warnings.warn(\"The optimal value found for \"\n",
      "C:\\Users\\Simone\\anaconda3\\lib\\site-packages\\sklearn\\gaussian_process\\kernels.py:402: ConvergenceWarning: The optimal value found for dimension 0 of parameter k2__length_scale is close to the specified lower bound 0.01. Decreasing the bound and calling fit again may find a better value.\n",
      "  warnings.warn(\"The optimal value found for \"\n"
     ]
    },
    {
     "name": "stdout",
     "output_type": "stream",
     "text": [
      " [1.32892632 2.86508423] -0.3433333333333333\n",
      "50 [1.39037264 2.92653055] 0.00999999999999992\n",
      "51 [1.26748001 2.89580739] -0.3233333333333333\n"
     ]
    },
    {
     "name": "stderr",
     "output_type": "stream",
     "text": [
      "C:\\Users\\Simone\\anaconda3\\lib\\site-packages\\sklearn\\gaussian_process\\kernels.py:402: ConvergenceWarning: The optimal value found for dimension 0 of parameter k2__length_scale is close to the specified lower bound 0.01. Decreasing the bound and calling fit again may find a better value.\n",
      "  warnings.warn(\"The optimal value found for \"\n",
      "C:\\Users\\Simone\\anaconda3\\lib\\site-packages\\sklearn\\gaussian_process\\kernels.py:402: ConvergenceWarning: The optimal value found for dimension 0 of parameter k2__length_scale is close to the specified lower bound 0.01. Decreasing the bound and calling fit again may find a better value.\n",
      "  warnings.warn(\"The optimal value found for \"\n",
      "C:\\Users\\Simone\\anaconda3\\lib\\site-packages\\sklearn\\gaussian_process\\kernels.py:402: ConvergenceWarning: The optimal value found for dimension 0 of parameter k2__length_scale is close to the specified lower bound 0.01. Decreasing the bound and calling fit again may find a better value.\n",
      "  warnings.warn(\"The optimal value found for \"\n",
      "C:\\Users\\Simone\\anaconda3\\lib\\site-packages\\sklearn\\gaussian_process\\kernels.py:402: ConvergenceWarning: The optimal value found for dimension 0 of parameter k2__length_scale is close to the specified lower bound 0.01. Decreasing the bound and calling fit again may find a better value.\n",
      "  warnings.warn(\"The optimal value found for \"\n",
      "C:\\Users\\Simone\\anaconda3\\lib\\site-packages\\sklearn\\gaussian_process\\kernels.py:402: ConvergenceWarning: The optimal value found for dimension 0 of parameter k2__length_scale is close to the specified lower bound 0.01. Decreasing the bound and calling fit again may find a better value.\n",
      "  warnings.warn(\"The optimal value found for \"\n"
     ]
    },
    {
     "name": "stdout",
     "output_type": "stream",
     "text": [
      "52 [1.29820317 2.89580739] -0.13666666666666663\n",
      "53 [1.35964948 2.89580739] -0.25999999999999995\n"
     ]
    },
    {
     "name": "stderr",
     "output_type": "stream",
     "text": [
      "C:\\Users\\Simone\\anaconda3\\lib\\site-packages\\sklearn\\gaussian_process\\kernels.py:402: ConvergenceWarning: The optimal value found for dimension 0 of parameter k2__length_scale is close to the specified lower bound 0.01. Decreasing the bound and calling fit again may find a better value.\n",
      "  warnings.warn(\"The optimal value found for \"\n"
     ]
    },
    {
     "name": "stdout",
     "output_type": "stream",
     "text": [
      "54 [1.23675685 2.89580739] -0.31\n",
      "55 [1.23675685 2.86508423] -0.1633333333333333\n"
     ]
    },
    {
     "name": "stderr",
     "output_type": "stream",
     "text": [
      "C:\\Users\\Simone\\anaconda3\\lib\\site-packages\\sklearn\\gaussian_process\\kernels.py:402: ConvergenceWarning: The optimal value found for dimension 0 of parameter k2__length_scale is close to the specified lower bound 0.01. Decreasing the bound and calling fit again may find a better value.\n",
      "  warnings.warn(\"The optimal value found for \"\n",
      "C:\\Users\\Simone\\anaconda3\\lib\\site-packages\\sklearn\\gaussian_process\\kernels.py:402: ConvergenceWarning: The optimal value found for dimension 0 of parameter k2__length_scale is close to the specified lower bound 0.01. Decreasing the bound and calling fit again may find a better value.\n",
      "  warnings.warn(\"The optimal value found for \"\n",
      "C:\\Users\\Simone\\anaconda3\\lib\\site-packages\\sklearn\\gaussian_process\\kernels.py:402: ConvergenceWarning: The optimal value found for dimension 0 of parameter k2__length_scale is close to the specified lower bound 0.01. Decreasing the bound and calling fit again may find a better value.\n",
      "  warnings.warn(\"The optimal value found for \"\n"
     ]
    },
    {
     "name": "stdout",
     "output_type": "stream",
     "text": [
      "56 [1.32892632 2.86508423] -0.1666666666666666\n",
      "57 [1.32892632 2.98797686] -0.22333333333333333\n",
      "58 [1.35964948 2.9572537 ] -0.31666666666666665\n"
     ]
    },
    {
     "name": "stderr",
     "output_type": "stream",
     "text": [
      "C:\\Users\\Simone\\anaconda3\\lib\\site-packages\\sklearn\\gaussian_process\\kernels.py:402: ConvergenceWarning: The optimal value found for dimension 0 of parameter k2__length_scale is close to the specified lower bound 0.01. Decreasing the bound and calling fit again may find a better value.\n",
      "  warnings.warn(\"The optimal value found for \"\n",
      "C:\\Users\\Simone\\anaconda3\\lib\\site-packages\\sklearn\\gaussian_process\\kernels.py:402: ConvergenceWarning: The optimal value found for dimension 0 of parameter k2__length_scale is close to the specified lower bound 0.01. Decreasing the bound and calling fit again may find a better value.\n",
      "  warnings.warn(\"The optimal value found for \"\n"
     ]
    },
    {
     "name": "stdout",
     "output_type": "stream",
     "text": [
      "59 [1.32892632 2.89580739] -0.41\n",
      "60 [1.32892632 2.89580739] -0.26\n"
     ]
    },
    {
     "name": "stderr",
     "output_type": "stream",
     "text": [
      "C:\\Users\\Simone\\anaconda3\\lib\\site-packages\\sklearn\\gaussian_process\\kernels.py:402: ConvergenceWarning: The optimal value found for dimension 0 of parameter k2__length_scale is close to the specified lower bound 0.01. Decreasing the bound and calling fit again may find a better value.\n",
      "  warnings.warn(\"The optimal value found for \"\n",
      "C:\\Users\\Simone\\anaconda3\\lib\\site-packages\\sklearn\\gaussian_process\\kernels.py:402: ConvergenceWarning: The optimal value found for dimension 0 of parameter k2__length_scale is close to the specified lower bound 0.01. Decreasing the bound and calling fit again may find a better value.\n",
      "  warnings.warn(\"The optimal value found for \"\n"
     ]
    },
    {
     "name": "stdout",
     "output_type": "stream",
     "text": [
      "61 [1.32892632 2.89580739] -0.46666666666666673\n",
      "62 [1.32892632 2.89580739] -0.41999999999999993\n"
     ]
    },
    {
     "name": "stderr",
     "output_type": "stream",
     "text": [
      "C:\\Users\\Simone\\anaconda3\\lib\\site-packages\\sklearn\\gaussian_process\\kernels.py:402: ConvergenceWarning: The optimal value found for dimension 0 of parameter k2__length_scale is close to the specified lower bound 0.01. Decreasing the bound and calling fit again may find a better value.\n",
      "  warnings.warn(\"The optimal value found for \"\n",
      "C:\\Users\\Simone\\anaconda3\\lib\\site-packages\\sklearn\\gaussian_process\\kernels.py:402: ConvergenceWarning: The optimal value found for dimension 0 of parameter k2__length_scale is close to the specified lower bound 0.01. Decreasing the bound and calling fit again may find a better value.\n",
      "  warnings.warn(\"The optimal value found for \"\n"
     ]
    },
    {
     "name": "stdout",
     "output_type": "stream",
     "text": [
      "63 [1.32892632 2.89580739] -0.3666666666666666\n",
      "64 [1.32892632 2.89580739] -0.1833333333333334\n"
     ]
    },
    {
     "name": "stderr",
     "output_type": "stream",
     "text": [
      "C:\\Users\\Simone\\anaconda3\\lib\\site-packages\\sklearn\\gaussian_process\\kernels.py:402: ConvergenceWarning: The optimal value found for dimension 0 of parameter k2__length_scale is close to the specified lower bound 0.01. Decreasing the bound and calling fit again may find a better value.\n",
      "  warnings.warn(\"The optimal value found for \"\n",
      "C:\\Users\\Simone\\anaconda3\\lib\\site-packages\\sklearn\\gaussian_process\\kernels.py:402: ConvergenceWarning: The optimal value found for dimension 0 of parameter k2__length_scale is close to the specified lower bound 0.01. Decreasing the bound and calling fit again may find a better value.\n",
      "  warnings.warn(\"The optimal value found for \"\n"
     ]
    },
    {
     "name": "stdout",
     "output_type": "stream",
     "text": [
      "65 [1.32892632 2.89580739] -0.3033333333333333\n",
      "66 [1.32892632 2.89580739] -0.08999999999999973\n"
     ]
    },
    {
     "name": "stderr",
     "output_type": "stream",
     "text": [
      "C:\\Users\\Simone\\anaconda3\\lib\\site-packages\\sklearn\\gaussian_process\\kernels.py:402: ConvergenceWarning: The optimal value found for dimension 0 of parameter k2__length_scale is close to the specified lower bound 0.01. Decreasing the bound and calling fit again may find a better value.\n",
      "  warnings.warn(\"The optimal value found for \"\n",
      "C:\\Users\\Simone\\anaconda3\\lib\\site-packages\\sklearn\\gaussian_process\\kernels.py:402: ConvergenceWarning: The optimal value found for dimension 0 of parameter k2__length_scale is close to the specified lower bound 0.01. Decreasing the bound and calling fit again may find a better value.\n",
      "  warnings.warn(\"The optimal value found for \"\n"
     ]
    },
    {
     "name": "stdout",
     "output_type": "stream",
     "text": [
      "67 [1.26748001 2.89580739] -0.18333333333333335\n",
      "68 [1.32892632 2.89580739] -0.41000000000000003\n"
     ]
    },
    {
     "name": "stderr",
     "output_type": "stream",
     "text": [
      "C:\\Users\\Simone\\anaconda3\\lib\\site-packages\\sklearn\\gaussian_process\\kernels.py:402: ConvergenceWarning: The optimal value found for dimension 0 of parameter k2__length_scale is close to the specified lower bound 0.01. Decreasing the bound and calling fit again may find a better value.\n",
      "  warnings.warn(\"The optimal value found for \"\n",
      "C:\\Users\\Simone\\anaconda3\\lib\\site-packages\\sklearn\\gaussian_process\\kernels.py:402: ConvergenceWarning: The optimal value found for dimension 0 of parameter k2__length_scale is close to the specified lower bound 0.01. Decreasing the bound and calling fit again may find a better value.\n",
      "  warnings.warn(\"The optimal value found for \"\n"
     ]
    },
    {
     "name": "stdout",
     "output_type": "stream",
     "text": [
      "69 [1.32892632 2.89580739] 0.036666666666666625\n",
      "70 [1.20603369 2.89580739] -0.4233333333333333\n"
     ]
    },
    {
     "name": "stderr",
     "output_type": "stream",
     "text": [
      "C:\\Users\\Simone\\anaconda3\\lib\\site-packages\\sklearn\\gaussian_process\\kernels.py:402: ConvergenceWarning: The optimal value found for dimension 0 of parameter k2__length_scale is close to the specified lower bound 0.01. Decreasing the bound and calling fit again may find a better value.\n",
      "  warnings.warn(\"The optimal value found for \"\n",
      "C:\\Users\\Simone\\anaconda3\\lib\\site-packages\\sklearn\\gaussian_process\\kernels.py:402: ConvergenceWarning: The optimal value found for dimension 0 of parameter k2__length_scale is close to the specified lower bound 0.01. Decreasing the bound and calling fit again may find a better value.\n",
      "  warnings.warn(\"The optimal value found for \"\n"
     ]
    },
    {
     "name": "stdout",
     "output_type": "stream",
     "text": [
      "71 [1.20603369 2.89580739] -0.28\n",
      "72 [1.20603369 2.89580739] -0.3466666666666667\n"
     ]
    },
    {
     "name": "stderr",
     "output_type": "stream",
     "text": [
      "C:\\Users\\Simone\\anaconda3\\lib\\site-packages\\sklearn\\gaussian_process\\kernels.py:402: ConvergenceWarning: The optimal value found for dimension 0 of parameter k2__length_scale is close to the specified lower bound 0.01. Decreasing the bound and calling fit again may find a better value.\n",
      "  warnings.warn(\"The optimal value found for \"\n",
      "C:\\Users\\Simone\\anaconda3\\lib\\site-packages\\sklearn\\gaussian_process\\kernels.py:402: ConvergenceWarning: The optimal value found for dimension 0 of parameter k2__length_scale is close to the specified lower bound 0.01. Decreasing the bound and calling fit again may find a better value.\n",
      "  warnings.warn(\"The optimal value found for \"\n"
     ]
    },
    {
     "name": "stdout",
     "output_type": "stream",
     "text": [
      "73 [1.20603369 2.89580739] -0.33000000000000007\n",
      "74 [1.20603369 2.89580739] -0.3133333333333335\n"
     ]
    },
    {
     "name": "stderr",
     "output_type": "stream",
     "text": [
      "C:\\Users\\Simone\\anaconda3\\lib\\site-packages\\sklearn\\gaussian_process\\kernels.py:402: ConvergenceWarning: The optimal value found for dimension 0 of parameter k2__length_scale is close to the specified lower bound 0.01. Decreasing the bound and calling fit again may find a better value.\n",
      "  warnings.warn(\"The optimal value found for \"\n",
      "C:\\Users\\Simone\\anaconda3\\lib\\site-packages\\sklearn\\gaussian_process\\kernels.py:402: ConvergenceWarning: The optimal value found for dimension 0 of parameter k2__length_scale is close to the specified lower bound 0.01. Decreasing the bound and calling fit again may find a better value.\n",
      "  warnings.warn(\"The optimal value found for \"\n"
     ]
    },
    {
     "name": "stdout",
     "output_type": "stream",
     "text": [
      "75 [1.20603369 2.89580739] -0.2800000000000001\n",
      "76 [1.4210958  2.80363791] -0.1066666666666667\n"
     ]
    },
    {
     "name": "stderr",
     "output_type": "stream",
     "text": [
      "C:\\Users\\Simone\\anaconda3\\lib\\site-packages\\sklearn\\gaussian_process\\kernels.py:402: ConvergenceWarning: The optimal value found for dimension 0 of parameter k2__length_scale is close to the specified lower bound 0.01. Decreasing the bound and calling fit again may find a better value.\n",
      "  warnings.warn(\"The optimal value found for \"\n",
      "<ipython-input-22-781a3129b33c>:11: ConvergenceWarning: lbfgs failed to converge (status=2):\n",
      "ABNORMAL_TERMINATION_IN_LNSRCH.\n",
      "\n",
      "Increase the number of iterations (max_iter) or scale the data as shown in:\n",
      "    https://scikit-learn.org/stable/modules/preprocessing.html\n",
      "  _check_optimize_result(\"lbfgs\", opt_res)\n",
      "C:\\Users\\Simone\\anaconda3\\lib\\site-packages\\sklearn\\gaussian_process\\kernels.py:402: ConvergenceWarning: The optimal value found for dimension 0 of parameter k2__length_scale is close to the specified lower bound 0.01. Decreasing the bound and calling fit again may find a better value.\n",
      "  warnings.warn(\"The optimal value found for \"\n"
     ]
    },
    {
     "name": "stdout",
     "output_type": "stream",
     "text": [
      "77 [1.20603369 2.89580739] -0.38666666666666677\n",
      "78 [1.20603369 2.89580739] -0.34000000000000014\n"
     ]
    },
    {
     "name": "stderr",
     "output_type": "stream",
     "text": [
      "C:\\Users\\Simone\\anaconda3\\lib\\site-packages\\sklearn\\gaussian_process\\kernels.py:402: ConvergenceWarning: The optimal value found for dimension 0 of parameter k2__length_scale is close to the specified lower bound 0.01. Decreasing the bound and calling fit again may find a better value.\n",
      "  warnings.warn(\"The optimal value found for \"\n",
      "C:\\Users\\Simone\\anaconda3\\lib\\site-packages\\sklearn\\gaussian_process\\kernels.py:402: ConvergenceWarning: The optimal value found for dimension 0 of parameter k2__length_scale is close to the specified lower bound 0.01. Decreasing the bound and calling fit again may find a better value.\n",
      "  warnings.warn(\"The optimal value found for \"\n"
     ]
    },
    {
     "name": "stdout",
     "output_type": "stream",
     "text": [
      "79 [1.20603369 2.89580739] -0.2833333333333334\n",
      "80 [0.1        0.43795474] 0.7833333333333334\n"
     ]
    },
    {
     "name": "stderr",
     "output_type": "stream",
     "text": [
      "C:\\Users\\Simone\\anaconda3\\lib\\site-packages\\sklearn\\gaussian_process\\kernels.py:402: ConvergenceWarning: The optimal value found for dimension 0 of parameter k2__length_scale is close to the specified lower bound 0.01. Decreasing the bound and calling fit again may find a better value.\n",
      "  warnings.warn(\"The optimal value found for \"\n",
      "C:\\Users\\Simone\\anaconda3\\lib\\site-packages\\sklearn\\gaussian_process\\kernels.py:402: ConvergenceWarning: The optimal value found for dimension 0 of parameter k2__length_scale is close to the specified lower bound 0.01. Decreasing the bound and calling fit again may find a better value.\n",
      "  warnings.warn(\"The optimal value found for \"\n"
     ]
    },
    {
     "name": "stdout",
     "output_type": "stream",
     "text": [
      "81 [0.1        1.66688106] -0.10666666666666665\n",
      "82 [1.17531053 2.86508423] -0.13000000000000003\n"
     ]
    },
    {
     "name": "stderr",
     "output_type": "stream",
     "text": [
      "C:\\Users\\Simone\\anaconda3\\lib\\site-packages\\sklearn\\gaussian_process\\kernels.py:402: ConvergenceWarning: The optimal value found for dimension 0 of parameter k2__length_scale is close to the specified lower bound 0.01. Decreasing the bound and calling fit again may find a better value.\n",
      "  warnings.warn(\"The optimal value found for \"\n",
      "C:\\Users\\Simone\\anaconda3\\lib\\site-packages\\sklearn\\gaussian_process\\kernels.py:402: ConvergenceWarning: The optimal value found for dimension 0 of parameter k2__length_scale is close to the specified lower bound 0.01. Decreasing the bound and calling fit again may find a better value.\n",
      "  warnings.warn(\"The optimal value found for \"\n"
     ]
    },
    {
     "name": "stdout",
     "output_type": "stream",
     "text": [
      "83 [0.1     0.68374] 0.7733333333333334\n",
      "84 [0.1        0.96024843] 0.6133333333333334\n",
      "85 [0.1       1.4210958] 0.27333333333333326\n",
      "86 [0.1        1.75905054] -0.0066666666666666055\n",
      "87 [1.20603369 2.89580739] -0.02333333333333331\n",
      "88 [0.1        1.85122001] -0.08666666666666663\n",
      "89 [0.1        1.94338949] -0.13999999999999999\n",
      "90 [0.1       2.0048358] 0.10666666666666672\n"
     ]
    },
    {
     "name": "stderr",
     "output_type": "stream",
     "text": [
      "C:\\Users\\Simone\\anaconda3\\lib\\site-packages\\sklearn\\gaussian_process\\kernels.py:402: ConvergenceWarning: The optimal value found for dimension 0 of parameter k2__length_scale is close to the specified lower bound 0.01. Decreasing the bound and calling fit again may find a better value.\n",
      "  warnings.warn(\"The optimal value found for \"\n",
      "C:\\Users\\Simone\\anaconda3\\lib\\site-packages\\sklearn\\gaussian_process\\kernels.py:402: ConvergenceWarning: The optimal value found for dimension 0 of parameter k2__length_scale is close to the specified lower bound 0.01. Decreasing the bound and calling fit again may find a better value.\n",
      "  warnings.warn(\"The optimal value found for \"\n"
     ]
    },
    {
     "name": "stdout",
     "output_type": "stream",
     "text": [
      "91 [1.35964948 2.9572537 ] -0.19333333333333327\n",
      "92 [0.16144632 1.91266633] 0.010000000000000123\n"
     ]
    },
    {
     "name": "stderr",
     "output_type": "stream",
     "text": [
      "C:\\Users\\Simone\\anaconda3\\lib\\site-packages\\sklearn\\gaussian_process\\kernels.py:402: ConvergenceWarning: The optimal value found for dimension 0 of parameter k2__length_scale is close to the specified lower bound 0.01. Decreasing the bound and calling fit again may find a better value.\n",
      "  warnings.warn(\"The optimal value found for \"\n",
      "C:\\Users\\Simone\\anaconda3\\lib\\site-packages\\sklearn\\gaussian_process\\kernels.py:402: ConvergenceWarning: The optimal value found for dimension 0 of parameter k2__length_scale is close to the specified lower bound 0.01. Decreasing the bound and calling fit again may find a better value.\n",
      "  warnings.warn(\"The optimal value found for \"\n"
     ]
    },
    {
     "name": "stdout",
     "output_type": "stream",
     "text": [
      "93 [1.23675685 2.89580739] -0.003333333333333417\n",
      "94 [0.1        2.12772844] -0.20333333333333337\n"
     ]
    },
    {
     "name": "stderr",
     "output_type": "stream",
     "text": [
      "C:\\Users\\Simone\\anaconda3\\lib\\site-packages\\sklearn\\gaussian_process\\kernels.py:402: ConvergenceWarning: The optimal value found for dimension 0 of parameter k2__length_scale is close to the specified lower bound 0.01. Decreasing the bound and calling fit again may find a better value.\n",
      "  warnings.warn(\"The optimal value found for \"\n",
      "C:\\Users\\Simone\\anaconda3\\lib\\site-packages\\sklearn\\gaussian_process\\kernels.py:402: ConvergenceWarning: The optimal value found for dimension 0 of parameter k2__length_scale is close to the specified lower bound 0.01. Decreasing the bound and calling fit again may find a better value.\n",
      "  warnings.warn(\"The optimal value found for \"\n"
     ]
    },
    {
     "name": "stdout",
     "output_type": "stream",
     "text": [
      "95 [0.1        2.18917475] -0.3733333333333333\n",
      "96 [0.13072316 2.18917475] -0.29333333333333333\n"
     ]
    },
    {
     "name": "stderr",
     "output_type": "stream",
     "text": [
      "C:\\Users\\Simone\\anaconda3\\lib\\site-packages\\sklearn\\gaussian_process\\kernels.py:402: ConvergenceWarning: The optimal value found for dimension 0 of parameter k2__length_scale is close to the specified lower bound 0.01. Decreasing the bound and calling fit again may find a better value.\n",
      "  warnings.warn(\"The optimal value found for \"\n",
      "C:\\Users\\Simone\\anaconda3\\lib\\site-packages\\sklearn\\gaussian_process\\kernels.py:402: ConvergenceWarning: The optimal value found for dimension 0 of parameter k2__length_scale is close to the specified lower bound 0.01. Decreasing the bound and calling fit again may find a better value.\n",
      "  warnings.warn(\"The optimal value found for \"\n"
     ]
    },
    {
     "name": "stdout",
     "output_type": "stream",
     "text": [
      "97 [0.1        2.21989791] -0.5133333333333334\n",
      "98 [0.1        2.21989791] -0.33\n"
     ]
    },
    {
     "name": "stderr",
     "output_type": "stream",
     "text": [
      "C:\\Users\\Simone\\anaconda3\\lib\\site-packages\\sklearn\\gaussian_process\\kernels.py:402: ConvergenceWarning: The optimal value found for dimension 0 of parameter k2__length_scale is close to the specified lower bound 0.01. Decreasing the bound and calling fit again may find a better value.\n",
      "  warnings.warn(\"The optimal value found for \"\n",
      "C:\\Users\\Simone\\anaconda3\\lib\\site-packages\\sklearn\\gaussian_process\\kernels.py:402: ConvergenceWarning: The optimal value found for dimension 0 of parameter k2__length_scale is close to the specified lower bound 0.01. Decreasing the bound and calling fit again may find a better value.\n",
      "  warnings.warn(\"The optimal value found for \"\n"
     ]
    },
    {
     "name": "stdout",
     "output_type": "stream",
     "text": [
      "99 [0.1        2.21989791] -0.41999999999999993\n",
      "reached limit\n",
      "400\n",
      "[1.2391984739607858, 2.9916856500391167]\n",
      "0 [0.1 0.1] 0.25749999999999995\n",
      "1 [1.23675685 2.98797686] -0.3075000000000001\n"
     ]
    },
    {
     "name": "stderr",
     "output_type": "stream",
     "text": [
      "C:\\Users\\Simone\\anaconda3\\lib\\site-packages\\sklearn\\gaussian_process\\kernels.py:402: ConvergenceWarning: The optimal value found for dimension 0 of parameter k2__length_scale is close to the specified lower bound 0.01. Decreasing the bound and calling fit again may find a better value.\n",
      "  warnings.warn(\"The optimal value found for \"\n",
      "C:\\Users\\Simone\\anaconda3\\lib\\site-packages\\sklearn\\gaussian_process\\kernels.py:402: ConvergenceWarning: The optimal value found for dimension 0 of parameter k1__constant_value is close to the specified lower bound 0.001. Decreasing the bound and calling fit again may find a better value.\n",
      "  warnings.warn(\"The optimal value found for \"\n",
      "C:\\Users\\Simone\\anaconda3\\lib\\site-packages\\sklearn\\gaussian_process\\kernels.py:402: ConvergenceWarning: The optimal value found for dimension 0 of parameter k2__length_scale is close to the specified lower bound 0.01. Decreasing the bound and calling fit again may find a better value.\n",
      "  warnings.warn(\"The optimal value found for \"\n",
      "C:\\Users\\Simone\\anaconda3\\lib\\site-packages\\sklearn\\gaussian_process\\kernels.py:402: ConvergenceWarning: The optimal value found for dimension 0 of parameter k2__length_scale is close to the specified lower bound 0.01. Decreasing the bound and calling fit again may find a better value.\n",
      "  warnings.warn(\"The optimal value found for \"\n"
     ]
    },
    {
     "name": "stdout",
     "output_type": "stream",
     "text": [
      "2 [1.20603369 2.98797686] -0.15999999999999992\n",
      "3 [1.23675685 2.9572537 ] -0.09000000000000001\n",
      "4 [1.17531053 2.89580739] -0.4150000000000001\n",
      "5 [1.11386422 2.86508423] -0.34\n"
     ]
    },
    {
     "name": "stderr",
     "output_type": "stream",
     "text": [
      "C:\\Users\\Simone\\anaconda3\\lib\\site-packages\\sklearn\\gaussian_process\\kernels.py:402: ConvergenceWarning: The optimal value found for dimension 0 of parameter k2__length_scale is close to the specified lower bound 0.01. Decreasing the bound and calling fit again may find a better value.\n",
      "  warnings.warn(\"The optimal value found for \"\n",
      "C:\\Users\\Simone\\anaconda3\\lib\\site-packages\\sklearn\\gaussian_process\\kernels.py:402: ConvergenceWarning: The optimal value found for dimension 0 of parameter k2__length_scale is close to the specified lower bound 0.01. Decreasing the bound and calling fit again may find a better value.\n",
      "  warnings.warn(\"The optimal value found for \"\n",
      "C:\\Users\\Simone\\anaconda3\\lib\\site-packages\\sklearn\\gaussian_process\\kernels.py:402: ConvergenceWarning: The optimal value found for dimension 0 of parameter k2__length_scale is close to the specified lower bound 0.01. Decreasing the bound and calling fit again may find a better value.\n",
      "  warnings.warn(\"The optimal value found for \"\n",
      "C:\\Users\\Simone\\anaconda3\\lib\\site-packages\\sklearn\\gaussian_process\\kernels.py:402: ConvergenceWarning: The optimal value found for dimension 0 of parameter k2__length_scale is close to the specified lower bound 0.01. Decreasing the bound and calling fit again may find a better value.\n",
      "  warnings.warn(\"The optimal value found for \"\n",
      "C:\\Users\\Simone\\anaconda3\\lib\\site-packages\\sklearn\\gaussian_process\\kernels.py:402: ConvergenceWarning: The optimal value found for dimension 0 of parameter k2__length_scale is close to the specified lower bound 0.01. Decreasing the bound and calling fit again may find a better value.\n",
      "  warnings.warn(\"The optimal value found for \"\n"
     ]
    },
    {
     "name": "stdout",
     "output_type": "stream",
     "text": [
      "6 [1.11386422 2.92653055] -0.24250000000000005\n",
      "7 [1.17531053 2.83436107] -0.4375\n",
      "8 [1.14458738 2.80363791] -0.37250000000000005\n",
      "9 [1.20603369 2.80363791] -0.305\n",
      "10"
     ]
    },
    {
     "name": "stderr",
     "output_type": "stream",
     "text": [
      "C:\\Users\\Simone\\anaconda3\\lib\\site-packages\\sklearn\\gaussian_process\\kernels.py:402: ConvergenceWarning: The optimal value found for dimension 0 of parameter k2__length_scale is close to the specified lower bound 0.01. Decreasing the bound and calling fit again may find a better value.\n",
      "  warnings.warn(\"The optimal value found for \"\n",
      "C:\\Users\\Simone\\anaconda3\\lib\\site-packages\\sklearn\\gaussian_process\\kernels.py:402: ConvergenceWarning: The optimal value found for dimension 0 of parameter k2__length_scale is close to the specified lower bound 0.01. Decreasing the bound and calling fit again may find a better value.\n",
      "  warnings.warn(\"The optimal value found for \"\n",
      "C:\\Users\\Simone\\anaconda3\\lib\\site-packages\\sklearn\\gaussian_process\\kernels.py:402: ConvergenceWarning: The optimal value found for dimension 0 of parameter k2__length_scale is close to the specified lower bound 0.01. Decreasing the bound and calling fit again may find a better value.\n",
      "  warnings.warn(\"The optimal value found for \"\n",
      "C:\\Users\\Simone\\anaconda3\\lib\\site-packages\\sklearn\\gaussian_process\\kernels.py:402: ConvergenceWarning: The optimal value found for dimension 0 of parameter k2__length_scale is close to the specified lower bound 0.01. Decreasing the bound and calling fit again may find a better value.\n",
      "  warnings.warn(\"The optimal value found for \"\n"
     ]
    },
    {
     "name": "stdout",
     "output_type": "stream",
     "text": [
      " [1.20603369 2.86508423] -0.295\n",
      "11 [1.08314106 2.80363791] -0.3275\n",
      "12 [1.0524179  2.86508423] -0.39999999999999997\n",
      "13 [1.02169474 2.83436107] -0.5575\n"
     ]
    },
    {
     "name": "stderr",
     "output_type": "stream",
     "text": [
      "C:\\Users\\Simone\\anaconda3\\lib\\site-packages\\sklearn\\gaussian_process\\kernels.py:402: ConvergenceWarning: The optimal value found for dimension 0 of parameter k2__length_scale is close to the specified lower bound 0.01. Decreasing the bound and calling fit again may find a better value.\n",
      "  warnings.warn(\"The optimal value found for \"\n",
      "C:\\Users\\Simone\\anaconda3\\lib\\site-packages\\sklearn\\gaussian_process\\kernels.py:402: ConvergenceWarning: The optimal value found for dimension 0 of parameter k2__length_scale is close to the specified lower bound 0.01. Decreasing the bound and calling fit again may find a better value.\n",
      "  warnings.warn(\"The optimal value found for \"\n",
      "C:\\Users\\Simone\\anaconda3\\lib\\site-packages\\sklearn\\gaussian_process\\kernels.py:402: ConvergenceWarning: The optimal value found for dimension 0 of parameter k2__length_scale is close to the specified lower bound 0.01. Decreasing the bound and calling fit again may find a better value.\n",
      "  warnings.warn(\"The optimal value found for \"\n"
     ]
    },
    {
     "name": "stdout",
     "output_type": "stream",
     "text": [
      "14 [0.99097159 2.83436107] -0.6775\n",
      "15 [0.96024843 2.86508423] -0.5975\n",
      "16 [0.96024843 2.80363791] -0.6800000000000002\n",
      "17 [0.96024843 2.80363791] -0.565\n",
      "18 [0.99097159 2.83436107] -0.6625000000000001\n",
      "19 [0.99097159 2.83436107] -0.46249999999999997\n",
      "20 [0.96024843 2.80363791] -0.795\n",
      "21 [0.89880211 2.77291476] -0.6275\n",
      "22 [0.96024843 2.7421916 ] -0.5075\n",
      "23 [0.89880211 2.83436107] -0.6125\n",
      "24 [0.92952527 2.80363791] -0.6375000000000001\n",
      "25 [0.96024843 2.80363791] -0.6699999999999999\n",
      "26 [0.96024843 2.80363791] -0.6275000000000001\n",
      "27 [0.96024843 2.80363791] -0.695\n",
      "28 [0.96024843 2.80363791] -0.6175000000000002\n",
      "29 [0.96024843 2.80363791] -0.805\n",
      "30 [0.89880211 2.9572537 ] -0.5675\n",
      "31 [0.96024843 2.80363791] -0.76\n",
      "32 [0.96024843 2.80363791] -0.5325\n",
      "33 [0.96024843 2.80363791] -0.5549999999999999\n",
      "34 [0.77590948 2.7421916 ] -1.0875\n",
      "35 [0.74518632 2.71146844] -1.1575\n",
      "36 [0.71446316 2.7421916 ] -1.0275\n",
      "37 [0.74518632 2.71146844] -1.125\n",
      "38 [0.74518632 2.71146844] -0.9999999999999999\n",
      "39 [0.74518632 2.7421916 ] -0.95\n",
      "40 [0.80663264 2.68074528] -1.1525\n",
      "41 [0.77590948 2.68074528] -1.0125\n",
      "42 [0.80663264 2.71146844] -0.9600000000000002\n",
      "43 [0.86807895 2.58857581] -0.8199999999999998\n",
      "44 [0.77590948 2.68074528] -0.86\n",
      "45 [0.83735579 2.65002212] -0.8200000000000001\n",
      "46 [0.71446316 2.71146844] -0.9349999999999999\n",
      "47 [0.80663264 2.68074528] -0.855\n",
      "48 [0.77590948 2.71146844] -1.1175000000000002\n",
      "49 [0.77590948 2.71146844] -0.9625\n",
      "50 [0.77590948 2.71146844] -1.04\n",
      "51 [0.77590948 2.71146844] -0.9800000000000001\n",
      "52 [0.77590948 2.71146844] -1.03\n",
      "53 [0.74518632 2.7421916 ] -1.1524999999999999\n",
      "54 [0.74518632 2.7421916 ] -1.105\n",
      "55 [0.74518632 2.7421916 ] -1.0125\n",
      "56 [0.74518632 2.7421916 ] -0.8899999999999999\n",
      "57 [0.77590948 2.71146844] -1.085\n",
      "58 [0.77590948 2.71146844] -1.0074999999999998\n",
      "59 [0.77590948 2.71146844] -1.0525\n",
      "60 [0.77590948 2.71146844] -1.0575\n",
      "61 [0.77590948 2.71146844] -1.0499999999999998\n",
      "62 [0.77590948 2.71146844] -0.8950000000000001\n",
      "63 [1.35964948 3.14159265] -0.055\n",
      "64 [0.74518632 2.7421916 ] -1.0349999999999997\n",
      "65 [0.92952527 2.43496002] -0.64\n",
      "66 [0.74518632 2.7421916 ] -1.1025\n",
      "67 [0.74518632 2.7421916 ] -0.975\n",
      "68 [0.74518632 2.7421916 ] -1.0374999999999999\n",
      "69 [0.74518632 2.7421916 ] -1.0399999999999998\n",
      "70 [0.74518632 2.7421916 ] -1.0775000000000001\n",
      "71 [0.74518632 2.7421916 ] -1.0825\n",
      "72 [0.74518632 2.7421916 ] -0.9450000000000002\n",
      "73 [0.74518632 2.7421916 ] -0.9825\n",
      "74 [0.74518632 2.71146844] -1.1425\n",
      "75 [0.74518632 2.71146844] -1.21\n",
      "76 [0.80663264 2.80363791] -0.8949999999999999\n",
      "77 [0.65301685 2.77291476] -1.3074999999999999\n",
      "78 [0.65301685 2.77291476] -1.2550000000000001\n",
      "79 [0.65301685 2.77291476] -1.1675\n",
      "80 [0.65301685 2.77291476] -1.2325\n",
      "81 [0.65301685 2.80363791] -1.2625\n",
      "82 [0.56084737 2.83436107] -1.27\n",
      "83 [0.59157053 2.80363791] -1.3250000000000002\n",
      "84 [0.62229369 2.83436107] -1.18\n",
      "85 [0.62229369 2.80363791] -1.395\n",
      "86 [0.62229369 2.80363791] -1.0875000000000001\n",
      "87 [0.1       2.3735137] -0.5225\n",
      "88 [0.56084737 2.80363791] -1.2825\n",
      "89 [0.59157053 2.80363791] -1.22\n",
      "90 [0.56084737 2.80363791] -1.2525000000000002\n",
      "91 [0.59157053 2.80363791] -1.3075\n",
      "92 [0.43795474 2.86508423] -1.18\n",
      "93 [0.49940106 2.89580739] -1.21\n",
      "94 [0.49940106 2.83436107] -1.1775\n",
      "95 [0.59157053 2.77291476] -1.2274999999999998\n",
      "96 [0.59157053 2.80363791] -1.19\n",
      "97 [0.71446316 1.4210958 ] 0.21499999999999997\n",
      "98 [1.82049685 0.1       ] 0.07750000000000012\n",
      "99 [0.37650842 2.98797686] -0.73\n",
      "reached limit\n",
      "500\n",
      "[1.2391984739607858, 2.9916856500391167]\n"
     ]
    },
    {
     "name": "stderr",
     "output_type": "stream",
     "text": [
      "C:\\Users\\Simone\\anaconda3\\lib\\site-packages\\sklearn\\gaussian_process\\kernels.py:402: ConvergenceWarning: The optimal value found for dimension 0 of parameter k1__constant_value is close to the specified lower bound 0.001. Decreasing the bound and calling fit again may find a better value.\n",
      "  warnings.warn(\"The optimal value found for \"\n",
      "C:\\Users\\Simone\\anaconda3\\lib\\site-packages\\sklearn\\gaussian_process\\kernels.py:402: ConvergenceWarning: The optimal value found for dimension 0 of parameter k2__length_scale is close to the specified lower bound 0.01. Decreasing the bound and calling fit again may find a better value.\n",
      "  warnings.warn(\"The optimal value found for \"\n",
      "C:\\Users\\Simone\\anaconda3\\lib\\site-packages\\sklearn\\gaussian_process\\kernels.py:402: ConvergenceWarning: The optimal value found for dimension 0 of parameter k2__length_scale is close to the specified lower bound 0.01. Decreasing the bound and calling fit again may find a better value.\n",
      "  warnings.warn(\"The optimal value found for \"\n"
     ]
    },
    {
     "name": "stdout",
     "output_type": "stream",
     "text": [
      "0 [0.1 0.1] 0.22800000000000006\n",
      "1 [1.23675685 2.98797686] -0.17\n",
      "2 [1.20603369 2.9572537 ] -0.21600000000000014\n",
      "3 [1.17531053 2.86508423] -0.3100000000000002\n",
      "4 [0.96024843 2.83436107] -0.496\n",
      "5 [0.83735579 2.55785265] -0.856\n",
      "6 [0.22289263 2.15845159] -0.32600000000000007\n",
      "7 [0.92952527 2.21989791] -0.4200000000000001\n",
      "8 [0.65301685 2.55785265] -1.058\n",
      "9 [0.49940106 2.65002212] -1.296\n",
      "10 [0.19216947 2.83436107] -0.8820000000000001\n",
      "11 [0.43795474 2.68074528] -1.4300000000000002\n",
      "12 [0.40723158 2.68074528] -1.464\n",
      "13 [0.34578526 2.61929897] -1.212\n",
      "14 [0.43795474 2.80363791] -1.378\n",
      "15 [0.43795474 2.7421916 ] -1.3820000000000001\n",
      "16 [0.43795474 2.7421916 ] -1.346\n",
      "17 [0.4686779  2.71146844] -1.372\n",
      "18 [0.4686779  2.71146844] -1.4260000000000002\n",
      "19 [0.4686779  2.71146844] -1.4400000000000002\n",
      "20 [0.4686779 2.7421916] -1.4420000000000002\n",
      "21 [1.51326527 0.65301685] 0.972\n",
      "22 [2.0048358  2.25062107] -0.47000000000000003\n",
      "23 [3.08014634 0.1       ] 0.050000000000000044\n",
      "24 [2.9572537  3.14159265] -0.06000000000000005\n",
      "25 [3.14159265 1.54398843] -0.003999999999999962\n",
      "26 [0.4686779 2.7421916] -1.3920000000000001\n",
      "27 [0.4686779 2.7421916] -1.348\n",
      "28 [0.4686779 2.7421916] -1.5700000000000003\n",
      "29 [0.1        1.17531053] 0.17000000000000007\n",
      "30 [0.4686779 2.7421916] -1.45\n",
      "31 [0.4686779 2.7421916] -1.32\n",
      "32 [0.4686779 2.7421916] -1.5020000000000002\n",
      "33 [0.4686779 2.7421916] -1.4940000000000002\n",
      "34 [0.4686779  2.77291476] -1.3840000000000001\n",
      "35 [0.4686779 2.7421916] -1.362\n",
      "36 [0.4686779 2.7421916] -1.38\n",
      "37 [0.4686779 2.7421916] -1.3199999999999998\n",
      "38 [0.4686779 2.7421916] -1.4380000000000002\n",
      "39 [0.4686779 2.7421916] -1.386\n",
      "40 [0.4686779 2.7421916] -1.4320000000000002\n",
      "41 [0.4686779 2.7421916] -1.43\n",
      "42 [0.4686779 2.7421916] -1.4320000000000002\n",
      "43 [2.09700528 3.14159265] 0.06599999999999992\n",
      "44 [0.4686779 2.7421916] -1.4060000000000001\n",
      "45 [0.4686779 2.7421916] -1.338\n",
      "46 [0.4686779 2.7421916] -1.4680000000000002\n",
      "47 [0.4686779 2.7421916] -1.4340000000000002\n",
      "48 [0.4686779 2.7421916] -1.4020000000000001\n",
      "49 [0.4686779 2.7421916] -1.314\n",
      "50 [0.4686779 2.7421916] -1.364\n",
      "51 [0.4686779 2.7421916] -1.348\n",
      "52 [0.4686779 2.7421916] -1.5000000000000002\n",
      "53 [2.18917475 1.4210958 ] 0.39399999999999996\n",
      "54 [0.4686779 2.7421916] -1.5000000000000002\n",
      "55 [0.4686779 2.7421916] -1.354\n",
      "56 [0.4686779 2.7421916] -1.278\n",
      "57 [0.4686779 2.7421916] -1.3940000000000001\n",
      "58 [0.4686779 2.7421916] -1.428\n",
      "59 [0.4686779 2.7421916] -1.384\n",
      "60 [0.4686779 2.7421916] -1.3780000000000001\n",
      "61 [0.4686779 2.7421916] -1.4060000000000001\n",
      "62 [0.4686779 2.7421916] -1.45\n",
      "63 [0.4686779 2.7421916] -1.4180000000000001\n",
      "64 [0.4686779 2.7421916] -1.374\n",
      "65 [0.4686779 2.7421916] -1.4620000000000002\n",
      "66 [0.4686779 2.7421916] -1.4140000000000001\n",
      "67 [0.4686779 2.7421916] -1.3179999999999998\n",
      "68 [0.4686779 2.7421916] -1.412\n",
      "69 [0.4686779 2.7421916] -1.4000000000000001\n",
      "70 [0.4686779 2.7421916] -1.356\n",
      "71 [0.4686779 2.7421916] -1.3960000000000001\n",
      "72 [3.14159265 2.3735137 ] 0.11799999999999994\n",
      "73 [0.4686779 2.7421916] -1.3840000000000001\n",
      "74 [0.4686779 2.7421916] -1.3920000000000001\n",
      "75 [0.4686779 2.7421916] -1.466\n",
      "76 [0.4686779 2.7421916] -1.3940000000000001\n",
      "77 [0.4686779 2.7421916] -1.3820000000000001\n",
      "78 [0.4686779 2.7421916] -1.478\n",
      "79 [0.4686779 2.7421916] -1.424\n",
      "80 [0.4686779 2.7421916] -1.32\n",
      "81 [0.4686779 2.7421916] -1.486\n",
      "82 [0.4686779 2.7421916] -1.484\n",
      "83 [0.4686779 2.7421916] -1.4840000000000002\n",
      "84 [0.4686779 2.7421916] -1.496\n",
      "85 [0.4686779 2.7421916] -1.334\n",
      "86 [0.4686779 2.7421916] -1.4500000000000002\n",
      "87 [0.4686779 2.7421916] -1.4260000000000002\n",
      "88 [0.4686779 2.7421916] -1.448\n",
      "89 [0.4686779 2.7421916] -1.4060000000000001\n",
      "90 [0.4686779 2.7421916] -1.24\n",
      "91 [0.4686779 2.7421916] -1.436\n",
      "92 [0.4686779 2.7421916] -1.4380000000000002\n",
      "93 [0.4686779 2.7421916] -1.4100000000000001\n",
      "94 [0.4686779 2.7421916] -1.3780000000000001\n",
      "95 [0.4686779 2.7421916] -1.3780000000000001\n",
      "96 [0.4686779 2.7421916] -1.442\n",
      "97 [0.4686779 2.7421916] -1.334\n",
      "98 [0.4686779 2.7421916] -1.3399999999999999\n",
      "99 [0.4686779 2.7421916] -1.484\n",
      "reached limit\n",
      "600\n",
      "[1.2391984739607858, 2.9916856500391167]\n"
     ]
    },
    {
     "name": "stderr",
     "output_type": "stream",
     "text": [
      "C:\\Users\\Simone\\anaconda3\\lib\\site-packages\\sklearn\\gaussian_process\\kernels.py:402: ConvergenceWarning: The optimal value found for dimension 0 of parameter k1__constant_value is close to the specified lower bound 0.001. Decreasing the bound and calling fit again may find a better value.\n",
      "  warnings.warn(\"The optimal value found for \"\n",
      "C:\\Users\\Simone\\anaconda3\\lib\\site-packages\\sklearn\\gaussian_process\\kernels.py:402: ConvergenceWarning: The optimal value found for dimension 0 of parameter k2__length_scale is close to the specified lower bound 0.01. Decreasing the bound and calling fit again may find a better value.\n",
      "  warnings.warn(\"The optimal value found for \"\n",
      "C:\\Users\\Simone\\anaconda3\\lib\\site-packages\\sklearn\\gaussian_process\\kernels.py:402: ConvergenceWarning: The optimal value found for dimension 0 of parameter k2__length_scale is close to the specified lower bound 0.01. Decreasing the bound and calling fit again may find a better value.\n",
      "  warnings.warn(\"The optimal value found for \"\n",
      "C:\\Users\\Simone\\anaconda3\\lib\\site-packages\\sklearn\\gaussian_process\\kernels.py:402: ConvergenceWarning: The optimal value found for dimension 0 of parameter k2__length_scale is close to the specified lower bound 0.01. Decreasing the bound and calling fit again may find a better value.\n",
      "  warnings.warn(\"The optimal value found for \"\n",
      "C:\\Users\\Simone\\anaconda3\\lib\\site-packages\\sklearn\\gaussian_process\\kernels.py:402: ConvergenceWarning: The optimal value found for dimension 0 of parameter k2__length_scale is close to the specified lower bound 0.01. Decreasing the bound and calling fit again may find a better value.\n",
      "  warnings.warn(\"The optimal value found for \"\n"
     ]
    },
    {
     "name": "stdout",
     "output_type": "stream",
     "text": [
      "0 [0.1 0.1] 0.1883333333333333\n",
      "1 [1.23675685 2.98797686] -0.11666666666666667\n",
      "2 [1.26748001 3.01870002] -0.07000000000000003\n",
      "3 [1.23675685 3.01870002] -0.11000000000000006\n",
      "4 [1.26748001 2.98797686] -0.20833333333333331\n",
      "5 [1.26748001 2.98797686] -0.05999999999999983\n",
      "6 [0.1        0.19216947] 0.31166666666666676\n",
      "7 [1.14458738 2.83436107] -0.49833333333333346\n"
     ]
    },
    {
     "name": "stderr",
     "output_type": "stream",
     "text": [
      "C:\\Users\\Simone\\anaconda3\\lib\\site-packages\\sklearn\\gaussian_process\\kernels.py:402: ConvergenceWarning: The optimal value found for dimension 0 of parameter k2__length_scale is close to the specified lower bound 0.01. Decreasing the bound and calling fit again may find a better value.\n",
      "  warnings.warn(\"The optimal value found for \"\n",
      "C:\\Users\\Simone\\anaconda3\\lib\\site-packages\\sklearn\\gaussian_process\\kernels.py:402: ConvergenceWarning: The optimal value found for dimension 0 of parameter k2__length_scale is close to the specified lower bound 0.01. Decreasing the bound and calling fit again may find a better value.\n",
      "  warnings.warn(\"The optimal value found for \"\n"
     ]
    },
    {
     "name": "stdout",
     "output_type": "stream",
     "text": [
      "8 [0.99097159 2.65002212] -0.6766666666666667\n",
      "9 [1.11386422 2.52712949] -0.5\n",
      "10 [0.86807895 2.71146844] -0.6849999999999998\n",
      "11 [0.89880211 2.71146844] -0.7799999999999999\n",
      "12 [0.89880211 2.77291476] -0.6933333333333334\n",
      "13 [0.89880211 2.71146844] -0.7766666666666665\n",
      "14 [0.86807895 2.71146844] -0.7366666666666667\n",
      "15 [0.86807895 2.71146844] -0.9016666666666667\n",
      "16 [0.43795474 2.49640633] -1.0966666666666667\n",
      "17 [0.16144632 2.46568318] -0.7650000000000001\n",
      "18 [0.49940106 2.3735137 ] -0.665\n",
      "19 [0.34578526 2.7421916 ] -1.3399999999999999\n",
      "20 [0.37650842 2.71146844] -1.3633333333333333\n",
      "21 [0.37650842 2.71146844] -1.3733333333333333\n",
      "22 [0.37650842 2.71146844] -1.3783333333333334\n",
      "23 [0.40723158 2.71146844] -1.4699999999999998\n",
      "24 [0.43795474 2.7421916 ] -1.4216666666666666\n",
      "25 [0.43795474 2.7421916 ] -1.4533333333333334\n",
      "26 [0.4686779  2.71146844] -1.4149999999999998\n",
      "27 [0.4686779 2.7421916] -1.4633333333333334\n",
      "28 [0.43795474 2.7421916 ] -1.4999999999999998\n",
      "29 [0.43795474 2.77291476] -1.4149999999999996\n",
      "30 [0.43795474 2.7421916 ] -1.455\n",
      "31 [0.4686779 2.7421916] -1.5266666666666662\n",
      "32 [0.4686779 2.7421916] -1.4349999999999998\n",
      "33 [0.4686779 2.7421916] -1.4733333333333334\n",
      "34 [0.4686779 2.7421916] -1.4466666666666668\n",
      "35 [0.4686779  2.77291476] -1.4083333333333334\n",
      "36 [0.4686779 2.7421916] -1.4883333333333335\n",
      "37 [1.39037264 0.89880211] 0.7033333333333333\n",
      "38 [2.58857581 1.85122001] 0.12333333333333338\n",
      "39 [2.77291476 0.1       ] 0.6883333333333335\n",
      "40 [3.1108695  3.14159265] 0.053333333333333253\n",
      "41 [0.1        1.29820317] 0.24833333333333327\n",
      "42 [0.43795474 2.80363791] -1.3666666666666665\n",
      "43 [3.14159265 1.08314106] 0.11333333333333342\n",
      "44 [0.43795474 2.7421916 ] -1.3866666666666667\n",
      "45 [0.43795474 2.7421916 ] -1.3333333333333333\n",
      "46 [0.43795474 2.7421916 ] -1.4716666666666665\n",
      "47 [0.43795474 2.7421916 ] -1.4499999999999997\n",
      "48 [1.88194317 2.46568318] -0.5800000000000001\n",
      "49 [0.4686779 2.7421916] -1.3333333333333335\n",
      "50 [0.43795474 2.7421916 ] -1.4650000000000003\n",
      "51 [0.43795474 2.7421916 ] -1.4249999999999998\n",
      "52 [0.43795474 2.7421916 ] -1.3650000000000004\n",
      "53 [0.43795474 2.7421916 ] -1.3633333333333333\n",
      "54 [0.43795474 2.7421916 ] -1.393333333333333\n",
      "55 [0.43795474 2.7421916 ] -1.4866666666666666\n",
      "56 [0.43795474 2.7421916 ] -1.4899999999999998\n",
      "57 [0.43795474 2.7421916 ] -1.4100000000000001\n",
      "58 [0.43795474 2.7421916 ] -1.45\n",
      "59 [0.43795474 2.7421916 ] -1.3949999999999998\n",
      "60 [0.43795474 2.7421916 ] -1.41\n",
      "61 [0.43795474 2.7421916 ] -1.3583333333333336\n",
      "62 [0.43795474 2.7421916 ] -1.416666666666667\n",
      "63 [0.43795474 2.7421916 ] -1.4349999999999998\n",
      "64 [0.43795474 2.7421916 ] -1.4483333333333333\n",
      "65 [0.43795474 2.7421916 ] -1.4383333333333335\n",
      "66 [0.43795474 2.7421916 ] -1.466666666666667\n",
      "67 [0.43795474 2.77291476] -1.3933333333333335\n",
      "68 [0.43795474 2.7421916 ] -1.4049999999999998\n",
      "69 [0.43795474 2.7421916 ] -1.4016666666666668\n",
      "70 [0.43795474 2.7421916 ] -1.4066666666666665\n",
      "71 [1.51326527 0.1       ] 0.04166666666666663\n",
      "72 [0.43795474 2.7421916 ] -1.4016666666666666\n",
      "73 [0.43795474 2.7421916 ] -1.3933333333333335\n",
      "74 [0.43795474 2.7421916 ] -1.4983333333333333\n",
      "75 [0.43795474 2.7421916 ] -1.446666666666667\n",
      "76 [0.43795474 2.7421916 ] -1.475\n",
      "77 [0.43795474 2.7421916 ] -1.4450000000000003\n",
      "78 [0.43795474 2.7421916 ] -1.373333333333333\n",
      "79 [0.43795474 2.7421916 ] -1.3750000000000002\n",
      "80 [0.43795474 2.7421916 ] -1.4116666666666666\n",
      "81 [0.43795474 2.7421916 ] -1.3266666666666667\n",
      "82 [0.43795474 2.7421916 ] -1.3883333333333332\n",
      "83 [0.43795474 2.7421916 ] -1.53\n",
      "84 [0.43795474 2.7421916 ] -1.4383333333333332\n",
      "85 [0.43795474 2.7421916 ] -1.415\n",
      "86 [0.43795474 2.7421916 ] -1.445\n",
      "87 [0.43795474 2.7421916 ] -1.4716666666666667\n",
      "88 [0.43795474 2.7421916 ] -1.3499999999999996\n",
      "89 [0.43795474 2.7421916 ] -1.3649999999999998\n",
      "90 [0.43795474 2.7421916 ] -1.3833333333333333\n",
      "91 [0.43795474 2.7421916 ] -1.4816666666666665\n",
      "92 [0.43795474 2.7421916 ] -1.4449999999999998\n",
      "93 [0.43795474 2.7421916 ] -1.44\n",
      "94 [0.43795474 2.7421916 ] -1.415\n",
      "95 [0.43795474 2.7421916 ] -1.3983333333333332\n",
      "96 [0.43795474 2.7421916 ] -1.465\n",
      "97 [0.43795474 2.7421916 ] -1.4283333333333335\n",
      "98 [0.43795474 2.7421916 ] -1.4683333333333333\n",
      "99 [0.43795474 2.7421916 ] -1.4233333333333331\n",
      "reached limit\n",
      "700\n",
      "[1.2391984739607858, 2.9916856500391167]\n",
      "0 [0.1 0.1] 0.12285714285714293\n",
      "1 [1.23675685 2.98797686] -0.23571428571428565\n"
     ]
    },
    {
     "name": "stderr",
     "output_type": "stream",
     "text": [
      "C:\\Users\\Simone\\anaconda3\\lib\\site-packages\\sklearn\\gaussian_process\\kernels.py:402: ConvergenceWarning: The optimal value found for dimension 0 of parameter k1__constant_value is close to the specified lower bound 0.001. Decreasing the bound and calling fit again may find a better value.\n",
      "  warnings.warn(\"The optimal value found for \"\n",
      "C:\\Users\\Simone\\anaconda3\\lib\\site-packages\\sklearn\\gaussian_process\\kernels.py:402: ConvergenceWarning: The optimal value found for dimension 0 of parameter k2__length_scale is close to the specified lower bound 0.01. Decreasing the bound and calling fit again may find a better value.\n",
      "  warnings.warn(\"The optimal value found for \"\n",
      "C:\\Users\\Simone\\anaconda3\\lib\\site-packages\\sklearn\\gaussian_process\\kernels.py:402: ConvergenceWarning: The optimal value found for dimension 0 of parameter k2__length_scale is close to the specified lower bound 0.01. Decreasing the bound and calling fit again may find a better value.\n",
      "  warnings.warn(\"The optimal value found for \"\n",
      "C:\\Users\\Simone\\anaconda3\\lib\\site-packages\\sklearn\\gaussian_process\\kernels.py:402: ConvergenceWarning: The optimal value found for dimension 0 of parameter k2__length_scale is close to the specified lower bound 0.01. Decreasing the bound and calling fit again may find a better value.\n",
      "  warnings.warn(\"The optimal value found for \"\n"
     ]
    },
    {
     "name": "stdout",
     "output_type": "stream",
     "text": [
      "2 [1.20603369 2.98797686] -0.1685714285714285\n",
      "3 [1.23675685 2.9572537 ] -0.09285714285714282\n",
      "4 [1.17531053 3.04942318] -0.017142857142857286\n"
     ]
    },
    {
     "name": "stderr",
     "output_type": "stream",
     "text": [
      "C:\\Users\\Simone\\anaconda3\\lib\\site-packages\\sklearn\\gaussian_process\\kernels.py:402: ConvergenceWarning: The optimal value found for dimension 0 of parameter k2__length_scale is close to the specified lower bound 0.01. Decreasing the bound and calling fit again may find a better value.\n",
      "  warnings.warn(\"The optimal value found for \"\n",
      "C:\\Users\\Simone\\anaconda3\\lib\\site-packages\\sklearn\\gaussian_process\\kernels.py:402: ConvergenceWarning: The optimal value found for dimension 0 of parameter k2__length_scale is close to the specified lower bound 0.01. Decreasing the bound and calling fit again may find a better value.\n",
      "  warnings.warn(\"The optimal value found for \"\n",
      "C:\\Users\\Simone\\anaconda3\\lib\\site-packages\\sklearn\\gaussian_process\\kernels.py:402: ConvergenceWarning: The optimal value found for dimension 0 of parameter k2__length_scale is close to the specified lower bound 0.01. Decreasing the bound and calling fit again may find a better value.\n",
      "  warnings.warn(\"The optimal value found for \"\n",
      "C:\\Users\\Simone\\anaconda3\\lib\\site-packages\\sklearn\\gaussian_process\\kernels.py:402: ConvergenceWarning: The optimal value found for dimension 0 of parameter k2__length_scale is close to the specified lower bound 0.01. Decreasing the bound and calling fit again may find a better value.\n",
      "  warnings.warn(\"The optimal value found for \"\n"
     ]
    },
    {
     "name": "stdout",
     "output_type": "stream",
     "text": [
      "5 [1.26748001 3.08014634] -0.10714285714285715\n",
      "6 [1.14458738 2.92653055] -0.3671428571428573\n",
      "7 [1.11386422 2.89580739] -0.25571428571428567\n",
      "8 [1.11386422 2.9572537 ] -0.2171428571428572\n"
     ]
    },
    {
     "name": "stderr",
     "output_type": "stream",
     "text": [
      "C:\\Users\\Simone\\anaconda3\\lib\\site-packages\\sklearn\\gaussian_process\\kernels.py:402: ConvergenceWarning: The optimal value found for dimension 0 of parameter k2__length_scale is close to the specified lower bound 0.01. Decreasing the bound and calling fit again may find a better value.\n",
      "  warnings.warn(\"The optimal value found for \"\n",
      "C:\\Users\\Simone\\anaconda3\\lib\\site-packages\\sklearn\\gaussian_process\\kernels.py:402: ConvergenceWarning: The optimal value found for dimension 0 of parameter k2__length_scale is close to the specified lower bound 0.01. Decreasing the bound and calling fit again may find a better value.\n",
      "  warnings.warn(\"The optimal value found for \"\n",
      "C:\\Users\\Simone\\anaconda3\\lib\\site-packages\\sklearn\\gaussian_process\\kernels.py:402: ConvergenceWarning: The optimal value found for dimension 0 of parameter k2__length_scale is close to the specified lower bound 0.01. Decreasing the bound and calling fit again may find a better value.\n",
      "  warnings.warn(\"The optimal value found for \"\n",
      "C:\\Users\\Simone\\anaconda3\\lib\\site-packages\\sklearn\\gaussian_process\\kernels.py:402: ConvergenceWarning: The optimal value found for dimension 0 of parameter k2__length_scale is close to the specified lower bound 0.01. Decreasing the bound and calling fit again may find a better value.\n",
      "  warnings.warn(\"The optimal value found for \"\n",
      "C:\\Users\\Simone\\anaconda3\\lib\\site-packages\\sklearn\\gaussian_process\\kernels.py:402: ConvergenceWarning: The optimal value found for dimension 0 of parameter k2__length_scale is close to the specified lower bound 0.01. Decreasing the bound and calling fit again may find a better value.\n",
      "  warnings.warn(\"The optimal value found for \"\n"
     ]
    },
    {
     "name": "stdout",
     "output_type": "stream",
     "text": [
      "9 [1.17531053 2.89580739] -0.3128571428571427\n",
      "10 [1.14458738 2.86508423] -0.39857142857142847\n",
      "11 [1.14458738 2.83436107] -0.3885714285714286\n",
      "12 [1.17531053 2.83436107] -0.44428571428571445\n"
     ]
    },
    {
     "name": "stderr",
     "output_type": "stream",
     "text": [
      "C:\\Users\\Simone\\anaconda3\\lib\\site-packages\\sklearn\\gaussian_process\\kernels.py:402: ConvergenceWarning: The optimal value found for dimension 0 of parameter k2__length_scale is close to the specified lower bound 0.01. Decreasing the bound and calling fit again may find a better value.\n",
      "  warnings.warn(\"The optimal value found for \"\n",
      "<ipython-input-22-781a3129b33c>:11: ConvergenceWarning: lbfgs failed to converge (status=2):\n",
      "ABNORMAL_TERMINATION_IN_LNSRCH.\n",
      "\n",
      "Increase the number of iterations (max_iter) or scale the data as shown in:\n",
      "    https://scikit-learn.org/stable/modules/preprocessing.html\n",
      "  _check_optimize_result(\"lbfgs\", opt_res)\n",
      "C:\\Users\\Simone\\anaconda3\\lib\\site-packages\\sklearn\\gaussian_process\\kernels.py:402: ConvergenceWarning: The optimal value found for dimension 0 of parameter k2__length_scale is close to the specified lower bound 0.01. Decreasing the bound and calling fit again may find a better value.\n",
      "  warnings.warn(\"The optimal value found for \"\n",
      "C:\\Users\\Simone\\anaconda3\\lib\\site-packages\\sklearn\\gaussian_process\\kernels.py:402: ConvergenceWarning: The optimal value found for dimension 0 of parameter k2__length_scale is close to the specified lower bound 0.01. Decreasing the bound and calling fit again may find a better value.\n",
      "  warnings.warn(\"The optimal value found for \"\n"
     ]
    },
    {
     "name": "stdout",
     "output_type": "stream",
     "text": [
      "13 [1.17531053 2.83436107] -0.2700000000000001\n",
      "14 [1.14458738 2.89580739] -0.2399999999999999\n",
      "15 [1.20603369 2.86508423] -0.2771428571428572\n"
     ]
    },
    {
     "name": "stderr",
     "output_type": "stream",
     "text": [
      "C:\\Users\\Simone\\anaconda3\\lib\\site-packages\\sklearn\\gaussian_process\\kernels.py:402: ConvergenceWarning: The optimal value found for dimension 0 of parameter k2__length_scale is close to the specified lower bound 0.01. Decreasing the bound and calling fit again may find a better value.\n",
      "  warnings.warn(\"The optimal value found for \"\n",
      "C:\\Users\\Simone\\anaconda3\\lib\\site-packages\\sklearn\\gaussian_process\\kernels.py:402: ConvergenceWarning: The optimal value found for dimension 0 of parameter k2__length_scale is close to the specified lower bound 0.01. Decreasing the bound and calling fit again may find a better value.\n",
      "  warnings.warn(\"The optimal value found for \"\n"
     ]
    },
    {
     "name": "stdout",
     "output_type": "stream",
     "text": [
      "16 [1.11386422 2.86508423] -0.38571428571428573\n",
      "17 [1.17531053 2.86508423] -0.38285714285714284\n",
      "18 [1.11386422 2.83436107] -0.4185714285714284\n",
      "19 [1.11386422 2.83436107] -0.4785714285714286\n"
     ]
    },
    {
     "name": "stderr",
     "output_type": "stream",
     "text": [
      "C:\\Users\\Simone\\anaconda3\\lib\\site-packages\\sklearn\\gaussian_process\\kernels.py:402: ConvergenceWarning: The optimal value found for dimension 0 of parameter k2__length_scale is close to the specified lower bound 0.01. Decreasing the bound and calling fit again may find a better value.\n",
      "  warnings.warn(\"The optimal value found for \"\n",
      "C:\\Users\\Simone\\anaconda3\\lib\\site-packages\\sklearn\\gaussian_process\\kernels.py:402: ConvergenceWarning: The optimal value found for dimension 0 of parameter k2__length_scale is close to the specified lower bound 0.01. Decreasing the bound and calling fit again may find a better value.\n",
      "  warnings.warn(\"The optimal value found for \"\n",
      "C:\\Users\\Simone\\anaconda3\\lib\\site-packages\\sklearn\\gaussian_process\\kernels.py:402: ConvergenceWarning: The optimal value found for dimension 0 of parameter k2__length_scale is close to the specified lower bound 0.01. Decreasing the bound and calling fit again may find a better value.\n",
      "  warnings.warn(\"The optimal value found for \"\n"
     ]
    },
    {
     "name": "stdout",
     "output_type": "stream",
     "text": [
      "20 [1.08314106 2.83436107] -0.37571428571428567\n",
      "21 [1.11386422 2.83436107] -0.45428571428571424\n",
      "22 [1.11386422 2.83436107] -0.4442857142857142\n",
      "23 [1.11386422 2.83436107] -0.21142857142857152\n"
     ]
    },
    {
     "name": "stderr",
     "output_type": "stream",
     "text": [
      "C:\\Users\\Simone\\anaconda3\\lib\\site-packages\\sklearn\\gaussian_process\\kernels.py:402: ConvergenceWarning: The optimal value found for dimension 0 of parameter k2__length_scale is close to the specified lower bound 0.01. Decreasing the bound and calling fit again may find a better value.\n",
      "  warnings.warn(\"The optimal value found for \"\n",
      "C:\\Users\\Simone\\anaconda3\\lib\\site-packages\\sklearn\\gaussian_process\\kernels.py:402: ConvergenceWarning: The optimal value found for dimension 0 of parameter k2__length_scale is close to the specified lower bound 0.01. Decreasing the bound and calling fit again may find a better value.\n",
      "  warnings.warn(\"The optimal value found for \"\n",
      "C:\\Users\\Simone\\anaconda3\\lib\\site-packages\\sklearn\\gaussian_process\\kernels.py:402: ConvergenceWarning: The optimal value found for dimension 0 of parameter k2__length_scale is close to the specified lower bound 0.01. Decreasing the bound and calling fit again may find a better value.\n",
      "  warnings.warn(\"The optimal value found for \"\n",
      "C:\\Users\\Simone\\anaconda3\\lib\\site-packages\\sklearn\\gaussian_process\\kernels.py:402: ConvergenceWarning: The optimal value found for dimension 0 of parameter k2__length_scale is close to the specified lower bound 0.01. Decreasing the bound and calling fit again may find a better value.\n",
      "  warnings.warn(\"The optimal value found for \"\n"
     ]
    },
    {
     "name": "stdout",
     "output_type": "stream",
     "text": [
      "24 [1.11386422 2.83436107] -0.4728571428571428\n",
      "25 [1.11386422 2.83436107] -0.41285714285714287\n",
      "26 [1.11386422 2.83436107] -0.2957142857142856\n"
     ]
    },
    {
     "name": "stderr",
     "output_type": "stream",
     "text": [
      "C:\\Users\\Simone\\anaconda3\\lib\\site-packages\\sklearn\\gaussian_process\\kernels.py:402: ConvergenceWarning: The optimal value found for dimension 0 of parameter k2__length_scale is close to the specified lower bound 0.01. Decreasing the bound and calling fit again may find a better value.\n",
      "  warnings.warn(\"The optimal value found for \"\n",
      "C:\\Users\\Simone\\anaconda3\\lib\\site-packages\\sklearn\\gaussian_process\\kernels.py:402: ConvergenceWarning: The optimal value found for dimension 0 of parameter k2__length_scale is close to the specified lower bound 0.01. Decreasing the bound and calling fit again may find a better value.\n",
      "  warnings.warn(\"The optimal value found for \"\n",
      "C:\\Users\\Simone\\anaconda3\\lib\\site-packages\\sklearn\\gaussian_process\\kernels.py:402: ConvergenceWarning: The optimal value found for dimension 0 of parameter k2__length_scale is close to the specified lower bound 0.01. Decreasing the bound and calling fit again may find a better value.\n",
      "  warnings.warn(\"The optimal value found for \"\n"
     ]
    },
    {
     "name": "stdout",
     "output_type": "stream",
     "text": [
      "27 [1.02169474 2.83436107] -0.4628571428571428\n",
      "28 [1.02169474 2.80363791] -0.5814285714285714\n",
      "29 [1.02169474 2.80363791] -0.5414285714285716\n"
     ]
    },
    {
     "name": "stderr",
     "output_type": "stream",
     "text": [
      "C:\\Users\\Simone\\anaconda3\\lib\\site-packages\\sklearn\\gaussian_process\\kernels.py:402: ConvergenceWarning: The optimal value found for dimension 0 of parameter k2__length_scale is close to the specified lower bound 0.01. Decreasing the bound and calling fit again may find a better value.\n",
      "  warnings.warn(\"The optimal value found for \"\n",
      "C:\\Users\\Simone\\anaconda3\\lib\\site-packages\\sklearn\\gaussian_process\\kernels.py:402: ConvergenceWarning: The optimal value found for dimension 0 of parameter k2__length_scale is close to the specified lower bound 0.01. Decreasing the bound and calling fit again may find a better value.\n",
      "  warnings.warn(\"The optimal value found for \"\n",
      "C:\\Users\\Simone\\anaconda3\\lib\\site-packages\\sklearn\\gaussian_process\\kernels.py:402: ConvergenceWarning: The optimal value found for dimension 0 of parameter k2__length_scale is close to the specified lower bound 0.01. Decreasing the bound and calling fit again may find a better value.\n",
      "  warnings.warn(\"The optimal value found for \"\n"
     ]
    },
    {
     "name": "stdout",
     "output_type": "stream",
     "text": [
      "30 [1.02169474 2.80363791] -0.5957142857142858\n",
      "31 [1.02169474 2.80363791] -0.44428571428571434\n",
      "32 [1.02169474 2.80363791] -0.5871428571428572\n"
     ]
    },
    {
     "name": "stderr",
     "output_type": "stream",
     "text": [
      "C:\\Users\\Simone\\anaconda3\\lib\\site-packages\\sklearn\\gaussian_process\\kernels.py:402: ConvergenceWarning: The optimal value found for dimension 0 of parameter k2__length_scale is close to the specified lower bound 0.01. Decreasing the bound and calling fit again may find a better value.\n",
      "  warnings.warn(\"The optimal value found for \"\n",
      "C:\\Users\\Simone\\anaconda3\\lib\\site-packages\\sklearn\\gaussian_process\\kernels.py:402: ConvergenceWarning: The optimal value found for dimension 0 of parameter k2__length_scale is close to the specified lower bound 0.01. Decreasing the bound and calling fit again may find a better value.\n",
      "  warnings.warn(\"The optimal value found for \"\n",
      "C:\\Users\\Simone\\anaconda3\\lib\\site-packages\\sklearn\\gaussian_process\\kernels.py:402: ConvergenceWarning: The optimal value found for dimension 0 of parameter k2__length_scale is close to the specified lower bound 0.01. Decreasing the bound and calling fit again may find a better value.\n",
      "  warnings.warn(\"The optimal value found for \"\n"
     ]
    },
    {
     "name": "stdout",
     "output_type": "stream",
     "text": [
      "33 [1.02169474 2.80363791] -0.5785714285714287\n",
      "34 [1.02169474 2.80363791] -0.6557142857142858\n"
     ]
    },
    {
     "name": "stderr",
     "output_type": "stream",
     "text": [
      "C:\\Users\\Simone\\anaconda3\\lib\\site-packages\\sklearn\\gaussian_process\\kernels.py:402: ConvergenceWarning: The optimal value found for dimension 0 of parameter k2__length_scale is close to the specified lower bound 0.01. Decreasing the bound and calling fit again may find a better value.\n",
      "  warnings.warn(\"The optimal value found for \"\n",
      "C:\\Users\\Simone\\anaconda3\\lib\\site-packages\\sklearn\\gaussian_process\\kernels.py:402: ConvergenceWarning: The optimal value found for dimension 0 of parameter k2__length_scale is close to the specified lower bound 0.01. Decreasing the bound and calling fit again may find a better value.\n",
      "  warnings.warn(\"The optimal value found for \"\n"
     ]
    },
    {
     "name": "stdout",
     "output_type": "stream",
     "text": [
      "35 [1.02169474 2.80363791] -0.6457142857142858\n",
      "36 [1.02169474 2.80363791] -0.5414285714285715\n",
      "37 [1.02169474 2.80363791] -0.6728571428571428\n"
     ]
    },
    {
     "name": "stderr",
     "output_type": "stream",
     "text": [
      "C:\\Users\\Simone\\anaconda3\\lib\\site-packages\\sklearn\\gaussian_process\\kernels.py:402: ConvergenceWarning: The optimal value found for dimension 0 of parameter k2__length_scale is close to the specified lower bound 0.01. Decreasing the bound and calling fit again may find a better value.\n",
      "  warnings.warn(\"The optimal value found for \"\n",
      "C:\\Users\\Simone\\anaconda3\\lib\\site-packages\\sklearn\\gaussian_process\\kernels.py:402: ConvergenceWarning: The optimal value found for dimension 0 of parameter k2__length_scale is close to the specified lower bound 0.01. Decreasing the bound and calling fit again may find a better value.\n",
      "  warnings.warn(\"The optimal value found for \"\n",
      "C:\\Users\\Simone\\anaconda3\\lib\\site-packages\\sklearn\\gaussian_process\\kernels.py:402: ConvergenceWarning: The optimal value found for dimension 0 of parameter k2__length_scale is close to the specified lower bound 0.01. Decreasing the bound and calling fit again may find a better value.\n",
      "  warnings.warn(\"The optimal value found for \"\n"
     ]
    },
    {
     "name": "stdout",
     "output_type": "stream",
     "text": [
      "38 [1.02169474 2.80363791] -0.5242857142857142\n",
      "39 [1.02169474 2.80363791] -0.6085714285714287\n"
     ]
    },
    {
     "name": "stderr",
     "output_type": "stream",
     "text": [
      "C:\\Users\\Simone\\anaconda3\\lib\\site-packages\\sklearn\\gaussian_process\\kernels.py:402: ConvergenceWarning: The optimal value found for dimension 0 of parameter k2__length_scale is close to the specified lower bound 0.01. Decreasing the bound and calling fit again may find a better value.\n",
      "  warnings.warn(\"The optimal value found for \"\n",
      "C:\\Users\\Simone\\anaconda3\\lib\\site-packages\\sklearn\\gaussian_process\\kernels.py:402: ConvergenceWarning: The optimal value found for dimension 0 of parameter k2__length_scale is close to the specified lower bound 0.01. Decreasing the bound and calling fit again may find a better value.\n",
      "  warnings.warn(\"The optimal value found for \"\n"
     ]
    },
    {
     "name": "stdout",
     "output_type": "stream",
     "text": [
      "40 [1.02169474 2.80363791] -0.6157142857142858\n",
      "41 [1.02169474 2.77291476] -0.38\n"
     ]
    },
    {
     "name": "stderr",
     "output_type": "stream",
     "text": [
      "C:\\Users\\Simone\\anaconda3\\lib\\site-packages\\sklearn\\gaussian_process\\kernels.py:402: ConvergenceWarning: The optimal value found for dimension 0 of parameter k2__length_scale is close to the specified lower bound 0.01. Decreasing the bound and calling fit again may find a better value.\n",
      "  warnings.warn(\"The optimal value found for \"\n",
      "C:\\Users\\Simone\\anaconda3\\lib\\site-packages\\sklearn\\gaussian_process\\kernels.py:402: ConvergenceWarning: The optimal value found for dimension 0 of parameter k2__length_scale is close to the specified lower bound 0.01. Decreasing the bound and calling fit again may find a better value.\n",
      "  warnings.warn(\"The optimal value found for \"\n",
      "C:\\Users\\Simone\\anaconda3\\lib\\site-packages\\sklearn\\gaussian_process\\kernels.py:402: ConvergenceWarning: The optimal value found for dimension 0 of parameter k2__length_scale is close to the specified lower bound 0.01. Decreasing the bound and calling fit again may find a better value.\n",
      "  warnings.warn(\"The optimal value found for \"\n"
     ]
    },
    {
     "name": "stdout",
     "output_type": "stream",
     "text": [
      "42 [1.02169474 2.80363791] -0.5885714285714285\n",
      "43 [1.02169474 2.80363791] -0.4557142857142856\n",
      "44 [0.99097159 2.80363791] -0.4914285714285713\n"
     ]
    },
    {
     "name": "stderr",
     "output_type": "stream",
     "text": [
      "C:\\Users\\Simone\\anaconda3\\lib\\site-packages\\sklearn\\gaussian_process\\kernels.py:402: ConvergenceWarning: The optimal value found for dimension 0 of parameter k2__length_scale is close to the specified lower bound 0.01. Decreasing the bound and calling fit again may find a better value.\n",
      "  warnings.warn(\"The optimal value found for \"\n",
      "C:\\Users\\Simone\\anaconda3\\lib\\site-packages\\sklearn\\gaussian_process\\kernels.py:402: ConvergenceWarning: The optimal value found for dimension 0 of parameter k2__length_scale is close to the specified lower bound 0.01. Decreasing the bound and calling fit again may find a better value.\n",
      "  warnings.warn(\"The optimal value found for \"\n",
      "C:\\Users\\Simone\\anaconda3\\lib\\site-packages\\sklearn\\gaussian_process\\kernels.py:402: ConvergenceWarning: The optimal value found for dimension 0 of parameter k2__length_scale is close to the specified lower bound 0.01. Decreasing the bound and calling fit again may find a better value.\n",
      "  warnings.warn(\"The optimal value found for \"\n",
      "C:\\Users\\Simone\\anaconda3\\lib\\site-packages\\sklearn\\gaussian_process\\kernels.py:402: ConvergenceWarning: The optimal value found for dimension 0 of parameter k2__length_scale is close to the specified lower bound 0.01. Decreasing the bound and calling fit again may find a better value.\n",
      "  warnings.warn(\"The optimal value found for \"\n"
     ]
    },
    {
     "name": "stdout",
     "output_type": "stream",
     "text": [
      "45 [1.02169474 2.80363791] -0.5828571428571429\n",
      "46 [1.02169474 2.80363791] -0.5428571428571429\n",
      "47 [1.02169474 2.80363791] -0.4671428571428571\n",
      "48 [1.02169474 2.80363791] -0.5914285714285715\n",
      "49 [1.02169474 2.80363791] -0.542857142857143\n"
     ]
    },
    {
     "name": "stderr",
     "output_type": "stream",
     "text": [
      "C:\\Users\\Simone\\anaconda3\\lib\\site-packages\\sklearn\\gaussian_process\\kernels.py:402: ConvergenceWarning: The optimal value found for dimension 0 of parameter k2__length_scale is close to the specified lower bound 0.01. Decreasing the bound and calling fit again may find a better value.\n",
      "  warnings.warn(\"The optimal value found for \"\n",
      "C:\\Users\\Simone\\anaconda3\\lib\\site-packages\\sklearn\\gaussian_process\\kernels.py:402: ConvergenceWarning: The optimal value found for dimension 0 of parameter k2__length_scale is close to the specified lower bound 0.01. Decreasing the bound and calling fit again may find a better value.\n",
      "  warnings.warn(\"The optimal value found for \"\n",
      "C:\\Users\\Simone\\anaconda3\\lib\\site-packages\\sklearn\\gaussian_process\\kernels.py:402: ConvergenceWarning: The optimal value found for dimension 0 of parameter k2__length_scale is close to the specified lower bound 0.01. Decreasing the bound and calling fit again may find a better value.\n",
      "  warnings.warn(\"The optimal value found for \"\n"
     ]
    },
    {
     "name": "stdout",
     "output_type": "stream",
     "text": [
      "50 [1.02169474 2.80363791] -0.49285714285714294\n",
      "51 [1.02169474 2.80363791] -0.4514285714285714\n",
      "52"
     ]
    },
    {
     "name": "stderr",
     "output_type": "stream",
     "text": [
      "C:\\Users\\Simone\\anaconda3\\lib\\site-packages\\sklearn\\gaussian_process\\kernels.py:402: ConvergenceWarning: The optimal value found for dimension 0 of parameter k2__length_scale is close to the specified lower bound 0.01. Decreasing the bound and calling fit again may find a better value.\n",
      "  warnings.warn(\"The optimal value found for \"\n",
      "C:\\Users\\Simone\\anaconda3\\lib\\site-packages\\sklearn\\gaussian_process\\kernels.py:402: ConvergenceWarning: The optimal value found for dimension 0 of parameter k2__length_scale is close to the specified lower bound 0.01. Decreasing the bound and calling fit again may find a better value.\n",
      "  warnings.warn(\"The optimal value found for \"\n"
     ]
    },
    {
     "name": "stdout",
     "output_type": "stream",
     "text": [
      " [1.02169474 2.80363791] -0.31999999999999995\n",
      "53 [1.02169474 2.80363791] -0.5928571428571429\n"
     ]
    },
    {
     "name": "stderr",
     "output_type": "stream",
     "text": [
      "C:\\Users\\Simone\\anaconda3\\lib\\site-packages\\sklearn\\gaussian_process\\kernels.py:402: ConvergenceWarning: The optimal value found for dimension 0 of parameter k2__length_scale is close to the specified lower bound 0.01. Decreasing the bound and calling fit again may find a better value.\n",
      "  warnings.warn(\"The optimal value found for \"\n",
      "C:\\Users\\Simone\\anaconda3\\lib\\site-packages\\sklearn\\gaussian_process\\kernels.py:402: ConvergenceWarning: The optimal value found for dimension 0 of parameter k2__length_scale is close to the specified lower bound 0.01. Decreasing the bound and calling fit again may find a better value.\n",
      "  warnings.warn(\"The optimal value found for \"\n"
     ]
    },
    {
     "name": "stdout",
     "output_type": "stream",
     "text": [
      "54 [1.02169474 2.80363791] -0.582857142857143\n",
      "55 [1.02169474 2.80363791] -0.6014285714285715\n",
      "56 [1.02169474 2.80363791] -0.5200000000000001\n"
     ]
    },
    {
     "name": "stderr",
     "output_type": "stream",
     "text": [
      "C:\\Users\\Simone\\anaconda3\\lib\\site-packages\\sklearn\\gaussian_process\\kernels.py:402: ConvergenceWarning: The optimal value found for dimension 0 of parameter k2__length_scale is close to the specified lower bound 0.01. Decreasing the bound and calling fit again may find a better value.\n",
      "  warnings.warn(\"The optimal value found for \"\n",
      "C:\\Users\\Simone\\anaconda3\\lib\\site-packages\\sklearn\\gaussian_process\\kernels.py:402: ConvergenceWarning: The optimal value found for dimension 0 of parameter k2__length_scale is close to the specified lower bound 0.01. Decreasing the bound and calling fit again may find a better value.\n",
      "  warnings.warn(\"The optimal value found for \"\n",
      "C:\\Users\\Simone\\anaconda3\\lib\\site-packages\\sklearn\\gaussian_process\\kernels.py:402: ConvergenceWarning: The optimal value found for dimension 0 of parameter k2__length_scale is close to the specified lower bound 0.01. Decreasing the bound and calling fit again may find a better value.\n",
      "  warnings.warn(\"The optimal value found for \"\n",
      "C:\\Users\\Simone\\anaconda3\\lib\\site-packages\\sklearn\\gaussian_process\\kernels.py:402: ConvergenceWarning: The optimal value found for dimension 0 of parameter k2__length_scale is close to the specified lower bound 0.01. Decreasing the bound and calling fit again may find a better value.\n",
      "  warnings.warn(\"The optimal value found for \"\n"
     ]
    },
    {
     "name": "stdout",
     "output_type": "stream",
     "text": [
      "57 [1.02169474 2.80363791] -0.6071428571428571\n",
      "58 [1.02169474 2.80363791] -0.4642857142857144\n"
     ]
    },
    {
     "name": "stderr",
     "output_type": "stream",
     "text": [
      "C:\\Users\\Simone\\anaconda3\\lib\\site-packages\\sklearn\\gaussian_process\\kernels.py:402: ConvergenceWarning: The optimal value found for dimension 0 of parameter k2__length_scale is close to the specified lower bound 0.01. Decreasing the bound and calling fit again may find a better value.\n",
      "  warnings.warn(\"The optimal value found for \"\n",
      "C:\\Users\\Simone\\anaconda3\\lib\\site-packages\\sklearn\\gaussian_process\\kernels.py:402: ConvergenceWarning: The optimal value found for dimension 0 of parameter k2__length_scale is close to the specified lower bound 0.01. Decreasing the bound and calling fit again may find a better value.\n",
      "  warnings.warn(\"The optimal value found for \"\n"
     ]
    },
    {
     "name": "stdout",
     "output_type": "stream",
     "text": [
      "59 [1.02169474 2.80363791] -0.4714285714285714\n",
      "60 [0.1        0.22289263] 0.42857142857142855\n",
      "61 [0.1        0.37650842] 0.6371428571428572\n",
      "62 [0.1        0.56084737] 0.8342857142857142\n",
      "63 [0.1        0.80663264] 0.6728571428571426\n",
      "64 [0.37650842 2.86508423] -1.2214285714285718\n",
      "65 [0.31506211 2.83436107] -1.1542857142857146\n",
      "66 [0.31506211 2.92653055] -1.0042857142857142\n",
      "67 [0.43795474 2.68074528] -1.42\n",
      "68 [0.43795474 2.61929897] -1.3371428571428572\n",
      "69 [0.49940106 2.71146844] -1.3614285714285714\n",
      "70 [0.43795474 2.68074528] -1.43\n",
      "71 [0.43795474 2.68074528] -1.4585714285714286\n",
      "72 [0.4686779  2.68074528] -1.457142857142857\n",
      "73 [0.4686779  2.68074528] -1.4542857142857142\n",
      "74 [0.4686779  2.68074528] -1.4285714285714286\n",
      "75 [0.4686779  2.68074528] -1.3671428571428574\n",
      "76 [0.4686779  2.65002212] -1.3657142857142859\n",
      "77 [0.4686779  2.68074528] -1.3685714285714285\n",
      "78 [0.43795474 2.68074528] -1.407142857142857\n",
      "79 [0.43795474 2.68074528] -1.42\n",
      "80 [0.43795474 2.68074528] -1.4185714285714288\n",
      "81 [0.43795474 2.65002212] -1.4057142857142855\n",
      "82 [0.43795474 2.65002212] -1.3842857142857143\n",
      "83 [0.43795474 2.68074528] -1.4657142857142857\n",
      "84 [0.43795474 2.65002212] -1.4314285714285715\n",
      "85 [0.43795474 2.65002212] -1.3285714285714285\n",
      "86 [0.43795474 2.68074528] -1.3600000000000003\n",
      "87 [0.4686779  2.68074528] -1.422857142857143\n",
      "88 [0.4686779  2.68074528] -1.4100000000000001\n",
      "89 [0.4686779  2.68074528] -1.4357142857142857\n",
      "90 [0.4686779  2.68074528] -1.354285714285714\n",
      "91 [0.4686779  2.68074528] -1.38\n",
      "92 [0.43795474 2.68074528] -1.4\n",
      "93 [0.43795474 2.68074528] -1.364285714285714\n",
      "94 [0.4686779  2.65002212] -1.3942857142857144\n",
      "95 [0.4686779  2.65002212] -1.3814285714285715\n",
      "96 [0.4686779  2.68074528] -1.3542857142857143\n",
      "97 [0.43795474 2.65002212] -1.3757142857142857\n",
      "98 [0.43795474 2.65002212] -1.3957142857142861\n",
      "99 [0.43795474 2.65002212] -1.4242857142857144\n",
      "reached limit\n",
      "800\n",
      "[1.2391984739607858, 2.9916856500391167]\n"
     ]
    },
    {
     "name": "stderr",
     "output_type": "stream",
     "text": [
      "C:\\Users\\Simone\\anaconda3\\lib\\site-packages\\sklearn\\gaussian_process\\kernels.py:402: ConvergenceWarning: The optimal value found for dimension 0 of parameter k1__constant_value is close to the specified lower bound 0.001. Decreasing the bound and calling fit again may find a better value.\n",
      "  warnings.warn(\"The optimal value found for \"\n",
      "C:\\Users\\Simone\\anaconda3\\lib\\site-packages\\sklearn\\gaussian_process\\kernels.py:402: ConvergenceWarning: The optimal value found for dimension 0 of parameter k2__length_scale is close to the specified lower bound 0.01. Decreasing the bound and calling fit again may find a better value.\n",
      "  warnings.warn(\"The optimal value found for \"\n",
      "C:\\Users\\Simone\\anaconda3\\lib\\site-packages\\sklearn\\gaussian_process\\kernels.py:402: ConvergenceWarning: The optimal value found for dimension 0 of parameter k2__length_scale is close to the specified lower bound 0.01. Decreasing the bound and calling fit again may find a better value.\n",
      "  warnings.warn(\"The optimal value found for \"\n",
      "C:\\Users\\Simone\\anaconda3\\lib\\site-packages\\sklearn\\gaussian_process\\kernels.py:402: ConvergenceWarning: The optimal value found for dimension 0 of parameter k2__length_scale is close to the specified lower bound 0.01. Decreasing the bound and calling fit again may find a better value.\n",
      "  warnings.warn(\"The optimal value found for \"\n"
     ]
    },
    {
     "name": "stdout",
     "output_type": "stream",
     "text": [
      "0 [0.1 0.1] 0.23624999999999985\n",
      "1 [1.23675685 2.98797686] -0.17000000000000012\n",
      "2 [1.20603369 2.98797686] -0.054999999999999855\n",
      "3 [1.23675685 2.9572537 ] -0.05749999999999991\n"
     ]
    },
    {
     "name": "stderr",
     "output_type": "stream",
     "text": [
      "C:\\Users\\Simone\\anaconda3\\lib\\site-packages\\sklearn\\gaussian_process\\kernels.py:402: ConvergenceWarning: The optimal value found for dimension 0 of parameter k2__length_scale is close to the specified lower bound 0.01. Decreasing the bound and calling fit again may find a better value.\n",
      "  warnings.warn(\"The optimal value found for \"\n",
      "C:\\Users\\Simone\\anaconda3\\lib\\site-packages\\sklearn\\gaussian_process\\kernels.py:402: ConvergenceWarning: The optimal value found for dimension 0 of parameter k2__length_scale is close to the specified lower bound 0.01. Decreasing the bound and calling fit again may find a better value.\n",
      "  warnings.warn(\"The optimal value found for \"\n",
      "C:\\Users\\Simone\\anaconda3\\lib\\site-packages\\sklearn\\gaussian_process\\kernels.py:402: ConvergenceWarning: The optimal value found for dimension 0 of parameter k2__length_scale is close to the specified lower bound 0.01. Decreasing the bound and calling fit again may find a better value.\n",
      "  warnings.warn(\"The optimal value found for \"\n",
      "C:\\Users\\Simone\\anaconda3\\lib\\site-packages\\sklearn\\gaussian_process\\kernels.py:402: ConvergenceWarning: The optimal value found for dimension 0 of parameter k2__length_scale is close to the specified lower bound 0.01. Decreasing the bound and calling fit again may find a better value.\n",
      "  warnings.warn(\"The optimal value found for \"\n"
     ]
    },
    {
     "name": "stdout",
     "output_type": "stream",
     "text": [
      "4 [1.14458738 2.92653055] -0.24999999999999997\n",
      "5 [1.08314106 2.89580739] -0.28749999999999987\n",
      "6 [1.08314106 2.9572537 ] -0.2875\n",
      "7 [1.0524179  2.92653055] -0.31125\n"
     ]
    },
    {
     "name": "stderr",
     "output_type": "stream",
     "text": [
      "C:\\Users\\Simone\\anaconda3\\lib\\site-packages\\sklearn\\gaussian_process\\kernels.py:402: ConvergenceWarning: The optimal value found for dimension 0 of parameter k2__length_scale is close to the specified lower bound 0.01. Decreasing the bound and calling fit again may find a better value.\n",
      "  warnings.warn(\"The optimal value found for \"\n",
      "C:\\Users\\Simone\\anaconda3\\lib\\site-packages\\sklearn\\gaussian_process\\kernels.py:402: ConvergenceWarning: The optimal value found for dimension 0 of parameter k2__length_scale is close to the specified lower bound 0.01. Decreasing the bound and calling fit again may find a better value.\n",
      "  warnings.warn(\"The optimal value found for \"\n",
      "C:\\Users\\Simone\\anaconda3\\lib\\site-packages\\sklearn\\gaussian_process\\kernels.py:402: ConvergenceWarning: The optimal value found for dimension 0 of parameter k2__length_scale is close to the specified lower bound 0.01. Decreasing the bound and calling fit again may find a better value.\n",
      "  warnings.warn(\"The optimal value found for \"\n",
      "C:\\Users\\Simone\\anaconda3\\lib\\site-packages\\sklearn\\gaussian_process\\kernels.py:402: ConvergenceWarning: The optimal value found for dimension 0 of parameter k2__length_scale is close to the specified lower bound 0.01. Decreasing the bound and calling fit again may find a better value.\n",
      "  warnings.warn(\"The optimal value found for \"\n"
     ]
    },
    {
     "name": "stdout",
     "output_type": "stream",
     "text": [
      "8 [1.11386422 2.92653055] -0.48\n",
      "9 [1.11386422 2.92653055] -0.3325000000000001\n",
      "10 [1.08314106 2.92653055] -0.385\n",
      "11 [1.11386422 2.92653055] -0.23625\n"
     ]
    },
    {
     "name": "stderr",
     "output_type": "stream",
     "text": [
      "C:\\Users\\Simone\\anaconda3\\lib\\site-packages\\sklearn\\gaussian_process\\kernels.py:402: ConvergenceWarning: The optimal value found for dimension 0 of parameter k2__length_scale is close to the specified lower bound 0.01. Decreasing the bound and calling fit again may find a better value.\n",
      "  warnings.warn(\"The optimal value found for \"\n",
      "C:\\Users\\Simone\\anaconda3\\lib\\site-packages\\sklearn\\gaussian_process\\kernels.py:402: ConvergenceWarning: The optimal value found for dimension 0 of parameter k2__length_scale is close to the specified lower bound 0.01. Decreasing the bound and calling fit again may find a better value.\n",
      "  warnings.warn(\"The optimal value found for \"\n",
      "C:\\Users\\Simone\\anaconda3\\lib\\site-packages\\sklearn\\gaussian_process\\kernels.py:402: ConvergenceWarning: The optimal value found for dimension 0 of parameter k2__length_scale is close to the specified lower bound 0.01. Decreasing the bound and calling fit again may find a better value.\n",
      "  warnings.warn(\"The optimal value found for \"\n"
     ]
    },
    {
     "name": "stdout",
     "output_type": "stream",
     "text": [
      "12 [1.08314106 2.92653055] -0.3025\n",
      "13 [0.99097159 2.92653055] -0.30374999999999996\n",
      "14 [1.08314106 2.92653055] -0.26875000000000004\n"
     ]
    },
    {
     "name": "stderr",
     "output_type": "stream",
     "text": [
      "C:\\Users\\Simone\\anaconda3\\lib\\site-packages\\sklearn\\gaussian_process\\kernels.py:402: ConvergenceWarning: The optimal value found for dimension 0 of parameter k2__length_scale is close to the specified lower bound 0.01. Decreasing the bound and calling fit again may find a better value.\n",
      "  warnings.warn(\"The optimal value found for \"\n",
      "C:\\Users\\Simone\\anaconda3\\lib\\site-packages\\sklearn\\gaussian_process\\kernels.py:402: ConvergenceWarning: The optimal value found for dimension 0 of parameter k2__length_scale is close to the specified lower bound 0.01. Decreasing the bound and calling fit again may find a better value.\n",
      "  warnings.warn(\"The optimal value found for \"\n"
     ]
    },
    {
     "name": "stdout",
     "output_type": "stream",
     "text": [
      "15 [1.02169474 2.89580739] -0.30999999999999994\n",
      "16 [1.11386422 2.92653055] -0.36624999999999996\n",
      "17 [1.02169474 2.9572537 ] -0.385\n",
      "18 [1.02169474 2.98797686] -0.245\n",
      "19 [1.02169474 2.92653055] -0.24499999999999983\n",
      "20 [0.99097159 2.86508423] -0.49\n"
     ]
    },
    {
     "name": "stderr",
     "output_type": "stream",
     "text": [
      "C:\\Users\\Simone\\anaconda3\\lib\\site-packages\\sklearn\\gaussian_process\\kernels.py:402: ConvergenceWarning: The optimal value found for dimension 0 of parameter k2__length_scale is close to the specified lower bound 0.01. Decreasing the bound and calling fit again may find a better value.\n",
      "  warnings.warn(\"The optimal value found for \"\n",
      "C:\\Users\\Simone\\anaconda3\\lib\\site-packages\\sklearn\\gaussian_process\\kernels.py:402: ConvergenceWarning: The optimal value found for dimension 0 of parameter k2__length_scale is close to the specified lower bound 0.01. Decreasing the bound and calling fit again may find a better value.\n",
      "  warnings.warn(\"The optimal value found for \"\n",
      "C:\\Users\\Simone\\anaconda3\\lib\\site-packages\\sklearn\\gaussian_process\\kernels.py:402: ConvergenceWarning: The optimal value found for dimension 0 of parameter k2__length_scale is close to the specified lower bound 0.01. Decreasing the bound and calling fit again may find a better value.\n",
      "  warnings.warn(\"The optimal value found for \"\n"
     ]
    },
    {
     "name": "stdout",
     "output_type": "stream",
     "text": [
      "21 [0.99097159 2.86508423] -0.54625\n",
      "22 [0.99097159 2.86508423] -0.4600000000000001\n",
      "23 [0.99097159 2.86508423] -0.45375\n"
     ]
    },
    {
     "name": "stderr",
     "output_type": "stream",
     "text": [
      "C:\\Users\\Simone\\anaconda3\\lib\\site-packages\\sklearn\\gaussian_process\\kernels.py:402: ConvergenceWarning: The optimal value found for dimension 0 of parameter k2__length_scale is close to the specified lower bound 0.01. Decreasing the bound and calling fit again may find a better value.\n",
      "  warnings.warn(\"The optimal value found for \"\n",
      "C:\\Users\\Simone\\anaconda3\\lib\\site-packages\\sklearn\\gaussian_process\\kernels.py:402: ConvergenceWarning: The optimal value found for dimension 0 of parameter k2__length_scale is close to the specified lower bound 0.01. Decreasing the bound and calling fit again may find a better value.\n",
      "  warnings.warn(\"The optimal value found for \"\n",
      "C:\\Users\\Simone\\anaconda3\\lib\\site-packages\\sklearn\\gaussian_process\\kernels.py:402: ConvergenceWarning: The optimal value found for dimension 0 of parameter k2__length_scale is close to the specified lower bound 0.01. Decreasing the bound and calling fit again may find a better value.\n",
      "  warnings.warn(\"The optimal value found for \"\n"
     ]
    },
    {
     "name": "stdout",
     "output_type": "stream",
     "text": [
      "24 [0.99097159 2.86508423] -0.43749999999999994\n",
      "25 [0.99097159 2.86508423] -0.47625\n",
      "26 [0.96024843 2.86508423] -0.53125\n"
     ]
    },
    {
     "name": "stderr",
     "output_type": "stream",
     "text": [
      "C:\\Users\\Simone\\anaconda3\\lib\\site-packages\\sklearn\\gaussian_process\\kernels.py:402: ConvergenceWarning: The optimal value found for dimension 0 of parameter k2__length_scale is close to the specified lower bound 0.01. Decreasing the bound and calling fit again may find a better value.\n",
      "  warnings.warn(\"The optimal value found for \"\n",
      "C:\\Users\\Simone\\anaconda3\\lib\\site-packages\\sklearn\\gaussian_process\\kernels.py:402: ConvergenceWarning: The optimal value found for dimension 0 of parameter k2__length_scale is close to the specified lower bound 0.01. Decreasing the bound and calling fit again may find a better value.\n",
      "  warnings.warn(\"The optimal value found for \"\n",
      "C:\\Users\\Simone\\anaconda3\\lib\\site-packages\\sklearn\\gaussian_process\\kernels.py:402: ConvergenceWarning: The optimal value found for dimension 0 of parameter k2__length_scale is close to the specified lower bound 0.01. Decreasing the bound and calling fit again may find a better value.\n",
      "  warnings.warn(\"The optimal value found for \"\n"
     ]
    },
    {
     "name": "stdout",
     "output_type": "stream",
     "text": [
      "27 [0.96024843 2.86508423] -0.5700000000000002\n",
      "28 [0.96024843 2.86508423] -0.4175\n",
      "29 [0.96024843 2.86508423] -0.50875\n"
     ]
    },
    {
     "name": "stderr",
     "output_type": "stream",
     "text": [
      "C:\\Users\\Simone\\anaconda3\\lib\\site-packages\\sklearn\\gaussian_process\\kernels.py:402: ConvergenceWarning: The optimal value found for dimension 0 of parameter k2__length_scale is close to the specified lower bound 0.01. Decreasing the bound and calling fit again may find a better value.\n",
      "  warnings.warn(\"The optimal value found for \"\n",
      "C:\\Users\\Simone\\anaconda3\\lib\\site-packages\\sklearn\\gaussian_process\\kernels.py:402: ConvergenceWarning: The optimal value found for dimension 0 of parameter k2__length_scale is close to the specified lower bound 0.01. Decreasing the bound and calling fit again may find a better value.\n",
      "  warnings.warn(\"The optimal value found for \"\n",
      "C:\\Users\\Simone\\anaconda3\\lib\\site-packages\\sklearn\\gaussian_process\\kernels.py:402: ConvergenceWarning: The optimal value found for dimension 0 of parameter k2__length_scale is close to the specified lower bound 0.01. Decreasing the bound and calling fit again may find a better value.\n",
      "  warnings.warn(\"The optimal value found for \"\n"
     ]
    },
    {
     "name": "stdout",
     "output_type": "stream",
     "text": [
      "30 [0.96024843 2.83436107] -0.5149999999999998\n",
      "31 [0.96024843 2.83436107] -0.5237499999999999\n",
      "32 [0.96024843 2.83436107] -0.6375\n"
     ]
    },
    {
     "name": "stderr",
     "output_type": "stream",
     "text": [
      "C:\\Users\\Simone\\anaconda3\\lib\\site-packages\\sklearn\\gaussian_process\\kernels.py:402: ConvergenceWarning: The optimal value found for dimension 0 of parameter k2__length_scale is close to the specified lower bound 0.01. Decreasing the bound and calling fit again may find a better value.\n",
      "  warnings.warn(\"The optimal value found for \"\n",
      "C:\\Users\\Simone\\anaconda3\\lib\\site-packages\\sklearn\\gaussian_process\\kernels.py:402: ConvergenceWarning: The optimal value found for dimension 0 of parameter k2__length_scale is close to the specified lower bound 0.01. Decreasing the bound and calling fit again may find a better value.\n",
      "  warnings.warn(\"The optimal value found for \"\n",
      "C:\\Users\\Simone\\anaconda3\\lib\\site-packages\\sklearn\\gaussian_process\\kernels.py:402: ConvergenceWarning: The optimal value found for dimension 0 of parameter k2__length_scale is close to the specified lower bound 0.01. Decreasing the bound and calling fit again may find a better value.\n",
      "  warnings.warn(\"The optimal value found for \"\n"
     ]
    },
    {
     "name": "stdout",
     "output_type": "stream",
     "text": [
      "33 [0.96024843 2.83436107] -0.4474999999999999\n",
      "34 [0.96024843 2.83436107] -0.7012499999999999\n",
      "35 [0.96024843 2.83436107] -0.5887499999999999\n"
     ]
    },
    {
     "name": "stderr",
     "output_type": "stream",
     "text": [
      "C:\\Users\\Simone\\anaconda3\\lib\\site-packages\\sklearn\\gaussian_process\\kernels.py:402: ConvergenceWarning: The optimal value found for dimension 0 of parameter k2__length_scale is close to the specified lower bound 0.01. Decreasing the bound and calling fit again may find a better value.\n",
      "  warnings.warn(\"The optimal value found for \"\n",
      "C:\\Users\\Simone\\anaconda3\\lib\\site-packages\\sklearn\\gaussian_process\\kernels.py:402: ConvergenceWarning: The optimal value found for dimension 0 of parameter k2__length_scale is close to the specified lower bound 0.01. Decreasing the bound and calling fit again may find a better value.\n",
      "  warnings.warn(\"The optimal value found for \"\n",
      "C:\\Users\\Simone\\anaconda3\\lib\\site-packages\\sklearn\\gaussian_process\\kernels.py:402: ConvergenceWarning: The optimal value found for dimension 0 of parameter k2__length_scale is close to the specified lower bound 0.01. Decreasing the bound and calling fit again may find a better value.\n",
      "  warnings.warn(\"The optimal value found for \"\n",
      "C:\\Users\\Simone\\anaconda3\\lib\\site-packages\\sklearn\\gaussian_process\\kernels.py:402: ConvergenceWarning: The optimal value found for dimension 0 of parameter k2__length_scale is close to the specified lower bound 0.01. Decreasing the bound and calling fit again may find a better value.\n",
      "  warnings.warn(\"The optimal value found for \"\n",
      "C:\\Users\\Simone\\anaconda3\\lib\\site-packages\\sklearn\\gaussian_process\\kernels.py:402: ConvergenceWarning: The optimal value found for dimension 0 of parameter k2__length_scale is close to the specified lower bound 0.01. Decreasing the bound and calling fit again may find a better value.\n",
      "  warnings.warn(\"The optimal value found for \"\n"
     ]
    },
    {
     "name": "stdout",
     "output_type": "stream",
     "text": [
      "36 [0.96024843 2.83436107] -0.52125\n",
      "37 [0.96024843 2.83436107] -0.5625\n",
      "38 [0.96024843 2.83436107] -0.6562499999999999\n",
      "39 [0.92952527 2.83436107] -0.5037500000000001\n",
      "40 [0.96024843 2.80363791] -0.7449999999999999\n",
      "41 [0.96024843 2.77291476] -0.6575\n",
      "42 [0.96024843 2.80363791] -0.6424999999999998\n",
      "43 [0.96024843 2.80363791] -0.6237499999999999\n",
      "44 [0.99097159 2.80363791] -0.5512500000000001\n",
      "45 [0.96024843 2.80363791] -0.5637499999999999\n",
      "46 [0.92952527 2.77291476] -0.6787500000000001\n",
      "47 [0.92952527 2.77291476] -0.5499999999999999\n",
      "48 [0.96024843 2.77291476] -0.6537499999999999\n",
      "49 [0.96024843 2.77291476] -0.65\n",
      "50 [0.96024843 2.77291476] -0.6437500000000002\n",
      "51 [0.96024843 2.77291476] -0.6212500000000001\n",
      "52 [0.96024843 2.77291476] -0.62375\n",
      "53 [0.96024843 2.77291476] -0.7262500000000001\n",
      "54 [0.96024843 2.77291476] -0.65625\n",
      "55 [0.96024843 2.77291476] -0.735\n",
      "56 [0.96024843 2.77291476] -0.6937500000000001\n",
      "57 [0.96024843 2.77291476] -0.5375000000000001\n",
      "58 [0.96024843 2.77291476] -0.585\n",
      "59 [0.96024843 2.77291476] -0.59\n",
      "60 [0.96024843 2.77291476] -0.7925\n",
      "61 [0.96024843 2.77291476] -0.4925000000000001\n",
      "62 [0.96024843 2.77291476] -0.5225\n",
      "63 [0.96024843 2.80363791] -0.5325\n",
      "64 [0.96024843 2.77291476] -0.62375\n",
      "65 [0.96024843 2.77291476] -0.6487499999999999\n",
      "66 [0.96024843 2.77291476] -0.60625\n",
      "67 [0.86807895 2.9572537 ] -0.7575\n",
      "68 [0.83735579 2.9572537 ] -0.6412500000000001\n",
      "69 [0.89880211 2.98797686] -0.32125000000000004\n",
      "70 [0.89880211 2.92653055] -0.7012499999999999\n",
      "71 [0.86807895 2.92653055] -0.57\n",
      "72 [0.86807895 2.9572537 ] -0.30249999999999977\n",
      "73 [0.77590948 2.98797686] -0.505\n",
      "74 [0.92952527 2.92653055] -0.53625\n",
      "75 [0.89880211 2.89580739] -0.62375\n",
      "76 [0.80663264 2.9572537 ] -0.49625\n",
      "77 [0.83735579 2.98797686] -0.5087499999999999\n",
      "78 [0.89880211 2.92653055] -0.5937500000000001\n",
      "79 [0.74518632 3.01870002] -0.49500000000000005\n",
      "80 [0.89880211 2.92653055] -0.50625\n",
      "81 [0.96024843 2.77291476] -0.6575000000000001\n",
      "82 [0.96024843 2.77291476] -0.7325\n",
      "83 [0.96024843 2.77291476] -0.6049999999999999\n",
      "84 [0.96024843 2.77291476] -0.7250000000000001\n",
      "85 [0.96024843 2.77291476] -0.6824999999999999\n",
      "86 [0.96024843 2.77291476] -0.48125000000000007\n",
      "87 [0.92952527 2.71146844] -0.7850000000000001\n",
      "88 [0.92952527 2.68074528] -0.68625\n",
      "89 [0.92952527 2.71146844] -0.8487499999999999\n",
      "90 [0.92952527 2.71146844] -0.7762500000000001\n",
      "91 [0.92952527 2.71146844] -0.8862500000000001\n",
      "92 [0.92952527 2.71146844] -0.785\n",
      "93 [0.92952527 2.71146844] -0.7075\n",
      "94 [0.92952527 2.71146844] -0.725\n",
      "95 [0.92952527 2.71146844] -0.8274999999999999\n",
      "96 [0.92952527 2.71146844] -0.73625\n",
      "97 [0.89880211 2.71146844] -0.7462500000000001\n",
      "98 [0.92952527 2.71146844] -0.7087500000000001\n",
      "99 [0.92952527 2.71146844] -0.695\n",
      "reached limit\n",
      "900\n",
      "[1.2391984739607858, 2.9916856500391167]\n",
      "0 [0.1 0.1] 0.06333333333333337\n",
      "1 [1.20603369 2.98797686] -0.3433333333333334\n"
     ]
    },
    {
     "name": "stderr",
     "output_type": "stream",
     "text": [
      "C:\\Users\\Simone\\anaconda3\\lib\\site-packages\\sklearn\\gaussian_process\\kernels.py:402: ConvergenceWarning: The optimal value found for dimension 0 of parameter k1__constant_value is close to the specified lower bound 0.001. Decreasing the bound and calling fit again may find a better value.\n",
      "  warnings.warn(\"The optimal value found for \"\n"
     ]
    },
    {
     "name": "stdout",
     "output_type": "stream",
     "text": [
      "2 [1.17531053 2.9572537 ] -0.3177777777777779\n",
      "3 [1.17531053 3.01870002] -0.23555555555555563\n",
      "4 [1.20603369 2.9572537 ] -0.09999999999999987\n"
     ]
    },
    {
     "name": "stderr",
     "output_type": "stream",
     "text": [
      "C:\\Users\\Simone\\anaconda3\\lib\\site-packages\\sklearn\\gaussian_process\\kernels.py:402: ConvergenceWarning: The optimal value found for dimension 0 of parameter k2__length_scale is close to the specified lower bound 0.01. Decreasing the bound and calling fit again may find a better value.\n",
      "  warnings.warn(\"The optimal value found for \"\n",
      "C:\\Users\\Simone\\anaconda3\\lib\\site-packages\\sklearn\\gaussian_process\\kernels.py:402: ConvergenceWarning: The optimal value found for dimension 0 of parameter k2__length_scale is close to the specified lower bound 0.01. Decreasing the bound and calling fit again may find a better value.\n",
      "  warnings.warn(\"The optimal value found for \"\n",
      "C:\\Users\\Simone\\anaconda3\\lib\\site-packages\\sklearn\\gaussian_process\\kernels.py:402: ConvergenceWarning: The optimal value found for dimension 0 of parameter k2__length_scale is close to the specified lower bound 0.01. Decreasing the bound and calling fit again may find a better value.\n",
      "  warnings.warn(\"The optimal value found for \"\n"
     ]
    },
    {
     "name": "stdout",
     "output_type": "stream",
     "text": [
      "5 [1.17531053 2.98797686] -0.3077777777777779\n",
      "6 [1.14458738 2.9572537 ] -0.2999999999999999\n",
      "7 [1.20603369 3.01870002] -0.18555555555555556\n"
     ]
    },
    {
     "name": "stderr",
     "output_type": "stream",
     "text": [
      "C:\\Users\\Simone\\anaconda3\\lib\\site-packages\\sklearn\\gaussian_process\\kernels.py:402: ConvergenceWarning: The optimal value found for dimension 0 of parameter k2__length_scale is close to the specified lower bound 0.01. Decreasing the bound and calling fit again may find a better value.\n",
      "  warnings.warn(\"The optimal value found for \"\n",
      "C:\\Users\\Simone\\anaconda3\\lib\\site-packages\\sklearn\\gaussian_process\\kernels.py:402: ConvergenceWarning: The optimal value found for dimension 0 of parameter k2__length_scale is close to the specified lower bound 0.01. Decreasing the bound and calling fit again may find a better value.\n",
      "  warnings.warn(\"The optimal value found for \"\n",
      "C:\\Users\\Simone\\anaconda3\\lib\\site-packages\\sklearn\\gaussian_process\\kernels.py:402: ConvergenceWarning: The optimal value found for dimension 0 of parameter k2__length_scale is close to the specified lower bound 0.01. Decreasing the bound and calling fit again may find a better value.\n",
      "  warnings.warn(\"The optimal value found for \"\n"
     ]
    },
    {
     "name": "stdout",
     "output_type": "stream",
     "text": [
      "8 [1.14458738 2.92653055] -0.38888888888888884\n",
      "9 [1.14458738 2.92653055] -0.19777777777777772\n",
      "10 [1.20603369 2.98797686] -0.014444444444444482\n",
      "11 [1.17531053 2.9572537 ] -0.11111111111111109\n",
      "12 [1.14458738 2.98797686] -0.18777777777777777\n",
      "13 [1.11386422 2.92653055] -0.321111111111111\n",
      "14 [1.11386422 2.92653055] -0.231111111111111\n"
     ]
    },
    {
     "name": "stderr",
     "output_type": "stream",
     "text": [
      "C:\\Users\\Simone\\anaconda3\\lib\\site-packages\\sklearn\\gaussian_process\\kernels.py:402: ConvergenceWarning: The optimal value found for dimension 0 of parameter k2__length_scale is close to the specified lower bound 0.01. Decreasing the bound and calling fit again may find a better value.\n",
      "  warnings.warn(\"The optimal value found for \"\n",
      "C:\\Users\\Simone\\anaconda3\\lib\\site-packages\\sklearn\\gaussian_process\\kernels.py:402: ConvergenceWarning: The optimal value found for dimension 0 of parameter k2__length_scale is close to the specified lower bound 0.01. Decreasing the bound and calling fit again may find a better value.\n",
      "  warnings.warn(\"The optimal value found for \"\n",
      "C:\\Users\\Simone\\anaconda3\\lib\\site-packages\\sklearn\\gaussian_process\\kernels.py:402: ConvergenceWarning: The optimal value found for dimension 0 of parameter k2__length_scale is close to the specified lower bound 0.01. Decreasing the bound and calling fit again may find a better value.\n",
      "  warnings.warn(\"The optimal value found for \"\n"
     ]
    },
    {
     "name": "stdout",
     "output_type": "stream",
     "text": [
      "15 [1.17531053 2.98797686] -0.10000000000000005\n",
      "16 [1.14458738 2.9572537 ] -0.23666666666666683\n",
      "17 [1.14458738 2.92653055] -0.261111111111111\n",
      "18 [1.14458738 2.92653055] -0.14111111111111108\n",
      "19 [1.08314106 2.92653055] -0.3766666666666667\n",
      "20 [1.0524179  2.92653055] -0.4244444444444444\n",
      "21 [1.0524179  2.92653055] -0.3011111111111111\n",
      "22 [1.08314106 2.92653055] -0.3988888888888889\n",
      "23 [1.08314106 2.92653055] -0.23111111111111124\n",
      "24 [1.0524179  2.92653055] -0.30666666666666675\n",
      "25 [1.0524179  2.92653055] -0.3377777777777778\n",
      "26 [1.0524179  2.92653055] -0.4066666666666666\n",
      "27 [1.0524179  2.92653055] -0.3311111111111111\n",
      "28 [1.0524179  2.92653055] -0.3888888888888889\n",
      "29 [1.0524179  2.92653055] -0.3188888888888889\n",
      "30 [1.0524179  2.92653055] -0.3366666666666668\n",
      "31 [1.0524179  2.92653055] -0.32000000000000006\n",
      "32 [1.0524179  2.92653055] -0.35444444444444445\n",
      "33 [1.0524179  2.92653055] -0.41222222222222227\n",
      "34 [1.0524179  2.92653055] -0.29\n",
      "35 [1.0524179  2.92653055] -0.3588888888888889\n",
      "36 [1.0524179  2.92653055] -0.3611111111111112\n",
      "37 [1.14458738 3.08014634] -0.2477777777777778\n",
      "38 [1.0524179  2.92653055] -0.36555555555555563\n",
      "39 [1.0524179  2.92653055] -0.4611111111111111\n",
      "40 [1.0524179  2.92653055] -0.38555555555555543\n",
      "41 [1.0524179  2.92653055] -0.3455555555555555\n",
      "42 [1.0524179  2.92653055] -0.2888888888888889\n",
      "43 [1.0524179  2.92653055] -0.3377777777777777\n",
      "44 [1.0524179  2.92653055] -0.4255555555555555\n",
      "45 [1.0524179  2.92653055] -0.31444444444444447\n",
      "46 [1.0524179  2.92653055] -0.39\n",
      "47 [1.0524179  2.92653055] -0.2911111111111111\n",
      "48 [1.0524179  2.89580739] -0.39444444444444454\n",
      "49 [1.0524179  2.86508423] -0.4955555555555555\n",
      "50 [1.0524179  2.83436107] -0.3322222222222224\n",
      "51 [1.0524179  2.86508423] -0.3299999999999999\n",
      "52 [1.0524179  2.86508423] -0.43333333333333335\n",
      "53 [1.0524179  2.86508423] -0.49444444444444446\n",
      "54 [1.0524179  2.86508423] -0.3966666666666668\n",
      "55 [1.0524179  2.86508423] -0.4288888888888889\n",
      "56 [1.0524179  2.86508423] -0.32444444444444454\n",
      "57 [1.0524179  2.86508423] -0.548888888888889\n",
      "58 [1.0524179  2.86508423] -0.2877777777777778\n",
      "59 [1.0524179  2.86508423] -0.4477777777777777\n",
      "60 [1.0524179  2.86508423] -0.4822222222222222\n",
      "61 [1.0524179  2.86508423] -0.45777777777777784\n",
      "62 [1.0524179  2.86508423] -0.49999999999999994\n",
      "63 [1.0524179  2.86508423] -0.4111111111111111\n",
      "64 [1.0524179  2.86508423] -0.31\n",
      "65 [1.0524179  2.86508423] -0.3166666666666666\n",
      "66 [1.0524179  2.86508423] -0.33888888888888874\n",
      "67 [1.0524179  2.86508423] -0.3200000000000001\n",
      "68 [1.0524179  2.86508423] -0.5255555555555557\n",
      "69 [1.0524179  2.86508423] -0.541111111111111\n",
      "70 [1.0524179  2.86508423] -0.35111111111111104\n",
      "71 [1.0524179  2.86508423] -0.43\n",
      "72 [1.0524179  2.86508423] -0.43999999999999995\n",
      "73 [1.0524179  2.86508423] -0.46888888888888874\n",
      "74 [1.0524179  2.86508423] -0.4477777777777778\n",
      "75 [1.0524179  2.86508423] -0.24333333333333326\n",
      "76 [1.02169474 2.86508423] -0.5700000000000001\n",
      "77 [0.99097159 2.86508423] -0.4022222222222222\n",
      "78 [1.02169474 2.86508423] -0.52\n",
      "79 [1.02169474 2.86508423] -0.4877777777777779\n",
      "80 [1.02169474 2.86508423] -0.5322222222222223\n",
      "81 [1.02169474 2.86508423] -0.47777777777777786\n",
      "82 [1.02169474 2.86508423] -0.5355555555555556\n",
      "83 [1.02169474 2.86508423] -0.6988888888888889\n",
      "84 [1.02169474 2.86508423] -0.5833333333333331\n",
      "85 [1.02169474 2.86508423] -0.4355555555555556\n",
      "86 [1.02169474 2.86508423] -0.5944444444444444\n",
      "87 [1.02169474 2.86508423] -0.3355555555555556\n",
      "88 [1.02169474 2.86508423] -0.66\n",
      "89 [1.02169474 2.86508423] -0.4799999999999999\n",
      "90 [1.02169474 2.86508423] -0.5288888888888889\n",
      "91 [1.02169474 2.86508423] -0.43999999999999995\n",
      "92 [1.02169474 2.86508423] -0.5311111111111111\n",
      "93 [1.02169474 2.86508423] -0.30333333333333334\n",
      "94 [1.02169474 2.86508423] -0.5155555555555555\n",
      "95 [1.02169474 2.86508423] -0.26888888888888896\n",
      "96 [1.02169474 2.86508423] -0.46333333333333343\n",
      "97 [1.02169474 2.86508423] -0.6022222222222221\n",
      "98 [1.02169474 2.86508423] -0.43111111111111095\n",
      "99 [1.02169474 2.86508423] -0.5111111111111111\n",
      "reached limit\n",
      "1000\n",
      "[1.2391984739607858, 2.9916856500391167]\n"
     ]
    },
    {
     "name": "stderr",
     "output_type": "stream",
     "text": [
      "C:\\Users\\Simone\\anaconda3\\lib\\site-packages\\sklearn\\gaussian_process\\kernels.py:402: ConvergenceWarning: The optimal value found for dimension 0 of parameter k1__constant_value is close to the specified lower bound 0.001. Decreasing the bound and calling fit again may find a better value.\n",
      "  warnings.warn(\"The optimal value found for \"\n",
      "C:\\Users\\Simone\\anaconda3\\lib\\site-packages\\sklearn\\gaussian_process\\kernels.py:402: ConvergenceWarning: The optimal value found for dimension 0 of parameter k2__length_scale is close to the specified lower bound 0.01. Decreasing the bound and calling fit again may find a better value.\n",
      "  warnings.warn(\"The optimal value found for \"\n",
      "C:\\Users\\Simone\\anaconda3\\lib\\site-packages\\sklearn\\gaussian_process\\kernels.py:402: ConvergenceWarning: The optimal value found for dimension 0 of parameter k2__length_scale is close to the specified lower bound 0.01. Decreasing the bound and calling fit again may find a better value.\n",
      "  warnings.warn(\"The optimal value found for \"\n"
     ]
    },
    {
     "name": "stdout",
     "output_type": "stream",
     "text": [
      "0 [0.1 0.1] 0.07099999999999987\n",
      "1 [1.23675685 2.98797686] -0.186\n",
      "2 [1.26748001 3.01870002] -0.25100000000000006\n",
      "3 [1.29820317 3.14159265] -0.05699999999999994\n",
      "4 [1.23675685 3.01870002] -0.09000000000000011\n",
      "5 [1.26748001 2.98797686] -0.16200000000000006\n"
     ]
    },
    {
     "name": "stderr",
     "output_type": "stream",
     "text": [
      "C:\\Users\\Simone\\anaconda3\\lib\\site-packages\\sklearn\\gaussian_process\\kernels.py:402: ConvergenceWarning: The optimal value found for dimension 0 of parameter k2__length_scale is close to the specified lower bound 0.01. Decreasing the bound and calling fit again may find a better value.\n",
      "  warnings.warn(\"The optimal value found for \"\n",
      "C:\\Users\\Simone\\anaconda3\\lib\\site-packages\\sklearn\\gaussian_process\\kernels.py:402: ConvergenceWarning: The optimal value found for dimension 0 of parameter k2__length_scale is close to the specified lower bound 0.01. Decreasing the bound and calling fit again may find a better value.\n",
      "  warnings.warn(\"The optimal value found for \"\n",
      "C:\\Users\\Simone\\anaconda3\\lib\\site-packages\\sklearn\\gaussian_process\\kernels.py:402: ConvergenceWarning: The optimal value found for dimension 0 of parameter k2__length_scale is close to the specified lower bound 0.01. Decreasing the bound and calling fit again may find a better value.\n",
      "  warnings.warn(\"The optimal value found for \"\n",
      "C:\\Users\\Simone\\anaconda3\\lib\\site-packages\\sklearn\\gaussian_process\\kernels.py:402: ConvergenceWarning: The optimal value found for dimension 0 of parameter k2__length_scale is close to the specified lower bound 0.01. Decreasing the bound and calling fit again may find a better value.\n",
      "  warnings.warn(\"The optimal value found for \"\n"
     ]
    },
    {
     "name": "stdout",
     "output_type": "stream",
     "text": [
      "6 [1.26748001 3.01870002] 0.0019999999999998734\n",
      "7 [1.23675685 2.98797686] -0.1810000000000001\n",
      "8 [1.23675685 2.98797686] -0.1140000000000001\n"
     ]
    },
    {
     "name": "stderr",
     "output_type": "stream",
     "text": [
      "C:\\Users\\Simone\\anaconda3\\lib\\site-packages\\sklearn\\gaussian_process\\kernels.py:402: ConvergenceWarning: The optimal value found for dimension 0 of parameter k2__length_scale is close to the specified lower bound 0.01. Decreasing the bound and calling fit again may find a better value.\n",
      "  warnings.warn(\"The optimal value found for \"\n",
      "C:\\Users\\Simone\\anaconda3\\lib\\site-packages\\sklearn\\gaussian_process\\kernels.py:402: ConvergenceWarning: The optimal value found for dimension 0 of parameter k2__length_scale is close to the specified lower bound 0.01. Decreasing the bound and calling fit again may find a better value.\n",
      "  warnings.warn(\"The optimal value found for \"\n"
     ]
    },
    {
     "name": "stdout",
     "output_type": "stream",
     "text": [
      "9 [0.1        0.16144632] 0.36399999999999977\n",
      "10 [0.1        0.28433895] 0.5879999999999996\n",
      "11 [1.17531053 2.80363791] -0.3720000000000001\n",
      "12 [1.26748001 2.80363791] -0.115\n",
      "13 [1.0524179  2.83436107] -0.402\n",
      "14 [1.11386422 2.83436107] -0.41300000000000003\n",
      "15 [1.0524179  2.71146844] -0.4029999999999999\n",
      "16 [1.08314106 2.77291476] -0.44599999999999995\n",
      "17 [1.08314106 2.77291476] -0.504\n",
      "18 [1.08314106 2.77291476] -0.40099999999999997\n",
      "19 [1.08314106 2.77291476] -0.40500000000000014\n",
      "20 [1.08314106 2.77291476] -0.5469999999999999\n",
      "21 [1.08314106 2.77291476] -0.46799999999999997\n",
      "22 [1.08314106 2.77291476] -0.4340000000000001\n",
      "23 [1.08314106 2.77291476] -0.24500000000000008\n",
      "24 [1.08314106 2.77291476] -0.2409999999999999\n",
      "25 [0.99097159 2.40423686] -0.4700000000000001\n",
      "26 [0.83735579 2.46568318] -0.725\n",
      "27 [0.74518632 2.46568318] -0.876\n",
      "28 [0.62229369 2.43496002] -0.844\n",
      "29 [0.68374    2.49640633] -0.922\n",
      "30 [0.65301685 2.52712949] -1.122\n",
      "31 [0.49940106 2.68074528] -1.35\n",
      "32 [0.56084737 2.68074528] -1.3190000000000002\n",
      "33 [0.53012421 2.68074528] -1.35\n",
      "34 [0.49940106 2.68074528] -1.315\n",
      "35 [0.53012421 2.68074528] -1.3460000000000003\n",
      "36 [0.49940106 2.71146844] -1.4200000000000002\n",
      "37 [0.28433895 3.01870002] -0.619\n",
      "38 [0.53012421 2.71146844] -1.398\n",
      "39 [0.49940106 2.7421916 ] -1.4109999999999998\n",
      "40 [0.53012421 2.77291476] -1.3109999999999997\n",
      "41 [0.49940106 2.71146844] -1.4269999999999998\n",
      "42 [0.4686779  2.71146844] -1.457\n",
      "43 [0.40723158 2.71146844] -1.3860000000000001\n",
      "44 [0.43795474 2.71146844] -1.4399999999999997\n",
      "45 [0.40723158 2.71146844] -1.4140000000000001\n",
      "46 [0.40723158 2.68074528] -1.4509999999999998\n",
      "47 [0.37650842 2.68074528] -1.4139999999999997\n",
      "48 [0.37650842 2.68074528] -1.4669999999999999\n",
      "49 [0.40723158 2.68074528] -1.443\n",
      "50 [0.37650842 2.68074528] -1.369\n",
      "51 [0.37650842 2.68074528] -1.359\n",
      "52 [0.40723158 2.68074528] -1.446\n",
      "53 [1.69760422 0.89880211] 0.47899999999999987\n",
      "54 [3.14159265 2.09700528] 0.057999999999999996\n",
      "55 [3.01870002 0.1       ] 0.23600000000000002\n",
      "56 [0.40723158 2.68074528] -1.335\n",
      "57 [2.7421916  3.14159265] 0.01599999999999998\n",
      "58 [0.40723158 2.68074528] -1.4719999999999998\n",
      "59 [0.40723158 2.68074528] -1.445\n",
      "60 [0.40723158 2.68074528] -1.403\n",
      "61 [0.40723158 2.68074528] -1.474\n",
      "62 [0.40723158 2.68074528] -1.413\n",
      "63 [0.40723158 2.68074528] -1.437\n",
      "64 [0.40723158 2.68074528] -1.403\n",
      "65 [0.40723158 2.68074528] -1.4180000000000001\n",
      "66 [0.40723158 2.68074528] -1.43\n",
      "67 [0.40723158 2.68074528] -1.375\n",
      "68 [3.14159265 1.11386422] 0.06000000000000006\n",
      "69 [0.40723158 2.68074528] -1.4160000000000001\n",
      "70 [0.40723158 2.68074528] -1.4979999999999998\n",
      "71 [0.40723158 2.68074528] -1.394\n",
      "72 [0.40723158 2.68074528] -1.359\n",
      "73 [0.40723158 2.68074528] -1.4280000000000002\n",
      "74 [0.40723158 2.68074528] -1.352\n",
      "75 [1.11386422 0.1       ] 0.196\n",
      "76 [0.40723158 2.68074528] -1.4440000000000002\n",
      "77 [0.40723158 2.68074528] -1.414\n",
      "78 [0.40723158 2.68074528] -1.4209999999999998\n",
      "79 [0.40723158 2.68074528] -1.4269999999999998\n",
      "80 [0.40723158 2.68074528] -1.405\n",
      "81 [0.40723158 2.68074528] -1.384\n",
      "82 [0.40723158 2.68074528] -1.4379999999999997\n",
      "83 [2.03555896 1.91266633] -0.5320000000000001\n",
      "84 [0.40723158 2.68074528] -1.4560000000000002\n",
      "85 [0.40723158 2.68074528] -1.426\n",
      "86 [0.40723158 2.68074528] -1.3719999999999999\n",
      "87 [0.40723158 2.68074528] -1.424\n",
      "88 [0.40723158 2.68074528] -1.389\n",
      "89 [0.40723158 2.68074528] -1.4660000000000002\n",
      "90 [0.40723158 2.68074528] -1.378\n",
      "91 [0.40723158 2.68074528] -1.457\n",
      "92 [0.40723158 2.68074528] -1.4109999999999998\n",
      "93 [0.40723158 2.68074528] -1.379\n",
      "94 [0.40723158 2.68074528] -1.4249999999999998\n",
      "95 [0.40723158 2.68074528] -1.424\n",
      "96 [0.40723158 2.68074528] -1.4299999999999997\n",
      "97 [0.40723158 2.68074528] -1.4580000000000002\n",
      "98 [0.40723158 2.68074528] -1.415\n",
      "99 [0.40723158 2.68074528] -1.3840000000000001\n",
      "reached limit\n"
     ]
    },
    {
     "name": "stderr",
     "output_type": "stream",
     "text": [
      "C:\\Users\\Simone\\anaconda3\\lib\\site-packages\\sklearn\\gaussian_process\\kernels.py:402: ConvergenceWarning: The optimal value found for dimension 0 of parameter k2__length_scale is close to the specified lower bound 0.01. Decreasing the bound and calling fit again may find a better value.\n",
      "  warnings.warn(\"The optimal value found for \"\n"
     ]
    }
   ],
   "source": [
    "final_states = []\n",
    "for n_shots in range(100, 1001, 100):\n",
    "    print(n_shots)\n",
    "    acq_function = 'EI'\n",
    "    N_train = 1\n",
    "    N_test = 100\n",
    "    iterations = 100\n",
    "    gamma_extremes = [0.1, np.pi]; beta_extremes = [0.1, np.pi]\n",
    "    X_train = []; y_train = []\n",
    "\n",
    "    #seed\n",
    "    my_seed = 42\n",
    "    np.random.seed(my_seed)\n",
    "\n",
    "    for i in range(N_train):\n",
    "        X = [np.random.uniform(*gamma_extremes), np.random.uniform(*beta_extremes)]\n",
    "        print(X)\n",
    "        #X = [1.5000,1.5000]\n",
    "        X_train.append(X)\n",
    "        Y, _ = QAOA(*X, shots = n_shots)\n",
    "        y_train.append(Y)\n",
    "\n",
    "    X= np.linspace(0.1, np.max([gamma_extremes, beta_extremes]), N_test)\n",
    "    X_test = list(product(X, X))\n",
    "\n",
    "    X_train = rescaler(np.array(X_train)).tolist()\n",
    "    X_test = rescaler(np.array(X_test)).tolist()\n",
    "\n",
    "    #create gaussian process and fit training data\n",
    "    kernel = CK(1.0, (1e-3, 1e3)) * RBF(10, (1e-2, 1e2))\n",
    "    gp = MyGaussianProcessRegressor(kernel=kernel, n_restarts_optimizer=1, alpha = 1e-2, normalize_y = True, max_iter = 50000)\n",
    "    gp.fit(X_train, y_train)\n",
    "\n",
    "    #At each iteration we calculate the best point where to sample from\n",
    "    sample_points = []   #We save every point that was chosen to sample from\n",
    "\n",
    "    for i in range(iterations):\n",
    "\n",
    "            # Test GP\n",
    "            new_mean, new_sigma = gp.predict(X_test, return_std=True)\n",
    "\n",
    "            #New_mean and new_sigma both are (N_test**2, ) arrays not reshaped yet\n",
    "            mean_max = np.max(new_mean)\n",
    "            mean_min = np.min(new_mean)\n",
    "\n",
    "            #Now calculate acquisitition fn as the cumulative for every point centered around the maximum\n",
    "            cdf = norm.cdf(x = new_mean, loc =  mean_max, scale = new_sigma)\n",
    "            pdf = norm.pdf(x = new_mean, loc =  mean_min, scale = new_sigma)\n",
    "\n",
    "            #The qdf is instead the probability of being lower then the lowest value of the mean (where we wanto to pick the next_value)\n",
    "            qdf = 1-norm.cdf(x = new_mean, loc =  mean_min, scale = new_sigma)\n",
    "\n",
    "            if acq_function == 'PI':\n",
    "                #Next values is calculated as so just because argmax returns a number betwenn 1 and n_test instead of inside the interval\n",
    "                value = np.argmax(qdf)\n",
    "                next_point = X_test[value]\n",
    "\n",
    "            if acq_function == 'EI':\n",
    "                alpha_function = (new_mean - mean_min - 0.001)*qdf + new_sigma*pdf\n",
    "                #argmax is a number between 0 and N_test**-1 telling us where is the next point to sample\n",
    "                argmax = np.argmax(np.round(alpha_function, 3))\n",
    "                next_point_normalized = X_test[argmax]\n",
    "\n",
    "            next_point = rescaler(np.array(next_point_normalized), min_old=0, max_old=1, min_new=0, max_new=np.pi)\n",
    "            X_train.append(next_point_normalized)\n",
    "            y_next_point,_ = QAOA(*next_point, shots = n_shots)\n",
    "            y_train.append(y_next_point)\n",
    "            print(i, next_point, y_next_point)\n",
    "\n",
    "            gp.fit(X_train, y_train)\n",
    "            sample_points.append(next_point)\n",
    "    optimal_points = sample_points[-1]\n",
    "    optimal_f1, counts = QAOA(*optimal_points,shots=n_shots)\n",
    "    final_states.append(optimal_f1)\n",
    "    print('reached limit')"
   ]
  },
  {
   "cell_type": "code",
   "execution_count": 55,
   "metadata": {},
   "outputs": [
    {
     "data": {
      "text/plain": [
       "Text(0, 0.5, 'Approx Ratio')"
      ]
     },
     "execution_count": 55,
     "metadata": {},
     "output_type": "execute_result"
    },
    {
     "data": {
      "image/png": "[encoded data removed]",
      "text/plain": [
       "<Figure size 432x288 with 1 Axes>"
      ]
     },
     "metadata": {
      "needs_background": "light"
     },
     "output_type": "display_data"
    }
   ],
   "source": [
    "plt.plot(range(100,1001,100), np.array(final_states)/(-3))\n",
    "plt.xlabel('N_iter')\n",
    "plt.ylabel('Approx Ratio')"
   ]
  },
  {
   "cell_type": "code",
   "execution_count": 35,
   "metadata": {},
   "outputs": [
    {
     "name": "stdout",
     "output_type": "stream",
     "text": [
      "Optimal f1: -1.4149999999999996\n"
     ]
    },
    {
     "data": {
      "image/png": "[encoded data removed]",
      "text/plain": [
       "<Figure size 864x432 with 1 Axes>"
      ]
     },
     "metadata": {
      "needs_background": "light"
     },
     "output_type": "display_data"
    }
   ],
   "source": [
    "optimal_points = sample_points[-1]\n",
    "optimal_f1, counts = QAOA(*optimal_points,shots=1000, basis=\"S\")\n",
    "print(f\"Optimal f1: {optimal_f1}\")\n",
    "plot_distribution(counts)"
   ]
  },
  {
   "cell_type": "code",
   "execution_count": 37,
   "metadata": {},
   "outputs": [],
   "source": [
    "np.savetxt('../data/raw/Bayes_search.dat', sample_points[:45])"
   ]
  },
  {
   "cell_type": "code",
   "execution_count": 128,
   "metadata": {
    "scrolled": true
   },
   "outputs": [
    {
     "name": "stderr",
     "output_type": "stream",
     "text": [
      "100%|████████████████████████████████████████████████████████████████████████████| 40000/40000 [54:28<00:00, 12.24it/s]\n"
     ]
    },
    {
     "data": {
      "image/png": "[encoded data removed]",
      "text/plain": [
       "<Figure size 432x288 with 2 Axes>"
      ]
     },
     "metadata": {
      "needs_background": "light"
     },
     "output_type": "display_data"
    }
   ],
   "source": [
    "points = grid_search(200, shots=1000)\n",
    "sample_points = np.array(sample_points)\n",
    "plt.scatter(sample_points[:,0], sample_points[:,1], c = 'r')\n",
    "plt.xticks(fontsize = 15)\n",
    "plt.yticks(fontsize = 15)\n",
    "plt.show()"
   ]
  },
  {
   "cell_type": "code",
   "execution_count": null,
   "metadata": {},
   "outputs": [],
   "source": []
  }
 ],
 "metadata": {
  "kernelspec": {
   "display_name": "Python 3",
   "language": "python",
   "name": "python3"
  },
  "language_info": {
   "codemirror_mode": {
    "name": "ipython",
    "version": 3
   },
   "file_extension": ".py",
   "mimetype": "text/x-python",
   "name": "python",
   "nbconvert_exporter": "python",
   "pygments_lexer": "ipython3",
   "version": "3.8.5"
  }
 },
 "nbformat": 4,
 "nbformat_minor": 4
}
