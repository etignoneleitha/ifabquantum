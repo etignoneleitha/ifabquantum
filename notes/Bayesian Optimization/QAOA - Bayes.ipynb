{
 "cells": [
  {
   "cell_type": "markdown",
   "metadata": {},
   "source": [
    "### QAOA - Bayes\n",
    "Applicazione di un processo di ottimizzazione bayesiana al QAOA."
   ]
  },
  {
   "cell_type": "code",
   "execution_count": 30,
   "metadata": {},
   "outputs": [],
   "source": [
    "import numpy as np\n",
    "import networkx as nx\n",
    "import matplotlib.pyplot as plt \n",
    "from   matplotlib import cm\n",
    "from   matplotlib.ticker import LinearLocator, FormatStrFormatter\n",
    "from qiskit import Aer, IBMQ\n",
    "from qiskit import QuantumRegister, ClassicalRegister, QuantumCircuit, execute\n",
    "from qiskit.visualization import plot_histogram, plot_state_city\n",
    "import random\n",
    "import itertools\n",
    "from tqdm import tqdm\n",
    "from scipy.optimize import minimize"
   ]
  },
  {
   "cell_type": "code",
   "execution_count": 31,
   "metadata": {},
   "outputs": [],
   "source": [
    "G = nx.Graph()\n",
    "G_comp = nx.Graph()\n",
    "omega = 2\n",
    "shots = 10000\n",
    "N = 0\n",
    "\n",
    "def create_graph(n, prob_conn, M = 0):\n",
    "    global G, G_comp, omega, shots, N\n",
    "    '''\n",
    "    Creates a graph of N edges with a probablity of connectivity of each edge: prob_conn\n",
    "    M decides the maxclique:\n",
    "        if M is 0 the maxclique will be randomly generated\n",
    "        if M>0 there will be a maxclique of at least M\n",
    "    '''\n",
    "    \n",
    "    if prob_conn > 1:\n",
    "        raise ValueError(\"Prob needs to be lower than 1\")\n",
    "    N = n\n",
    "    print(N)\n",
    "    prob_connectivity = prob_conn\n",
    "    V   = np.arange(0,n,1)\n",
    "    E = []\n",
    "    \n",
    "    #Creates generic graph with at least one connection per every vertex\n",
    "    for i in range(n):\n",
    "        one_edge_minimum = False\n",
    "        for j in range(n):\n",
    "            if i!=j and (j,i,1.0) not in E and np.random.rand()<prob_connectivity:\n",
    "                E.append((i,j, 1.0))\n",
    "                one_edge_minimum = True\n",
    "        if not one_edge_minimum:\n",
    "            choose = np.ones(n)/(n-1)\n",
    "            choose[i] = 0\n",
    "            E.append((i, np.random.choice(range(n), p = choose), 1))\n",
    "    \n",
    "    #Makes sure there is at least a M-large clique\n",
    "    if M>0:\n",
    "        max_clique = random.sample(range(0, n), M)\n",
    "        for i in max_clique:\n",
    "            for j in max_clique:\n",
    "                if i!=j and ((j,i,1.0) not in E) and ((i,j,1.0) not in E):\n",
    "                    E.append((i,j,1.0))\n",
    "    G.add_nodes_from(V)\n",
    "    G.add_weighted_edges_from(E)\n",
    "    G_comp = nx.complement(G)  \n",
    "\n",
    "def create_graph_specific(graph_type):\n",
    "    '''\n",
    "    Creates preset graphs decided by graph-type:\n",
    "    graph-type:\n",
    "        -- simple7: a simple 7 vertex graph with a 4 max clique\n",
    "        -- simple4: a simple 4 vertex graph with a 3 max clique\n",
    "        -- simple5: a simple 5 vertex graph with a 3 max clique\n",
    "    '''\n",
    "    global N, G, G_comp, omega\n",
    "    if graph_type == 'simple7':\n",
    "        N=7\n",
    "        V   = np.arange(0,N,1)\n",
    "        E = []\n",
    "        E     =[(0,1,1.0),(0,2,1.0),(0,3,1),(1,2,1.0),(1,3,1),(3,2,1.0),(3,4,1.0),(2,5,1.0), (2,6,1)] \n",
    "    if graph_type == 'simple4':\n",
    "        N=4\n",
    "        V   = np.arange(0,N,1)\n",
    "        E = []\n",
    "        E     =[(0,1,1.0),(0,2,1.0),(1,2,1),(2,3,1.0)] \n",
    "        \n",
    "    if graph_type == 'simple5':   \n",
    "        N   = 5\n",
    "        V   = np.arange(0,N,1)\n",
    "        E = [(0,1,1), (1,2,1), (0,2,1), (2,3,1), (3,4,1)]\n",
    "    \n",
    "    if graph_type == 'simple6':\n",
    "        N=6\n",
    "        V   = np.arange(0,N,1)\n",
    "        E = []\n",
    "        E     = [(0, 2, 1), (0, 1, 1), (1, 4, 1), (1, 2, 1), (1, 3, 1), (2, 4, 1), (2, 3, 1), (3, 4, 1), (3, 5, 1)]\n",
    "                   \n",
    "    G.add_nodes_from(V)\n",
    "    G.add_weighted_edges_from(E)\n",
    "    G_comp = nx.complement(G)            \n",
    "\n",
    "def draw_graph(comp = False):\n",
    "    '''\n",
    "    Draws given graph G and its complement G if comp = True\n",
    "    '''\n",
    "    if comp:\n",
    "        G_complement = nx.complement(G)\n",
    "        fig, axis = plt.subplots(nrows = 1, ncols = 2, figsize = (4,2))\n",
    "    else:\n",
    "        fig, axis = plt.subplots(111, figsize = (2,2))\n",
    "    \n",
    "    colors       = ['r' for node in G.nodes()]\n",
    "    default_axes = axis[0]\n",
    "    pos          = nx.circular_layout(G)\n",
    "    axis[0].set_title('Graph')\n",
    "    first_graph = nx.draw_networkx(G, node_color=colors, node_size=200, alpha=1, ax=default_axes, pos=pos)\n",
    "    \n",
    "    if comp:\n",
    "        colors       = ['b' for node in G_complement.nodes()]\n",
    "        default_axes = axis[1]\n",
    "        pos          = nx.circular_layout(G_complement)\n",
    "        axis[1].set_title('Complementary Graph')\n",
    "        nx.draw_networkx(G_complement, node_color=colors, node_size=200, alpha=1, ax=default_axes, pos=pos)\n",
    "\n",
    "def cost_function(values):\n",
    "    '''\n",
    "    Evaluates cost of the +1/-1 combination of spins\n",
    "    '''\n",
    "    var = 1 - 2*values\n",
    "    first_term = sum(var)\n",
    "    second_term = 0\n",
    "    for edge in G_comp.edges:\n",
    "        second_term += omega*(var[edge[0]]*var[edge[1]] - var[edge[0]] - var[edge[1]])\n",
    "    return first_term + second_term \n",
    "\n",
    "\n",
    "def classical_solution():    \n",
    "    '''\n",
    "    Runs through all 2^n possible configurations and estimates how many max cliques there are and plots one\n",
    "    '''\n",
    "    \n",
    "    #Evaluate for every possible configuration\n",
    "    lst = list(itertools.product([0, 1], repeat=len(g)))\n",
    "    results = {}\n",
    "    for i in tqdm(range(2**len(g))):\n",
    "        results[lst[i]] = cost_function(np.array(lst[i]))\n",
    "    \n",
    "    print('All possible solutions: \\n')\n",
    "    sol = np.unique(list(results.values()), return_counts = True)\n",
    "    print(sol[0])\n",
    "    print(sol[1])\n",
    "    d = dict((k, v) for k, v in results.items() if v == np.min(list(results.values())))\n",
    "    print('There are {} MAXCLIQUE(S) with energy: \\n'.format(len(d)), d)\n",
    "    \n",
    "    fig = plt.figure(figsize=(4, 4))\n",
    "    val, counts = np.unique(list(results.values()), return_counts = True)\n",
    "    plt.bar(val, counts)\n",
    "    plt.xlabel('Energy')\n",
    "    plt.ylabel('Counts')\n",
    "    plt.title('Statistics of solutions')\n",
    "\n",
    "    #PLot one of the largest cliques\n",
    "    fig = plt.figure(figsize = (2,2))\n",
    "    plt.title('MaxClique')\n",
    "    colors       = list(d.keys())[0]\n",
    "    pos          = nx.circular_layout(g)\n",
    "    nx.draw_networkx(g, node_color=colors, node_size=200, alpha=1, pos=pos)\n",
    "    \n",
    "    return d\n",
    "\n",
    "def quantum_algorithm(gamma, beta):\n",
    "    qc = QuantumCircuit(N,N)\n",
    "\n",
    "    #prepare state\n",
    "    qc.h(range(N))\n",
    "\n",
    "    for edge in G_comp.edges:\n",
    "        qc.rz(-2*gamma*omega, edge[1])\n",
    "        qc.rz(-2*gamma*omega, edge[0])\n",
    "\n",
    "        qc.rzz(2*gamma*omega, edge[1], edge[0])\n",
    "        \n",
    "    for i in G.nodes:\n",
    "        qc.rz(2*gamma, i)\n",
    "\n",
    "    #mixing\n",
    "    qc.barrier()\n",
    "    qc.rx(2*beta, range(N)) #rx = e^[-i(theta/2) X] \n",
    "    \n",
    "    meas = QuantumCircuit(N,N)\n",
    "    meas.barrier(range(N))\n",
    "    meas.measure(range(N), range(N))\n",
    "\n",
    "    return qc + meas\n",
    "\n",
    "def QAOA(params):\n",
    "    '''\n",
    "    Applies QAOA\n",
    "    '''\n",
    "    gamma = params[0]\n",
    "    beta = params[1]\n",
    "    \n",
    "    backend= Aer.get_backend(\"qasm_simulator\")\n",
    "    qc = quantum_algorithm(gamma, beta)\n",
    "    simulate     = execute(qc, backend=backend, shots=shots)\n",
    "    results = simulate.result()\n",
    "    extimated_f1 = 0\n",
    "    counts = results.get_counts()\n",
    "    for combination in counts:\n",
    "        comb_to_extimate = np.array([int(x) for x in combination])[::-1]\n",
    "        extimated_f1 += cost_function(comb_to_extimate)*counts[combination]/shots \n",
    "    return extimated_f1\n",
    "\n",
    "def grid_search(num_params):\n",
    "    '''\n",
    "    Grid search\n",
    "    '''\n",
    "    #Cretes params\n",
    "    samp = np.linspace(0, np.pi, num_params)\n",
    "    params = np.array(list((itertools.product(samp, repeat = 2))))\n",
    "    gammas = params[:, 0]\n",
    "    betas = params[:, 1]\n",
    "    \n",
    "    QAOA_results = []\n",
    "    for i in tqdm(range(params.shape[0])):\n",
    "        QAOA_results.append(QAOA([gammas[i], betas[i]]))\n",
    "    \n",
    "    return params, QAOA_results\n",
    "\n",
    "def plot_f1_landscape(params, f1):\n",
    "    fig = plt.figure()\n",
    "    #ax = fig.gca(projection='3d')\n",
    "\n",
    "    # Make data.\n",
    "    X = np.unique(params[:,0])\n",
    "    Y = np.unique(params[:,1])\n",
    "    X, Y = np.meshgrid(X, Y)\n",
    "    Z = np.reshape(f1, (len(X), len(Y)))\n",
    "\n",
    "    # Plot the surface.\n",
    "    #surf = ax.plot_surface(X, Y, Z, cmap=cm.coolwarm, linewidth=0, antialiased=False)\n",
    "    plt.imshow(Z, extent = [0, np.pi, 0, np.pi])\n",
    "    plt.title('Grid Search: [{} x {}]'.format(len(X), len(X)))\n",
    "    ticks = np.linspace(0, np.pi, len(X))[::4]\n",
    "    plt.xticks(ticks)\n",
    "    plt.yticks(ticks)\n",
    "    plt.colorbar()\n",
    "    plt.xlabel('\\ gamma', fontsize=10)\n",
    "    plt.ylabel('\\ beta', fontsize = 10)\n",
    "\n",
    "def minimize_QAOA():\n",
    "    minimizer_results = minimize(QAOA, x0 =np.random.uniform(size = 2),\n",
    "                        method = 'COBYLA', options = {'maxiter' : 1000})\n",
    "    print(minizer_results)\n",
    "    return minizer_results"
   ]
  },
  {
   "cell_type": "markdown",
   "metadata": {},
   "source": [
    "### Gaussian Process to Approximate the f1 landscape of a graph\n",
    "\n",
    "Generates $N_{train}$ points selected randomly on a grid $[gamma-extremes] \\times [beta-extremes]$, trains a sklearn Gaussin Process Regressor with a kernel defined by kernel and tests it on $N_{test}$ samples uniformly picked on a grid $[0, max(gamma, betas)] \\times [0, max(gamma, betas)] $. Result is compared to grid search"
   ]
  },
  {
   "cell_type": "code",
   "execution_count": 32,
   "metadata": {},
   "outputs": [
    {
     "name": "stderr",
     "output_type": "stream",
     "text": [
      "100%|████████████████████████████████████████████████████████████████████████████████| 900/900 [00:33<00:00, 27.22it/s]\n"
     ]
    },
    {
     "data": {
      "image/png": "[encoded data removed]",
      "text/plain": [
       "<Figure size 432x288 with 2 Axes>"
      ]
     },
     "metadata": {
      "needs_background": "light"
     },
     "output_type": "display_data"
    },
    {
     "data": {
      "image/png": "[encoded data removed]",
      "text/plain": [
       "<Figure size 432x288 with 2 Axes>"
      ]
     },
     "metadata": {
      "needs_background": "light"
     },
     "output_type": "display_data"
    }
   ],
   "source": [
    "from sklearn.gaussian_process import GaussianProcessRegressor\n",
    "from sklearn.gaussian_process.kernels import RBF, ConstantKernel as C\n",
    "from itertools import product\n",
    "\n",
    "#First create the graph instance\n",
    "create_graph_specific('simple4')\n",
    "\n",
    "N_train = 200\n",
    "N_test = 50 #Number of test elements\n",
    "gamma_extremes = [0,np.pi]  #extremes where to search for the values of gamma and beta\n",
    "beta_extremes = [0, np.pi]\n",
    "#We start with N random points\n",
    "X_train = []\n",
    "y_train = []\n",
    "for i in range(N_train):\n",
    "    X = [np.random.uniform()*(gamma_extremes[1]-gamma_extremes[0]), np.random.uniform()*(beta_extremes[1]-beta_extremes[0])]\n",
    "    X_train.append(X)\n",
    "    Y = QAOA(X)\n",
    "    y_train.append(Y)\n",
    "\n",
    "kernel = C(1.0, (1e-3, 1e3)) * RBF(10, (1e-2, 1e2))\n",
    "gp = GaussianProcessRegressor(kernel=kernel, n_restarts_optimizer=9)\n",
    "gp.fit(X_train, y_train)\n",
    "\n",
    "X= np.linspace(0, np.max([gamma_extremes, beta_extremes]), N_test)\n",
    "X_test = list(product(X, X))\n",
    "new_mean, sigma = gp.predict(X_test, return_std=True)\n",
    "new_mean = np.reshape(new_mean, (N_test, N_test))\n",
    "sigma = np.array(sigma)\n",
    "\n",
    "X_train = np.array(X_train)\n",
    "plt.title('Approximation with Bayes, random points')\n",
    "plt.imshow(new_mean, extent = [gamma_extremes[0], gamma_extremes[1], beta_extremes[0], beta_extremes[1]])\n",
    "plt.scatter(X_train[:,0], X_train[:,1])\n",
    "plt.xlabel('Gamma')\n",
    "plt.ylabel('Beta')\n",
    "plt.colorbar()\n",
    "\n",
    "#To confront with\n",
    "if True:\n",
    "    params, f1 = grid_search(30)\n",
    "    plot_f1_landscape(params, f1)"
   ]
  },
  {
   "cell_type": "markdown",
   "metadata": {},
   "source": [
    "### Bayesian Optimization to find the minimum of the f1 of a graph\n"
   ]
  },
  {
   "cell_type": "code",
   "execution_count": 33,
   "metadata": {},
   "outputs": [
    {
     "name": "stdout",
     "output_type": "stream",
     "text": [
      "(1.538739258901123, 0.32057067893773394)\n",
      "(1.0258261726007487, 2.1157664809890444)\n",
      "(1.8593099378388571, 0.4487989505128276)\n",
      "(1.8593099378388571, 0.2564565431501872)\n",
      "(1.7951958020513104, 0.38468481472528077)\n",
      "(1.7310816662637634, 0.5129130863003744)\n",
      "(1.7951958020513104, 0.6411413578754679)\n",
      "(1.7310816662637634, 0.4487989505128276)\n",
      "(1.7310816662637634, 0.4487989505128276)\n"
     ]
    },
    {
     "name": "stderr",
     "output_type": "stream",
     "text": [
      "C:\\Users\\Simone\\anaconda3\\lib\\site-packages\\sklearn\\gaussian_process\\_gpr.py:504: ConvergenceWarning: lbfgs failed to converge (status=2):\n",
      "ABNORMAL_TERMINATION_IN_LNSRCH.\n",
      "\n",
      "Increase the number of iterations (max_iter) or scale the data as shown in:\n",
      "    https://scikit-learn.org/stable/modules/preprocessing.html\n",
      "  _check_optimize_result(\"lbfgs\", opt_res)\n",
      "C:\\Users\\Simone\\anaconda3\\lib\\site-packages\\sklearn\\gaussian_process\\_gpr.py:370: UserWarning: Predicted variances smaller than 0. Setting those variances to 0.\n",
      "  warnings.warn(\"Predicted variances smaller than 0. \"\n",
      "C:\\Users\\Simone\\anaconda3\\lib\\site-packages\\scipy\\stats\\_distn_infrastructure.py:1844: RuntimeWarning: divide by zero encountered in true_divide\n",
      "  x = np.asarray((x - loc)/scale, dtype=dtyp)\n",
      "C:\\Users\\Simone\\anaconda3\\lib\\site-packages\\scipy\\stats\\_distn_infrastructure.py:1760: RuntimeWarning: divide by zero encountered in true_divide\n",
      "  x = np.asarray((x - loc)/scale, dtype=dtyp)\n",
      "C:\\Users\\Simone\\anaconda3\\lib\\site-packages\\scipy\\stats\\_distn_infrastructure.py:1760: RuntimeWarning: invalid value encountered in true_divide\n",
      "  x = np.asarray((x - loc)/scale, dtype=dtyp)\n",
      "C:\\Users\\Simone\\anaconda3\\lib\\site-packages\\scipy\\stats\\_distn_infrastructure.py:1844: RuntimeWarning: invalid value encountered in true_divide\n",
      "  x = np.asarray((x - loc)/scale, dtype=dtyp)\n"
     ]
    },
    {
     "name": "stdout",
     "output_type": "stream",
     "text": [
      "(1.538739258901123, 0.32057067893773394)\n"
     ]
    },
    {
     "name": "stderr",
     "output_type": "stream",
     "text": [
      "C:\\Users\\Simone\\anaconda3\\lib\\site-packages\\sklearn\\gaussian_process\\_gpr.py:504: ConvergenceWarning: lbfgs failed to converge (status=2):\n",
      "ABNORMAL_TERMINATION_IN_LNSRCH.\n",
      "\n",
      "Increase the number of iterations (max_iter) or scale the data as shown in:\n",
      "    https://scikit-learn.org/stable/modules/preprocessing.html\n",
      "  _check_optimize_result(\"lbfgs\", opt_res)\n",
      "C:\\Users\\Simone\\anaconda3\\lib\\site-packages\\sklearn\\gaussian_process\\_gpr.py:504: ConvergenceWarning: lbfgs failed to converge (status=2):\n",
      "ABNORMAL_TERMINATION_IN_LNSRCH.\n",
      "\n",
      "Increase the number of iterations (max_iter) or scale the data as shown in:\n",
      "    https://scikit-learn.org/stable/modules/preprocessing.html\n",
      "  _check_optimize_result(\"lbfgs\", opt_res)\n"
     ]
    },
    {
     "name": "stdout",
     "output_type": "stream",
     "text": [
      "(1.218168579963389, 1.7310816662637634)\n",
      "(3.013364382014699, 2.6927937030769655)\n"
     ]
    },
    {
     "name": "stderr",
     "output_type": "stream",
     "text": [
      "C:\\Users\\Simone\\anaconda3\\lib\\site-packages\\sklearn\\gaussian_process\\_gpr.py:504: ConvergenceWarning: lbfgs failed to converge (status=2):\n",
      "ABNORMAL_TERMINATION_IN_LNSRCH.\n",
      "\n",
      "Increase the number of iterations (max_iter) or scale the data as shown in:\n",
      "    https://scikit-learn.org/stable/modules/preprocessing.html\n",
      "  _check_optimize_result(\"lbfgs\", opt_res)\n",
      "C:\\Users\\Simone\\anaconda3\\lib\\site-packages\\sklearn\\gaussian_process\\_gpr.py:370: UserWarning: Predicted variances smaller than 0. Setting those variances to 0.\n",
      "  warnings.warn(\"Predicted variances smaller than 0. \"\n",
      "C:\\Users\\Simone\\anaconda3\\lib\\site-packages\\scipy\\stats\\_distn_infrastructure.py:1844: RuntimeWarning: divide by zero encountered in true_divide\n",
      "  x = np.asarray((x - loc)/scale, dtype=dtyp)\n",
      "C:\\Users\\Simone\\anaconda3\\lib\\site-packages\\scipy\\stats\\_distn_infrastructure.py:1760: RuntimeWarning: divide by zero encountered in true_divide\n",
      "  x = np.asarray((x - loc)/scale, dtype=dtyp)\n",
      "C:\\Users\\Simone\\anaconda3\\lib\\site-packages\\scipy\\stats\\_distn_infrastructure.py:1760: RuntimeWarning: invalid value encountered in true_divide\n",
      "  x = np.asarray((x - loc)/scale, dtype=dtyp)\n",
      "C:\\Users\\Simone\\anaconda3\\lib\\site-packages\\scipy\\stats\\_distn_infrastructure.py:1844: RuntimeWarning: invalid value encountered in true_divide\n",
      "  x = np.asarray((x - loc)/scale, dtype=dtyp)\n",
      "C:\\Users\\Simone\\anaconda3\\lib\\site-packages\\sklearn\\gaussian_process\\_gpr.py:504: ConvergenceWarning: lbfgs failed to converge (status=2):\n",
      "ABNORMAL_TERMINATION_IN_LNSRCH.\n",
      "\n",
      "Increase the number of iterations (max_iter) or scale the data as shown in:\n",
      "    https://scikit-learn.org/stable/modules/preprocessing.html\n",
      "  _check_optimize_result(\"lbfgs\", opt_res)\n"
     ]
    },
    {
     "name": "stdout",
     "output_type": "stream",
     "text": [
      "(1.538739258901123, 0.32057067893773394)\n"
     ]
    },
    {
     "name": "stderr",
     "output_type": "stream",
     "text": [
      "C:\\Users\\Simone\\anaconda3\\lib\\site-packages\\sklearn\\gaussian_process\\_gpr.py:370: UserWarning: Predicted variances smaller than 0. Setting those variances to 0.\n",
      "  warnings.warn(\"Predicted variances smaller than 0. \"\n",
      "C:\\Users\\Simone\\anaconda3\\lib\\site-packages\\scipy\\stats\\_distn_infrastructure.py:1844: RuntimeWarning: divide by zero encountered in true_divide\n",
      "  x = np.asarray((x - loc)/scale, dtype=dtyp)\n",
      "C:\\Users\\Simone\\anaconda3\\lib\\site-packages\\scipy\\stats\\_distn_infrastructure.py:1844: RuntimeWarning: invalid value encountered in true_divide\n",
      "  x = np.asarray((x - loc)/scale, dtype=dtyp)\n",
      "C:\\Users\\Simone\\anaconda3\\lib\\site-packages\\scipy\\stats\\_distn_infrastructure.py:1760: RuntimeWarning: divide by zero encountered in true_divide\n",
      "  x = np.asarray((x - loc)/scale, dtype=dtyp)\n",
      "C:\\Users\\Simone\\anaconda3\\lib\\site-packages\\sklearn\\gaussian_process\\_gpr.py:504: ConvergenceWarning: lbfgs failed to converge (status=2):\n",
      "ABNORMAL_TERMINATION_IN_LNSRCH.\n",
      "\n",
      "Increase the number of iterations (max_iter) or scale the data as shown in:\n",
      "    https://scikit-learn.org/stable/modules/preprocessing.html\n",
      "  _check_optimize_result(\"lbfgs\", opt_res)\n"
     ]
    },
    {
     "name": "stdout",
     "output_type": "stream",
     "text": [
      "(1.538739258901123, 0.32057067893773394)\n"
     ]
    },
    {
     "name": "stderr",
     "output_type": "stream",
     "text": [
      "C:\\Users\\Simone\\anaconda3\\lib\\site-packages\\sklearn\\gaussian_process\\_gpr.py:370: UserWarning: Predicted variances smaller than 0. Setting those variances to 0.\n",
      "  warnings.warn(\"Predicted variances smaller than 0. \"\n",
      "C:\\Users\\Simone\\anaconda3\\lib\\site-packages\\scipy\\stats\\_distn_infrastructure.py:1844: RuntimeWarning: divide by zero encountered in true_divide\n",
      "  x = np.asarray((x - loc)/scale, dtype=dtyp)\n",
      "C:\\Users\\Simone\\anaconda3\\lib\\site-packages\\scipy\\stats\\_distn_infrastructure.py:1760: RuntimeWarning: divide by zero encountered in true_divide\n",
      "  x = np.asarray((x - loc)/scale, dtype=dtyp)\n",
      "C:\\Users\\Simone\\anaconda3\\lib\\site-packages\\scipy\\stats\\_distn_infrastructure.py:1760: RuntimeWarning: invalid value encountered in true_divide\n",
      "  x = np.asarray((x - loc)/scale, dtype=dtyp)\n",
      "C:\\Users\\Simone\\anaconda3\\lib\\site-packages\\scipy\\stats\\_distn_infrastructure.py:1844: RuntimeWarning: invalid value encountered in true_divide\n",
      "  x = np.asarray((x - loc)/scale, dtype=dtyp)\n",
      "C:\\Users\\Simone\\anaconda3\\lib\\site-packages\\sklearn\\gaussian_process\\_gpr.py:504: ConvergenceWarning: lbfgs failed to converge (status=2):\n",
      "ABNORMAL_TERMINATION_IN_LNSRCH.\n",
      "\n",
      "Increase the number of iterations (max_iter) or scale the data as shown in:\n",
      "    https://scikit-learn.org/stable/modules/preprocessing.html\n",
      "  _check_optimize_result(\"lbfgs\", opt_res)\n"
     ]
    },
    {
     "name": "stdout",
     "output_type": "stream",
     "text": [
      "(1.538739258901123, 0.32057067893773394)\n"
     ]
    },
    {
     "name": "stderr",
     "output_type": "stream",
     "text": [
      "C:\\Users\\Simone\\anaconda3\\lib\\site-packages\\sklearn\\gaussian_process\\_gpr.py:370: UserWarning: Predicted variances smaller than 0. Setting those variances to 0.\n",
      "  warnings.warn(\"Predicted variances smaller than 0. \"\n",
      "C:\\Users\\Simone\\anaconda3\\lib\\site-packages\\scipy\\stats\\_distn_infrastructure.py:1844: RuntimeWarning: divide by zero encountered in true_divide\n",
      "  x = np.asarray((x - loc)/scale, dtype=dtyp)\n",
      "C:\\Users\\Simone\\anaconda3\\lib\\site-packages\\scipy\\stats\\_distn_infrastructure.py:1760: RuntimeWarning: divide by zero encountered in true_divide\n",
      "  x = np.asarray((x - loc)/scale, dtype=dtyp)\n",
      "C:\\Users\\Simone\\anaconda3\\lib\\site-packages\\scipy\\stats\\_distn_infrastructure.py:1760: RuntimeWarning: invalid value encountered in true_divide\n",
      "  x = np.asarray((x - loc)/scale, dtype=dtyp)\n",
      "C:\\Users\\Simone\\anaconda3\\lib\\site-packages\\scipy\\stats\\_distn_infrastructure.py:1844: RuntimeWarning: invalid value encountered in true_divide\n",
      "  x = np.asarray((x - loc)/scale, dtype=dtyp)\n"
     ]
    },
    {
     "name": "stdout",
     "output_type": "stream",
     "text": [
      "(1.538739258901123, 0.32057067893773394)\n"
     ]
    },
    {
     "name": "stderr",
     "output_type": "stream",
     "text": [
      "C:\\Users\\Simone\\anaconda3\\lib\\site-packages\\sklearn\\gaussian_process\\_gpr.py:504: ConvergenceWarning: lbfgs failed to converge (status=2):\n",
      "ABNORMAL_TERMINATION_IN_LNSRCH.\n",
      "\n",
      "Increase the number of iterations (max_iter) or scale the data as shown in:\n",
      "    https://scikit-learn.org/stable/modules/preprocessing.html\n",
      "  _check_optimize_result(\"lbfgs\", opt_res)\n",
      "C:\\Users\\Simone\\anaconda3\\lib\\site-packages\\sklearn\\gaussian_process\\_gpr.py:504: ConvergenceWarning: lbfgs failed to converge (status=2):\n",
      "ABNORMAL_TERMINATION_IN_LNSRCH.\n",
      "\n",
      "Increase the number of iterations (max_iter) or scale the data as shown in:\n",
      "    https://scikit-learn.org/stable/modules/preprocessing.html\n",
      "  _check_optimize_result(\"lbfgs\", opt_res)\n"
     ]
    },
    {
     "name": "stdout",
     "output_type": "stream",
     "text": [
      "(3.077478517802246, 2.6286795672894185)\n"
     ]
    },
    {
     "name": "stderr",
     "output_type": "stream",
     "text": [
      "C:\\Users\\Simone\\anaconda3\\lib\\site-packages\\sklearn\\gaussian_process\\_gpr.py:370: UserWarning: Predicted variances smaller than 0. Setting those variances to 0.\n",
      "  warnings.warn(\"Predicted variances smaller than 0. \"\n",
      "C:\\Users\\Simone\\anaconda3\\lib\\site-packages\\scipy\\stats\\_distn_infrastructure.py:1844: RuntimeWarning: divide by zero encountered in true_divide\n",
      "  x = np.asarray((x - loc)/scale, dtype=dtyp)\n",
      "C:\\Users\\Simone\\anaconda3\\lib\\site-packages\\scipy\\stats\\_distn_infrastructure.py:1760: RuntimeWarning: invalid value encountered in true_divide\n",
      "  x = np.asarray((x - loc)/scale, dtype=dtyp)\n",
      "C:\\Users\\Simone\\anaconda3\\lib\\site-packages\\scipy\\stats\\_distn_infrastructure.py:1844: RuntimeWarning: invalid value encountered in true_divide\n",
      "  x = np.asarray((x - loc)/scale, dtype=dtyp)\n",
      "C:\\Users\\Simone\\anaconda3\\lib\\site-packages\\sklearn\\gaussian_process\\_gpr.py:504: ConvergenceWarning: lbfgs failed to converge (status=2):\n",
      "ABNORMAL_TERMINATION_IN_LNSRCH.\n",
      "\n",
      "Increase the number of iterations (max_iter) or scale the data as shown in:\n",
      "    https://scikit-learn.org/stable/modules/preprocessing.html\n",
      "  _check_optimize_result(\"lbfgs\", opt_res)\n"
     ]
    },
    {
     "name": "stdout",
     "output_type": "stream",
     "text": [
      "(1.7310816662637634, 0.4487989505128276)\n"
     ]
    },
    {
     "name": "stderr",
     "output_type": "stream",
     "text": [
      "C:\\Users\\Simone\\anaconda3\\lib\\site-packages\\sklearn\\gaussian_process\\_gpr.py:370: UserWarning: Predicted variances smaller than 0. Setting those variances to 0.\n",
      "  warnings.warn(\"Predicted variances smaller than 0. \"\n",
      "C:\\Users\\Simone\\anaconda3\\lib\\site-packages\\scipy\\stats\\_distn_infrastructure.py:1844: RuntimeWarning: divide by zero encountered in true_divide\n",
      "  x = np.asarray((x - loc)/scale, dtype=dtyp)\n",
      "C:\\Users\\Simone\\anaconda3\\lib\\site-packages\\scipy\\stats\\_distn_infrastructure.py:1760: RuntimeWarning: invalid value encountered in true_divide\n",
      "  x = np.asarray((x - loc)/scale, dtype=dtyp)\n",
      "C:\\Users\\Simone\\anaconda3\\lib\\site-packages\\scipy\\stats\\_distn_infrastructure.py:1844: RuntimeWarning: invalid value encountered in true_divide\n",
      "  x = np.asarray((x - loc)/scale, dtype=dtyp)\n",
      "C:\\Users\\Simone\\anaconda3\\lib\\site-packages\\sklearn\\gaussian_process\\_gpr.py:504: ConvergenceWarning: lbfgs failed to converge (status=2):\n",
      "ABNORMAL_TERMINATION_IN_LNSRCH.\n",
      "\n",
      "Increase the number of iterations (max_iter) or scale the data as shown in:\n",
      "    https://scikit-learn.org/stable/modules/preprocessing.html\n",
      "  _check_optimize_result(\"lbfgs\", opt_res)\n"
     ]
    },
    {
     "name": "stdout",
     "output_type": "stream",
     "text": [
      "(1.7310816662637634, 0.4487989505128276)\n"
     ]
    },
    {
     "name": "stderr",
     "output_type": "stream",
     "text": [
      "C:\\Users\\Simone\\anaconda3\\lib\\site-packages\\sklearn\\gaussian_process\\_gpr.py:370: UserWarning: Predicted variances smaller than 0. Setting those variances to 0.\n",
      "  warnings.warn(\"Predicted variances smaller than 0. \"\n",
      "C:\\Users\\Simone\\anaconda3\\lib\\site-packages\\scipy\\stats\\_distn_infrastructure.py:1844: RuntimeWarning: divide by zero encountered in true_divide\n",
      "  x = np.asarray((x - loc)/scale, dtype=dtyp)\n",
      "C:\\Users\\Simone\\anaconda3\\lib\\site-packages\\scipy\\stats\\_distn_infrastructure.py:1760: RuntimeWarning: invalid value encountered in true_divide\n",
      "  x = np.asarray((x - loc)/scale, dtype=dtyp)\n",
      "C:\\Users\\Simone\\anaconda3\\lib\\site-packages\\scipy\\stats\\_distn_infrastructure.py:1844: RuntimeWarning: invalid value encountered in true_divide\n",
      "  x = np.asarray((x - loc)/scale, dtype=dtyp)\n",
      "C:\\Users\\Simone\\anaconda3\\lib\\site-packages\\sklearn\\gaussian_process\\_gpr.py:504: ConvergenceWarning: lbfgs failed to converge (status=2):\n",
      "ABNORMAL_TERMINATION_IN_LNSRCH.\n",
      "\n",
      "Increase the number of iterations (max_iter) or scale the data as shown in:\n",
      "    https://scikit-learn.org/stable/modules/preprocessing.html\n",
      "  _check_optimize_result(\"lbfgs\", opt_res)\n"
     ]
    },
    {
     "name": "stdout",
     "output_type": "stream",
     "text": [
      "(1.7310816662637634, 0.4487989505128276)\n"
     ]
    },
    {
     "name": "stderr",
     "output_type": "stream",
     "text": [
      "C:\\Users\\Simone\\anaconda3\\lib\\site-packages\\sklearn\\gaussian_process\\_gpr.py:370: UserWarning: Predicted variances smaller than 0. Setting those variances to 0.\n",
      "  warnings.warn(\"Predicted variances smaller than 0. \"\n",
      "C:\\Users\\Simone\\anaconda3\\lib\\site-packages\\scipy\\stats\\_distn_infrastructure.py:1844: RuntimeWarning: divide by zero encountered in true_divide\n",
      "  x = np.asarray((x - loc)/scale, dtype=dtyp)\n",
      "C:\\Users\\Simone\\anaconda3\\lib\\site-packages\\scipy\\stats\\_distn_infrastructure.py:1760: RuntimeWarning: divide by zero encountered in true_divide\n",
      "  x = np.asarray((x - loc)/scale, dtype=dtyp)\n",
      "C:\\Users\\Simone\\anaconda3\\lib\\site-packages\\scipy\\stats\\_distn_infrastructure.py:1760: RuntimeWarning: invalid value encountered in true_divide\n",
      "  x = np.asarray((x - loc)/scale, dtype=dtyp)\n",
      "C:\\Users\\Simone\\anaconda3\\lib\\site-packages\\scipy\\stats\\_distn_infrastructure.py:1844: RuntimeWarning: invalid value encountered in true_divide\n",
      "  x = np.asarray((x - loc)/scale, dtype=dtyp)\n",
      "C:\\Users\\Simone\\anaconda3\\lib\\site-packages\\sklearn\\gaussian_process\\_gpr.py:504: ConvergenceWarning: lbfgs failed to converge (status=2):\n",
      "ABNORMAL_TERMINATION_IN_LNSRCH.\n",
      "\n",
      "Increase the number of iterations (max_iter) or scale the data as shown in:\n",
      "    https://scikit-learn.org/stable/modules/preprocessing.html\n",
      "  _check_optimize_result(\"lbfgs\", opt_res)\n"
     ]
    },
    {
     "name": "stdout",
     "output_type": "stream",
     "text": [
      "(1.538739258901123, 0.32057067893773394)\n"
     ]
    },
    {
     "name": "stderr",
     "output_type": "stream",
     "text": [
      "C:\\Users\\Simone\\anaconda3\\lib\\site-packages\\sklearn\\gaussian_process\\_gpr.py:370: UserWarning: Predicted variances smaller than 0. Setting those variances to 0.\n",
      "  warnings.warn(\"Predicted variances smaller than 0. \"\n",
      "C:\\Users\\Simone\\anaconda3\\lib\\site-packages\\scipy\\stats\\_distn_infrastructure.py:1844: RuntimeWarning: divide by zero encountered in true_divide\n",
      "  x = np.asarray((x - loc)/scale, dtype=dtyp)\n",
      "C:\\Users\\Simone\\anaconda3\\lib\\site-packages\\scipy\\stats\\_distn_infrastructure.py:1760: RuntimeWarning: divide by zero encountered in true_divide\n",
      "  x = np.asarray((x - loc)/scale, dtype=dtyp)\n",
      "C:\\Users\\Simone\\anaconda3\\lib\\site-packages\\scipy\\stats\\_distn_infrastructure.py:1760: RuntimeWarning: invalid value encountered in true_divide\n",
      "  x = np.asarray((x - loc)/scale, dtype=dtyp)\n",
      "C:\\Users\\Simone\\anaconda3\\lib\\site-packages\\scipy\\stats\\_distn_infrastructure.py:1844: RuntimeWarning: invalid value encountered in true_divide\n",
      "  x = np.asarray((x - loc)/scale, dtype=dtyp)\n"
     ]
    },
    {
     "name": "stdout",
     "output_type": "stream",
     "text": [
      "(1.538739258901123, 0.32057067893773394)\n"
     ]
    },
    {
     "name": "stderr",
     "output_type": "stream",
     "text": [
      "C:\\Users\\Simone\\anaconda3\\lib\\site-packages\\sklearn\\gaussian_process\\_gpr.py:504: ConvergenceWarning: lbfgs failed to converge (status=2):\n",
      "ABNORMAL_TERMINATION_IN_LNSRCH.\n",
      "\n",
      "Increase the number of iterations (max_iter) or scale the data as shown in:\n",
      "    https://scikit-learn.org/stable/modules/preprocessing.html\n",
      "  _check_optimize_result(\"lbfgs\", opt_res)\n",
      "C:\\Users\\Simone\\anaconda3\\lib\\site-packages\\sklearn\\gaussian_process\\_gpr.py:370: UserWarning: Predicted variances smaller than 0. Setting those variances to 0.\n",
      "  warnings.warn(\"Predicted variances smaller than 0. \"\n",
      "C:\\Users\\Simone\\anaconda3\\lib\\site-packages\\scipy\\stats\\_distn_infrastructure.py:1844: RuntimeWarning: divide by zero encountered in true_divide\n",
      "  x = np.asarray((x - loc)/scale, dtype=dtyp)\n",
      "C:\\Users\\Simone\\anaconda3\\lib\\site-packages\\scipy\\stats\\_distn_infrastructure.py:1760: RuntimeWarning: divide by zero encountered in true_divide\n",
      "  x = np.asarray((x - loc)/scale, dtype=dtyp)\n",
      "C:\\Users\\Simone\\anaconda3\\lib\\site-packages\\sklearn\\gaussian_process\\_gpr.py:504: ConvergenceWarning: lbfgs failed to converge (status=2):\n",
      "ABNORMAL_TERMINATION_IN_LNSRCH.\n",
      "\n",
      "Increase the number of iterations (max_iter) or scale the data as shown in:\n",
      "    https://scikit-learn.org/stable/modules/preprocessing.html\n",
      "  _check_optimize_result(\"lbfgs\", opt_res)\n"
     ]
    },
    {
     "name": "stdout",
     "output_type": "stream",
     "text": [
      "(1.3463968515384828, 0.19234240736264038)\n"
     ]
    },
    {
     "name": "stderr",
     "output_type": "stream",
     "text": [
      "C:\\Users\\Simone\\anaconda3\\lib\\site-packages\\sklearn\\gaussian_process\\_gpr.py:370: UserWarning: Predicted variances smaller than 0. Setting those variances to 0.\n",
      "  warnings.warn(\"Predicted variances smaller than 0. \"\n",
      "C:\\Users\\Simone\\anaconda3\\lib\\site-packages\\scipy\\stats\\_distn_infrastructure.py:1844: RuntimeWarning: divide by zero encountered in true_divide\n",
      "  x = np.asarray((x - loc)/scale, dtype=dtyp)\n",
      "C:\\Users\\Simone\\anaconda3\\lib\\site-packages\\scipy\\stats\\_distn_infrastructure.py:1760: RuntimeWarning: divide by zero encountered in true_divide\n",
      "  x = np.asarray((x - loc)/scale, dtype=dtyp)\n",
      "C:\\Users\\Simone\\anaconda3\\lib\\site-packages\\sklearn\\gaussian_process\\_gpr.py:504: ConvergenceWarning: lbfgs failed to converge (status=2):\n",
      "ABNORMAL_TERMINATION_IN_LNSRCH.\n",
      "\n",
      "Increase the number of iterations (max_iter) or scale the data as shown in:\n",
      "    https://scikit-learn.org/stable/modules/preprocessing.html\n",
      "  _check_optimize_result(\"lbfgs\", opt_res)\n"
     ]
    },
    {
     "name": "stdout",
     "output_type": "stream",
     "text": [
      "(1.218168579963389, 1.7310816662637634)\n",
      "(1.7951958020513104, 1.3463968515384828)\n"
     ]
    },
    {
     "name": "stderr",
     "output_type": "stream",
     "text": [
      "C:\\Users\\Simone\\anaconda3\\lib\\site-packages\\sklearn\\gaussian_process\\_gpr.py:504: ConvergenceWarning: lbfgs failed to converge (status=2):\n",
      "ABNORMAL_TERMINATION_IN_LNSRCH.\n",
      "\n",
      "Increase the number of iterations (max_iter) or scale the data as shown in:\n",
      "    https://scikit-learn.org/stable/modules/preprocessing.html\n",
      "  _check_optimize_result(\"lbfgs\", opt_res)\n",
      "C:\\Users\\Simone\\anaconda3\\lib\\site-packages\\sklearn\\gaussian_process\\_gpr.py:370: UserWarning: Predicted variances smaller than 0. Setting those variances to 0.\n",
      "  warnings.warn(\"Predicted variances smaller than 0. \"\n",
      "C:\\Users\\Simone\\anaconda3\\lib\\site-packages\\scipy\\stats\\_distn_infrastructure.py:1844: RuntimeWarning: divide by zero encountered in true_divide\n",
      "  x = np.asarray((x - loc)/scale, dtype=dtyp)\n",
      "C:\\Users\\Simone\\anaconda3\\lib\\site-packages\\scipy\\stats\\_distn_infrastructure.py:1760: RuntimeWarning: divide by zero encountered in true_divide\n",
      "  x = np.asarray((x - loc)/scale, dtype=dtyp)\n",
      "C:\\Users\\Simone\\anaconda3\\lib\\site-packages\\scipy\\stats\\_distn_infrastructure.py:1760: RuntimeWarning: invalid value encountered in true_divide\n",
      "  x = np.asarray((x - loc)/scale, dtype=dtyp)\n",
      "C:\\Users\\Simone\\anaconda3\\lib\\site-packages\\scipy\\stats\\_distn_infrastructure.py:1844: RuntimeWarning: invalid value encountered in true_divide\n",
      "  x = np.asarray((x - loc)/scale, dtype=dtyp)\n",
      "C:\\Users\\Simone\\anaconda3\\lib\\site-packages\\sklearn\\gaussian_process\\_gpr.py:504: ConvergenceWarning: lbfgs failed to converge (status=2):\n",
      "ABNORMAL_TERMINATION_IN_LNSRCH.\n",
      "\n",
      "Increase the number of iterations (max_iter) or scale the data as shown in:\n",
      "    https://scikit-learn.org/stable/modules/preprocessing.html\n",
      "  _check_optimize_result(\"lbfgs\", opt_res)\n"
     ]
    },
    {
     "name": "stdout",
     "output_type": "stream",
     "text": [
      "(1.218168579963389, 1.7310816662637634)\n"
     ]
    },
    {
     "name": "stderr",
     "output_type": "stream",
     "text": [
      "C:\\Users\\Simone\\anaconda3\\lib\\site-packages\\sklearn\\gaussian_process\\_gpr.py:370: UserWarning: Predicted variances smaller than 0. Setting those variances to 0.\n",
      "  warnings.warn(\"Predicted variances smaller than 0. \"\n",
      "C:\\Users\\Simone\\anaconda3\\lib\\site-packages\\scipy\\stats\\_distn_infrastructure.py:1844: RuntimeWarning: divide by zero encountered in true_divide\n",
      "  x = np.asarray((x - loc)/scale, dtype=dtyp)\n",
      "C:\\Users\\Simone\\anaconda3\\lib\\site-packages\\scipy\\stats\\_distn_infrastructure.py:1760: RuntimeWarning: divide by zero encountered in true_divide\n",
      "  x = np.asarray((x - loc)/scale, dtype=dtyp)\n",
      "C:\\Users\\Simone\\anaconda3\\lib\\site-packages\\scipy\\stats\\_distn_infrastructure.py:1760: RuntimeWarning: invalid value encountered in true_divide\n",
      "  x = np.asarray((x - loc)/scale, dtype=dtyp)\n",
      "C:\\Users\\Simone\\anaconda3\\lib\\site-packages\\scipy\\stats\\_distn_infrastructure.py:1844: RuntimeWarning: invalid value encountered in true_divide\n",
      "  x = np.asarray((x - loc)/scale, dtype=dtyp)\n",
      "C:\\Users\\Simone\\anaconda3\\lib\\site-packages\\sklearn\\gaussian_process\\_gpr.py:504: ConvergenceWarning: lbfgs failed to converge (status=2):\n",
      "ABNORMAL_TERMINATION_IN_LNSRCH.\n",
      "\n",
      "Increase the number of iterations (max_iter) or scale the data as shown in:\n",
      "    https://scikit-learn.org/stable/modules/preprocessing.html\n",
      "  _check_optimize_result(\"lbfgs\", opt_res)\n"
     ]
    },
    {
     "name": "stdout",
     "output_type": "stream",
     "text": [
      "(1.538739258901123, 0.32057067893773394)\n"
     ]
    },
    {
     "name": "stderr",
     "output_type": "stream",
     "text": [
      "C:\\Users\\Simone\\anaconda3\\lib\\site-packages\\sklearn\\gaussian_process\\_gpr.py:370: UserWarning: Predicted variances smaller than 0. Setting those variances to 0.\n",
      "  warnings.warn(\"Predicted variances smaller than 0. \"\n",
      "C:\\Users\\Simone\\anaconda3\\lib\\site-packages\\scipy\\stats\\_distn_infrastructure.py:1844: RuntimeWarning: divide by zero encountered in true_divide\n",
      "  x = np.asarray((x - loc)/scale, dtype=dtyp)\n",
      "C:\\Users\\Simone\\anaconda3\\lib\\site-packages\\scipy\\stats\\_distn_infrastructure.py:1760: RuntimeWarning: divide by zero encountered in true_divide\n",
      "  x = np.asarray((x - loc)/scale, dtype=dtyp)\n",
      "C:\\Users\\Simone\\anaconda3\\lib\\site-packages\\sklearn\\gaussian_process\\_gpr.py:504: ConvergenceWarning: lbfgs failed to converge (status=2):\n",
      "ABNORMAL_TERMINATION_IN_LNSRCH.\n",
      "\n",
      "Increase the number of iterations (max_iter) or scale the data as shown in:\n",
      "    https://scikit-learn.org/stable/modules/preprocessing.html\n",
      "  _check_optimize_result(\"lbfgs\", opt_res)\n"
     ]
    },
    {
     "name": "stdout",
     "output_type": "stream",
     "text": [
      "(1.538739258901123, 0.32057067893773394)\n"
     ]
    },
    {
     "name": "stderr",
     "output_type": "stream",
     "text": [
      "C:\\Users\\Simone\\anaconda3\\lib\\site-packages\\sklearn\\gaussian_process\\_gpr.py:370: UserWarning: Predicted variances smaller than 0. Setting those variances to 0.\n",
      "  warnings.warn(\"Predicted variances smaller than 0. \"\n",
      "C:\\Users\\Simone\\anaconda3\\lib\\site-packages\\scipy\\stats\\_distn_infrastructure.py:1844: RuntimeWarning: divide by zero encountered in true_divide\n",
      "  x = np.asarray((x - loc)/scale, dtype=dtyp)\n",
      "C:\\Users\\Simone\\anaconda3\\lib\\site-packages\\scipy\\stats\\_distn_infrastructure.py:1760: RuntimeWarning: divide by zero encountered in true_divide\n",
      "  x = np.asarray((x - loc)/scale, dtype=dtyp)\n",
      "C:\\Users\\Simone\\anaconda3\\lib\\site-packages\\sklearn\\gaussian_process\\_gpr.py:504: ConvergenceWarning: lbfgs failed to converge (status=2):\n",
      "ABNORMAL_TERMINATION_IN_LNSRCH.\n",
      "\n",
      "Increase the number of iterations (max_iter) or scale the data as shown in:\n",
      "    https://scikit-learn.org/stable/modules/preprocessing.html\n",
      "  _check_optimize_result(\"lbfgs\", opt_res)\n"
     ]
    },
    {
     "name": "stdout",
     "output_type": "stream",
     "text": [
      "(1.0258261726007487, 2.1157664809890444)\n"
     ]
    },
    {
     "name": "stderr",
     "output_type": "stream",
     "text": [
      "C:\\Users\\Simone\\anaconda3\\lib\\site-packages\\sklearn\\gaussian_process\\_gpr.py:370: UserWarning: Predicted variances smaller than 0. Setting those variances to 0.\n",
      "  warnings.warn(\"Predicted variances smaller than 0. \"\n",
      "C:\\Users\\Simone\\anaconda3\\lib\\site-packages\\scipy\\stats\\_distn_infrastructure.py:1844: RuntimeWarning: divide by zero encountered in true_divide\n",
      "  x = np.asarray((x - loc)/scale, dtype=dtyp)\n",
      "C:\\Users\\Simone\\anaconda3\\lib\\site-packages\\scipy\\stats\\_distn_infrastructure.py:1760: RuntimeWarning: divide by zero encountered in true_divide\n",
      "  x = np.asarray((x - loc)/scale, dtype=dtyp)\n",
      "C:\\Users\\Simone\\anaconda3\\lib\\site-packages\\scipy\\stats\\_distn_infrastructure.py:1760: RuntimeWarning: invalid value encountered in true_divide\n",
      "  x = np.asarray((x - loc)/scale, dtype=dtyp)\n",
      "C:\\Users\\Simone\\anaconda3\\lib\\site-packages\\scipy\\stats\\_distn_infrastructure.py:1844: RuntimeWarning: invalid value encountered in true_divide\n",
      "  x = np.asarray((x - loc)/scale, dtype=dtyp)\n"
     ]
    },
    {
     "name": "stdout",
     "output_type": "stream",
     "text": [
      "(1.218168579963389, 1.7310816662637634)\n"
     ]
    },
    {
     "name": "stderr",
     "output_type": "stream",
     "text": [
      "C:\\Users\\Simone\\anaconda3\\lib\\site-packages\\sklearn\\gaussian_process\\_gpr.py:504: ConvergenceWarning: lbfgs failed to converge (status=2):\n",
      "ABNORMAL_TERMINATION_IN_LNSRCH.\n",
      "\n",
      "Increase the number of iterations (max_iter) or scale the data as shown in:\n",
      "    https://scikit-learn.org/stable/modules/preprocessing.html\n",
      "  _check_optimize_result(\"lbfgs\", opt_res)\n",
      "C:\\Users\\Simone\\anaconda3\\lib\\site-packages\\sklearn\\gaussian_process\\_gpr.py:370: UserWarning: Predicted variances smaller than 0. Setting those variances to 0.\n",
      "  warnings.warn(\"Predicted variances smaller than 0. \"\n",
      "C:\\Users\\Simone\\anaconda3\\lib\\site-packages\\scipy\\stats\\_distn_infrastructure.py:1844: RuntimeWarning: divide by zero encountered in true_divide\n",
      "  x = np.asarray((x - loc)/scale, dtype=dtyp)\n",
      "C:\\Users\\Simone\\anaconda3\\lib\\site-packages\\scipy\\stats\\_distn_infrastructure.py:1760: RuntimeWarning: divide by zero encountered in true_divide\n",
      "  x = np.asarray((x - loc)/scale, dtype=dtyp)\n",
      "C:\\Users\\Simone\\anaconda3\\lib\\site-packages\\scipy\\stats\\_distn_infrastructure.py:1760: RuntimeWarning: invalid value encountered in true_divide\n",
      "  x = np.asarray((x - loc)/scale, dtype=dtyp)\n",
      "C:\\Users\\Simone\\anaconda3\\lib\\site-packages\\scipy\\stats\\_distn_infrastructure.py:1844: RuntimeWarning: invalid value encountered in true_divide\n",
      "  x = np.asarray((x - loc)/scale, dtype=dtyp)\n",
      "C:\\Users\\Simone\\anaconda3\\lib\\site-packages\\sklearn\\gaussian_process\\_gpr.py:504: ConvergenceWarning: lbfgs failed to converge (status=2):\n",
      "ABNORMAL_TERMINATION_IN_LNSRCH.\n",
      "\n",
      "Increase the number of iterations (max_iter) or scale the data as shown in:\n",
      "    https://scikit-learn.org/stable/modules/preprocessing.html\n",
      "  _check_optimize_result(\"lbfgs\", opt_res)\n"
     ]
    },
    {
     "name": "stdout",
     "output_type": "stream",
     "text": [
      "(1.0258261726007487, 2.1157664809890444)\n"
     ]
    },
    {
     "name": "stderr",
     "output_type": "stream",
     "text": [
      "C:\\Users\\Simone\\anaconda3\\lib\\site-packages\\sklearn\\gaussian_process\\_gpr.py:370: UserWarning: Predicted variances smaller than 0. Setting those variances to 0.\n",
      "  warnings.warn(\"Predicted variances smaller than 0. \"\n",
      "C:\\Users\\Simone\\anaconda3\\lib\\site-packages\\scipy\\stats\\_distn_infrastructure.py:1844: RuntimeWarning: divide by zero encountered in true_divide\n",
      "  x = np.asarray((x - loc)/scale, dtype=dtyp)\n",
      "C:\\Users\\Simone\\anaconda3\\lib\\site-packages\\scipy\\stats\\_distn_infrastructure.py:1760: RuntimeWarning: divide by zero encountered in true_divide\n",
      "  x = np.asarray((x - loc)/scale, dtype=dtyp)\n",
      "C:\\Users\\Simone\\anaconda3\\lib\\site-packages\\scipy\\stats\\_distn_infrastructure.py:1760: RuntimeWarning: invalid value encountered in true_divide\n",
      "  x = np.asarray((x - loc)/scale, dtype=dtyp)\n",
      "C:\\Users\\Simone\\anaconda3\\lib\\site-packages\\scipy\\stats\\_distn_infrastructure.py:1844: RuntimeWarning: invalid value encountered in true_divide\n",
      "  x = np.asarray((x - loc)/scale, dtype=dtyp)\n"
     ]
    },
    {
     "name": "stdout",
     "output_type": "stream",
     "text": [
      "(1.0258261726007487, 2.1157664809890444)\n"
     ]
    },
    {
     "name": "stderr",
     "output_type": "stream",
     "text": [
      "C:\\Users\\Simone\\anaconda3\\lib\\site-packages\\sklearn\\gaussian_process\\_gpr.py:504: ConvergenceWarning: lbfgs failed to converge (status=2):\n",
      "ABNORMAL_TERMINATION_IN_LNSRCH.\n",
      "\n",
      "Increase the number of iterations (max_iter) or scale the data as shown in:\n",
      "    https://scikit-learn.org/stable/modules/preprocessing.html\n",
      "  _check_optimize_result(\"lbfgs\", opt_res)\n",
      "C:\\Users\\Simone\\anaconda3\\lib\\site-packages\\sklearn\\gaussian_process\\_gpr.py:370: UserWarning: Predicted variances smaller than 0. Setting those variances to 0.\n",
      "  warnings.warn(\"Predicted variances smaller than 0. \"\n",
      "C:\\Users\\Simone\\anaconda3\\lib\\site-packages\\scipy\\stats\\_distn_infrastructure.py:1844: RuntimeWarning: divide by zero encountered in true_divide\n",
      "  x = np.asarray((x - loc)/scale, dtype=dtyp)\n",
      "C:\\Users\\Simone\\anaconda3\\lib\\site-packages\\scipy\\stats\\_distn_infrastructure.py:1760: RuntimeWarning: divide by zero encountered in true_divide\n",
      "  x = np.asarray((x - loc)/scale, dtype=dtyp)\n",
      "C:\\Users\\Simone\\anaconda3\\lib\\site-packages\\scipy\\stats\\_distn_infrastructure.py:1760: RuntimeWarning: invalid value encountered in true_divide\n",
      "  x = np.asarray((x - loc)/scale, dtype=dtyp)\n",
      "C:\\Users\\Simone\\anaconda3\\lib\\site-packages\\scipy\\stats\\_distn_infrastructure.py:1844: RuntimeWarning: invalid value encountered in true_divide\n",
      "  x = np.asarray((x - loc)/scale, dtype=dtyp)\n",
      "C:\\Users\\Simone\\anaconda3\\lib\\site-packages\\sklearn\\gaussian_process\\_gpr.py:504: ConvergenceWarning: lbfgs failed to converge (status=2):\n",
      "ABNORMAL_TERMINATION_IN_LNSRCH.\n",
      "\n",
      "Increase the number of iterations (max_iter) or scale the data as shown in:\n",
      "    https://scikit-learn.org/stable/modules/preprocessing.html\n",
      "  _check_optimize_result(\"lbfgs\", opt_res)\n"
     ]
    },
    {
     "name": "stdout",
     "output_type": "stream",
     "text": [
      "(1.0258261726007487, 2.1157664809890444)\n"
     ]
    },
    {
     "name": "stderr",
     "output_type": "stream",
     "text": [
      "C:\\Users\\Simone\\anaconda3\\lib\\site-packages\\sklearn\\gaussian_process\\_gpr.py:370: UserWarning: Predicted variances smaller than 0. Setting those variances to 0.\n",
      "  warnings.warn(\"Predicted variances smaller than 0. \"\n",
      "C:\\Users\\Simone\\anaconda3\\lib\\site-packages\\scipy\\stats\\_distn_infrastructure.py:1844: RuntimeWarning: divide by zero encountered in true_divide\n",
      "  x = np.asarray((x - loc)/scale, dtype=dtyp)\n",
      "C:\\Users\\Simone\\anaconda3\\lib\\site-packages\\scipy\\stats\\_distn_infrastructure.py:1760: RuntimeWarning: divide by zero encountered in true_divide\n",
      "  x = np.asarray((x - loc)/scale, dtype=dtyp)\n",
      "C:\\Users\\Simone\\anaconda3\\lib\\site-packages\\scipy\\stats\\_distn_infrastructure.py:1760: RuntimeWarning: invalid value encountered in true_divide\n",
      "  x = np.asarray((x - loc)/scale, dtype=dtyp)\n",
      "C:\\Users\\Simone\\anaconda3\\lib\\site-packages\\scipy\\stats\\_distn_infrastructure.py:1844: RuntimeWarning: invalid value encountered in true_divide\n",
      "  x = np.asarray((x - loc)/scale, dtype=dtyp)\n",
      "C:\\Users\\Simone\\anaconda3\\lib\\site-packages\\sklearn\\gaussian_process\\_gpr.py:504: ConvergenceWarning: lbfgs failed to converge (status=2):\n",
      "ABNORMAL_TERMINATION_IN_LNSRCH.\n",
      "\n",
      "Increase the number of iterations (max_iter) or scale the data as shown in:\n",
      "    https://scikit-learn.org/stable/modules/preprocessing.html\n",
      "  _check_optimize_result(\"lbfgs\", opt_res)\n"
     ]
    },
    {
     "name": "stdout",
     "output_type": "stream",
     "text": [
      "(1.0258261726007487, 2.1157664809890444)\n"
     ]
    },
    {
     "name": "stderr",
     "output_type": "stream",
     "text": [
      "C:\\Users\\Simone\\anaconda3\\lib\\site-packages\\sklearn\\gaussian_process\\_gpr.py:370: UserWarning: Predicted variances smaller than 0. Setting those variances to 0.\n",
      "  warnings.warn(\"Predicted variances smaller than 0. \"\n",
      "C:\\Users\\Simone\\anaconda3\\lib\\site-packages\\scipy\\stats\\_distn_infrastructure.py:1844: RuntimeWarning: divide by zero encountered in true_divide\n",
      "  x = np.asarray((x - loc)/scale, dtype=dtyp)\n",
      "C:\\Users\\Simone\\anaconda3\\lib\\site-packages\\scipy\\stats\\_distn_infrastructure.py:1760: RuntimeWarning: divide by zero encountered in true_divide\n",
      "  x = np.asarray((x - loc)/scale, dtype=dtyp)\n",
      "C:\\Users\\Simone\\anaconda3\\lib\\site-packages\\scipy\\stats\\_distn_infrastructure.py:1760: RuntimeWarning: invalid value encountered in true_divide\n",
      "  x = np.asarray((x - loc)/scale, dtype=dtyp)\n",
      "C:\\Users\\Simone\\anaconda3\\lib\\site-packages\\scipy\\stats\\_distn_infrastructure.py:1844: RuntimeWarning: invalid value encountered in true_divide\n",
      "  x = np.asarray((x - loc)/scale, dtype=dtyp)\n",
      "C:\\Users\\Simone\\anaconda3\\lib\\site-packages\\sklearn\\gaussian_process\\_gpr.py:504: ConvergenceWarning: lbfgs failed to converge (status=2):\n",
      "ABNORMAL_TERMINATION_IN_LNSRCH.\n",
      "\n",
      "Increase the number of iterations (max_iter) or scale the data as shown in:\n",
      "    https://scikit-learn.org/stable/modules/preprocessing.html\n",
      "  _check_optimize_result(\"lbfgs\", opt_res)\n"
     ]
    },
    {
     "name": "stdout",
     "output_type": "stream",
     "text": [
      "(1.218168579963389, 1.7310816662637634)\n"
     ]
    },
    {
     "name": "stderr",
     "output_type": "stream",
     "text": [
      "C:\\Users\\Simone\\anaconda3\\lib\\site-packages\\sklearn\\gaussian_process\\_gpr.py:370: UserWarning: Predicted variances smaller than 0. Setting those variances to 0.\n",
      "  warnings.warn(\"Predicted variances smaller than 0. \"\n",
      "C:\\Users\\Simone\\anaconda3\\lib\\site-packages\\scipy\\stats\\_distn_infrastructure.py:1844: RuntimeWarning: divide by zero encountered in true_divide\n",
      "  x = np.asarray((x - loc)/scale, dtype=dtyp)\n",
      "C:\\Users\\Simone\\anaconda3\\lib\\site-packages\\scipy\\stats\\_distn_infrastructure.py:1760: RuntimeWarning: divide by zero encountered in true_divide\n",
      "  x = np.asarray((x - loc)/scale, dtype=dtyp)\n",
      "C:\\Users\\Simone\\anaconda3\\lib\\site-packages\\scipy\\stats\\_distn_infrastructure.py:1760: RuntimeWarning: invalid value encountered in true_divide\n",
      "  x = np.asarray((x - loc)/scale, dtype=dtyp)\n",
      "C:\\Users\\Simone\\anaconda3\\lib\\site-packages\\scipy\\stats\\_distn_infrastructure.py:1844: RuntimeWarning: invalid value encountered in true_divide\n",
      "  x = np.asarray((x - loc)/scale, dtype=dtyp)\n",
      "C:\\Users\\Simone\\anaconda3\\lib\\site-packages\\sklearn\\gaussian_process\\_gpr.py:504: ConvergenceWarning: lbfgs failed to converge (status=2):\n",
      "ABNORMAL_TERMINATION_IN_LNSRCH.\n",
      "\n",
      "Increase the number of iterations (max_iter) or scale the data as shown in:\n",
      "    https://scikit-learn.org/stable/modules/preprocessing.html\n",
      "  _check_optimize_result(\"lbfgs\", opt_res)\n"
     ]
    },
    {
     "name": "stdout",
     "output_type": "stream",
     "text": [
      "(1.0258261726007487, 2.1157664809890444)\n"
     ]
    },
    {
     "name": "stderr",
     "output_type": "stream",
     "text": [
      "C:\\Users\\Simone\\anaconda3\\lib\\site-packages\\sklearn\\gaussian_process\\_gpr.py:370: UserWarning: Predicted variances smaller than 0. Setting those variances to 0.\n",
      "  warnings.warn(\"Predicted variances smaller than 0. \"\n",
      "C:\\Users\\Simone\\anaconda3\\lib\\site-packages\\scipy\\stats\\_distn_infrastructure.py:1844: RuntimeWarning: divide by zero encountered in true_divide\n",
      "  x = np.asarray((x - loc)/scale, dtype=dtyp)\n",
      "C:\\Users\\Simone\\anaconda3\\lib\\site-packages\\scipy\\stats\\_distn_infrastructure.py:1760: RuntimeWarning: divide by zero encountered in true_divide\n",
      "  x = np.asarray((x - loc)/scale, dtype=dtyp)\n",
      "C:\\Users\\Simone\\anaconda3\\lib\\site-packages\\scipy\\stats\\_distn_infrastructure.py:1760: RuntimeWarning: invalid value encountered in true_divide\n",
      "  x = np.asarray((x - loc)/scale, dtype=dtyp)\n",
      "C:\\Users\\Simone\\anaconda3\\lib\\site-packages\\scipy\\stats\\_distn_infrastructure.py:1844: RuntimeWarning: invalid value encountered in true_divide\n",
      "  x = np.asarray((x - loc)/scale, dtype=dtyp)\n",
      "C:\\Users\\Simone\\anaconda3\\lib\\site-packages\\sklearn\\gaussian_process\\_gpr.py:504: ConvergenceWarning: lbfgs failed to converge (status=2):\n",
      "ABNORMAL_TERMINATION_IN_LNSRCH.\n",
      "\n",
      "Increase the number of iterations (max_iter) or scale the data as shown in:\n",
      "    https://scikit-learn.org/stable/modules/preprocessing.html\n",
      "  _check_optimize_result(\"lbfgs\", opt_res)\n"
     ]
    },
    {
     "name": "stdout",
     "output_type": "stream",
     "text": [
      "(1.218168579963389, 1.7310816662637634)\n"
     ]
    },
    {
     "name": "stderr",
     "output_type": "stream",
     "text": [
      "C:\\Users\\Simone\\anaconda3\\lib\\site-packages\\sklearn\\gaussian_process\\_gpr.py:370: UserWarning: Predicted variances smaller than 0. Setting those variances to 0.\n",
      "  warnings.warn(\"Predicted variances smaller than 0. \"\n",
      "C:\\Users\\Simone\\anaconda3\\lib\\site-packages\\scipy\\stats\\_distn_infrastructure.py:1844: RuntimeWarning: divide by zero encountered in true_divide\n",
      "  x = np.asarray((x - loc)/scale, dtype=dtyp)\n",
      "C:\\Users\\Simone\\anaconda3\\lib\\site-packages\\scipy\\stats\\_distn_infrastructure.py:1760: RuntimeWarning: divide by zero encountered in true_divide\n",
      "  x = np.asarray((x - loc)/scale, dtype=dtyp)\n",
      "C:\\Users\\Simone\\anaconda3\\lib\\site-packages\\scipy\\stats\\_distn_infrastructure.py:1760: RuntimeWarning: invalid value encountered in true_divide\n",
      "  x = np.asarray((x - loc)/scale, dtype=dtyp)\n",
      "C:\\Users\\Simone\\anaconda3\\lib\\site-packages\\scipy\\stats\\_distn_infrastructure.py:1844: RuntimeWarning: invalid value encountered in true_divide\n",
      "  x = np.asarray((x - loc)/scale, dtype=dtyp)\n",
      "C:\\Users\\Simone\\anaconda3\\lib\\site-packages\\sklearn\\gaussian_process\\_gpr.py:504: ConvergenceWarning: lbfgs failed to converge (status=2):\n",
      "ABNORMAL_TERMINATION_IN_LNSRCH.\n",
      "\n",
      "Increase the number of iterations (max_iter) or scale the data as shown in:\n",
      "    https://scikit-learn.org/stable/modules/preprocessing.html\n",
      "  _check_optimize_result(\"lbfgs\", opt_res)\n"
     ]
    },
    {
     "name": "stdout",
     "output_type": "stream",
     "text": [
      "(1.0258261726007487, 2.1157664809890444)\n"
     ]
    },
    {
     "name": "stderr",
     "output_type": "stream",
     "text": [
      "C:\\Users\\Simone\\anaconda3\\lib\\site-packages\\sklearn\\gaussian_process\\_gpr.py:370: UserWarning: Predicted variances smaller than 0. Setting those variances to 0.\n",
      "  warnings.warn(\"Predicted variances smaller than 0. \"\n",
      "C:\\Users\\Simone\\anaconda3\\lib\\site-packages\\scipy\\stats\\_distn_infrastructure.py:1844: RuntimeWarning: divide by zero encountered in true_divide\n",
      "  x = np.asarray((x - loc)/scale, dtype=dtyp)\n",
      "C:\\Users\\Simone\\anaconda3\\lib\\site-packages\\scipy\\stats\\_distn_infrastructure.py:1760: RuntimeWarning: divide by zero encountered in true_divide\n",
      "  x = np.asarray((x - loc)/scale, dtype=dtyp)\n",
      "C:\\Users\\Simone\\anaconda3\\lib\\site-packages\\sklearn\\gaussian_process\\_gpr.py:504: ConvergenceWarning: lbfgs failed to converge (status=2):\n",
      "ABNORMAL_TERMINATION_IN_LNSRCH.\n",
      "\n",
      "Increase the number of iterations (max_iter) or scale the data as shown in:\n",
      "    https://scikit-learn.org/stable/modules/preprocessing.html\n",
      "  _check_optimize_result(\"lbfgs\", opt_res)\n"
     ]
    },
    {
     "name": "stdout",
     "output_type": "stream",
     "text": [
      "(1.0258261726007487, 2.1157664809890444)\n"
     ]
    },
    {
     "name": "stderr",
     "output_type": "stream",
     "text": [
      "C:\\Users\\Simone\\anaconda3\\lib\\site-packages\\sklearn\\gaussian_process\\_gpr.py:370: UserWarning: Predicted variances smaller than 0. Setting those variances to 0.\n",
      "  warnings.warn(\"Predicted variances smaller than 0. \"\n",
      "C:\\Users\\Simone\\anaconda3\\lib\\site-packages\\scipy\\stats\\_distn_infrastructure.py:1844: RuntimeWarning: divide by zero encountered in true_divide\n",
      "  x = np.asarray((x - loc)/scale, dtype=dtyp)\n",
      "C:\\Users\\Simone\\anaconda3\\lib\\site-packages\\scipy\\stats\\_distn_infrastructure.py:1760: RuntimeWarning: divide by zero encountered in true_divide\n",
      "  x = np.asarray((x - loc)/scale, dtype=dtyp)\n",
      "C:\\Users\\Simone\\anaconda3\\lib\\site-packages\\scipy\\stats\\_distn_infrastructure.py:1760: RuntimeWarning: invalid value encountered in true_divide\n",
      "  x = np.asarray((x - loc)/scale, dtype=dtyp)\n",
      "C:\\Users\\Simone\\anaconda3\\lib\\site-packages\\scipy\\stats\\_distn_infrastructure.py:1844: RuntimeWarning: invalid value encountered in true_divide\n",
      "  x = np.asarray((x - loc)/scale, dtype=dtyp)\n",
      "C:\\Users\\Simone\\anaconda3\\lib\\site-packages\\sklearn\\gaussian_process\\_gpr.py:504: ConvergenceWarning: lbfgs failed to converge (status=2):\n",
      "ABNORMAL_TERMINATION_IN_LNSRCH.\n",
      "\n",
      "Increase the number of iterations (max_iter) or scale the data as shown in:\n",
      "    https://scikit-learn.org/stable/modules/preprocessing.html\n",
      "  _check_optimize_result(\"lbfgs\", opt_res)\n"
     ]
    },
    {
     "name": "stdout",
     "output_type": "stream",
     "text": [
      "(1.218168579963389, 1.7310816662637634)\n"
     ]
    },
    {
     "name": "stderr",
     "output_type": "stream",
     "text": [
      "C:\\Users\\Simone\\anaconda3\\lib\\site-packages\\sklearn\\gaussian_process\\_gpr.py:370: UserWarning: Predicted variances smaller than 0. Setting those variances to 0.\n",
      "  warnings.warn(\"Predicted variances smaller than 0. \"\n",
      "C:\\Users\\Simone\\anaconda3\\lib\\site-packages\\scipy\\stats\\_distn_infrastructure.py:1844: RuntimeWarning: divide by zero encountered in true_divide\n",
      "  x = np.asarray((x - loc)/scale, dtype=dtyp)\n",
      "C:\\Users\\Simone\\anaconda3\\lib\\site-packages\\scipy\\stats\\_distn_infrastructure.py:1760: RuntimeWarning: divide by zero encountered in true_divide\n",
      "  x = np.asarray((x - loc)/scale, dtype=dtyp)\n",
      "C:\\Users\\Simone\\anaconda3\\lib\\site-packages\\scipy\\stats\\_distn_infrastructure.py:1760: RuntimeWarning: invalid value encountered in true_divide\n",
      "  x = np.asarray((x - loc)/scale, dtype=dtyp)\n",
      "C:\\Users\\Simone\\anaconda3\\lib\\site-packages\\scipy\\stats\\_distn_infrastructure.py:1844: RuntimeWarning: invalid value encountered in true_divide\n",
      "  x = np.asarray((x - loc)/scale, dtype=dtyp)\n",
      "C:\\Users\\Simone\\anaconda3\\lib\\site-packages\\sklearn\\gaussian_process\\_gpr.py:504: ConvergenceWarning: lbfgs failed to converge (status=2):\n",
      "ABNORMAL_TERMINATION_IN_LNSRCH.\n",
      "\n",
      "Increase the number of iterations (max_iter) or scale the data as shown in:\n",
      "    https://scikit-learn.org/stable/modules/preprocessing.html\n",
      "  _check_optimize_result(\"lbfgs\", opt_res)\n"
     ]
    },
    {
     "name": "stdout",
     "output_type": "stream",
     "text": [
      "(1.0258261726007487, 2.1157664809890444)\n",
      "(0.0, 0.0)\n"
     ]
    },
    {
     "name": "stderr",
     "output_type": "stream",
     "text": [
      "C:\\Users\\Simone\\anaconda3\\lib\\site-packages\\sklearn\\gaussian_process\\_gpr.py:504: ConvergenceWarning: lbfgs failed to converge (status=2):\n",
      "ABNORMAL_TERMINATION_IN_LNSRCH.\n",
      "\n",
      "Increase the number of iterations (max_iter) or scale the data as shown in:\n",
      "    https://scikit-learn.org/stable/modules/preprocessing.html\n",
      "  _check_optimize_result(\"lbfgs\", opt_res)\n",
      "C:\\Users\\Simone\\anaconda3\\lib\\site-packages\\sklearn\\gaussian_process\\_gpr.py:370: UserWarning: Predicted variances smaller than 0. Setting those variances to 0.\n",
      "  warnings.warn(\"Predicted variances smaller than 0. \"\n",
      "C:\\Users\\Simone\\anaconda3\\lib\\site-packages\\scipy\\stats\\_distn_infrastructure.py:1844: RuntimeWarning: divide by zero encountered in true_divide\n",
      "  x = np.asarray((x - loc)/scale, dtype=dtyp)\n",
      "C:\\Users\\Simone\\anaconda3\\lib\\site-packages\\scipy\\stats\\_distn_infrastructure.py:1760: RuntimeWarning: divide by zero encountered in true_divide\n",
      "  x = np.asarray((x - loc)/scale, dtype=dtyp)\n",
      "C:\\Users\\Simone\\anaconda3\\lib\\site-packages\\scipy\\stats\\_distn_infrastructure.py:1760: RuntimeWarning: invalid value encountered in true_divide\n",
      "  x = np.asarray((x - loc)/scale, dtype=dtyp)\n",
      "C:\\Users\\Simone\\anaconda3\\lib\\site-packages\\scipy\\stats\\_distn_infrastructure.py:1844: RuntimeWarning: invalid value encountered in true_divide\n",
      "  x = np.asarray((x - loc)/scale, dtype=dtyp)\n",
      "C:\\Users\\Simone\\anaconda3\\lib\\site-packages\\sklearn\\gaussian_process\\_gpr.py:504: ConvergenceWarning: lbfgs failed to converge (status=2):\n",
      "ABNORMAL_TERMINATION_IN_LNSRCH.\n",
      "\n",
      "Increase the number of iterations (max_iter) or scale the data as shown in:\n",
      "    https://scikit-learn.org/stable/modules/preprocessing.html\n",
      "  _check_optimize_result(\"lbfgs\", opt_res)\n"
     ]
    },
    {
     "name": "stdout",
     "output_type": "stream",
     "text": [
      "(1.218168579963389, 1.7310816662637634)\n"
     ]
    },
    {
     "name": "stderr",
     "output_type": "stream",
     "text": [
      "C:\\Users\\Simone\\anaconda3\\lib\\site-packages\\sklearn\\gaussian_process\\_gpr.py:370: UserWarning: Predicted variances smaller than 0. Setting those variances to 0.\n",
      "  warnings.warn(\"Predicted variances smaller than 0. \"\n",
      "C:\\Users\\Simone\\anaconda3\\lib\\site-packages\\scipy\\stats\\_distn_infrastructure.py:1844: RuntimeWarning: divide by zero encountered in true_divide\n",
      "  x = np.asarray((x - loc)/scale, dtype=dtyp)\n",
      "C:\\Users\\Simone\\anaconda3\\lib\\site-packages\\scipy\\stats\\_distn_infrastructure.py:1760: RuntimeWarning: divide by zero encountered in true_divide\n",
      "  x = np.asarray((x - loc)/scale, dtype=dtyp)\n",
      "C:\\Users\\Simone\\anaconda3\\lib\\site-packages\\scipy\\stats\\_distn_infrastructure.py:1760: RuntimeWarning: invalid value encountered in true_divide\n",
      "  x = np.asarray((x - loc)/scale, dtype=dtyp)\n",
      "C:\\Users\\Simone\\anaconda3\\lib\\site-packages\\scipy\\stats\\_distn_infrastructure.py:1844: RuntimeWarning: invalid value encountered in true_divide\n",
      "  x = np.asarray((x - loc)/scale, dtype=dtyp)\n",
      "C:\\Users\\Simone\\anaconda3\\lib\\site-packages\\sklearn\\gaussian_process\\_gpr.py:504: ConvergenceWarning: lbfgs failed to converge (status=2):\n",
      "ABNORMAL_TERMINATION_IN_LNSRCH.\n",
      "\n",
      "Increase the number of iterations (max_iter) or scale the data as shown in:\n",
      "    https://scikit-learn.org/stable/modules/preprocessing.html\n",
      "  _check_optimize_result(\"lbfgs\", opt_res)\n"
     ]
    },
    {
     "name": "stdout",
     "output_type": "stream",
     "text": [
      "(1.218168579963389, 1.7310816662637634)\n"
     ]
    },
    {
     "name": "stderr",
     "output_type": "stream",
     "text": [
      "C:\\Users\\Simone\\anaconda3\\lib\\site-packages\\sklearn\\gaussian_process\\_gpr.py:370: UserWarning: Predicted variances smaller than 0. Setting those variances to 0.\n",
      "  warnings.warn(\"Predicted variances smaller than 0. \"\n",
      "C:\\Users\\Simone\\anaconda3\\lib\\site-packages\\scipy\\stats\\_distn_infrastructure.py:1844: RuntimeWarning: divide by zero encountered in true_divide\n",
      "  x = np.asarray((x - loc)/scale, dtype=dtyp)\n",
      "C:\\Users\\Simone\\anaconda3\\lib\\site-packages\\scipy\\stats\\_distn_infrastructure.py:1760: RuntimeWarning: divide by zero encountered in true_divide\n",
      "  x = np.asarray((x - loc)/scale, dtype=dtyp)\n",
      "C:\\Users\\Simone\\anaconda3\\lib\\site-packages\\sklearn\\gaussian_process\\_gpr.py:504: ConvergenceWarning: lbfgs failed to converge (status=2):\n",
      "ABNORMAL_TERMINATION_IN_LNSRCH.\n",
      "\n",
      "Increase the number of iterations (max_iter) or scale the data as shown in:\n",
      "    https://scikit-learn.org/stable/modules/preprocessing.html\n",
      "  _check_optimize_result(\"lbfgs\", opt_res)\n"
     ]
    },
    {
     "name": "stdout",
     "output_type": "stream",
     "text": [
      "(1.218168579963389, 1.7310816662637634)\n"
     ]
    },
    {
     "name": "stderr",
     "output_type": "stream",
     "text": [
      "C:\\Users\\Simone\\anaconda3\\lib\\site-packages\\sklearn\\gaussian_process\\_gpr.py:370: UserWarning: Predicted variances smaller than 0. Setting those variances to 0.\n",
      "  warnings.warn(\"Predicted variances smaller than 0. \"\n",
      "C:\\Users\\Simone\\anaconda3\\lib\\site-packages\\scipy\\stats\\_distn_infrastructure.py:1844: RuntimeWarning: divide by zero encountered in true_divide\n",
      "  x = np.asarray((x - loc)/scale, dtype=dtyp)\n",
      "C:\\Users\\Simone\\anaconda3\\lib\\site-packages\\scipy\\stats\\_distn_infrastructure.py:1760: RuntimeWarning: divide by zero encountered in true_divide\n",
      "  x = np.asarray((x - loc)/scale, dtype=dtyp)\n",
      "C:\\Users\\Simone\\anaconda3\\lib\\site-packages\\scipy\\stats\\_distn_infrastructure.py:1760: RuntimeWarning: invalid value encountered in true_divide\n",
      "  x = np.asarray((x - loc)/scale, dtype=dtyp)\n",
      "C:\\Users\\Simone\\anaconda3\\lib\\site-packages\\scipy\\stats\\_distn_infrastructure.py:1844: RuntimeWarning: invalid value encountered in true_divide\n",
      "  x = np.asarray((x - loc)/scale, dtype=dtyp)\n",
      "C:\\Users\\Simone\\anaconda3\\lib\\site-packages\\sklearn\\gaussian_process\\_gpr.py:504: ConvergenceWarning: lbfgs failed to converge (status=2):\n",
      "ABNORMAL_TERMINATION_IN_LNSRCH.\n",
      "\n",
      "Increase the number of iterations (max_iter) or scale the data as shown in:\n",
      "    https://scikit-learn.org/stable/modules/preprocessing.html\n",
      "  _check_optimize_result(\"lbfgs\", opt_res)\n"
     ]
    },
    {
     "name": "stdout",
     "output_type": "stream",
     "text": [
      "(1.0258261726007487, 2.1157664809890444)\n"
     ]
    },
    {
     "name": "stderr",
     "output_type": "stream",
     "text": [
      "C:\\Users\\Simone\\anaconda3\\lib\\site-packages\\sklearn\\gaussian_process\\_gpr.py:370: UserWarning: Predicted variances smaller than 0. Setting those variances to 0.\n",
      "  warnings.warn(\"Predicted variances smaller than 0. \"\n",
      "C:\\Users\\Simone\\anaconda3\\lib\\site-packages\\scipy\\stats\\_distn_infrastructure.py:1844: RuntimeWarning: divide by zero encountered in true_divide\n",
      "  x = np.asarray((x - loc)/scale, dtype=dtyp)\n",
      "C:\\Users\\Simone\\anaconda3\\lib\\site-packages\\scipy\\stats\\_distn_infrastructure.py:1760: RuntimeWarning: invalid value encountered in true_divide\n",
      "  x = np.asarray((x - loc)/scale, dtype=dtyp)\n",
      "C:\\Users\\Simone\\anaconda3\\lib\\site-packages\\scipy\\stats\\_distn_infrastructure.py:1844: RuntimeWarning: invalid value encountered in true_divide\n",
      "  x = np.asarray((x - loc)/scale, dtype=dtyp)\n",
      "C:\\Users\\Simone\\anaconda3\\lib\\site-packages\\sklearn\\gaussian_process\\_gpr.py:504: ConvergenceWarning: lbfgs failed to converge (status=2):\n",
      "ABNORMAL_TERMINATION_IN_LNSRCH.\n",
      "\n",
      "Increase the number of iterations (max_iter) or scale the data as shown in:\n",
      "    https://scikit-learn.org/stable/modules/preprocessing.html\n",
      "  _check_optimize_result(\"lbfgs\", opt_res)\n"
     ]
    },
    {
     "name": "stdout",
     "output_type": "stream",
     "text": [
      "(1.7310816662637634, 0.4487989505128276)\n"
     ]
    },
    {
     "name": "stderr",
     "output_type": "stream",
     "text": [
      "C:\\Users\\Simone\\anaconda3\\lib\\site-packages\\sklearn\\gaussian_process\\_gpr.py:370: UserWarning: Predicted variances smaller than 0. Setting those variances to 0.\n",
      "  warnings.warn(\"Predicted variances smaller than 0. \"\n",
      "C:\\Users\\Simone\\anaconda3\\lib\\site-packages\\scipy\\stats\\_distn_infrastructure.py:1844: RuntimeWarning: divide by zero encountered in true_divide\n",
      "  x = np.asarray((x - loc)/scale, dtype=dtyp)\n",
      "C:\\Users\\Simone\\anaconda3\\lib\\site-packages\\scipy\\stats\\_distn_infrastructure.py:1760: RuntimeWarning: divide by zero encountered in true_divide\n",
      "  x = np.asarray((x - loc)/scale, dtype=dtyp)\n",
      "C:\\Users\\Simone\\anaconda3\\lib\\site-packages\\sklearn\\gaussian_process\\_gpr.py:504: ConvergenceWarning: lbfgs failed to converge (status=2):\n",
      "ABNORMAL_TERMINATION_IN_LNSRCH.\n",
      "\n",
      "Increase the number of iterations (max_iter) or scale the data as shown in:\n",
      "    https://scikit-learn.org/stable/modules/preprocessing.html\n",
      "  _check_optimize_result(\"lbfgs\", opt_res)\n"
     ]
    },
    {
     "name": "stdout",
     "output_type": "stream",
     "text": [
      "(1.218168579963389, 1.7310816662637634)\n"
     ]
    },
    {
     "name": "stderr",
     "output_type": "stream",
     "text": [
      "C:\\Users\\Simone\\anaconda3\\lib\\site-packages\\sklearn\\gaussian_process\\_gpr.py:370: UserWarning: Predicted variances smaller than 0. Setting those variances to 0.\n",
      "  warnings.warn(\"Predicted variances smaller than 0. \"\n",
      "C:\\Users\\Simone\\anaconda3\\lib\\site-packages\\scipy\\stats\\_distn_infrastructure.py:1844: RuntimeWarning: divide by zero encountered in true_divide\n",
      "  x = np.asarray((x - loc)/scale, dtype=dtyp)\n",
      "C:\\Users\\Simone\\anaconda3\\lib\\site-packages\\scipy\\stats\\_distn_infrastructure.py:1760: RuntimeWarning: divide by zero encountered in true_divide\n",
      "  x = np.asarray((x - loc)/scale, dtype=dtyp)\n",
      "C:\\Users\\Simone\\anaconda3\\lib\\site-packages\\sklearn\\gaussian_process\\_gpr.py:504: ConvergenceWarning: lbfgs failed to converge (status=2):\n",
      "ABNORMAL_TERMINATION_IN_LNSRCH.\n",
      "\n",
      "Increase the number of iterations (max_iter) or scale the data as shown in:\n",
      "    https://scikit-learn.org/stable/modules/preprocessing.html\n",
      "  _check_optimize_result(\"lbfgs\", opt_res)\n"
     ]
    },
    {
     "name": "stdout",
     "output_type": "stream",
     "text": [
      "(1.0258261726007487, 2.1157664809890444)\n"
     ]
    },
    {
     "name": "stderr",
     "output_type": "stream",
     "text": [
      "C:\\Users\\Simone\\anaconda3\\lib\\site-packages\\sklearn\\gaussian_process\\_gpr.py:370: UserWarning: Predicted variances smaller than 0. Setting those variances to 0.\n",
      "  warnings.warn(\"Predicted variances smaller than 0. \"\n",
      "C:\\Users\\Simone\\anaconda3\\lib\\site-packages\\scipy\\stats\\_distn_infrastructure.py:1844: RuntimeWarning: divide by zero encountered in true_divide\n",
      "  x = np.asarray((x - loc)/scale, dtype=dtyp)\n",
      "C:\\Users\\Simone\\anaconda3\\lib\\site-packages\\scipy\\stats\\_distn_infrastructure.py:1760: RuntimeWarning: divide by zero encountered in true_divide\n",
      "  x = np.asarray((x - loc)/scale, dtype=dtyp)\n"
     ]
    },
    {
     "name": "stdout",
     "output_type": "stream",
     "text": [
      "(1.218168579963389, 1.7310816662637634)\n"
     ]
    },
    {
     "name": "stderr",
     "output_type": "stream",
     "text": [
      "C:\\Users\\Simone\\anaconda3\\lib\\site-packages\\sklearn\\gaussian_process\\_gpr.py:504: ConvergenceWarning: lbfgs failed to converge (status=2):\n",
      "ABNORMAL_TERMINATION_IN_LNSRCH.\n",
      "\n",
      "Increase the number of iterations (max_iter) or scale the data as shown in:\n",
      "    https://scikit-learn.org/stable/modules/preprocessing.html\n",
      "  _check_optimize_result(\"lbfgs\", opt_res)\n"
     ]
    }
   ],
   "source": [
    "from sklearn.gaussian_process import GaussianProcessRegressor\n",
    "from sklearn.gaussian_process.kernels import RBF, ConstantKernel as C\n",
    "from itertools import product\n",
    "from scipy.stats import norm\n",
    "from sklearn.preprocessing import StandardScaler\n",
    "\n",
    "l = 0.8\n",
    "sigma = 3 \n",
    "\n",
    "def kernel(a, b):\n",
    "    a = np.array(a)\n",
    "    b = np.array(b)\n",
    "    sqdist = [np.sum(a[i]**2 - 2*a[i]*b[i] + b[i]**2) for i in range(len(a))]\n",
    "    return np.exp(-.5*sqdist/l)*sigma\n",
    "\n",
    "\n",
    "#First create the graph instance\n",
    "create_graph_specific('simple4')\n",
    "\n",
    "acq_function = 'EI'\n",
    "N_train = 10\n",
    "N_test = 50 #Number of test elements\n",
    "iterations = 50\n",
    "gamma_extremes = [0,np.pi]  #extremes where to search for the values of gamma and beta\n",
    "beta_extremes = [0, np.pi]\n",
    "#We start with N random points\n",
    "X_train = []\n",
    "y_train = []\n",
    "for i in range(N_train):\n",
    "    X = [np.random.uniform()*(gamma_extremes[1]-gamma_extremes[0]), np.random.uniform()*(beta_extremes[1]-beta_extremes[0])]\n",
    "    X_train.append(X)\n",
    "    Y = QAOA(X)\n",
    "    y_train.append(Y)\n",
    "\n",
    "kernel = C(1.0, (1e-3, 1e3)) * RBF(10, (1e-2, 1e2))\n",
    "gp = GaussianProcessRegressor(kernel=kernel, n_restarts_optimizer=9, normalize_y = True)\n",
    "gp.fit(X_train, y_train)\n",
    "sample_points = []   #We save every point that was chosen to sample from\n",
    "for i in range(iterations):\n",
    "        # Test GP\n",
    "        new_mean, new_sigma = gp.predict(X_test, return_std=True)\n",
    "        \n",
    "        #New_mean and new_sigma both are (N_test**2, ) arrays not reshaped yet\n",
    "        mean_max = np.max(new_mean)\n",
    "        mean_min = np.min(new_mean)\n",
    "        \n",
    "        \n",
    "        #Now calculate acquisitition fn as the cumulative for every point centered around the maximum\n",
    "        cdf = norm.cdf(x = new_mean, loc =  mean_max, scale = new_sigma)\n",
    "        pdf = norm.pdf(x = new_mean, loc =  mean_min, scale = new_sigma)\n",
    "    \n",
    "        #The qdf is instead the probability of being lower then the lowest value of the mean (where we wanto to pick the next_value)\n",
    "        qdf = 1-norm.cdf(x = new_mean, loc =  mean_min, scale = new_sigma)\n",
    "    \n",
    "        if acq_function == 'PI':\n",
    "            #Next values is calculated as so just because argmax returns a number betwenn 1 and n_test instead of inside the interval\n",
    "            value = np.argmax(qdf)\n",
    "            next_point = X_test[value]\n",
    "            \n",
    "        if acq_function == 'EI':\n",
    "            alpha_function = (new_mean - mean_min - 0.001)*qdf + new_sigma*pdf\n",
    "            #argmax is a number between 0 and N_test**-1 telling us where is the next point to sample\n",
    "            argmax = np.argmax(np.round(alpha_function, 3))\n",
    "            next_point = X_test[argmax]\n",
    "        \n",
    "        print(next_point)\n",
    "        X_train.append(next_point)\n",
    "        y_next_point = QAOA(next_point)\n",
    "        y_train.append(y_next_point)\n",
    "        gp.fit(X_train, y_train)\n",
    "        sample_points.append(next_point)"
   ]
  },
  {
   "cell_type": "code",
   "execution_count": 7,
   "metadata": {},
   "outputs": [
    {
     "data": {
      "image/png": "[encoded data removed]",
      "text/plain": [
       "<Figure size 432x288 with 2 Axes>"
      ]
     },
     "metadata": {
      "needs_background": "light"
     },
     "output_type": "display_data"
    },
    {
     "data": {
      "image/png": "[encoded data removed]",
      "text/plain": [
       "<Figure size 432x288 with 2 Axes>"
      ]
     },
     "metadata": {
      "needs_background": "light"
     },
     "output_type": "display_data"
    }
   ],
   "source": [
    "plt.title('Approximation with Bayes, random points')\n",
    "sample_points = np.array(sample_points)\n",
    "plt.scatter(sample_points[:,0], sample_points[:,1])\n",
    "plt.xlim([0, np.pi])\n",
    "plt.ylim([0, np.pi])\n",
    "plt.xlabel('Gamma')\n",
    "plt.ylabel('Beta')\n",
    "plt.colorbar()\n",
    "\n",
    "plot_f1_landscape(params, f1)"
   ]
  },
  {
   "cell_type": "code",
   "execution_count": 52,
   "metadata": {},
   "outputs": [
    {
     "name": "stderr",
     "output_type": "stream",
     "text": [
      "  0%|                                                                                           | 0/50 [00:00<?, ?it/s]\n"
     ]
    },
    {
     "ename": "ValueError",
     "evalue": "operands could not be broadcast together with shapes (2500,) (50,) ",
     "output_type": "error",
     "traceback": [
      "\u001b[1;31m---------------------------------------------------------------------------\u001b[0m",
      "\u001b[1;31mValueError\u001b[0m                                Traceback (most recent call last)",
      "\u001b[1;32m<ipython-input-52-2bf1bd2b9ee8>\u001b[0m in \u001b[0;36m<module>\u001b[1;34m\u001b[0m\n\u001b[0;32m     62\u001b[0m \u001b[1;33m\u001b[0m\u001b[0m\n\u001b[0;32m     63\u001b[0m         \u001b[1;31m#Now calculate acquisitition fn as the cumulative for every point centered around the maximum\u001b[0m\u001b[1;33m\u001b[0m\u001b[1;33m\u001b[0m\u001b[1;33m\u001b[0m\u001b[0m\n\u001b[1;32m---> 64\u001b[1;33m         \u001b[0mcdf\u001b[0m \u001b[1;33m=\u001b[0m \u001b[0mnorm\u001b[0m\u001b[1;33m.\u001b[0m\u001b[0mcdf\u001b[0m\u001b[1;33m(\u001b[0m\u001b[0mx\u001b[0m \u001b[1;33m=\u001b[0m \u001b[0mnew_mean\u001b[0m\u001b[1;33m,\u001b[0m \u001b[0mloc\u001b[0m \u001b[1;33m=\u001b[0m  \u001b[0mmean_max\u001b[0m\u001b[1;33m,\u001b[0m \u001b[0mscale\u001b[0m \u001b[1;33m=\u001b[0m \u001b[0mnew_sigma\u001b[0m\u001b[1;33m)\u001b[0m\u001b[1;33m\u001b[0m\u001b[1;33m\u001b[0m\u001b[0m\n\u001b[0m\u001b[0;32m     65\u001b[0m         \u001b[0mpdf\u001b[0m \u001b[1;33m=\u001b[0m \u001b[0mnorm\u001b[0m\u001b[1;33m.\u001b[0m\u001b[0mpdf\u001b[0m\u001b[1;33m(\u001b[0m\u001b[0mx\u001b[0m \u001b[1;33m=\u001b[0m \u001b[0mnew_mean\u001b[0m\u001b[1;33m,\u001b[0m \u001b[0mloc\u001b[0m \u001b[1;33m=\u001b[0m  \u001b[0mmean_min\u001b[0m\u001b[1;33m,\u001b[0m \u001b[0mscale\u001b[0m \u001b[1;33m=\u001b[0m \u001b[0mnew_sigma\u001b[0m\u001b[1;33m)\u001b[0m\u001b[1;33m\u001b[0m\u001b[1;33m\u001b[0m\u001b[0m\n\u001b[0;32m     66\u001b[0m \u001b[1;33m\u001b[0m\u001b[0m\n",
      "\u001b[1;32m~\\anaconda3\\lib\\site-packages\\scipy\\stats\\_distn_infrastructure.py\u001b[0m in \u001b[0;36mcdf\u001b[1;34m(self, x, *args, **kwds)\u001b[0m\n\u001b[0;32m   1842\u001b[0m         \u001b[0m_a\u001b[0m\u001b[1;33m,\u001b[0m \u001b[0m_b\u001b[0m \u001b[1;33m=\u001b[0m \u001b[0mself\u001b[0m\u001b[1;33m.\u001b[0m\u001b[0m_get_support\u001b[0m\u001b[1;33m(\u001b[0m\u001b[1;33m*\u001b[0m\u001b[0margs\u001b[0m\u001b[1;33m)\u001b[0m\u001b[1;33m\u001b[0m\u001b[1;33m\u001b[0m\u001b[0m\n\u001b[0;32m   1843\u001b[0m         \u001b[0mdtyp\u001b[0m \u001b[1;33m=\u001b[0m \u001b[0mnp\u001b[0m\u001b[1;33m.\u001b[0m\u001b[0mfind_common_type\u001b[0m\u001b[1;33m(\u001b[0m\u001b[1;33m[\u001b[0m\u001b[0mx\u001b[0m\u001b[1;33m.\u001b[0m\u001b[0mdtype\u001b[0m\u001b[1;33m,\u001b[0m \u001b[0mnp\u001b[0m\u001b[1;33m.\u001b[0m\u001b[0mfloat64\u001b[0m\u001b[1;33m]\u001b[0m\u001b[1;33m,\u001b[0m \u001b[1;33m[\u001b[0m\u001b[1;33m]\u001b[0m\u001b[1;33m)\u001b[0m\u001b[1;33m\u001b[0m\u001b[1;33m\u001b[0m\u001b[0m\n\u001b[1;32m-> 1844\u001b[1;33m         \u001b[0mx\u001b[0m \u001b[1;33m=\u001b[0m \u001b[0mnp\u001b[0m\u001b[1;33m.\u001b[0m\u001b[0masarray\u001b[0m\u001b[1;33m(\u001b[0m\u001b[1;33m(\u001b[0m\u001b[0mx\u001b[0m \u001b[1;33m-\u001b[0m \u001b[0mloc\u001b[0m\u001b[1;33m)\u001b[0m\u001b[1;33m/\u001b[0m\u001b[0mscale\u001b[0m\u001b[1;33m,\u001b[0m \u001b[0mdtype\u001b[0m\u001b[1;33m=\u001b[0m\u001b[0mdtyp\u001b[0m\u001b[1;33m)\u001b[0m\u001b[1;33m\u001b[0m\u001b[1;33m\u001b[0m\u001b[0m\n\u001b[0m\u001b[0;32m   1845\u001b[0m         \u001b[0mcond0\u001b[0m \u001b[1;33m=\u001b[0m \u001b[0mself\u001b[0m\u001b[1;33m.\u001b[0m\u001b[0m_argcheck\u001b[0m\u001b[1;33m(\u001b[0m\u001b[1;33m*\u001b[0m\u001b[0margs\u001b[0m\u001b[1;33m)\u001b[0m \u001b[1;33m&\u001b[0m \u001b[1;33m(\u001b[0m\u001b[0mscale\u001b[0m \u001b[1;33m>\u001b[0m \u001b[1;36m0\u001b[0m\u001b[1;33m)\u001b[0m\u001b[1;33m\u001b[0m\u001b[1;33m\u001b[0m\u001b[0m\n\u001b[0;32m   1846\u001b[0m         \u001b[0mcond1\u001b[0m \u001b[1;33m=\u001b[0m \u001b[0mself\u001b[0m\u001b[1;33m.\u001b[0m\u001b[0m_open_support_mask\u001b[0m\u001b[1;33m(\u001b[0m\u001b[0mx\u001b[0m\u001b[1;33m,\u001b[0m \u001b[1;33m*\u001b[0m\u001b[0margs\u001b[0m\u001b[1;33m)\u001b[0m \u001b[1;33m&\u001b[0m \u001b[1;33m(\u001b[0m\u001b[0mscale\u001b[0m \u001b[1;33m>\u001b[0m \u001b[1;36m0\u001b[0m\u001b[1;33m)\u001b[0m\u001b[1;33m\u001b[0m\u001b[1;33m\u001b[0m\u001b[0m\n",
      "\u001b[1;31mValueError\u001b[0m: operands could not be broadcast together with shapes (2500,) (50,) "
     ]
    }
   ],
   "source": [
    "from itertools import product\n",
    "from scipy.stats import norm\n",
    "from sklearn.preprocessing import StandardScaler\n",
    "\n",
    "l = 0.8\n",
    "sigma = 3 \n",
    "\n",
    "def kernel(a, b):\n",
    "    a = np.array(a)\n",
    "    b = np.array(b)\n",
    "    K = np.zeros((len(a), len(b)))\n",
    "    for i, ai in enumerate(a):\n",
    "        for j, bj in enumerate(b):\n",
    "            sqdist = (ai[0]-bj[0])**2 + (ai[1] - bj[1])**2\n",
    "            K[i][j] = np.exp(-.5*sqdist/l)*sigma\n",
    "    return K\n",
    "\n",
    "def fit_predict(X_train, N_test):\n",
    "    # Train and test GP\n",
    "    K_ = kernel(X_train, X_train)\n",
    "    X = np.linspace(0, np.max([gamma_extremes, beta_extremes]), N_test)\n",
    "    X_test = list(product(X, X))\n",
    "    L = np.linalg.cholesky(K_ + 1e-6*np.eye(len(X_train)))\n",
    "    k_vector = np.array(kernel(X_train, X_test))\n",
    "    y = np.linalg.solve(L, y_train)\n",
    "    alpha_vector = np.linalg.solve(L.T, y)\n",
    "    v_vector = np.linalg.solve(L, k_vector)\n",
    "    f = y_train\n",
    "    new_mean = np.dot(k_vector.T, alpha_vector)\n",
    "    el = kernel(X_test, X_test) - np.dot(v_vector.T, v_vector)\n",
    "    new_sigma = [el[i][i] for i in range(N_test)]\n",
    "    return new_mean, new_sigma\n",
    "\n",
    "\n",
    "#First create the graph instance\n",
    "create_graph_specific('simple4')\n",
    "\n",
    "acq_function = 'EI'\n",
    "N_train = 10\n",
    "N_test = 50 #Number of test elements\n",
    "iterations = 50\n",
    "gamma_extremes = [0,np.pi]  #extremes where to search for the values of gamma and beta\n",
    "beta_extremes = [0, np.pi]\n",
    "\n",
    "#We start with N random points \n",
    "X_train = []\n",
    "y_train = []\n",
    "for i in range(N_train):\n",
    "    X = [np.random.uniform()*(gamma_extremes[1]-gamma_extremes[0]), np.random.uniform()*(beta_extremes[1]-beta_extremes[0])]\n",
    "    X_train.append(X)\n",
    "    Y = QAOA(X)\n",
    "    y_train.append(Y)\n",
    "\n",
    "\n",
    "new_mean, new_sigma = fit_predict(X_train, N_test)\n",
    "\n",
    "sample_points = []   #We save every point that was chosen to sample from\n",
    "for i in tqdm(range(iterations)):        \n",
    "        #New_mean and new_sigma both are (N_test**2, ) arrays not reshaped yet\n",
    "        mean_max = np.max(new_mean)\n",
    "        mean_min = np.min(new_mean)        \n",
    "        \n",
    "        #Now calculate acquisitition fn as the cumulative for every point centered around the maximum\n",
    "        cdf = norm.cdf(x = new_mean, loc =  mean_max, scale = new_sigma)\n",
    "        pdf = norm.pdf(x = new_mean, loc =  mean_min, scale = new_sigma)\n",
    "    \n",
    "        #The qdf is instead the probability of being lower then the lowest value of the mean (where we wanto to pick the next_value)\n",
    "        qdf = 1-norm.cdf(x = new_mean, loc =  mean_min, scale = new_sigma)\n",
    "    \n",
    "        if acq_function == 'PI':\n",
    "            #Next values is calculated as so just because argmax returns a number betwenn 1 and n_test instead of inside the interval\n",
    "            value = np.argmax(qdf)\n",
    "            next_point = X_test[value]\n",
    "            \n",
    "        if acq_function == 'EI':\n",
    "            alpha_function = (new_mean - mean_min - 0.001)*qdf + new_sigma*pdf\n",
    "            #argmax is a number between 0 and N_test**-1 telling us where is the next point to sample\n",
    "            argmax = np.argmax(np.round(alpha_function, 3))\n",
    "            next_point = X_test[argmax]\n",
    "        \n",
    "        print(next_point)\n",
    "        X_train.append(next_point)\n",
    "        y_next_point = QAOA(next_point)\n",
    "        y_train.append(y_next_point)\n",
    "        fit_predict(X_train, N_test)\n",
    "        sample_points.append(next_point)    "
   ]
  },
  {
   "cell_type": "code",
   "execution_count": null,
   "metadata": {},
   "outputs": [],
   "source": []
  }
 ],
 "metadata": {
  "kernelspec": {
   "display_name": "Python 3",
   "language": "python",
   "name": "python3"
  },
  "language_info": {
   "codemirror_mode": {
    "name": "ipython",
    "version": 3
   },
   "file_extension": ".py",
   "mimetype": "text/x-python",
   "name": "python",
   "nbconvert_exporter": "python",
   "pygments_lexer": "ipython3",
   "version": "3.7.10"
  }
 },
 "nbformat": 4,
 "nbformat_minor": 4
}
